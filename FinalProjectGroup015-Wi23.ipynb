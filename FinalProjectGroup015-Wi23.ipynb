{
 "cells": [
  {
   "cell_type": "markdown",
   "metadata": {},
   "source": [
    "# COGS 118A - Final Project"
   ]
  },
  {
   "cell_type": "markdown",
   "metadata": {},
   "source": [
    "# Insert title here\n",
    "\n",
    "## Group Members\n",
    "\n",
    "- Christian Kim\n",
    "- Ian Pearson\n",
    "- Laurensius Junaidy\n",
    "- Sebastian Algharaballi"
   ]
  },
  {
   "cell_type": "markdown",
   "metadata": {},
   "source": [
    "# Abstract \n",
    "Police brutality and abuse of power by law enforcement is a societal issue that has been ongoing in the United States, and has resulted in public distrust and social unrest. The goal of this project is to gain insight into complaints made by civilians living in New York City against police officers. We aim to develop a mathematically-driven system that highlights the significance of organizations like The New York City Civilian Complaint Review Board (CCRB) to ensure police officers are held accountable for their actions. Using data from the CCRB, we will analyze the nature of public complaints and the outcomes of disciplinary actions by wrangling our data, obtaining our most important features, and fitting the best prediction model possible. These steps will be made all in effort to generate correlational patterns within our data that shows us what kinds of complaints are unsubstantiated (the officer in question is not remediated) and substantiaed (the officer is remediated as a result of the investigation). The success of our model will ultimately be measured by its effectiveness in successfully identifying complaints that are substantiated. We will also utilize an F1-score to compute the model’s performance, leading us towards our vision of generalizing these results to combat the rising tension between the general public and law enforcement."
   ]
  },
  {
   "cell_type": "markdown",
   "metadata": {},
   "source": [
    "# Background\n",
    "\n",
    "Police officers being accused of abusing their authority has been a contentious topic in the United States for decades. While this issue has seemingly gained more public attention over the evolution of the social media era, abuse of power by law enforcement has actually been a source of turmoil ever since the beginning of the 20th century. Over a five year period beginning in 2015, more than 11,000 claims or lawsuits were filed against the New York Police Department, alleging some form of police misconduct and several threats to public safety [<sup>1</sup>](#lorenznote). Of those complaints, more than half of them were solved by some form of a lawsuit. About 530 of those lawsuits were paid out in the amount of up to `$5000`, but most claimants in this group often received less than `$500`. In addition, according to the Commission to Combat Police Corruption’s 20th annual report, just over 11% of New York police officers who should have faced disciplinary action for occupational malpractice walked away with no punishment whatsoever and were able to continue their work in the police force [<sup>2</sup>](#admonishnote). One research study found that intersecting pathways between police brutality and life-changing health outcomes include 1) fatal injuries that increase population-specific mortality rates, 2) adverse physiological responses that increase morbidity, 3) racist public reactions that cause stress, 4) arrests, incarcerations, and legal, medical, and funeral bills that cause financial strain, and 5) integrated oppressive structures that cause systematic disempowerment [<sup>3</sup>](#ccpcnote). The above issues raise even more importance to our problem, as police brutality on an individual level can have lifelong implications.\n",
    "\n",
    "Our goal is to gain more insight into the complaints given by civilians against police officers. While developing the scope of our project, we partially took inspiration from a 2019 study conducted by the GBD Police Violence US Subnational Collaborators, a research paper that details unreported police killings across the United States from 1980-2019 [<sup>4</sup>](#healthnote). This group found that across all races and states in the USA, 17,100 of the 30,800 deaths from police violence between 1980 and 2018 were unreported by the NVSS (USA National Vital Statistics System). Over this time period, the age-standardized mortality rate due to police violence was highest in non-Hispanic Black people (0.69 [95% CI 0.67–0.71] per 100,000), followed by Hispanic people of any race (0.35 [0.34–0.36]), non-Hispanic White people (0.20 [0.19–0.20]), and non-Hispanic people of other races (0.15 [0.14–0.16]). Besides the eye-opening statistics to further prove the importance of our issue, we aim to achieve this level of transparency and preciseness in our findings regarding applicable police punishment. Moreover, while our project will not directly detail the subject of unreported police killings by race, prior research such as this one gives us more inspiration to extend upon the information that is publicly available, develop a mathematical-driven system that can identify cases where police officers should be remediated for their actions against a civilian, and highlight the significance of organizations like The New York City Civilian Complaint Review Board (CCRB) in an effort to go against the notion of unreported police malpractice. On that note, the CCRB is an independent organization that investigates and recommends viable punishment against New York City police officers accused of abusing their authority through the likes of offensive language, discourtesy, and unnecessary force [<sup>5</sup>](#ccrbnote). Why New York City? Besides being one of the largest cities in America with an immense history of police brutality, New York City is also home to the largest police force on the globe, with over 50,000 active personnel [<sup>6</sup>](#levinnote). Therefore, this city’s police department acts as an important role model for other departments, which is why it is of great importance for the NYPD to lead by example and be held accountable when a citizen raises a complaint against one of their officers. Due to this role, the city of New York and the CCRB maintains ongoing, publicly available data regarding official complaints raised to the CCRB that keeps track of poor encounters with police officers in the city. The data includes, but is not limited to, the subject of the complaint, victim age and gender, and, most importantly, the overall punishment the CCRB gave the accused officer.\n",
    "\n",
    "We will utilize several classification algorithms to find overall patterns and trends between the instances of day-by-day police misconduct detailed in our datasets in an effort to generalize our results and precisely predict whether the CCRB declared a complaint to be substantiated or unsubstantiated. More specifically, we want to be able to obtain a clear understanding between the characteristics of each complaint to determine several baseline criteria that ultimately decides the occupational fate of an officer subject to one of these grievances. We believe that our model will enable us to effectively determine whether or not the CCRB is recommending enough punishment to the “bad apples” of the NYPD, while giving us the opportunity to discover any specific trends or examples of misconduct that tend to lead to more severe punishment for the police officer at hand."
   ]
  },
  {
   "cell_type": "markdown",
   "metadata": {},
   "source": [
    "# Problem Statement\n",
    "\n",
    "To understand whether the Civilian Complaint Review Board (CCRB) recommends appropriate action for NYPD officers accused of abusing their authority, we will first perform an exploratory data analysis to identify underlying patterns and trends in the data. EDA is going to be an essential step for our project, as it helps us to make informed decisions about which features to include in our model. Our EDA will include the following steps:\n",
    "\n",
    "1. Data Cleaning/Preprocessing: We will first inspect the dataset for inconsistent values and perform any necessary cleaning and preprocessing tasks to ensure the data is ready for analysis. We will focus on utilizing one-hot encoding for any missing values we may find.\n",
    "2. Descriptive Statistics: We will use summary statistics and visualizations such as histograms, scatter plots, and box plots to gain an overall understanding of the distribution and relationships between our variables.\n",
    "3. Correlation Analysis: We will conduct a correlation analysis to determine the strength and direction of the relationships between the variables. This will allow us to identify any multicollinearity issues that may arise from including highly correlated variables in our model.\n",
    "4. Feature Selection: Based on the insights gained from the previous steps, we will select a subset of features that are most relevant to predicting whether a complaint is substantiated or unsubstantiated. This will help us to build a more accurate and interpretable model.\n",
    "5. Model Selection: After precisely choosing the features that are best suited for our problem, we will undergo a model selection task in an effort to determine the best model for our project. The models in consideration will be:\n",
    "> * K-Nearest Neighbors\n",
    "> * Logistic Regression\n",
    "> * Gradient Boosting\n",
    "> * Random Forest Classifier Algorithm\n",
    "\n",
    "6. Outlier Detection: We will detect any outliers in the dataset that could potentially impact our model performance and decide on how to handle them.\n",
    "7. Hypothesis Testing: We may conduct hypothesis testing to validate any insights or assumptions made during the EDA process.\n",
    "\n",
    "After conducting this process, we will have clean, well-understood data, and will be ready to begin the development of a classification model that can predict whether the CCRB declared a complaint as substantiated or unsubstantiated, which is described as the recommendation made by the CCRB based on the characteristics of the given complaint. We can compare the predictions made by our model to the actual CCRB recommendations and analyze the discrepancies to determine if there are any consistent patterns or trends in the data that may suggest bias. Furthermore, we can determine which features are found to be the most impactful from the dataset; if these features are discriminatory by nature, it may suggest discrimination within the process.\n",
    "\n",
    "For example, if our model predicts that a complaint is likely to be substantiated, but the CCRB recommends that it is unsubstantiated, we can investigate the reasons for this discrepancy. We may find that certain factors, such as race or gender, are disproportionately affecting the CCRB's recommendations, which would indicate a potential bias or injustice. We intend to understand exactly how the CCRB punishment categorization is obtained through the likes of our key variables in order to develop an ultimate baseline for police officers to abide by when interacting with the public. These can be seen as guidelines regarding what public actions condemn a reasonable amount of force, what situations call for the need to respect privacy, and when communication between the officer and public offender is the most crucial in order to mitigate the abuse of power. By defining these regulations, we can identify areas where police officers are deviating from their expected behavior, leading to injustices. Through our analysis, we aim to identify the key factors that contribute to inappropriate police behavior, such as excessive use of force, racial profiling, and bias. Our comprehensive set of standards can improve the consequences enforced by agencies like the CCRB when condemning police officers who violate these guidelines, thus promoting better accountability and responsible policing.\n",
    "\n",
    "Another important step in our analysis is to address the issue of systematic bias in the data. One way to counter this is by implementing techniques such as oversampling or undersampling to ensure that each category (substantiated or unsubstantiated) has an equal representation in the dataset. However, this can also introduce biases, and so it is important to carefully consider which techniques to use and to evaluate their impact on the model performance. Additionally, we can use methods such as sensitivity analysis to determine the robustness of our results to different sources of bias. By being mindful of the potential sources of bias in our data and taking steps to address them, we can ensure that our analysis accurately reflects the underlying patterns and trends in the data and provides actionable insights for improving police accountability and responsible policing.\n",
    "\n",
    "The process above will ultimately guide us towards achieving our goal of determining whether the CCRB is recommending appropriate punishment for NYPD officers accused of abusing their authority. It will also help in the development of a new, system-wide protocol that clearly defines viable actions police officers can perform in a public setting without overstepping the power they possess as law enforcement. Of course, none of this is possible without fitting the best prediction model (with the most appropriate features) to our data at hand and measuring the model’s performance through an F1-score. Only a well-performing model can accurately identify potential biases or injustices in the CCRB's recommendations and use this information to develop a new way of countering police misconduct."
   ]
  },
  {
   "cell_type": "markdown",
   "metadata": {},
   "source": [
    "# Data\n",
    "\n",
    "[NYCLU Misconduct Database](https://www.nyclu.org/en/campaigns/nypd-misconduct-database)\n",
    "\n",
    "We will be using a dataset given by the NYCLU, the New York Civil Liberties Union, which is known as the NYPD Misconduct Complaint Database.\n",
    "The dataset has 279,645 unique complaints that we will be able to work with and has 35 relevant features for each complaint.\n",
    "A single observation includes a complaint made against an officer; this can include any of the following features:\n",
    "\n",
    "- `AsOfDate`: The last time the complaint was updated in the database\n",
    "- `AllegationID`: The ID of the recorded allegation\n",
    "- `LastName`: The last name of the officer\n",
    "- `FirstName`: The first name of the officer\n",
    "- `OfficerRace`: The race of the officer\n",
    "- `OfficerGender`: The gender of the officer\n",
    "- `OfficerID`: The id of the officer\n",
    "- `CurrentRank`: The current (abbreviated) rank of the officer\n",
    "- `CurrentRankLong`: The current (full) rank of the officer\n",
    "- `CurrentCommand`: The current station of the officer\n",
    "- `IncidentRank`: The (abbreviated) rank of the officer at the time of the incident\n",
    "- `IncidentRankLong`: The (full) rank of the officer at the time of the incident\n",
    "- `IncidentCommand`: The station of the officer at the time of the incident\n",
    "- `ShieldNo`: The badge number of the officer\n",
    "- `DaysOnForce`: The number of days the officer had been on duty\n",
    "- `Status`: The current status of the officer (active duty or retired)\n",
    "- `LastActive`: The most recent date that the officer was on duty\n",
    "- `ComplaintID`: The ID of the recorded complaint\n",
    "- `IncidentDate`: The date of the incident\n",
    "- `FADOType`: What type of complaint is being filed; E.g. Discourtesy, Offensive Language, Abuse of Authority, etc.\n",
    "- `Allegation`: What the specific allegation was against the officer\n",
    "- `CCRBDiposition`: CCRB’s final evaluation of the complaint\n",
    "- `BoardCat`: Simplified version of CCRB Disposition field\n",
    "- `PenaltyRec`: Description of CCRB charge recommendation\n",
    "- `NYPDDisposition`: NYPD final disposition of the complaint\n",
    "- `PenaltyDesc`: NYPD penalty given to the officer named in the complaint\n",
    "- `LocationType`: Type of location where the incident took place\n",
    "- `ContactReason`: Reason why police was contacted\n",
    "- `ContactOutcome`: Outcome of police-civilian contact\n",
    "- `IncidentPrecinct`: NYPD precinct where the incident took place\n",
    "- `ImpactedRace`: Self-reported race/ethnicity of the person impacted in the incident\n",
    "- `ImpactedGender`: Self-reported gender of the person impacted in the incident\n",
    "- `ImpactedAge`: Self-reported age of the person impacted in the incident\n",
    "- `ReceivedDate`: Date on which the CCRB received the complaint\n",
    "- `CloseDate`: Date on which the CCRB closed/completed the complaint\n",
    "\n",
    "\n",
    "For our prediction task, we are predicting the `CCRBDisposition` variable; there are 25 different actions that the CCRB can recommend in response to a complaint against an officer. However, the decisions can be boiled down to two different categories: 1) whether a claim was substantiated enough to remediate an officer (i.e. dismissal, legal action) or 2) whether a case could not be made to take action against an officer. Thus, we will binarize our variable by either indicating whether a complaint was substantiated (action was taken against an officer) or unsubstantiated (no action was taken against an officer). This makes the prediction task far simpler for the model.\n",
    "\n",
    "We believe that the most critical variables include ContactOutcome, Allegation, and CurrentRank. These features highlight the circumstances of the incident in the most influential terms. The actual allegation against the officer and the contact outcome can determine what had specifically occurred during the scenario. The current rank of the officer can influence how much power that officer holds in the precinct, and in turn may imply a safety net.\n",
    "\n",
    "Regarding missing values, we cannot confirm that our data retains a normal distribution and due to the nature of the data normalization complicates the approach. As a result, when handling missing values within the data, we will be adding a unique input to represent absent information. For numerical variables, we will replace a missing value with NaN. For categorical variables, since we will be implementing one-hot encoding, we will add another index to represent missing values. For example, a categorical variable with 3 possible responses, would have 4 possible indices, where the fourth index represents missing.\n"
   ]
  },
  {
   "cell_type": "code",
   "execution_count": 2,
   "outputs": [],
   "source": [
    "# import packages for data cleaning\n",
    "import pandas as pd\n",
    "import numpy as np"
   ],
   "metadata": {
    "collapsed": false
   }
  },
  {
   "cell_type": "code",
   "execution_count": 3,
   "outputs": [
    {
     "name": "stderr",
     "output_type": "stream",
     "text": [
      "/var/folders/l2/xv51rkfn63jbsv89xfpxyyw40000gn/T/ipykernel_88107/614783124.py:2: DtypeWarning: Columns (10,11,12,18,23,24,25,26,27,28,29,30,31) have mixed types. Specify dtype option on import or set low_memory=False.\n",
      "  ccrb = pd.read_csv(\"CCRB Complaint Database Raw 04.20.2021.csv\")\n"
     ]
    },
    {
     "data": {
      "text/plain": "    AsOfDate  AllegationID  LastName FirstName OfficerRace OfficerGender  \\\n0  4/20/2021       1119144  Ruscillo    Taylor       White        Female   \n1  4/20/2021       1116090    Medina    Nelson    Hispanic          Male   \n2  4/20/2021       1116091    Pierre    Bebeto       Black          Male   \n3  4/20/2021       1115473   Chapman      John       White          Male   \n4  4/20/2021       1115475    Tafuro    Justin       White          Male   \n\n   OfficerID CurrentRank CurrentRankLong CurrentCommand  ... PenaltyDesc  \\\n0      54191         POF  Police Officer        MTN PCT  ...         NaN   \n1      76926         POM  Police Officer        TB DT02  ...         NaN   \n2      76976         POM  Police Officer        TB DT02  ...         NaN   \n3      18497         POM  Police Officer        075 PCT  ...         NaN   \n4      19003         POM  Police Officer        075 PCT  ...         NaN   \n\n           LocationType                                      ContactReason  \\\n0       Apartment/house                            Report-domestic dispute   \n1  Subway station/train  C/V intervened on behalf of/observed encounter...   \n2  Subway station/train  C/V intervened on behalf of/observed encounter...   \n3       Apartment/house                            Report-domestic dispute   \n4       Apartment/house                            Report-domestic dispute   \n\n                     ContactOutcome  IncidentPrecinct ImpactedRace  \\\n0  No arrest made or summons issued           PCT 018     Hispanic   \n1    Arrest - other violation/crime           PCT 014        Black   \n2    Arrest - other violation/crime           PCT 014        Black   \n3  No arrest made or summons issued           PCT 075          NaN   \n4  No arrest made or summons issued           PCT 075          NaN   \n\n  ImpactedGender  ImpactedAge ReceivedDate  CloseDate  \n0           Male         29.0    2/15/2021   4/9/2021  \n1           Male         43.0    1/13/2021   3/9/2021  \n2           Male         43.0    1/13/2021   3/9/2021  \n3           Male         57.0    1/11/2021  3/10/2021  \n4           Male         57.0    1/11/2021  3/10/2021  \n\n[5 rows x 35 columns]",
      "text/html": "<div>\n<style scoped>\n    .dataframe tbody tr th:only-of-type {\n        vertical-align: middle;\n    }\n\n    .dataframe tbody tr th {\n        vertical-align: top;\n    }\n\n    .dataframe thead th {\n        text-align: right;\n    }\n</style>\n<table border=\"1\" class=\"dataframe\">\n  <thead>\n    <tr style=\"text-align: right;\">\n      <th></th>\n      <th>AsOfDate</th>\n      <th>AllegationID</th>\n      <th>LastName</th>\n      <th>FirstName</th>\n      <th>OfficerRace</th>\n      <th>OfficerGender</th>\n      <th>OfficerID</th>\n      <th>CurrentRank</th>\n      <th>CurrentRankLong</th>\n      <th>CurrentCommand</th>\n      <th>...</th>\n      <th>PenaltyDesc</th>\n      <th>LocationType</th>\n      <th>ContactReason</th>\n      <th>ContactOutcome</th>\n      <th>IncidentPrecinct</th>\n      <th>ImpactedRace</th>\n      <th>ImpactedGender</th>\n      <th>ImpactedAge</th>\n      <th>ReceivedDate</th>\n      <th>CloseDate</th>\n    </tr>\n  </thead>\n  <tbody>\n    <tr>\n      <th>0</th>\n      <td>4/20/2021</td>\n      <td>1119144</td>\n      <td>Ruscillo</td>\n      <td>Taylor</td>\n      <td>White</td>\n      <td>Female</td>\n      <td>54191</td>\n      <td>POF</td>\n      <td>Police Officer</td>\n      <td>MTN PCT</td>\n      <td>...</td>\n      <td>NaN</td>\n      <td>Apartment/house</td>\n      <td>Report-domestic dispute</td>\n      <td>No arrest made or summons issued</td>\n      <td>PCT 018</td>\n      <td>Hispanic</td>\n      <td>Male</td>\n      <td>29.0</td>\n      <td>2/15/2021</td>\n      <td>4/9/2021</td>\n    </tr>\n    <tr>\n      <th>1</th>\n      <td>4/20/2021</td>\n      <td>1116090</td>\n      <td>Medina</td>\n      <td>Nelson</td>\n      <td>Hispanic</td>\n      <td>Male</td>\n      <td>76926</td>\n      <td>POM</td>\n      <td>Police Officer</td>\n      <td>TB DT02</td>\n      <td>...</td>\n      <td>NaN</td>\n      <td>Subway station/train</td>\n      <td>C/V intervened on behalf of/observed encounter...</td>\n      <td>Arrest - other violation/crime</td>\n      <td>PCT 014</td>\n      <td>Black</td>\n      <td>Male</td>\n      <td>43.0</td>\n      <td>1/13/2021</td>\n      <td>3/9/2021</td>\n    </tr>\n    <tr>\n      <th>2</th>\n      <td>4/20/2021</td>\n      <td>1116091</td>\n      <td>Pierre</td>\n      <td>Bebeto</td>\n      <td>Black</td>\n      <td>Male</td>\n      <td>76976</td>\n      <td>POM</td>\n      <td>Police Officer</td>\n      <td>TB DT02</td>\n      <td>...</td>\n      <td>NaN</td>\n      <td>Subway station/train</td>\n      <td>C/V intervened on behalf of/observed encounter...</td>\n      <td>Arrest - other violation/crime</td>\n      <td>PCT 014</td>\n      <td>Black</td>\n      <td>Male</td>\n      <td>43.0</td>\n      <td>1/13/2021</td>\n      <td>3/9/2021</td>\n    </tr>\n    <tr>\n      <th>3</th>\n      <td>4/20/2021</td>\n      <td>1115473</td>\n      <td>Chapman</td>\n      <td>John</td>\n      <td>White</td>\n      <td>Male</td>\n      <td>18497</td>\n      <td>POM</td>\n      <td>Police Officer</td>\n      <td>075 PCT</td>\n      <td>...</td>\n      <td>NaN</td>\n      <td>Apartment/house</td>\n      <td>Report-domestic dispute</td>\n      <td>No arrest made or summons issued</td>\n      <td>PCT 075</td>\n      <td>NaN</td>\n      <td>Male</td>\n      <td>57.0</td>\n      <td>1/11/2021</td>\n      <td>3/10/2021</td>\n    </tr>\n    <tr>\n      <th>4</th>\n      <td>4/20/2021</td>\n      <td>1115475</td>\n      <td>Tafuro</td>\n      <td>Justin</td>\n      <td>White</td>\n      <td>Male</td>\n      <td>19003</td>\n      <td>POM</td>\n      <td>Police Officer</td>\n      <td>075 PCT</td>\n      <td>...</td>\n      <td>NaN</td>\n      <td>Apartment/house</td>\n      <td>Report-domestic dispute</td>\n      <td>No arrest made or summons issued</td>\n      <td>PCT 075</td>\n      <td>NaN</td>\n      <td>Male</td>\n      <td>57.0</td>\n      <td>1/11/2021</td>\n      <td>3/10/2021</td>\n    </tr>\n  </tbody>\n</table>\n<p>5 rows × 35 columns</p>\n</div>"
     },
     "execution_count": 3,
     "metadata": {},
     "output_type": "execute_result"
    }
   ],
   "source": [
    "# load dataset\n",
    "ccrb = pd.read_csv(\"CCRB Complaint Database Raw 04.20.2021.csv\")\n",
    "ccrb.head()"
   ],
   "metadata": {
    "collapsed": false
   }
  },
  {
   "cell_type": "code",
   "execution_count": 4,
   "outputs": [
    {
     "data": {
      "text/plain": "Index(['AsOfDate', 'AllegationID', 'LastName', 'FirstName', 'OfficerRace',\n       'OfficerGender', 'OfficerID', 'CurrentRank', 'CurrentRankLong',\n       'CurrentCommand', 'IncidentRank', 'IncidentRankLong', 'IncidentCommand',\n       'ShieldNo', 'DaysOnForce', 'Status', 'LastActive', 'ComplaintID',\n       'IncidentDate', 'FADOType', 'Allegation', 'CCRBDisposition', 'BoardCat',\n       'PenaltyRec', 'NYPDDisposition', 'PenaltyDesc', 'LocationType',\n       'ContactReason', 'ContactOutcome', 'IncidentPrecinct', 'ImpactedRace',\n       'ImpactedGender', 'ImpactedAge', 'ReceivedDate', 'CloseDate'],\n      dtype='object')"
     },
     "execution_count": 4,
     "metadata": {},
     "output_type": "execute_result"
    }
   ],
   "source": [
    "# examine all columns in ccrb dataset\n",
    "ccrb.columns"
   ],
   "metadata": {
    "collapsed": false
   }
  },
  {
   "cell_type": "markdown",
   "source": [
    "Within this portion of the data cleaning process, we we choose to delete certain columns from the dataset; These columns include `AsOfDate`, `AllegationID`, `LastName`, `FirstName`, `ShieldNo`, `ComplaintID`, `PenaltyRec`, `NYPDDisposition`, `PenaltyDesc`, `LocationType`, `ReceivedDate`, `CloseDate`, `IncidentRank`, `CurrentRank`, `BoardCat`, `OfficerID`, and `lastactive`. We chose to remove the names and shield number to ensure the protection of privacy for those involved. We also chose to remove the `EmploymentStatus`, `PenaltyRec`, `NYPDdisposition`, `PenaltyDesc`, `CurrentRank`, and `BoardCat` features because this may lead to an overfitting towards this variable; that is, the feature may suggest the outcome very simply (an unemployed officer is more likely to have had a negative outcome such as termination in comparison to an officer currently employed). Other features in this portion, such as `BoardCat`, are a shortened version of the information contained within the `CCRBDisposition` feature; if we were to leave the features in the dataset, the model could fit to this information with the greatest weight and in turn determine the `CCRBDisposition` from a column that provides the same information.\n",
    "Some variables have multiple columns with different interpretations (CurrentRank vs CurrentRankLong). To minimize repeated information, we remove the duplicate columns and focus on the features that provide the best understanding\n",
    " In order to lead the model towards a thorough analysis, we remove these variables. Lastly, we removed the dates, ID, and Location variables as they do not provide necessary information regarding the analysis"
   ],
   "metadata": {
    "collapsed": false
   }
  },
  {
   "cell_type": "code",
   "execution_count": 5,
   "outputs": [
    {
     "data": {
      "text/plain": "  officerrace officergender currentranklong currentcommand incidentranklong  \\\n0       white        female  police officer        mtn pct   police officer   \n1    hispanic          male  police officer        tb dt02   police officer   \n2       black          male  police officer        tb dt02   police officer   \n3       white          male  police officer        075 pct   police officer   \n4       white          male  police officer        075 pct   police officer   \n\n  incidentcommand  daysonforce  status incidentdate            fadotype  \\\n0         mtn pct          672  active    2/15/2021  abuse of authority   \n1         tb dt02         4753  active    1/11/2021               force   \n2         tb dt02          924  active    1/11/2021               force   \n3         075 pct          361  active     1/1/2021         discourtesy   \n4         075 pct         2733  active     1/1/2021         discourtesy   \n\n         allegation              ccrbdisposition  \\\n0  threat of arrest      complainant unavailable   \n1    physical force  closed - pending litigation   \n2    physical force  closed - pending litigation   \n3              word          complaint withdrawn   \n4              word          complaint withdrawn   \n\n                                       contactreason  \\\n0                            report-domestic dispute   \n1  c/v intervened on behalf of/observed encounter...   \n2  c/v intervened on behalf of/observed encounter...   \n3                            report-domestic dispute   \n4                            report-domestic dispute   \n\n                     contactoutcome incidentprecinct impactedrace  \\\n0  no arrest made or summons issued          pct 018     hispanic   \n1    arrest - other violation/crime          pct 014        black   \n2    arrest - other violation/crime          pct 014        black   \n3  no arrest made or summons issued          pct 075          NaN   \n4  no arrest made or summons issued          pct 075          NaN   \n\n  impactedgender  impactedage  \n0           male         29.0  \n1           male         43.0  \n2           male         43.0  \n3           male         57.0  \n4           male         57.0  ",
      "text/html": "<div>\n<style scoped>\n    .dataframe tbody tr th:only-of-type {\n        vertical-align: middle;\n    }\n\n    .dataframe tbody tr th {\n        vertical-align: top;\n    }\n\n    .dataframe thead th {\n        text-align: right;\n    }\n</style>\n<table border=\"1\" class=\"dataframe\">\n  <thead>\n    <tr style=\"text-align: right;\">\n      <th></th>\n      <th>officerrace</th>\n      <th>officergender</th>\n      <th>currentranklong</th>\n      <th>currentcommand</th>\n      <th>incidentranklong</th>\n      <th>incidentcommand</th>\n      <th>daysonforce</th>\n      <th>status</th>\n      <th>incidentdate</th>\n      <th>fadotype</th>\n      <th>allegation</th>\n      <th>ccrbdisposition</th>\n      <th>contactreason</th>\n      <th>contactoutcome</th>\n      <th>incidentprecinct</th>\n      <th>impactedrace</th>\n      <th>impactedgender</th>\n      <th>impactedage</th>\n    </tr>\n  </thead>\n  <tbody>\n    <tr>\n      <th>0</th>\n      <td>white</td>\n      <td>female</td>\n      <td>police officer</td>\n      <td>mtn pct</td>\n      <td>police officer</td>\n      <td>mtn pct</td>\n      <td>672</td>\n      <td>active</td>\n      <td>2/15/2021</td>\n      <td>abuse of authority</td>\n      <td>threat of arrest</td>\n      <td>complainant unavailable</td>\n      <td>report-domestic dispute</td>\n      <td>no arrest made or summons issued</td>\n      <td>pct 018</td>\n      <td>hispanic</td>\n      <td>male</td>\n      <td>29.0</td>\n    </tr>\n    <tr>\n      <th>1</th>\n      <td>hispanic</td>\n      <td>male</td>\n      <td>police officer</td>\n      <td>tb dt02</td>\n      <td>police officer</td>\n      <td>tb dt02</td>\n      <td>4753</td>\n      <td>active</td>\n      <td>1/11/2021</td>\n      <td>force</td>\n      <td>physical force</td>\n      <td>closed - pending litigation</td>\n      <td>c/v intervened on behalf of/observed encounter...</td>\n      <td>arrest - other violation/crime</td>\n      <td>pct 014</td>\n      <td>black</td>\n      <td>male</td>\n      <td>43.0</td>\n    </tr>\n    <tr>\n      <th>2</th>\n      <td>black</td>\n      <td>male</td>\n      <td>police officer</td>\n      <td>tb dt02</td>\n      <td>police officer</td>\n      <td>tb dt02</td>\n      <td>924</td>\n      <td>active</td>\n      <td>1/11/2021</td>\n      <td>force</td>\n      <td>physical force</td>\n      <td>closed - pending litigation</td>\n      <td>c/v intervened on behalf of/observed encounter...</td>\n      <td>arrest - other violation/crime</td>\n      <td>pct 014</td>\n      <td>black</td>\n      <td>male</td>\n      <td>43.0</td>\n    </tr>\n    <tr>\n      <th>3</th>\n      <td>white</td>\n      <td>male</td>\n      <td>police officer</td>\n      <td>075 pct</td>\n      <td>police officer</td>\n      <td>075 pct</td>\n      <td>361</td>\n      <td>active</td>\n      <td>1/1/2021</td>\n      <td>discourtesy</td>\n      <td>word</td>\n      <td>complaint withdrawn</td>\n      <td>report-domestic dispute</td>\n      <td>no arrest made or summons issued</td>\n      <td>pct 075</td>\n      <td>NaN</td>\n      <td>male</td>\n      <td>57.0</td>\n    </tr>\n    <tr>\n      <th>4</th>\n      <td>white</td>\n      <td>male</td>\n      <td>police officer</td>\n      <td>075 pct</td>\n      <td>police officer</td>\n      <td>075 pct</td>\n      <td>2733</td>\n      <td>active</td>\n      <td>1/1/2021</td>\n      <td>discourtesy</td>\n      <td>word</td>\n      <td>complaint withdrawn</td>\n      <td>report-domestic dispute</td>\n      <td>no arrest made or summons issued</td>\n      <td>pct 075</td>\n      <td>NaN</td>\n      <td>male</td>\n      <td>57.0</td>\n    </tr>\n  </tbody>\n</table>\n</div>"
     },
     "execution_count": 5,
     "metadata": {},
     "output_type": "execute_result"
    }
   ],
   "source": [
    "# get rid of AsOfDate, AllegationID, LastName, FirstName, ComplaintID, PenaltyRec, NYPDDisposition, PenaltyDesc,\n",
    "# LocationType, ReceivedDate, CloseDate\n",
    "ccrb = ccrb.drop(columns = [\"AsOfDate\", \"AllegationID\", \"LastName\", \"FirstName\", \"ShieldNo\", \"ComplaintID\",\n",
    "                            \"PenaltyRec\", \"NYPDDisposition\", \"PenaltyDesc\", \"LocationType\", \"ReceivedDate\",\n",
    "                            \"CloseDate\", \"IncidentRank\", \"CurrentRank\", \"BoardCat\", \"OfficerID\", \"LastActive\"])\n",
    "\n",
    "# lowercase all column names and strings in column names\n",
    "ccrb.columns= ccrb.columns.str.lower()\n",
    "for column in list(ccrb.columns):\n",
    "    if type(ccrb[column][0]) == str:\n",
    "        ccrb[column] = ccrb[column].str.lower()\n",
    "\n",
    "ccrb.head()"
   ],
   "metadata": {
    "collapsed": false
   }
  },
  {
   "cell_type": "markdown",
   "source": [
    "Now, we want to binarize the values in the `ccrbdisposition` column. As mentioned earlier, are 25 different actions that the CCRB can recommend in response to a complaint against an officer. However, the decisions can be boiled down to two different categories: 1) whether a claim was substantiated enough to remediate an officer (i.e. dismissal, legal action) or 2) whether a case could not be made to take action against an officer. Thus, we will binarize our variable by either indicating whether a complaint was substantiated (action was taken against an officer) or unsubstantiated (no action was taken against an officer). Thus, the binarization process is shown below, where substantiated is denoted as 1 and unsubstantiated is denoted as 0."
   ],
   "metadata": {
    "collapsed": false
   }
  },
  {
   "cell_type": "code",
   "execution_count": 6,
   "outputs": [
    {
     "data": {
      "text/plain": "  officerrace officergender currentranklong currentcommand incidentranklong  \\\n0       white        female  police officer        mtn pct   police officer   \n1    hispanic          male  police officer        tb dt02   police officer   \n2       black          male  police officer        tb dt02   police officer   \n3       white          male  police officer        075 pct   police officer   \n4       white          male  police officer        075 pct   police officer   \n\n  incidentcommand  daysonforce  status incidentdate            fadotype  \\\n0         mtn pct          672  active    2/15/2021  abuse of authority   \n1         tb dt02         4753  active    1/11/2021               force   \n2         tb dt02          924  active    1/11/2021               force   \n3         075 pct          361  active     1/1/2021         discourtesy   \n4         075 pct         2733  active     1/1/2021         discourtesy   \n\n         allegation  ccrbdisposition  \\\n0  threat of arrest                0   \n1    physical force                0   \n2    physical force                0   \n3              word                0   \n4              word                0   \n\n                                       contactreason  \\\n0                            report-domestic dispute   \n1  c/v intervened on behalf of/observed encounter...   \n2  c/v intervened on behalf of/observed encounter...   \n3                            report-domestic dispute   \n4                            report-domestic dispute   \n\n                     contactoutcome incidentprecinct impactedrace  \\\n0  no arrest made or summons issued          pct 018     hispanic   \n1    arrest - other violation/crime          pct 014        black   \n2    arrest - other violation/crime          pct 014        black   \n3  no arrest made or summons issued          pct 075          NaN   \n4  no arrest made or summons issued          pct 075          NaN   \n\n  impactedgender  impactedage  \n0           male         29.0  \n1           male         43.0  \n2           male         43.0  \n3           male         57.0  \n4           male         57.0  ",
      "text/html": "<div>\n<style scoped>\n    .dataframe tbody tr th:only-of-type {\n        vertical-align: middle;\n    }\n\n    .dataframe tbody tr th {\n        vertical-align: top;\n    }\n\n    .dataframe thead th {\n        text-align: right;\n    }\n</style>\n<table border=\"1\" class=\"dataframe\">\n  <thead>\n    <tr style=\"text-align: right;\">\n      <th></th>\n      <th>officerrace</th>\n      <th>officergender</th>\n      <th>currentranklong</th>\n      <th>currentcommand</th>\n      <th>incidentranklong</th>\n      <th>incidentcommand</th>\n      <th>daysonforce</th>\n      <th>status</th>\n      <th>incidentdate</th>\n      <th>fadotype</th>\n      <th>allegation</th>\n      <th>ccrbdisposition</th>\n      <th>contactreason</th>\n      <th>contactoutcome</th>\n      <th>incidentprecinct</th>\n      <th>impactedrace</th>\n      <th>impactedgender</th>\n      <th>impactedage</th>\n    </tr>\n  </thead>\n  <tbody>\n    <tr>\n      <th>0</th>\n      <td>white</td>\n      <td>female</td>\n      <td>police officer</td>\n      <td>mtn pct</td>\n      <td>police officer</td>\n      <td>mtn pct</td>\n      <td>672</td>\n      <td>active</td>\n      <td>2/15/2021</td>\n      <td>abuse of authority</td>\n      <td>threat of arrest</td>\n      <td>0</td>\n      <td>report-domestic dispute</td>\n      <td>no arrest made or summons issued</td>\n      <td>pct 018</td>\n      <td>hispanic</td>\n      <td>male</td>\n      <td>29.0</td>\n    </tr>\n    <tr>\n      <th>1</th>\n      <td>hispanic</td>\n      <td>male</td>\n      <td>police officer</td>\n      <td>tb dt02</td>\n      <td>police officer</td>\n      <td>tb dt02</td>\n      <td>4753</td>\n      <td>active</td>\n      <td>1/11/2021</td>\n      <td>force</td>\n      <td>physical force</td>\n      <td>0</td>\n      <td>c/v intervened on behalf of/observed encounter...</td>\n      <td>arrest - other violation/crime</td>\n      <td>pct 014</td>\n      <td>black</td>\n      <td>male</td>\n      <td>43.0</td>\n    </tr>\n    <tr>\n      <th>2</th>\n      <td>black</td>\n      <td>male</td>\n      <td>police officer</td>\n      <td>tb dt02</td>\n      <td>police officer</td>\n      <td>tb dt02</td>\n      <td>924</td>\n      <td>active</td>\n      <td>1/11/2021</td>\n      <td>force</td>\n      <td>physical force</td>\n      <td>0</td>\n      <td>c/v intervened on behalf of/observed encounter...</td>\n      <td>arrest - other violation/crime</td>\n      <td>pct 014</td>\n      <td>black</td>\n      <td>male</td>\n      <td>43.0</td>\n    </tr>\n    <tr>\n      <th>3</th>\n      <td>white</td>\n      <td>male</td>\n      <td>police officer</td>\n      <td>075 pct</td>\n      <td>police officer</td>\n      <td>075 pct</td>\n      <td>361</td>\n      <td>active</td>\n      <td>1/1/2021</td>\n      <td>discourtesy</td>\n      <td>word</td>\n      <td>0</td>\n      <td>report-domestic dispute</td>\n      <td>no arrest made or summons issued</td>\n      <td>pct 075</td>\n      <td>NaN</td>\n      <td>male</td>\n      <td>57.0</td>\n    </tr>\n    <tr>\n      <th>4</th>\n      <td>white</td>\n      <td>male</td>\n      <td>police officer</td>\n      <td>075 pct</td>\n      <td>police officer</td>\n      <td>075 pct</td>\n      <td>2733</td>\n      <td>active</td>\n      <td>1/1/2021</td>\n      <td>discourtesy</td>\n      <td>word</td>\n      <td>0</td>\n      <td>report-domestic dispute</td>\n      <td>no arrest made or summons issued</td>\n      <td>pct 075</td>\n      <td>NaN</td>\n      <td>male</td>\n      <td>57.0</td>\n    </tr>\n  </tbody>\n</table>\n</div>"
     },
     "execution_count": 6,
     "metadata": {},
     "output_type": "execute_result"
    }
   ],
   "source": [
    "# binarize the CCRBDisposition column between (0) unsubstantiated and (1) substantiated\n",
    "# if substantiated, switch to substantiated; if anything else, then unsubstantiated\n",
    "ccrbDispositionList = list(ccrb[\"ccrbdisposition\"])\n",
    "for i in range(len(ccrbDispositionList)):\n",
    "    if \"substantiated\" in ccrbDispositionList[i] and \"unsubstantiated\" not in ccrbDispositionList[i]:\n",
    "        ccrbDispositionList[i] = 1\n",
    "    else:\n",
    "        ccrbDispositionList[i] = 0\n",
    "\n",
    "ccrb[\"ccrbdisposition\"] = ccrbDispositionList\n",
    "ccrb.head()"
   ],
   "metadata": {
    "collapsed": false
   }
  },
  {
   "cell_type": "markdown",
   "metadata": {},
   "source": [
    "# Proposed Solution (make edit based on feedback on github. only section we were docked on for the checkpoint)\n",
    "\n",
    "As a reminder, our dataset is the `CCRB Complaint Database Raw 04.20.2021.csv` dataset, which was taken from NYCLU’s GitHub under its NYPD Misconduct Complaint Database repository. An important point to note is that there are 35 columns in the dataset and that more than half of them contain string categorical variables. Also, while the “CCRBDisposition” column contains 25 different actions that the CCRB can take to respond to a complaint, these 25 actions can be boiled down to a binary variable of whether a complaint was “Substantiated” (officer was remediated in some sort of way) or “Not Substantiated” (the officer was not remediated), and this binary variable is what we want to predict.\n",
    "\n",
    "We are not able to reference a benchmark model because there isn't any model that tries to make the predictions that we are striving to make. Since referencing a benchmark model is not appropriate in our case, pivoting to the usage of a baseline mode and using other classifiers would make sense. Given that picking a naive baseline model would result in one of our non-trivial classifierclassifer beating the baseline model's F1-score by default, we, we figured that it would be far more interesting to simply compare the performance of four different classification models. Specifically, for each model, we will select the features that have the most weight in predicting whether a complaint is substantiated or unsubstantiated by using the Eli5 Python library. Then, we will compare each optimized model and examine which one has the highest F1-score.\n",
    "\n",
    "Our first classification algorithm will be K-Nearest Neighbors. In our case, we can use the relevant features mentioned in the dataset (such as the type of complaint, impacted gender, etc.) as input variables and the binary outcome of whether the complaint was substantiated or not as the target variable. Then, we can apply the KNN algorithm to find the K most similar complaints to a new complaint and predict its outcome based on the labels of those K neighbors. One advantage of using KNN is that it is a non-parametric algorithm, meaning that it does not make any assumptions about the underlying distribution of the data. This makes it suitable for our complex dataset, where the relationships between the input variables and the target variable may not be straightforward or easy to model using parametric methods such as logistic regression. Another strength of KNN is its interpretability. Unlike some other machine learning models, such as neural networks or decision trees, KNN outputs a clear and intuitive decision based on the similarity of the input variables to the training data. This makes it easier to explain the reasoning behind our predictions which is especially important in sensitive domains such as policing. It will be important to carefully tune the value of K and the distance metric used to measure similarity to achieve optimal performance of this model.\n",
    "\n",
    "Our second classification algorithm will be logistic regression using the relevant features mentioned above to predict whether a complaint against a police officer was substantiated or unsubstantiated. Logistic regression is a suitable algorithm for predicting binary outcomes like ours, and can be used to estimate the probability of a substantiated or unsubstantiated outcome based on our many predictor variables. More specifically, we can use logistic regression to analyze the relationship between our most relevant features and the likelihood of a complaint being substantiated or not. By modeling our outcomes through the use of the Eli5 Python package, we can determine the most influential variables in predicting our overall outcome, and potentially use that information to generalize to policymakers when it comes to substantiated complaints about the police. Additionally, logistic regression models have the advantage of being relatively easy to interpret, so once feature selection is completed, it should not be very difficult to extract our most important features and focus on those when eventually running our models.and, more importantly, can be used as a stepping stone to perform\n",
    "\n",
    "Our third classification algorithm will be gradient boosting using the relevant features mentioned above to predict whether a complaint against a police officer was substantiated or unsubstantiated. Gradient boosting is another suitable outcome for oubinary problems, especially since the relationship between our predictor and outcome variables are complex and non-linear. It can arguably handle high-dimensional data in a more efficient way than logistic regression, which will be crucial when it comes to the processing time of our large data set. Similar to logistic regression, we will be able to use this algorithm to process our most important features and analyze the relationship between them and our outcome variable (and, compare these results to what was found using KNN and logistic regression). We can also use gradient boosting to balance the number of instances belonging to each class. For example, there could be a high number of complaints that are substantiated compared to those that are not, leading to an imbalanced and biased model that is more accurate in predicting the majority class as opposed to the minority class. Gradient boosting can handle this by assigning higher weights to the misclassified instances, leading to a much more accurate and fair model that will better generalize to unseen data. utomatically select the most important features when predicting our final outcome\n",
    "\n",
    "Our fourth classification algorithm will be the random forest classifier algorithm using the relevant features mentioned above to predict whether a complaint against a police officer was substantiated or unsubstantiated. In terms of the libraries that would be most relevant to our project, scikit-learn has a module called ensemble, which contains the random forest classifier algorithm. Furthermore, we will also be using the train_test_split package under scikit-learn to split the training data and test data from each other. In terms of what makes a random forest classifier a good choice for our problem, it handles class imbalance and missing values in a different way than our other algorithms. We can utilize balanced subsampling to counter the effects of class imbalance that were described previously, and has the ability to process missing values in our dataset while in the act of training, saving us a lot of time (unlike logistic regression and gradient boosting, where we have to impute or one-hot encode our variables during the preprocessing stage). Random forest classifiers also have fewer hyperparameters for us to tune while still providing interpretable importance scores in regards to our selected features, adding to its efficiency and usefulness when considering how complex our data is."
   ]
  },
  {
   "cell_type": "markdown",
   "metadata": {},
   "source": [
    "# Evaluation Metrics\n",
    "\n",
    "We will be using the F1-score due to how it is a balance of the precision and recall scores. Both precision and recall are especially important to the context and one should not be chosen over the other; attempting to maintain a high precision rate will let us know that we are able to more accurately predict complaints that are actually substantiated. A high recall rate will let us know that we are able to accurately predict complaints that are not substantiated, which means that . To calculate the Precision and Recall scores, we have the following formulas…\n",
    "\n",
    "$$\\text{Precision} = \\frac{\\text{True Positive}}{\\text{True Positive + False Positive}}$$\n",
    "\n",
    "$$\\text{Recall} = \\frac{\\text{True Positive}}{\\text{True Positive + False Negative}}$$\n",
    "\n",
    "\n",
    "Finally, The F1-score formula can be found below…\n",
    "\n",
    "$$\\text{F1-score} = \\frac{2 \\times \\text{Precision} \\times \\text{Recall}}{\\text{Precision} + \\text{Recall}}$$\n",
    "\n",
    "The detriments of having either a low precision or low recall score also illustrates why both are equally important. Having low precision rate means that we are unnecessarily taking actions against police officers for a complaint that is actually unsubstantiated. On the other hand, having a low recall rate means that we are overlooking a complaint that can be utilized to discipline an officer who abused their authority. Thus, since both precision and recall are equally important to the context of this question, the F1-score, which is a harmonic mean of both metrics, will be utilized."
   ]
  },
  {
   "cell_type": "markdown",
   "metadata": {},
   "source": [
    "# Results\n",
    "\n",
    "\n",
    "\n"
   ]
  },
  {
   "cell_type": "markdown",
   "source": [
    "We will start off by performing some basic exploratory data analysis for our data. In order to do so, we first the seaborn and matplotlib packages, both of which will be utilized to help visualize our data."
   ],
   "metadata": {
    "collapsed": false
   }
  },
  {
   "cell_type": "code",
   "execution_count": 7,
   "outputs": [],
   "source": [
    "# import libraries\n",
    "import seaborn as sns\n",
    "import matplotlib.pyplot as plt"
   ],
   "metadata": {
    "collapsed": false
   }
  },
  {
   "cell_type": "markdown",
   "source": [
    "First, we take note of the size of the `ccrb` dataframe as shown below. As we can see, there are 279,644 rows and 19 columns after doing some initial data cleaning from the previous section."
   ],
   "metadata": {
    "collapsed": false
   }
  },
  {
   "cell_type": "code",
   "execution_count": 8,
   "outputs": [
    {
     "data": {
      "text/plain": "(279644, 18)"
     },
     "execution_count": 8,
     "metadata": {},
     "output_type": "execute_result"
    }
   ],
   "source": [
    "# check number of rows and columns in ccrb dataset\n",
    "ccrb.shape"
   ],
   "metadata": {
    "collapsed": false
   }
  },
  {
   "cell_type": "markdown",
   "source": [
    "Next, we are curious to examine the different data types that make up the `ccrb`dataframe. Below, we notice that two of the columns, `daysonforce` and `impactedage`, are numeric and the rest are categorical."
   ],
   "metadata": {
    "collapsed": false
   }
  },
  {
   "cell_type": "code",
   "execution_count": 9,
   "outputs": [
    {
     "data": {
      "text/plain": "officerrace          object\nofficergender        object\ncurrentranklong      object\ncurrentcommand       object\nincidentranklong     object\nincidentcommand      object\ndaysonforce           int64\nstatus               object\nincidentdate         object\nfadotype             object\nallegation           object\nccrbdisposition       int64\ncontactreason        object\ncontactoutcome       object\nincidentprecinct     object\nimpactedrace         object\nimpactedgender       object\nimpactedage         float64\ndtype: object"
     },
     "execution_count": 9,
     "metadata": {},
     "output_type": "execute_result"
    }
   ],
   "source": [
    "# examine the different datatypes of each column\n",
    "ccrb.dtypes"
   ],
   "metadata": {
    "collapsed": false
   }
  },
  {
   "cell_type": "code",
   "execution_count": 10,
   "outputs": [
    {
     "name": "stdout",
     "output_type": "stream",
     "text": [
      "officerrace             5\n",
      "officergender           2\n",
      "currentranklong         9\n",
      "currentcommand        699\n",
      "incidentranklong        9\n",
      "incidentcommand       703\n",
      "daysonforce          9292\n",
      "status                  2\n",
      "incidentdate        12858\n",
      "fadotype                5\n",
      "allegation            118\n",
      "ccrbdisposition         2\n",
      "contactreason          53\n",
      "contactoutcome         23\n",
      "incidentprecinct       82\n",
      "impactedrace            8\n",
      "impactedgender          6\n",
      "impactedage           158\n",
      "dtype: int64\n"
     ]
    }
   ],
   "source": [
    "# EXPLANATION NEEDED: INCLUDE EXPLANATION ABOUT HOW INCIDENT DATE HAS ALMOST 13,000 COLUMNS AND THAT\n",
    "# WE DIDN'T THINK WE NEEDED INCIDENT\n",
    "print(ccrb.nunique())"
   ],
   "metadata": {
    "collapsed": false
   }
  },
  {
   "cell_type": "code",
   "execution_count": 11,
   "outputs": [
    {
     "data": {
      "text/plain": "  officerrace officergender currentranklong currentcommand incidentranklong  \\\n0       white        female  police officer        mtn pct   police officer   \n1    hispanic          male  police officer        tb dt02   police officer   \n2       black          male  police officer        tb dt02   police officer   \n3       white          male  police officer        075 pct   police officer   \n4       white          male  police officer        075 pct   police officer   \n\n  incidentcommand  daysonforce  status            fadotype        allegation  \\\n0         mtn pct          672  active  abuse of authority  threat of arrest   \n1         tb dt02         4753  active               force    physical force   \n2         tb dt02          924  active               force    physical force   \n3         075 pct          361  active         discourtesy              word   \n4         075 pct         2733  active         discourtesy              word   \n\n   ccrbdisposition                                      contactreason  \\\n0                0                            report-domestic dispute   \n1                0  c/v intervened on behalf of/observed encounter...   \n2                0  c/v intervened on behalf of/observed encounter...   \n3                0                            report-domestic dispute   \n4                0                            report-domestic dispute   \n\n                     contactoutcome incidentprecinct impactedrace  \\\n0  no arrest made or summons issued          pct 018     hispanic   \n1    arrest - other violation/crime          pct 014        black   \n2    arrest - other violation/crime          pct 014        black   \n3  no arrest made or summons issued          pct 075          NaN   \n4  no arrest made or summons issued          pct 075          NaN   \n\n  impactedgender  impactedage  \n0           male         29.0  \n1           male         43.0  \n2           male         43.0  \n3           male         57.0  \n4           male         57.0  ",
      "text/html": "<div>\n<style scoped>\n    .dataframe tbody tr th:only-of-type {\n        vertical-align: middle;\n    }\n\n    .dataframe tbody tr th {\n        vertical-align: top;\n    }\n\n    .dataframe thead th {\n        text-align: right;\n    }\n</style>\n<table border=\"1\" class=\"dataframe\">\n  <thead>\n    <tr style=\"text-align: right;\">\n      <th></th>\n      <th>officerrace</th>\n      <th>officergender</th>\n      <th>currentranklong</th>\n      <th>currentcommand</th>\n      <th>incidentranklong</th>\n      <th>incidentcommand</th>\n      <th>daysonforce</th>\n      <th>status</th>\n      <th>fadotype</th>\n      <th>allegation</th>\n      <th>ccrbdisposition</th>\n      <th>contactreason</th>\n      <th>contactoutcome</th>\n      <th>incidentprecinct</th>\n      <th>impactedrace</th>\n      <th>impactedgender</th>\n      <th>impactedage</th>\n    </tr>\n  </thead>\n  <tbody>\n    <tr>\n      <th>0</th>\n      <td>white</td>\n      <td>female</td>\n      <td>police officer</td>\n      <td>mtn pct</td>\n      <td>police officer</td>\n      <td>mtn pct</td>\n      <td>672</td>\n      <td>active</td>\n      <td>abuse of authority</td>\n      <td>threat of arrest</td>\n      <td>0</td>\n      <td>report-domestic dispute</td>\n      <td>no arrest made or summons issued</td>\n      <td>pct 018</td>\n      <td>hispanic</td>\n      <td>male</td>\n      <td>29.0</td>\n    </tr>\n    <tr>\n      <th>1</th>\n      <td>hispanic</td>\n      <td>male</td>\n      <td>police officer</td>\n      <td>tb dt02</td>\n      <td>police officer</td>\n      <td>tb dt02</td>\n      <td>4753</td>\n      <td>active</td>\n      <td>force</td>\n      <td>physical force</td>\n      <td>0</td>\n      <td>c/v intervened on behalf of/observed encounter...</td>\n      <td>arrest - other violation/crime</td>\n      <td>pct 014</td>\n      <td>black</td>\n      <td>male</td>\n      <td>43.0</td>\n    </tr>\n    <tr>\n      <th>2</th>\n      <td>black</td>\n      <td>male</td>\n      <td>police officer</td>\n      <td>tb dt02</td>\n      <td>police officer</td>\n      <td>tb dt02</td>\n      <td>924</td>\n      <td>active</td>\n      <td>force</td>\n      <td>physical force</td>\n      <td>0</td>\n      <td>c/v intervened on behalf of/observed encounter...</td>\n      <td>arrest - other violation/crime</td>\n      <td>pct 014</td>\n      <td>black</td>\n      <td>male</td>\n      <td>43.0</td>\n    </tr>\n    <tr>\n      <th>3</th>\n      <td>white</td>\n      <td>male</td>\n      <td>police officer</td>\n      <td>075 pct</td>\n      <td>police officer</td>\n      <td>075 pct</td>\n      <td>361</td>\n      <td>active</td>\n      <td>discourtesy</td>\n      <td>word</td>\n      <td>0</td>\n      <td>report-domestic dispute</td>\n      <td>no arrest made or summons issued</td>\n      <td>pct 075</td>\n      <td>NaN</td>\n      <td>male</td>\n      <td>57.0</td>\n    </tr>\n    <tr>\n      <th>4</th>\n      <td>white</td>\n      <td>male</td>\n      <td>police officer</td>\n      <td>075 pct</td>\n      <td>police officer</td>\n      <td>075 pct</td>\n      <td>2733</td>\n      <td>active</td>\n      <td>discourtesy</td>\n      <td>word</td>\n      <td>0</td>\n      <td>report-domestic dispute</td>\n      <td>no arrest made or summons issued</td>\n      <td>pct 075</td>\n      <td>NaN</td>\n      <td>male</td>\n      <td>57.0</td>\n    </tr>\n  </tbody>\n</table>\n</div>"
     },
     "execution_count": 11,
     "metadata": {},
     "output_type": "execute_result"
    }
   ],
   "source": [
    "ccrb = ccrb.drop(columns = [\"incidentdate\"])\n",
    "ccrb.head()"
   ],
   "metadata": {
    "collapsed": false
   }
  },
  {
   "cell_type": "markdown",
   "source": [
    "We use the `describe` function in Python to examine summary statistics of the numeric columns that make up the `ccrb` dataset. Considering that the `describe` function only examines summary statistics for numeric columns, the output shown below for the `daysonforce` and `impactedage` columns is quite straightforward. However, we notice that the `impactedage` column, which represents the column of each complainant's age, has a value over 200. We may need to take a close eye into this situation and find a way to handle this excessive case, since the oldest person in the world is currently 116 years old."
   ],
   "metadata": {
    "collapsed": false
   }
  },
  {
   "cell_type": "code",
   "execution_count": 12,
   "outputs": [
    {
     "data": {
      "text/plain": "         daysonforce  ccrbdisposition    impactedage\ncount  279644.000000    279644.000000  156588.000000\nmean     2627.786500         0.070715      30.919132\nstd      2254.099378         0.256348      96.703392\nmin    -43281.000000         0.000000   -7091.000000\n25%      1043.000000         0.000000      23.000000\n50%      2140.000000         0.000000      30.000000\n75%      3931.000000         0.000000      41.000000\nmax     14658.000000         1.000000     222.000000",
      "text/html": "<div>\n<style scoped>\n    .dataframe tbody tr th:only-of-type {\n        vertical-align: middle;\n    }\n\n    .dataframe tbody tr th {\n        vertical-align: top;\n    }\n\n    .dataframe thead th {\n        text-align: right;\n    }\n</style>\n<table border=\"1\" class=\"dataframe\">\n  <thead>\n    <tr style=\"text-align: right;\">\n      <th></th>\n      <th>daysonforce</th>\n      <th>ccrbdisposition</th>\n      <th>impactedage</th>\n    </tr>\n  </thead>\n  <tbody>\n    <tr>\n      <th>count</th>\n      <td>279644.000000</td>\n      <td>279644.000000</td>\n      <td>156588.000000</td>\n    </tr>\n    <tr>\n      <th>mean</th>\n      <td>2627.786500</td>\n      <td>0.070715</td>\n      <td>30.919132</td>\n    </tr>\n    <tr>\n      <th>std</th>\n      <td>2254.099378</td>\n      <td>0.256348</td>\n      <td>96.703392</td>\n    </tr>\n    <tr>\n      <th>min</th>\n      <td>-43281.000000</td>\n      <td>0.000000</td>\n      <td>-7091.000000</td>\n    </tr>\n    <tr>\n      <th>25%</th>\n      <td>1043.000000</td>\n      <td>0.000000</td>\n      <td>23.000000</td>\n    </tr>\n    <tr>\n      <th>50%</th>\n      <td>2140.000000</td>\n      <td>0.000000</td>\n      <td>30.000000</td>\n    </tr>\n    <tr>\n      <th>75%</th>\n      <td>3931.000000</td>\n      <td>0.000000</td>\n      <td>41.000000</td>\n    </tr>\n    <tr>\n      <th>max</th>\n      <td>14658.000000</td>\n      <td>1.000000</td>\n      <td>222.000000</td>\n    </tr>\n  </tbody>\n</table>\n</div>"
     },
     "execution_count": 12,
     "metadata": {},
     "output_type": "execute_result"
    }
   ],
   "source": [
    "# ccrb EDA again to check changes in values\n",
    "ccrb.describe()"
   ],
   "metadata": {
    "collapsed": false
   }
  },
  {
   "cell_type": "markdown",
   "source": [
    "Since the `daysonforce` column is numeric, we are curious to examine the distribution of the values that represent the range of values that make up the number of days that officers who have complaints against them have been in the police force. Below, we use a seaborn histplot to examine the distribution a little further."
   ],
   "metadata": {
    "collapsed": false
   }
  },
  {
   "cell_type": "code",
   "execution_count": 13,
   "outputs": [
    {
     "data": {
      "text/plain": "[Text(0.5, 0, 'Days on Police Force')]"
     },
     "execution_count": 13,
     "metadata": {},
     "output_type": "execute_result"
    },
    {
     "data": {
      "text/plain": "<Figure size 432x288 with 1 Axes>",
      "image/png": "[encoded data removed]"
     },
     "metadata": {
      "needs_background": "light"
     },
     "output_type": "display_data"
    }
   ],
   "source": [
    "sns.histplot(data = ccrb, x = \"daysonforce\").set(xlabel = \"Days on Police Force\")"
   ],
   "metadata": {
    "collapsed": false
   }
  },
  {
   "cell_type": "markdown",
   "source": [
    "We notice immediately that the plot also take into account negative values, which means that there are negative values in our `daysonforce` column. Having a negative value represent the number of days that a police officer has been on the police force is odd, so we want to consider options as to how we will address this issue. Firstly, we want to see how many of the rows have negative values in the `daysonforce` column, which can be shown below."
   ],
   "metadata": {
    "collapsed": false
   }
  },
  {
   "cell_type": "code",
   "execution_count": 14,
   "outputs": [
    {
     "data": {
      "text/plain": "147"
     },
     "execution_count": 14,
     "metadata": {},
     "output_type": "execute_result"
    }
   ],
   "source": [
    "# number of rows that have values < 0 for daysonforce column\n",
    "ccrb[ccrb[\"daysonforce\"] < 0].shape[0]"
   ],
   "metadata": {
    "collapsed": false
   }
  },
  {
   "cell_type": "markdown",
   "source": [
    "Since there are hundreds of thousands of rows, dropping less than 200 rows will have a menial effect on the performance of the model. While some sort of an imputation method was considered, imputation was ultimately thrown out because of how we couldn't assume that the `daysonforce` column is normally distributed, since imputation on numeric data through mean or mode will influence the performance of the classifiation models. Thus, we chose to drop all rows with `daysonforce` values less than 0."
   ],
   "metadata": {
    "collapsed": false
   }
  },
  {
   "cell_type": "code",
   "execution_count": 15,
   "outputs": [
    {
     "data": {
      "text/plain": "[Text(0.5, 0, 'Days on Police Force')]"
     },
     "execution_count": 15,
     "metadata": {},
     "output_type": "execute_result"
    },
    {
     "data": {
      "text/plain": "<Figure size 432x288 with 1 Axes>",
      "image/png": "[encoded data removed]"
     },
     "metadata": {
      "needs_background": "light"
     },
     "output_type": "display_data"
    }
   ],
   "source": [
    "# get rid of rows with daysonforce values less than 0\n",
    "# display seaborn histplot of distribution of daysonforce column\n",
    "ccrb = ccrb.drop(ccrb[ccrb[\"daysonforce\"] < 0].index)\n",
    "sns.histplot(data = ccrb, x = \"daysonforce\", kde = \"True\").set(xlabel = \"Days on Police Force\")"
   ],
   "metadata": {
    "collapsed": false
   }
  },
  {
   "cell_type": "markdown",
   "source": [
    "On a similar note, since the `impactedage` column is numeric, we are curious to examine the distribution of the values that represent the range of values that make up the ages of the complainants. Below, we use a seaborn histplot to examine the distribution a little further."
   ],
   "metadata": {
    "collapsed": false
   }
  },
  {
   "cell_type": "code",
   "execution_count": 16,
   "outputs": [
    {
     "data": {
      "text/plain": "[Text(0.5, 0, 'Age of the Impacted Complainant')]"
     },
     "execution_count": 16,
     "metadata": {},
     "output_type": "execute_result"
    },
    {
     "data": {
      "text/plain": "<Figure size 432x288 with 1 Axes>",
      "image/png": "[encoded data removed]"
     },
     "metadata": {
      "needs_background": "light"
     },
     "output_type": "display_data"
    }
   ],
   "source": [
    "# seaborn histplot of distribution of impactedage column\n",
    "sns.histplot(data = ccrb, x = \"impactedage\").set(xlabel = \"Age of the Impacted Complainant\")"
   ],
   "metadata": {
    "collapsed": false
   }
  },
  {
   "cell_type": "markdown",
   "source": [
    "Similar to the `daysonforce` column, we immediately notice that there appear to be negative values present when representing values in the `impactedage` column, which illustrates the number of days that the officer to whom the complaint is targetted has been on the Police Force. According to the NYCLU, negative values in this case can account for a variety of reasons, including data entry errors, ambiguous or missing date of birth, and alleged misconduct occurring before the complainant's birth. The problem on our end is that we can't assume what reason each individual has regarding why they have a negative value for the number of days that they have been on the police force. In order to make a decision regarding how we deal with negative values, we take note of the fact that less than 200 rows in the `ccrb` dataset have negative values for the `impactedage` column. However, we also know that there are extrememley high values that were utilized to represent the ages of people. We notice that there are only two rows that have age values greater than 116. So, we decided to drop the two rows, since dropping two rows out of hundreds of thousands of remaining rows will have almost no effect on the model."
   ],
   "metadata": {
    "collapsed": false
   }
  },
  {
   "cell_type": "code",
   "execution_count": 17,
   "outputs": [
    {
     "data": {
      "text/plain": "2"
     },
     "execution_count": 17,
     "metadata": {},
     "output_type": "execute_result"
    }
   ],
   "source": [
    "# examine number of rows with impactedage values > 116\n",
    "ccrb[ccrb[\"impactedage\"] > 116].shape[0]"
   ],
   "metadata": {
    "collapsed": false
   }
  },
  {
   "cell_type": "code",
   "execution_count": 18,
   "outputs": [
    {
     "data": {
      "text/plain": "91"
     },
     "execution_count": 18,
     "metadata": {},
     "output_type": "execute_result"
    }
   ],
   "source": [
    "# examine number of rows with impactedage values < 0\n",
    "ccrb[ccrb[\"impactedage\"] < 0].shape[0]"
   ],
   "metadata": {
    "collapsed": false
   }
  },
  {
   "cell_type": "markdown",
   "source": [
    "Thus, we removed the rows with values in the `impactedage` column that are greater than 116 or less than 0. This change was conducted with the code below.\n"
   ],
   "metadata": {
    "collapsed": false
   }
  },
  {
   "cell_type": "code",
   "execution_count": 19,
   "outputs": [
    {
     "data": {
      "text/plain": "[Text(0.5, 0, 'Age of the Impacted Complainant')]"
     },
     "execution_count": 19,
     "metadata": {},
     "output_type": "execute_result"
    },
    {
     "data": {
      "text/plain": "<Figure size 432x288 with 1 Axes>",
      "image/png": "[encoded data removed]"
     },
     "metadata": {
      "needs_background": "light"
     },
     "output_type": "display_data"
    }
   ],
   "source": [
    "# drop rows with impactedage values < 0 or > 116 and display histogram distribution\n",
    "ccrb = ccrb.drop(ccrb[ccrb[\"impactedage\"] < 0].index)\n",
    "ccrb = ccrb.drop(ccrb[ccrb[\"impactedage\"] > 116].index)\n",
    "sns.histplot(data = ccrb, x = \"impactedage\", kde = True).set(xlabel = \"Age of the Impacted Complainant\")"
   ],
   "metadata": {
    "collapsed": false
   }
  },
  {
   "cell_type": "markdown",
   "source": [
    "Therefore, our EDA process illustrates that the data cleaning process still occurs at the exploratory stage when peculiar instances of data must be addressed. We provided the summary statistics once again for the two numeric columns to showcase the slight difference that occurred as a result of dropping rows based on the reasons outlined above."
   ],
   "metadata": {
    "collapsed": false
   }
  },
  {
   "cell_type": "code",
   "execution_count": 20,
   "outputs": [
    {
     "data": {
      "text/plain": "         daysonforce  ccrbdisposition    impactedage\ncount  279404.000000    279404.000000  156413.000000\nmean     2647.787902         0.070754      32.693286\nstd      2060.123449         0.256414      12.360201\nmin         0.000000         0.000000       0.000000\n25%      1044.000000         0.000000      23.000000\n50%      2141.000000         0.000000      30.000000\n75%      3932.000000         0.000000      41.000000\nmax     14658.000000         1.000000     115.000000",
      "text/html": "<div>\n<style scoped>\n    .dataframe tbody tr th:only-of-type {\n        vertical-align: middle;\n    }\n\n    .dataframe tbody tr th {\n        vertical-align: top;\n    }\n\n    .dataframe thead th {\n        text-align: right;\n    }\n</style>\n<table border=\"1\" class=\"dataframe\">\n  <thead>\n    <tr style=\"text-align: right;\">\n      <th></th>\n      <th>daysonforce</th>\n      <th>ccrbdisposition</th>\n      <th>impactedage</th>\n    </tr>\n  </thead>\n  <tbody>\n    <tr>\n      <th>count</th>\n      <td>279404.000000</td>\n      <td>279404.000000</td>\n      <td>156413.000000</td>\n    </tr>\n    <tr>\n      <th>mean</th>\n      <td>2647.787902</td>\n      <td>0.070754</td>\n      <td>32.693286</td>\n    </tr>\n    <tr>\n      <th>std</th>\n      <td>2060.123449</td>\n      <td>0.256414</td>\n      <td>12.360201</td>\n    </tr>\n    <tr>\n      <th>min</th>\n      <td>0.000000</td>\n      <td>0.000000</td>\n      <td>0.000000</td>\n    </tr>\n    <tr>\n      <th>25%</th>\n      <td>1044.000000</td>\n      <td>0.000000</td>\n      <td>23.000000</td>\n    </tr>\n    <tr>\n      <th>50%</th>\n      <td>2141.000000</td>\n      <td>0.000000</td>\n      <td>30.000000</td>\n    </tr>\n    <tr>\n      <th>75%</th>\n      <td>3932.000000</td>\n      <td>0.000000</td>\n      <td>41.000000</td>\n    </tr>\n    <tr>\n      <th>max</th>\n      <td>14658.000000</td>\n      <td>1.000000</td>\n      <td>115.000000</td>\n    </tr>\n  </tbody>\n</table>\n</div>"
     },
     "execution_count": 20,
     "metadata": {},
     "output_type": "execute_result"
    }
   ],
   "source": [
    "# summary statistics for numeric columns in ccrb dataset\n",
    "ccrb.describe()"
   ],
   "metadata": {
    "collapsed": false
   }
  },
  {
   "cell_type": "markdown",
   "source": [
    "Next, we separated the categorical columns from the numeric columns by keepin column names into two different lists. However, the `ccrbdisposition` column was not counted as a categorical column because we only wanted to include features into these two lists; as a reminder, we are predicting a binarized version of the `ccrbdisposition` column. We created a Cross-Tabulation Table that will show a list of unique values for each feature coupled with a list of the number of occurrences of that value. This allows us to get a better understanding of what values may arise within the dataset, and if there is a skew within the variables. For example, when looking at the values for IncidentRankLong, we can see that 192,825 of the values in this feature are for police officers. This suggests that most of the complaints within the dataset are filed against a lower ranking officer."
   ],
   "metadata": {
    "collapsed": false
   }
  },
  {
   "cell_type": "code",
   "execution_count": 21,
   "outputs": [
    {
     "name": "stdout",
     "output_type": "stream",
     "text": [
      "\n",
      "---Cross-Tabulation Table for officerrace---\n",
      "col_0             count\n",
      "officerrace            \n",
      "american indian     254\n",
      "asian              8148\n",
      "black             38688\n",
      "hispanic          62808\n",
      "white            169506\n",
      "\n",
      "---Cross-Tabulation Table for officergender---\n",
      "col_0           count\n",
      "officergender        \n",
      "female          21872\n",
      "male           257532\n",
      "\n",
      "---Cross-Tabulation Table for currentranklong---\n",
      "col_0                    count\n",
      "currentranklong               \n",
      "captain                   4112\n",
      "chiefs and other ranks    1700\n",
      "deputy inspector          2075\n",
      "detective                78482\n",
      "inactive ranks               2\n",
      "inspector                 1537\n",
      "lieutenant               25469\n",
      "police officer          110466\n",
      "sergeant                 55561\n",
      "\n",
      "---Cross-Tabulation Table for currentcommand---\n",
      "col_0           count\n",
      "currentcommand       \n",
      "001 det           265\n",
      "001 pct           933\n",
      "005 det           211\n",
      "005 pct           699\n",
      "006 det           164\n",
      "...               ...\n",
      "warrsec          6837\n",
      "wtc cmd           380\n",
      "yth div            14\n",
      "yth sd            178\n",
      "yth ss             85\n",
      "\n",
      "[699 rows x 1 columns]\n",
      "\n",
      "---Cross-Tabulation Table for incidentranklong---\n",
      "col_0                    count\n",
      "incidentranklong              \n",
      "captain                   1035\n",
      "chiefs and other ranks     165\n",
      "deputy inspector           287\n",
      "detective                25576\n",
      "inactive ranks              21\n",
      "inspector                   99\n",
      "lieutenant                7461\n",
      "police officer          192825\n",
      "sergeant                 31722\n",
      "\n",
      "---Cross-Tabulation Table for incidentcommand---\n",
      "col_0            count\n",
      "incidentcommand       \n",
      "001 det             55\n",
      "001 pct            673\n",
      "005 det             37\n",
      "005 pct            706\n",
      "006 det             32\n",
      "...                ...\n",
      "wtc cmd             24\n",
      "youth division       1\n",
      "yth div              2\n",
      "yth sd               4\n",
      "yth ss              14\n",
      "\n",
      "[702 rows x 1 columns]\n",
      "\n",
      "---Cross-Tabulation Table for status---\n",
      "col_0     count\n",
      "status         \n",
      "active   106859\n",
      "retired  172545\n",
      "\n",
      "---Cross-Tabulation Table for fadotype---\n",
      "col_0                  count\n",
      "fadotype                    \n",
      "abuse of authority    119447\n",
      "discourtesy            52132\n",
      "force                  97882\n",
      "offensive language      9940\n",
      "untruthful statement       3\n",
      "\n",
      "---Cross-Tabulation Table for allegation---\n",
      "col_0               count\n",
      "allegation               \n",
      "abuse of authority   5568\n",
      "action               2171\n",
      "animal                 29\n",
      "arrest/d. a. t.       439\n",
      "arrest/onlooker       171\n",
      "...                   ...\n",
      "vehicle search       4765\n",
      "vehicle searched      805\n",
      "vehicle stop         4584\n",
      "white                 156\n",
      "word                27665\n",
      "\n",
      "[118 rows x 1 columns]\n",
      "\n",
      "---Cross-Tabulation Table for contactreason---\n",
      "col_0                                               count\n",
      "contactreason                                            \n",
      "aided case                                           1307\n",
      "aided cases                                           561\n",
      "arrest/complainant                                   4947\n",
      "arrest/not complainant                               3669\n",
      "assist acs or other agency                            332\n",
      "c/v at pct to file complaint of crime                1187\n",
      "c/v at pct to obtain information                     1406\n",
      "c/v at pct to retrieve property                       321\n",
      "c/v intervened on behalf of/observed encounter ...   3285\n",
      "c/v requested info from officer                       828\n",
      "c/v requested investigation of crime                 2853\n",
      "c/v telephoned pct                                   1718\n",
      "complainant at pct. to make a cmpl/info               949\n",
      "complainant witnessing incident                       933\n",
      "cv already in custody                                 920\n",
      "demonstration/protest                                 447\n",
      "demonstrations                                        381\n",
      "dispute                                              6999\n",
      "edp aided case                                       2379\n",
      "edp aided cases                                       567\n",
      "execution of arrest/bench warrant                    3504\n",
      "execution of search warrant                          4176\n",
      "moving violation                                    10327\n",
      "no contact                                             60\n",
      "other                                               32122\n",
      "other violation of vtl                               5391\n",
      "others                                               7953\n",
      "parade/special event                                  221\n",
      "parking violation                                    4659\n",
      "patrol encounter                                    15891\n",
      "pd auto checkpoint                                    327\n",
      "pd suspected c/v of violation/crime - auto          11558\n",
      "pd suspected c/v of violation/crime - bldg          12644\n",
      "pd suspected c/v of violation/crime - street        45094\n",
      "pd suspected c/v of violation/crime - subway         3682\n",
      "pd telephones cv                                      108\n",
      "regulatory inspection                                 163\n",
      "report of crime past/present                         7445\n",
      "report of disturbance/noise complaint                1728\n",
      "report of other crime                                7083\n",
      "report-dispute                                       9064\n",
      "report-domestic dispute                              5192\n",
      "report-gun possession/shots fired                    2571\n",
      "report-noise/disturbance                             2201\n",
      "report-possession/sale of narcotics                  2247\n",
      "stop/question/frisk                                  4576\n",
      "summons/complainant                                  1727\n",
      "telephone call to precinct/command                    624\n",
      "traffic accident                                     1851\n",
      "traffic incidents/accident/prk violation            11062\n",
      "transit checkpoint                                     94\n",
      "vehicle stop and check                               2567\n",
      "victim subject of sex crime                            25\n",
      "\n",
      "---Cross-Tabulation Table for contactoutcome---\n",
      "col_0                                  count\n",
      "contactoutcome                              \n",
      "arrest - assault (against a po)         6016\n",
      "arrest - disorderly conduct             6147\n",
      "arrest - harrassment (against a po)      142\n",
      "arrest - oga                            3213\n",
      "arrest - other violation/crime         58852\n",
      "arrest - resisting arrest               8576\n",
      "arrest on other charge                  4144\n",
      "assault/arrested                        2079\n",
      "disorderly-conduct/arr/summons          5265\n",
      "harrassment/arrested/summons             341\n",
      "juvenile report                          363\n",
      "moving violation summons issued         5739\n",
      "no arrest made or summons issued      122519\n",
      "obstruct-govt-admin/arrested             554\n",
      "other summons claimed or issued         1421\n",
      "other vtl violation summons issued      3245\n",
      "parking summons issued                  2641\n",
      "resisting arrest/arrested               1721\n",
      "summons - disorderly conduct           10382\n",
      "summons - harrassment (against a po)      28\n",
      "summons - oga                             37\n",
      "summons - other violation/crime        11108\n",
      "traffic summons claimed or issued       4399\n",
      "\n",
      "---Cross-Tabulation Table for incidentprecinct---\n",
      "col_0             count\n",
      "incidentprecinct       \n",
      "pct 000            1417\n",
      "pct 001            2173\n",
      "pct 005            1944\n",
      "pct 006            2659\n",
      "pct 007            2111\n",
      "...                 ...\n",
      "pct 122            2625\n",
      "pct 123            1112\n",
      "pct 125               1\n",
      "pct 4010455           1\n",
      "pct 999               3\n",
      "\n",
      "[82 rows x 1 columns]\n",
      "\n",
      "---Cross-Tabulation Table for impactedrace---\n",
      "col_0            count\n",
      "impactedrace          \n",
      "american indian    411\n",
      "asian             3482\n",
      "black            83810\n",
      "hispanic         36116\n",
      "other race        4190\n",
      "refused           1654\n",
      "unknown          13391\n",
      "white            20051\n",
      "\n",
      "---Cross-Tabulation Table for impactedgender---\n",
      "col_0                   count\n",
      "impactedgender               \n",
      "female                  38655\n",
      "gender non-conforming      15\n",
      "male                   129189\n",
      "not described             554\n",
      "transman (ftm)             14\n",
      "transwoman (mtf)           55\n"
     ]
    }
   ],
   "source": [
    "# put categorical columns in categoricalColumnsList and numeric columns in numericColumnsList\n",
    "categoricalColumnsList, numericColumnsList = [], []\n",
    "for column in ccrb.columns:\n",
    "    if ccrb[column].dtype == \"object\":\n",
    "        categoricalColumnsList += [column]\n",
    "    else:\n",
    "        numericColumnsList += [column]\n",
    "\n",
    "# create cross tabulation table for all categorical columns\n",
    "for column in categoricalColumnsList:\n",
    "    print(f\"\\n---Cross-Tabulation Table for {column}---\")\n",
    "    print(pd.crosstab(index = ccrb[column], columns = 'count'))"
   ],
   "metadata": {
    "collapsed": false
   }
  },
  {
   "cell_type": "markdown",
   "source": [
    "Now, we want to perform some correlation analysis among our variables. First, we want to examine the correlation of the two numeric variables in our `ccrb` dataset, `daysonforce` and `impactedage`.  Below, we have a pairplot from the `seaborn` package that outlines the plots to showcase the correlation between the two variables."
   ],
   "metadata": {
    "collapsed": false
   }
  },
  {
   "cell_type": "code",
   "execution_count": 22,
   "outputs": [
    {
     "data": {
      "text/plain": "<seaborn.axisgrid.PairGrid at 0x7fe57ad47f10>"
     },
     "execution_count": 22,
     "metadata": {},
     "output_type": "execute_result"
    },
    {
     "data": {
      "text/plain": "<Figure size 540x540 with 12 Axes>",
      "image/png": "[encoded data removed]"
     },
     "metadata": {
      "needs_background": "light"
     },
     "output_type": "display_data"
    }
   ],
   "source": [
    "# pairplot for daysonforce and impactedage variables\n",
    "sns.pairplot(ccrb, diag_kind = \"hist\")"
   ],
   "metadata": {
    "collapsed": false
   }
  },
  {
   "cell_type": "markdown",
   "source": [
    "Above, the scatterplots are quite messy and don't reveal anything at facevalue. Furthermore, the histograms are the exact ones that we have seen early on. So, we want to instead further examine the correlation coefficient values between `daysonforce` and `impactedage` using a heatmap. Below, we have the the correlation heatmap that showcases the correlation values."
   ],
   "metadata": {
    "collapsed": false
   }
  },
  {
   "cell_type": "code",
   "execution_count": 23,
   "outputs": [
    {
     "data": {
      "text/plain": "<AxesSubplot:>"
     },
     "execution_count": 23,
     "metadata": {},
     "output_type": "execute_result"
    },
    {
     "data": {
      "text/plain": "<Figure size 432x288 with 2 Axes>",
      "image/png": "[encoded data removed]"
     },
     "metadata": {
      "needs_background": "light"
     },
     "output_type": "display_data"
    }
   ],
   "source": [
    "# correlation heatmap for daysonforce and impactedage variables\n",
    "sns.heatmap(ccrb.corr(), cmap = \"coolwarm\", annot = True)"
   ],
   "metadata": {
    "collapsed": false
   }
  },
  {
   "cell_type": "markdown",
   "source": [
    "We see that the correlation coefficient value for `daysonforce` and `impactedage` is 0.058. This idea implies that while we do see a positive correlation between the two variables, they aren't necessarily causal. Now, we want to be able to examine the correlation between the categorical columns. This task is quite tricky because we need to be able to utilize the string values in the categorical columns to showcase correlation among each other. So, we convert the column names into numeric codes and then use a Pearson correlation to examine the correlation among the different categorical columns. Thus, the correlation coefficient values can be seen below."
   ],
   "metadata": {
    "collapsed": false
   }
  },
  {
   "cell_type": "code",
   "execution_count": 24,
   "outputs": [
    {
     "name": "stdout",
     "output_type": "stream",
     "text": [
      "                  officerrace  officergender  currentranklong  currentcommand  \\\n",
      "officerrace          1.000000      -0.111181        -0.106869       -0.082748   \n",
      "officergender       -0.111181       1.000000         0.070205        0.018573   \n",
      "currentranklong     -0.106869       0.070205         1.000000        0.159333   \n",
      "currentcommand      -0.082748       0.018573         0.159333        1.000000   \n",
      "incidentranklong    -0.031409       0.047646         0.474886        0.011255   \n",
      "incidentcommand      0.042034       0.015945        -0.008046        0.128701   \n",
      "daysonforce         -0.002858       0.030363         0.120381       -0.043703   \n",
      "status              -0.157836       0.026813        -0.010969        0.194347   \n",
      "fadotype            -0.037576      -0.003257        -0.037398        0.030576   \n",
      "allegation          -0.141107       0.017553         0.108145        0.197528   \n",
      "ccrbdisposition      0.000732       0.006575         0.010135        0.000252   \n",
      "contactreason       -0.102670       0.017352         0.018216        0.109992   \n",
      "contactoutcome      -0.027759       0.006914        -0.012829        0.026116   \n",
      "incidentprecinct     0.030399      -0.008184        -0.037545       -0.014932   \n",
      "impactedrace         0.098669      -0.031079        -0.092661       -0.150950   \n",
      "impactedgender       0.125256      -0.098621        -0.085414       -0.158525   \n",
      "impactedage         -0.002011      -0.039605        -0.027502       -0.035483   \n",
      "\n",
      "                  incidentranklong  incidentcommand  daysonforce    status  \\\n",
      "officerrace              -0.031409         0.042034    -0.002858 -0.157836   \n",
      "officergender             0.047646         0.015945     0.030363  0.026813   \n",
      "currentranklong           0.474886        -0.008046     0.120381 -0.010969   \n",
      "currentcommand            0.011255         0.128701    -0.043703  0.194347   \n",
      "incidentranklong          1.000000         0.212055     0.612856 -0.041275   \n",
      "incidentcommand           0.212055         1.000000     0.246657 -0.031449   \n",
      "daysonforce               0.612856         0.246657     1.000000  0.094728   \n",
      "status                   -0.041275        -0.031449     0.094728  1.000000   \n",
      "fadotype                 -0.106910        -0.069873    -0.068911  0.122107   \n",
      "allegation               -0.222043        -0.242854    -0.257161  0.437140   \n",
      "ccrbdisposition           0.029397         0.015370     0.022202 -0.013363   \n",
      "contactreason             0.038375        -0.173425    -0.025888  0.307111   \n",
      "contactoutcome            0.000594        -0.066177    -0.047464  0.084083   \n",
      "incidentprecinct          0.157049         0.145528     0.145886 -0.063950   \n",
      "impactedrace              0.147866         0.197481     0.206239 -0.339404   \n",
      "impactedgender            0.163446         0.191980     0.214910 -0.324015   \n",
      "impactedage               0.011639        -0.038807     0.057510 -0.019851   \n",
      "\n",
      "                  fadotype  allegation  ccrbdisposition  contactreason  \\\n",
      "officerrace      -0.037576   -0.141107         0.000732      -0.102670   \n",
      "officergender    -0.003257    0.017553         0.006575       0.017352   \n",
      "currentranklong  -0.037398    0.108145         0.010135       0.018216   \n",
      "currentcommand    0.030576    0.197528         0.000252       0.109992   \n",
      "incidentranklong -0.106910   -0.222043         0.029397       0.038375   \n",
      "incidentcommand  -0.069873   -0.242854         0.015370      -0.173425   \n",
      "daysonforce      -0.068911   -0.257161         0.022202      -0.025888   \n",
      "status            0.122107    0.437140        -0.013363       0.307111   \n",
      "fadotype          1.000000    0.052526        -0.067258       0.135545   \n",
      "allegation        0.052526    1.000000         0.026074       0.434934   \n",
      "ccrbdisposition  -0.067258    0.026074         1.000000       0.000105   \n",
      "contactreason     0.135545    0.434934         0.000105       1.000000   \n",
      "contactoutcome    0.099084    0.101925        -0.020611       0.305156   \n",
      "incidentprecinct -0.009533   -0.132691         0.005443       0.168672   \n",
      "impactedrace     -0.064814   -0.557130         0.003059      -0.396797   \n",
      "impactedgender   -0.031446   -0.562904        -0.018905      -0.399023   \n",
      "impactedage      -0.021584    0.003787        -0.005905       0.023160   \n",
      "\n",
      "                  contactoutcome  incidentprecinct  impactedrace  \\\n",
      "officerrace            -0.027759          0.030399      0.098669   \n",
      "officergender           0.006914         -0.008184     -0.031079   \n",
      "currentranklong        -0.012829         -0.037545     -0.092661   \n",
      "currentcommand          0.026116         -0.014932     -0.150950   \n",
      "incidentranklong        0.000594          0.157049      0.147866   \n",
      "incidentcommand        -0.066177          0.145528      0.197481   \n",
      "daysonforce            -0.047464          0.145886      0.206239   \n",
      "status                  0.084083         -0.063950     -0.339404   \n",
      "fadotype                0.099084         -0.009533     -0.064814   \n",
      "allegation              0.101925         -0.132691     -0.557130   \n",
      "ccrbdisposition        -0.020611          0.005443      0.003059   \n",
      "contactreason           0.305156          0.168672     -0.396797   \n",
      "contactoutcome          1.000000          0.086824     -0.096175   \n",
      "incidentprecinct        0.086824          1.000000      0.079508   \n",
      "impactedrace           -0.096175          0.079508      1.000000   \n",
      "impactedgender         -0.100722          0.078621      0.549953   \n",
      "impactedage            -0.103919         -0.003446      0.119249   \n",
      "\n",
      "                  impactedgender  impactedage  \n",
      "officerrace             0.125256    -0.002011  \n",
      "officergender          -0.098621    -0.039605  \n",
      "currentranklong        -0.085414    -0.027502  \n",
      "currentcommand         -0.158525    -0.035483  \n",
      "incidentranklong        0.163446     0.011639  \n",
      "incidentcommand         0.191980    -0.038807  \n",
      "daysonforce             0.214910     0.057510  \n",
      "status                 -0.324015    -0.019851  \n",
      "fadotype               -0.031446    -0.021584  \n",
      "allegation             -0.562904     0.003787  \n",
      "ccrbdisposition        -0.018905    -0.005905  \n",
      "contactreason          -0.399023     0.023160  \n",
      "contactoutcome         -0.100722    -0.103919  \n",
      "incidentprecinct        0.078621    -0.003446  \n",
      "impactedrace            0.549953     0.119249  \n",
      "impactedgender          1.000000     0.112584  \n",
      "impactedage             0.112584     1.000000  \n"
     ]
    }
   ],
   "source": [
    "# numeric codes for each categorical variable name\n",
    "ccrbCopy = ccrb.copy(deep = True)\n",
    "for column in categoricalColumnsList:\n",
    "    ccrbCopy[column], _ = pd.factorize(ccrb[column])\n",
    "\n",
    "# create the correlation matrix\n",
    "corrMatrix = ccrbCopy.corr(method = \"pearson\")\n",
    "print(corrMatrix)"
   ],
   "metadata": {
    "collapsed": false
   }
  },
  {
   "cell_type": "markdown",
   "source": [
    "Since we converted the categorical variables into numeric codes, we are able to utilize a method that is normally reserved for continuous variables. The correlation coefficient values from above range from -1 to +1, where -1 indicates a perfect negative correlation and +1 indicates a negative correlation. For instance, we can see that `contactoutcome`, which we predicted to be a critical variable, and `ccrbdisposition` have a correlation coefficient value of -0.025694, which implies a negative relationship. One important note to keep in mind is that because we are attempting to use a Pearson correlation on categorical variables, the interpretation of correlation coefficients in this case is merely limited to linear relationships. While categorical variables can have other types of relationships, like nonlinear, the correlation coefficients above won't be able to catch those relationships."
   ],
   "metadata": {
    "collapsed": false
   }
  },
  {
   "cell_type": "markdown",
   "source": [
    "The EDA process has revealed that our dataset is very, very large. In addition, we understand that the dataset will continue to grow even more as we one-hot encode our categorical variables, leading to additional columns that represent each possible level of that categorical variable (such as the \"impactedrace\" variable having several subcategories of races that will individually be encoded as its own column). This may lead to painfully slow processing times when running our model and feature selection tasks. Therefore, we decided to run a Principal Component Analysis (PCA) on our current data in order to reduce the size of the data set while preserving as much of the original variation as possible."
   ],
   "metadata": {
    "collapsed": false
   }
  },
  {
   "cell_type": "code",
   "execution_count": 27,
   "outputs": [
    {
     "data": {
      "text/plain": "(279404, 17)"
     },
     "execution_count": 27,
     "metadata": {},
     "output_type": "execute_result"
    }
   ],
   "source": [
    "ccrb.shape"
   ],
   "metadata": {
    "collapsed": false
   }
  },
  {
   "cell_type": "markdown",
   "source": [
    "We begin with importing the necessary libraries for PCA and one-hot encoding the categorical variables in our CCRB dataset. PCA is a mathematical technique that only operates on numerical data, so this is a crucial preprocessing step. Then, we needed to standardize our present data. This is another important step since PCA is sensitive to the scale of the variables. Without standardization, variables with larger variance will dominate the principal components, regardless of their true importance. Standardizing the data before running PCA ensures that all features are given equal importance, and the principal components are based on the actual variations in the data, rather than the scale of the features. Finally, we have to check for Nan and infinite values once the standardization is complete. `StandardScaler` performs a mathematical operation that scales the data by subtracting the mean of each feature and dividing by its standard deviation. If a feature has a standard deviation of zero, this will result in dividing by zero, which produces an infinite value."
   ],
   "metadata": {
    "collapsed": false
   }
  },
  {
   "cell_type": "code",
   "execution_count": 27,
   "outputs": [
    {
     "name": "stdout",
     "output_type": "stream",
     "text": [
      "[[     6      1]\n",
      " [     7      1]\n",
      " [    38      1]\n",
      " ...\n",
      " [279401      1]\n",
      " [279402      1]\n",
      " [279403      1]]\n",
      "[]\n"
     ]
    }
   ],
   "source": [
    "# import libraries for PCA\n",
    "from sklearn.decomposition import PCA\n",
    "from sklearn.preprocessing import StandardScaler, OneHotEncoder\n",
    "import pandas as pd\n",
    "import numpy as np\n",
    "import matplotlib.pyplot as plt\n",
    "\n",
    "# select the columns to one-hot encode\n",
    "categorical_cols = ['officerrace', 'officergender', 'currentranklong', 'currentcommand',\n",
    "                    'incidentranklong', 'incidentcommand', 'status', 'fadotype',\n",
    "                    'allegation', 'ccrbdisposition', 'contactreason', 'contactoutcome',\n",
    "                    'incidentprecinct', 'impactedrace', 'impactedgender']\n",
    "\n",
    "# create a new data frame with one-hot encoded categorical columns\n",
    "ccrb_onehot = pd.get_dummies(ccrb, columns=categorical_cols)\n",
    "\n",
    "# standardize data (important since PCA is sensitive to scale of variables)\n",
    "scaler = StandardScaler()\n",
    "ccrb_std = scaler.fit_transform(ccrb_onehot)\n",
    "\n",
    "# check for NaN and infinite values\n",
    "print(np.argwhere(np.isnan(ccrb_std)))\n",
    "print(np.argwhere(np.isinf(ccrb_std)))"
   ],
   "metadata": {
    "collapsed": false
   }
  },
  {
   "cell_type": "markdown",
   "source": [
    "In order to PCA to run, we must drop all missing and infinite values from our standardized dataset."
   ],
   "metadata": {
    "collapsed": false
   }
  },
  {
   "cell_type": "code",
   "execution_count": 28,
   "outputs": [],
   "source": [
    "# remove rows with missing values after data standardization\n",
    "ccrb_std = ccrb_std[~np.isnan(ccrb_std).any(axis=1)]"
   ],
   "metadata": {
    "collapsed": false
   }
  },
  {
   "cell_type": "markdown",
   "source": [
    "Before we run the PCA algorithm on our standardized dataset, we can see that the dataset currently as a shape of (156413, 1727). We can decrease this tremendously with PCA."
   ],
   "metadata": {
    "collapsed": false
   }
  },
  {
   "cell_type": "code",
   "execution_count": 29,
   "outputs": [
    {
     "data": {
      "text/plain": "(156413, 1727)"
     },
     "execution_count": 29,
     "metadata": {},
     "output_type": "execute_result"
    }
   ],
   "source": [
    "# standardized data before dimentionality reduction\n",
    "ccrb_std.shape"
   ],
   "metadata": {
    "collapsed": false
   }
  },
  {
   "cell_type": "markdown",
   "source": [
    "Now, we can fit the PCA algorithm to our clean, standardized data and plot the cumulative expected variance ratio (CEVR) in order to determine the optimal number of principal components. This plot shows the proportion of the total variance in the data explained by each principal component. As shown below, the range of principal components from 1250 to 1500 is the optimal range we can use on our dataset without losing much of the original variance in our data."
   ],
   "metadata": {
    "collapsed": false
   }
  },
  {
   "cell_type": "code",
   "execution_count": 30,
   "outputs": [
    {
     "data": {
      "text/plain": "<Figure size 432x288 with 1 Axes>",
      "image/png": "[encoded data removed]"
     },
     "metadata": {},
     "output_type": "display_data"
    }
   ],
   "source": [
    "# create instance of PCA class and fit it to standardized data\n",
    "pca = PCA()\n",
    "pca.fit(ccrb_std)\n",
    "\n",
    "# plot the explained variance ratio to determine optimal number of principal components\n",
    "plt.plot(range(1, len(pca.explained_variance_ratio_) + 1), pca.explained_variance_ratio_.cumsum(), marker='o')\n",
    "plt.xlabel('Number of Principal Components')\n",
    "plt.ylabel('Cumulative Explained Variance Ratio')\n",
    "plt.show()"
   ],
   "metadata": {
    "collapsed": false
   }
  },
  {
   "cell_type": "markdown",
   "source": [],
   "metadata": {
    "collapsed": false
   }
  },
  {
   "cell_type": "markdown",
   "source": [
    "We chose to incorporate the lower end of the \"elbow point\" in our plot. While 1500 principal components would represent our original data without losing any information, using all the principal components may not always be the best option, as it can lead to overfitting and poor generalization to new data. It's recommended to select a smaller number of principal components that explain most of the variance in the data, while still keeping the overall number of dimensions low. Therefore, we chose 1250 principal components as our optimal number."
   ],
   "metadata": {
    "collapsed": false
   }
  },
  {
   "cell_type": "code",
   "execution_count": 31,
   "outputs": [],
   "source": [
    "# select the optimal number of principal components based on the explained variance ratio\n",
    "n_components = 1250\n",
    "\n",
    "# create a new instance of PCA with the optimal number of components\n",
    "pca = PCA(n_components=n_components)\n",
    "\n",
    "# fit the PCA to the standardized data\n",
    "pca.fit(ccrb_std)\n",
    "\n",
    "# apply the PCA transformation to the original dataset\n",
    "ccrb_pca = pca.transform(ccrb_std)\n",
    "\n",
    "# convert the numpy array to a pandas dataframe\n",
    "ccrb_pca_df = pd.DataFrame(ccrb_pca, columns=['PC{}'.format(i) for i in range(1, n_components + 1)])"
   ],
   "metadata": {
    "collapsed": false
   }
  },
  {
   "cell_type": "markdown",
   "source": [
    "Our new dataframe is now (156413, 1250), which is an excellent improvement from our original shape of (156413, 1727)."
   ],
   "metadata": {
    "collapsed": false
   }
  },
  {
   "cell_type": "code",
   "execution_count": 32,
   "outputs": [
    {
     "data": {
      "text/plain": "(156413, 1250)"
     },
     "execution_count": 32,
     "metadata": {},
     "output_type": "execute_result"
    }
   ],
   "source": [
    "ccrb_pca_df.shape"
   ],
   "metadata": {
    "collapsed": false
   }
  },
  {
   "cell_type": "code",
   "execution_count": 33,
   "outputs": [
    {
     "data": {
      "text/plain": "             PC1       PC2       PC3       PC4       PC5       PC6       PC7  \\\n0       3.432570  1.901376  0.807019 -0.627478 -0.460725 -0.055022 -0.194595   \n1       1.974034 -1.731636  3.098956  1.459256  1.710860 -0.304136  0.201431   \n2       2.288141 -1.906492  2.804652  1.886320  2.179817 -0.344479  0.161756   \n3       2.151351 -0.440800 -0.809700  1.580594  1.103918 -0.089013 -0.285863   \n4       1.931196 -0.264604 -0.674778  1.510242  1.141760 -0.088297 -0.292634   \n...          ...       ...       ...       ...       ...       ...       ...   \n156408 -0.008760 -1.216182 -0.403677  0.216194  1.030714 -0.002500 -0.021407   \n156409 -0.459558 -0.785129  0.452135  0.238699  0.641761  0.027664 -0.016531   \n156410 -1.059519  0.358608 -2.005763 -1.408761  0.407054  0.091329  0.198821   \n156411  0.154964  1.841170  0.291012 -1.100353  0.438176  0.047104 -0.103011   \n156412  1.478599  0.766128  0.818420  0.275686  1.109646  0.095962 -0.127030   \n\n             PC8       PC9      PC10  ...    PC1241    PC1242    PC1243  \\\n0      -0.310983 -0.213835  0.258263  ... -0.774800 -0.087327  0.068756   \n1      -0.119732  0.312724 -0.213209  ... -0.118578  0.164498  0.245489   \n2      -0.120877  0.299076 -0.204899  ... -0.005521  0.148048  0.373689   \n3      -0.051150 -0.204570  0.102005  ...  0.027724 -0.031328  0.031451   \n4      -0.058777 -0.199968  0.090383  ...  0.001097 -0.055550 -0.022431   \n...          ...       ...       ...  ...       ...       ...       ...   \n156408 -0.006377  0.030062 -0.019036  ... -0.123820 -0.597562 -0.062443   \n156409 -0.031519  0.036411 -0.022662  ... -0.449695  0.046809 -0.060389   \n156410  0.053537 -0.069765  0.085945  ... -0.479450  0.029824 -0.097469   \n156411  0.120023 -0.139575 -0.037265  ...  0.616083  0.498914  0.654160   \n156412 -0.134041  0.065094 -0.042373  ... -0.055224 -0.002137  0.080692   \n\n          PC1244    PC1245    PC1246    PC1247    PC1248    PC1249    PC1250  \n0      -0.130656  0.145962  0.394957 -0.234397  0.403511  0.228121 -0.303783  \n1       0.405551  0.744302 -0.417719  0.540847  0.669921 -0.392194  0.676937  \n2       0.562572  0.673416 -0.439880  0.598439  0.581116 -0.495837  0.454283  \n3       0.047288 -0.101118 -0.084766 -0.025408  0.005754 -0.101994 -0.114863  \n4      -0.034215 -0.067821 -0.095055 -0.052277  0.073433 -0.022513 -0.026792  \n...          ...       ...       ...       ...       ...       ...       ...  \n156408  0.034137 -0.472246 -0.124691  0.119907 -0.156114 -0.325602 -0.147101  \n156409 -0.231902 -0.427653 -0.422231 -0.031959  0.217873 -0.480874  0.123075  \n156410 -0.233885 -0.395180 -0.427244 -0.012244  0.188958 -0.469099  0.120586  \n156411 -0.038634 -0.377480 -0.177496 -1.057265  0.140624  0.721211 -0.097942  \n156412  0.034573 -0.035981  0.235123  0.184811 -0.076511 -0.357293  0.207873  \n\n[156413 rows x 1250 columns]",
      "text/html": "<div>\n<style scoped>\n    .dataframe tbody tr th:only-of-type {\n        vertical-align: middle;\n    }\n\n    .dataframe tbody tr th {\n        vertical-align: top;\n    }\n\n    .dataframe thead th {\n        text-align: right;\n    }\n</style>\n<table border=\"1\" class=\"dataframe\">\n  <thead>\n    <tr style=\"text-align: right;\">\n      <th></th>\n      <th>PC1</th>\n      <th>PC2</th>\n      <th>PC3</th>\n      <th>PC4</th>\n      <th>PC5</th>\n      <th>PC6</th>\n      <th>PC7</th>\n      <th>PC8</th>\n      <th>PC9</th>\n      <th>PC10</th>\n      <th>...</th>\n      <th>PC1241</th>\n      <th>PC1242</th>\n      <th>PC1243</th>\n      <th>PC1244</th>\n      <th>PC1245</th>\n      <th>PC1246</th>\n      <th>PC1247</th>\n      <th>PC1248</th>\n      <th>PC1249</th>\n      <th>PC1250</th>\n    </tr>\n  </thead>\n  <tbody>\n    <tr>\n      <th>0</th>\n      <td>3.432570</td>\n      <td>1.901376</td>\n      <td>0.807019</td>\n      <td>-0.627478</td>\n      <td>-0.460725</td>\n      <td>-0.055022</td>\n      <td>-0.194595</td>\n      <td>-0.310983</td>\n      <td>-0.213835</td>\n      <td>0.258263</td>\n      <td>...</td>\n      <td>-0.774800</td>\n      <td>-0.087327</td>\n      <td>0.068756</td>\n      <td>-0.130656</td>\n      <td>0.145962</td>\n      <td>0.394957</td>\n      <td>-0.234397</td>\n      <td>0.403511</td>\n      <td>0.228121</td>\n      <td>-0.303783</td>\n    </tr>\n    <tr>\n      <th>1</th>\n      <td>1.974034</td>\n      <td>-1.731636</td>\n      <td>3.098956</td>\n      <td>1.459256</td>\n      <td>1.710860</td>\n      <td>-0.304136</td>\n      <td>0.201431</td>\n      <td>-0.119732</td>\n      <td>0.312724</td>\n      <td>-0.213209</td>\n      <td>...</td>\n      <td>-0.118578</td>\n      <td>0.164498</td>\n      <td>0.245489</td>\n      <td>0.405551</td>\n      <td>0.744302</td>\n      <td>-0.417719</td>\n      <td>0.540847</td>\n      <td>0.669921</td>\n      <td>-0.392194</td>\n      <td>0.676937</td>\n    </tr>\n    <tr>\n      <th>2</th>\n      <td>2.288141</td>\n      <td>-1.906492</td>\n      <td>2.804652</td>\n      <td>1.886320</td>\n      <td>2.179817</td>\n      <td>-0.344479</td>\n      <td>0.161756</td>\n      <td>-0.120877</td>\n      <td>0.299076</td>\n      <td>-0.204899</td>\n      <td>...</td>\n      <td>-0.005521</td>\n      <td>0.148048</td>\n      <td>0.373689</td>\n      <td>0.562572</td>\n      <td>0.673416</td>\n      <td>-0.439880</td>\n      <td>0.598439</td>\n      <td>0.581116</td>\n      <td>-0.495837</td>\n      <td>0.454283</td>\n    </tr>\n    <tr>\n      <th>3</th>\n      <td>2.151351</td>\n      <td>-0.440800</td>\n      <td>-0.809700</td>\n      <td>1.580594</td>\n      <td>1.103918</td>\n      <td>-0.089013</td>\n      <td>-0.285863</td>\n      <td>-0.051150</td>\n      <td>-0.204570</td>\n      <td>0.102005</td>\n      <td>...</td>\n      <td>0.027724</td>\n      <td>-0.031328</td>\n      <td>0.031451</td>\n      <td>0.047288</td>\n      <td>-0.101118</td>\n      <td>-0.084766</td>\n      <td>-0.025408</td>\n      <td>0.005754</td>\n      <td>-0.101994</td>\n      <td>-0.114863</td>\n    </tr>\n    <tr>\n      <th>4</th>\n      <td>1.931196</td>\n      <td>-0.264604</td>\n      <td>-0.674778</td>\n      <td>1.510242</td>\n      <td>1.141760</td>\n      <td>-0.088297</td>\n      <td>-0.292634</td>\n      <td>-0.058777</td>\n      <td>-0.199968</td>\n      <td>0.090383</td>\n      <td>...</td>\n      <td>0.001097</td>\n      <td>-0.055550</td>\n      <td>-0.022431</td>\n      <td>-0.034215</td>\n      <td>-0.067821</td>\n      <td>-0.095055</td>\n      <td>-0.052277</td>\n      <td>0.073433</td>\n      <td>-0.022513</td>\n      <td>-0.026792</td>\n    </tr>\n    <tr>\n      <th>...</th>\n      <td>...</td>\n      <td>...</td>\n      <td>...</td>\n      <td>...</td>\n      <td>...</td>\n      <td>...</td>\n      <td>...</td>\n      <td>...</td>\n      <td>...</td>\n      <td>...</td>\n      <td>...</td>\n      <td>...</td>\n      <td>...</td>\n      <td>...</td>\n      <td>...</td>\n      <td>...</td>\n      <td>...</td>\n      <td>...</td>\n      <td>...</td>\n      <td>...</td>\n      <td>...</td>\n    </tr>\n    <tr>\n      <th>156408</th>\n      <td>-0.008760</td>\n      <td>-1.216182</td>\n      <td>-0.403677</td>\n      <td>0.216194</td>\n      <td>1.030714</td>\n      <td>-0.002500</td>\n      <td>-0.021407</td>\n      <td>-0.006377</td>\n      <td>0.030062</td>\n      <td>-0.019036</td>\n      <td>...</td>\n      <td>-0.123820</td>\n      <td>-0.597562</td>\n      <td>-0.062443</td>\n      <td>0.034137</td>\n      <td>-0.472246</td>\n      <td>-0.124691</td>\n      <td>0.119907</td>\n      <td>-0.156114</td>\n      <td>-0.325602</td>\n      <td>-0.147101</td>\n    </tr>\n    <tr>\n      <th>156409</th>\n      <td>-0.459558</td>\n      <td>-0.785129</td>\n      <td>0.452135</td>\n      <td>0.238699</td>\n      <td>0.641761</td>\n      <td>0.027664</td>\n      <td>-0.016531</td>\n      <td>-0.031519</td>\n      <td>0.036411</td>\n      <td>-0.022662</td>\n      <td>...</td>\n      <td>-0.449695</td>\n      <td>0.046809</td>\n      <td>-0.060389</td>\n      <td>-0.231902</td>\n      <td>-0.427653</td>\n      <td>-0.422231</td>\n      <td>-0.031959</td>\n      <td>0.217873</td>\n      <td>-0.480874</td>\n      <td>0.123075</td>\n    </tr>\n    <tr>\n      <th>156410</th>\n      <td>-1.059519</td>\n      <td>0.358608</td>\n      <td>-2.005763</td>\n      <td>-1.408761</td>\n      <td>0.407054</td>\n      <td>0.091329</td>\n      <td>0.198821</td>\n      <td>0.053537</td>\n      <td>-0.069765</td>\n      <td>0.085945</td>\n      <td>...</td>\n      <td>-0.479450</td>\n      <td>0.029824</td>\n      <td>-0.097469</td>\n      <td>-0.233885</td>\n      <td>-0.395180</td>\n      <td>-0.427244</td>\n      <td>-0.012244</td>\n      <td>0.188958</td>\n      <td>-0.469099</td>\n      <td>0.120586</td>\n    </tr>\n    <tr>\n      <th>156411</th>\n      <td>0.154964</td>\n      <td>1.841170</td>\n      <td>0.291012</td>\n      <td>-1.100353</td>\n      <td>0.438176</td>\n      <td>0.047104</td>\n      <td>-0.103011</td>\n      <td>0.120023</td>\n      <td>-0.139575</td>\n      <td>-0.037265</td>\n      <td>...</td>\n      <td>0.616083</td>\n      <td>0.498914</td>\n      <td>0.654160</td>\n      <td>-0.038634</td>\n      <td>-0.377480</td>\n      <td>-0.177496</td>\n      <td>-1.057265</td>\n      <td>0.140624</td>\n      <td>0.721211</td>\n      <td>-0.097942</td>\n    </tr>\n    <tr>\n      <th>156412</th>\n      <td>1.478599</td>\n      <td>0.766128</td>\n      <td>0.818420</td>\n      <td>0.275686</td>\n      <td>1.109646</td>\n      <td>0.095962</td>\n      <td>-0.127030</td>\n      <td>-0.134041</td>\n      <td>0.065094</td>\n      <td>-0.042373</td>\n      <td>...</td>\n      <td>-0.055224</td>\n      <td>-0.002137</td>\n      <td>0.080692</td>\n      <td>0.034573</td>\n      <td>-0.035981</td>\n      <td>0.235123</td>\n      <td>0.184811</td>\n      <td>-0.076511</td>\n      <td>-0.357293</td>\n      <td>0.207873</td>\n    </tr>\n  </tbody>\n</table>\n<p>156413 rows × 1250 columns</p>\n</div>"
     },
     "execution_count": 33,
     "metadata": {},
     "output_type": "execute_result"
    }
   ],
   "source": [
    "ccrb_pca_df"
   ],
   "metadata": {
    "collapsed": false
   }
  },
  {
   "cell_type": "markdown",
   "source": [
    "When using PCA, the new column names generated by the transformation will correspond to the principal components themselves (i.e., \"PC1\", \"PC2\", etc.). These new columns represent linear combinations of the original features that capture the most variance in the data.\n",
    "\n",
    "In general, it's not possible to directly interpret the principal components in terms of the original features, since they are not just simple combinations of the original features. However, it is possible to examine the loadings of each feature on each principal component to gain some insight into which original features are most strongly associated with each principal component. This process is done below. Each row in `loadings_df` corresponds to a principal component and each column corresponds to an original feature, with the values in the cells representing the weight of each feature on each principal component. We can use this data frame to interpret the relationship between the original features and the principal components."
   ],
   "metadata": {
    "collapsed": false
   }
  },
  {
   "cell_type": "code",
   "execution_count": 34,
   "outputs": [
    {
     "data": {
      "text/plain": "      daysonforce  impactedage  officerrace_american indian  \\\n0       -0.191208     0.033772                    -0.007371   \n1        0.153030     0.111578                     0.002865   \n2        0.117182    -0.000568                    -0.002889   \n3       -0.061102    -0.017017                     0.002884   \n4        0.032866     0.015861                     0.012844   \n...           ...          ...                          ...   \n1245    -0.008936    -0.007187                    -0.007590   \n1246    -0.023337    -0.011276                     0.000542   \n1247     0.058780     0.011722                     0.001457   \n1248     0.069031    -0.012095                     0.003265   \n1249     0.076491     0.000225                     0.005122   \n\n      officerrace_asian  officerrace_black  officerrace_hispanic  \\\n0              0.053717           0.026508              0.049270   \n1             -0.009802          -0.052168             -0.108791   \n2             -0.016298          -0.017840              0.010375   \n3              0.011350          -0.000457             -0.131421   \n4              0.022567           0.082849             -0.121131   \n...                 ...                ...                   ...   \n1245          -0.002952          -0.007772              0.006791   \n1246           0.004848           0.006759              0.002234   \n1247           0.002671           0.006052             -0.001221   \n1248           0.006132           0.000608             -0.009560   \n1249           0.004049          -0.019936              0.009503   \n\n      officerrace_white  officergender_female  officergender_male  \\\n0             -0.078895              0.095129           -0.095129   \n1              0.133054              0.018318           -0.018318   \n2              0.009540              0.009425           -0.009425   \n3              0.108543             -0.045210            0.045210   \n4              0.036370             -0.000995            0.000995   \n...                 ...                   ...                 ...   \n1245           0.001177             -0.000196            0.000196   \n1246          -0.008392              0.002431           -0.002431   \n1247          -0.004246              0.003532           -0.003532   \n1248           0.005426              0.001054           -0.001054   \n1249           0.004264              0.002972           -0.002972   \n\n      currentranklong_captain  ...  impactedrace_other race  \\\n0                   -0.013783  ...                 0.042522   \n1                    0.002525  ...                 0.057115   \n2                   -0.008233  ...                 0.013079   \n3                    0.002162  ...                -0.010640   \n4                    0.007979  ...                 0.009811   \n...                       ...  ...                      ...   \n1245                -0.029809  ...                 0.005287   \n1246                 0.033813  ...                -0.003382   \n1247                 0.000410  ...                -0.000392   \n1248                 0.046001  ...                 0.006007   \n1249                -0.002173  ...                 0.008051   \n\n      impactedrace_refused  impactedrace_unknown  impactedrace_white  \\\n0                 0.019892              0.036836            0.053319   \n1                 0.025299             -0.001069            0.299000   \n2                -0.016735              0.011783            0.116667   \n3                -0.001717              0.014423            0.069448   \n4                -0.014120             -0.013308           -0.011619   \n...                    ...                   ...                 ...   \n1245              0.001531              0.000106            0.006556   \n1246              0.001178             -0.006304            0.005366   \n1247              0.002102             -0.002775           -0.000558   \n1248              0.001616             -0.002459            0.007261   \n1249              0.001847             -0.001467            0.005486   \n\n      impactedgender_female  impactedgender_gender non-conforming  \\\n0                  0.072855                              0.004350   \n1                  0.108934                              0.005163   \n2                  0.105167                              0.006058   \n3                 -0.010960                              0.006946   \n4                  0.030495                              0.007801   \n...                     ...                                   ...   \n1245               0.002051                              0.001382   \n1246              -0.003246                             -0.001465   \n1247              -0.002096                             -0.000371   \n1248               0.000042                             -0.000399   \n1249               0.002062                             -0.000256   \n\n      impactedgender_male  impactedgender_not described  \\\n0               -0.051506                      0.007575   \n1               -0.076521                      0.006319   \n2               -0.073131                     -0.000587   \n3                0.006519                      0.002290   \n4               -0.020135                     -0.004897   \n...                   ...                           ...   \n1245            -0.002467                      0.008607   \n1246             0.002417                     -0.008500   \n1247             0.003039                     -0.005186   \n1248             0.001761                     -0.002650   \n1249            -0.000341                     -0.009909   \n\n      impactedgender_transman (ftm)  impactedgender_transwoman (mtf)  \n0                          0.005308                         0.007129  \n1                         -0.003220                         0.015677  \n2                          0.001596                        -0.009389  \n3                          0.005562                         0.022424  \n4                          0.002588                        -0.030218  \n...                             ...                              ...  \n1245                      -0.000977                        -0.000843  \n1246                       0.001874                         0.001834  \n1247                      -0.001072                         0.001895  \n1248                       0.001387                         0.000817  \n1249                       0.000534                         0.001361  \n\n[1250 rows x 1727 columns]",
      "text/html": "<div>\n<style scoped>\n    .dataframe tbody tr th:only-of-type {\n        vertical-align: middle;\n    }\n\n    .dataframe tbody tr th {\n        vertical-align: top;\n    }\n\n    .dataframe thead th {\n        text-align: right;\n    }\n</style>\n<table border=\"1\" class=\"dataframe\">\n  <thead>\n    <tr style=\"text-align: right;\">\n      <th></th>\n      <th>daysonforce</th>\n      <th>impactedage</th>\n      <th>officerrace_american indian</th>\n      <th>officerrace_asian</th>\n      <th>officerrace_black</th>\n      <th>officerrace_hispanic</th>\n      <th>officerrace_white</th>\n      <th>officergender_female</th>\n      <th>officergender_male</th>\n      <th>currentranklong_captain</th>\n      <th>...</th>\n      <th>impactedrace_other race</th>\n      <th>impactedrace_refused</th>\n      <th>impactedrace_unknown</th>\n      <th>impactedrace_white</th>\n      <th>impactedgender_female</th>\n      <th>impactedgender_gender non-conforming</th>\n      <th>impactedgender_male</th>\n      <th>impactedgender_not described</th>\n      <th>impactedgender_transman (ftm)</th>\n      <th>impactedgender_transwoman (mtf)</th>\n    </tr>\n  </thead>\n  <tbody>\n    <tr>\n      <th>0</th>\n      <td>-0.191208</td>\n      <td>0.033772</td>\n      <td>-0.007371</td>\n      <td>0.053717</td>\n      <td>0.026508</td>\n      <td>0.049270</td>\n      <td>-0.078895</td>\n      <td>0.095129</td>\n      <td>-0.095129</td>\n      <td>-0.013783</td>\n      <td>...</td>\n      <td>0.042522</td>\n      <td>0.019892</td>\n      <td>0.036836</td>\n      <td>0.053319</td>\n      <td>0.072855</td>\n      <td>0.004350</td>\n      <td>-0.051506</td>\n      <td>0.007575</td>\n      <td>0.005308</td>\n      <td>0.007129</td>\n    </tr>\n    <tr>\n      <th>1</th>\n      <td>0.153030</td>\n      <td>0.111578</td>\n      <td>0.002865</td>\n      <td>-0.009802</td>\n      <td>-0.052168</td>\n      <td>-0.108791</td>\n      <td>0.133054</td>\n      <td>0.018318</td>\n      <td>-0.018318</td>\n      <td>0.002525</td>\n      <td>...</td>\n      <td>0.057115</td>\n      <td>0.025299</td>\n      <td>-0.001069</td>\n      <td>0.299000</td>\n      <td>0.108934</td>\n      <td>0.005163</td>\n      <td>-0.076521</td>\n      <td>0.006319</td>\n      <td>-0.003220</td>\n      <td>0.015677</td>\n    </tr>\n    <tr>\n      <th>2</th>\n      <td>0.117182</td>\n      <td>-0.000568</td>\n      <td>-0.002889</td>\n      <td>-0.016298</td>\n      <td>-0.017840</td>\n      <td>0.010375</td>\n      <td>0.009540</td>\n      <td>0.009425</td>\n      <td>-0.009425</td>\n      <td>-0.008233</td>\n      <td>...</td>\n      <td>0.013079</td>\n      <td>-0.016735</td>\n      <td>0.011783</td>\n      <td>0.116667</td>\n      <td>0.105167</td>\n      <td>0.006058</td>\n      <td>-0.073131</td>\n      <td>-0.000587</td>\n      <td>0.001596</td>\n      <td>-0.009389</td>\n    </tr>\n    <tr>\n      <th>3</th>\n      <td>-0.061102</td>\n      <td>-0.017017</td>\n      <td>0.002884</td>\n      <td>0.011350</td>\n      <td>-0.000457</td>\n      <td>-0.131421</td>\n      <td>0.108543</td>\n      <td>-0.045210</td>\n      <td>0.045210</td>\n      <td>0.002162</td>\n      <td>...</td>\n      <td>-0.010640</td>\n      <td>-0.001717</td>\n      <td>0.014423</td>\n      <td>0.069448</td>\n      <td>-0.010960</td>\n      <td>0.006946</td>\n      <td>0.006519</td>\n      <td>0.002290</td>\n      <td>0.005562</td>\n      <td>0.022424</td>\n    </tr>\n    <tr>\n      <th>4</th>\n      <td>0.032866</td>\n      <td>0.015861</td>\n      <td>0.012844</td>\n      <td>0.022567</td>\n      <td>0.082849</td>\n      <td>-0.121131</td>\n      <td>0.036370</td>\n      <td>-0.000995</td>\n      <td>0.000995</td>\n      <td>0.007979</td>\n      <td>...</td>\n      <td>0.009811</td>\n      <td>-0.014120</td>\n      <td>-0.013308</td>\n      <td>-0.011619</td>\n      <td>0.030495</td>\n      <td>0.007801</td>\n      <td>-0.020135</td>\n      <td>-0.004897</td>\n      <td>0.002588</td>\n      <td>-0.030218</td>\n    </tr>\n    <tr>\n      <th>...</th>\n      <td>...</td>\n      <td>...</td>\n      <td>...</td>\n      <td>...</td>\n      <td>...</td>\n      <td>...</td>\n      <td>...</td>\n      <td>...</td>\n      <td>...</td>\n      <td>...</td>\n      <td>...</td>\n      <td>...</td>\n      <td>...</td>\n      <td>...</td>\n      <td>...</td>\n      <td>...</td>\n      <td>...</td>\n      <td>...</td>\n      <td>...</td>\n      <td>...</td>\n      <td>...</td>\n    </tr>\n    <tr>\n      <th>1245</th>\n      <td>-0.008936</td>\n      <td>-0.007187</td>\n      <td>-0.007590</td>\n      <td>-0.002952</td>\n      <td>-0.007772</td>\n      <td>0.006791</td>\n      <td>0.001177</td>\n      <td>-0.000196</td>\n      <td>0.000196</td>\n      <td>-0.029809</td>\n      <td>...</td>\n      <td>0.005287</td>\n      <td>0.001531</td>\n      <td>0.000106</td>\n      <td>0.006556</td>\n      <td>0.002051</td>\n      <td>0.001382</td>\n      <td>-0.002467</td>\n      <td>0.008607</td>\n      <td>-0.000977</td>\n      <td>-0.000843</td>\n    </tr>\n    <tr>\n      <th>1246</th>\n      <td>-0.023337</td>\n      <td>-0.011276</td>\n      <td>0.000542</td>\n      <td>0.004848</td>\n      <td>0.006759</td>\n      <td>0.002234</td>\n      <td>-0.008392</td>\n      <td>0.002431</td>\n      <td>-0.002431</td>\n      <td>0.033813</td>\n      <td>...</td>\n      <td>-0.003382</td>\n      <td>0.001178</td>\n      <td>-0.006304</td>\n      <td>0.005366</td>\n      <td>-0.003246</td>\n      <td>-0.001465</td>\n      <td>0.002417</td>\n      <td>-0.008500</td>\n      <td>0.001874</td>\n      <td>0.001834</td>\n    </tr>\n    <tr>\n      <th>1247</th>\n      <td>0.058780</td>\n      <td>0.011722</td>\n      <td>0.001457</td>\n      <td>0.002671</td>\n      <td>0.006052</td>\n      <td>-0.001221</td>\n      <td>-0.004246</td>\n      <td>0.003532</td>\n      <td>-0.003532</td>\n      <td>0.000410</td>\n      <td>...</td>\n      <td>-0.000392</td>\n      <td>0.002102</td>\n      <td>-0.002775</td>\n      <td>-0.000558</td>\n      <td>-0.002096</td>\n      <td>-0.000371</td>\n      <td>0.003039</td>\n      <td>-0.005186</td>\n      <td>-0.001072</td>\n      <td>0.001895</td>\n    </tr>\n    <tr>\n      <th>1248</th>\n      <td>0.069031</td>\n      <td>-0.012095</td>\n      <td>0.003265</td>\n      <td>0.006132</td>\n      <td>0.000608</td>\n      <td>-0.009560</td>\n      <td>0.005426</td>\n      <td>0.001054</td>\n      <td>-0.001054</td>\n      <td>0.046001</td>\n      <td>...</td>\n      <td>0.006007</td>\n      <td>0.001616</td>\n      <td>-0.002459</td>\n      <td>0.007261</td>\n      <td>0.000042</td>\n      <td>-0.000399</td>\n      <td>0.001761</td>\n      <td>-0.002650</td>\n      <td>0.001387</td>\n      <td>0.000817</td>\n    </tr>\n    <tr>\n      <th>1249</th>\n      <td>0.076491</td>\n      <td>0.000225</td>\n      <td>0.005122</td>\n      <td>0.004049</td>\n      <td>-0.019936</td>\n      <td>0.009503</td>\n      <td>0.004264</td>\n      <td>0.002972</td>\n      <td>-0.002972</td>\n      <td>-0.002173</td>\n      <td>...</td>\n      <td>0.008051</td>\n      <td>0.001847</td>\n      <td>-0.001467</td>\n      <td>0.005486</td>\n      <td>0.002062</td>\n      <td>-0.000256</td>\n      <td>-0.000341</td>\n      <td>-0.009909</td>\n      <td>0.000534</td>\n      <td>0.001361</td>\n    </tr>\n  </tbody>\n</table>\n<p>1250 rows × 1727 columns</p>\n</div>"
     },
     "execution_count": 34,
     "metadata": {},
     "output_type": "execute_result"
    }
   ],
   "source": [
    "# create a new data frame with the loadings of each feature on each principal component\n",
    "loadings_df = pd.DataFrame(pca.components_, columns=ccrb_onehot.columns)\n",
    "\n",
    "# display the loadings\n",
    "loadings_df\n"
   ],
   "metadata": {
    "collapsed": false
   }
  },
  {
   "cell_type": "markdown",
   "source": [
    "### Logistic Regression"
   ],
   "metadata": {
    "collapsed": false
   }
  },
  {
   "cell_type": "markdown",
   "source": [
    "Now, we move onto our first model, which is the logistic regression. Below, we import the necessary packages for the logistic regression and for splitting data between training and testing."
   ],
   "metadata": {
    "collapsed": false
   }
  },
  {
   "cell_type": "code",
   "execution_count": 35,
   "outputs": [],
   "source": [
    "# PRELIMINARY RESULTS: import packages and split testing from train, 5%\n",
    "from sklearn.model_selection import train_test_split\n",
    "from sklearn.metrics import confusion_matrix\n",
    "from sklearn.linear_model import LogisticRegression\n",
    "from sklearn.ensemble import GradientBoostingClassifier\n",
    "from sklearn.ensemble import RandomForestClassifier\n",
    "import eli5\n",
    "from eli5.sklearn import PermutationImportance"
   ],
   "metadata": {
    "collapsed": false
   }
  },
  {
   "cell_type": "markdown",
   "source": [
    "In the below cell we create the first model for the project. First, we create a subset of the data that contains 5% of the entries. We chose to do this due to time constraints, cost of computations, and because the Jupyter Notebook kernel keeps dying every time we use the entire dataset (we will most likely use Google Colab to remediate this issue). In this first iteration, on the small subset, we are able to work on the feature selection process and determine some of the most influential features.\n",
    "We then select the portions of the dataset that we will be using for the model; the X variable is all features that the model is considering when making the decision; the y variable is the binarized CCRBDisposition, the variable that the model will be predicting."
   ],
   "metadata": {
    "collapsed": false
   }
  },
  {
   "cell_type": "code",
   "execution_count": 36,
   "outputs": [
    {
     "data": {
      "text/plain": "<IPython.core.display.HTML object>",
      "text/html": "\n    <style>\n    table.eli5-weights tr:hover {\n        filter: brightness(85%);\n    }\n</style>\n\n\n\n    \n\n    \n\n    \n\n    \n\n    \n\n    \n\n\n    \n\n    \n\n    \n\n    \n\n    \n\n    \n\n\n    \n\n    \n\n    \n\n    \n\n    \n        <table class=\"eli5-weights eli5-feature-importances\" style=\"border-collapse: collapse; border: none; margin-top: 0em; table-layout: auto;\">\n    <thead>\n    <tr style=\"border: none;\">\n        <th style=\"padding: 0 1em 0 0.5em; text-align: right; border: none;\">Weight</th>\n        <th style=\"padding: 0 0.5em 0 0.5em; text-align: left; border: none;\">Feature</th>\n    </tr>\n    </thead>\n    <tbody>\n    \n        <tr style=\"background-color: hsl(120, 100.00%, 80.00%); border: none;\">\n            <td style=\"padding: 0 1em 0 0.5em; text-align: right; border: none;\">\n                0.0033\n                \n                    &plusmn; 0.0008\n                \n            </td>\n            <td style=\"padding: 0 0.5em 0 0.5em; text-align: left; border: none;\">\n                impactedgender_male\n            </td>\n        </tr>\n    \n        <tr style=\"background-color: hsl(120, 100.00%, 84.83%); border: none;\">\n            <td style=\"padding: 0 1em 0 0.5em; text-align: right; border: none;\">\n                0.0022\n                \n                    &plusmn; 0.0007\n                \n            </td>\n            <td style=\"padding: 0 0.5em 0 0.5em; text-align: left; border: none;\">\n                officergender_female\n            </td>\n        </tr>\n    \n        <tr style=\"background-color: hsl(120, 100.00%, 89.63%); border: none;\">\n            <td style=\"padding: 0 1em 0 0.5em; text-align: right; border: none;\">\n                0.0013\n                \n                    &plusmn; 0.0004\n                \n            </td>\n            <td style=\"padding: 0 0.5em 0 0.5em; text-align: left; border: none;\">\n                contactoutcome_arrest - assault (against a po)\n            </td>\n        </tr>\n    \n        <tr style=\"background-color: hsl(120, 100.00%, 89.63%); border: none;\">\n            <td style=\"padding: 0 1em 0 0.5em; text-align: right; border: none;\">\n                0.0013\n                \n                    &plusmn; 0.0004\n                \n            </td>\n            <td style=\"padding: 0 0.5em 0 0.5em; text-align: left; border: none;\">\n                officerrace_hispanic\n            </td>\n        </tr>\n    \n        <tr style=\"background-color: hsl(120, 100.00%, 90.04%); border: none;\">\n            <td style=\"padding: 0 1em 0 0.5em; text-align: right; border: none;\">\n                0.0012\n                \n                    &plusmn; 0.0011\n                \n            </td>\n            <td style=\"padding: 0 0.5em 0 0.5em; text-align: left; border: none;\">\n                daysonforce\n            </td>\n        </tr>\n    \n        <tr style=\"background-color: hsl(120, 100.00%, 90.04%); border: none;\">\n            <td style=\"padding: 0 1em 0 0.5em; text-align: right; border: none;\">\n                0.0012\n                \n                    &plusmn; 0.0011\n                \n            </td>\n            <td style=\"padding: 0 0.5em 0 0.5em; text-align: left; border: none;\">\n                status_retired\n            </td>\n        </tr>\n    \n        <tr style=\"background-color: hsl(120, 100.00%, 90.87%); border: none;\">\n            <td style=\"padding: 0 1em 0 0.5em; text-align: right; border: none;\">\n                0.0011\n                \n                    &plusmn; 0.0010\n                \n            </td>\n            <td style=\"padding: 0 0.5em 0 0.5em; text-align: left; border: none;\">\n                impactedrace_asian\n            </td>\n        </tr>\n    \n        <tr style=\"background-color: hsl(120, 100.00%, 91.74%); border: none;\">\n            <td style=\"padding: 0 1em 0 0.5em; text-align: right; border: none;\">\n                0.0009\n                \n                    &plusmn; 0.0017\n                \n            </td>\n            <td style=\"padding: 0 0.5em 0 0.5em; text-align: left; border: none;\">\n                officerrace_asian\n            </td>\n        </tr>\n    \n        <tr style=\"background-color: hsl(120, 100.00%, 92.19%); border: none;\">\n            <td style=\"padding: 0 1em 0 0.5em; text-align: right; border: none;\">\n                0.0009\n                \n                    &plusmn; 0.0016\n                \n            </td>\n            <td style=\"padding: 0 0.5em 0 0.5em; text-align: left; border: none;\">\n                allegation_failure to provide rtka card\n            </td>\n        </tr>\n    \n        <tr style=\"background-color: hsl(120, 100.00%, 93.62%); border: none;\">\n            <td style=\"padding: 0 1em 0 0.5em; text-align: right; border: none;\">\n                0.0006\n                \n                    &plusmn; 0.0003\n                \n            </td>\n            <td style=\"padding: 0 0.5em 0 0.5em; text-align: left; border: none;\">\n                contactoutcome_moving violation summons issued\n            </td>\n        </tr>\n    \n        <tr style=\"background-color: hsl(120, 100.00%, 94.12%); border: none;\">\n            <td style=\"padding: 0 1em 0 0.5em; text-align: right; border: none;\">\n                0.0006\n                \n                    &plusmn; 0.0007\n                \n            </td>\n            <td style=\"padding: 0 0.5em 0 0.5em; text-align: left; border: none;\">\n                contactoutcome_no arrest made or summons issued\n            </td>\n        </tr>\n    \n        <tr style=\"background-color: hsl(120, 100.00%, 94.65%); border: none;\">\n            <td style=\"padding: 0 1em 0 0.5em; text-align: right; border: none;\">\n                0.0005\n                \n                    &plusmn; 0.0007\n                \n            </td>\n            <td style=\"padding: 0 0.5em 0 0.5em; text-align: left; border: none;\">\n                impactedrace_other race\n            </td>\n        </tr>\n    \n        <tr style=\"background-color: hsl(120, 100.00%, 95.19%); border: none;\">\n            <td style=\"padding: 0 1em 0 0.5em; text-align: right; border: none;\">\n                0.0004\n                \n                    &plusmn; 0.0008\n                \n            </td>\n            <td style=\"padding: 0 0.5em 0 0.5em; text-align: left; border: none;\">\n                allegation_entry of premises\n            </td>\n        </tr>\n    \n        <tr style=\"background-color: hsl(120, 100.00%, 95.19%); border: none;\">\n            <td style=\"padding: 0 1em 0 0.5em; text-align: right; border: none;\">\n                0.0004\n                \n                    &plusmn; 0.0003\n                \n            </td>\n            <td style=\"padding: 0 0.5em 0 0.5em; text-align: left; border: none;\">\n                incidentcommand_067 pct\n            </td>\n        </tr>\n    \n        <tr style=\"background-color: hsl(120, 100.00%, 95.19%); border: none;\">\n            <td style=\"padding: 0 1em 0 0.5em; text-align: right; border: none;\">\n                0.0004\n                \n                    &plusmn; 0.0005\n                \n            </td>\n            <td style=\"padding: 0 0.5em 0 0.5em; text-align: left; border: none;\">\n                officerrace_white\n            </td>\n        </tr>\n    \n        <tr style=\"background-color: hsl(120, 100.00%, 95.77%); border: none;\">\n            <td style=\"padding: 0 1em 0 0.5em; text-align: right; border: none;\">\n                0.0004\n                \n                    &plusmn; 0.0016\n                \n            </td>\n            <td style=\"padding: 0 0.5em 0 0.5em; text-align: left; border: none;\">\n                impactedrace_hispanic\n            </td>\n        </tr>\n    \n        <tr style=\"background-color: hsl(120, 100.00%, 95.77%); border: none;\">\n            <td style=\"padding: 0 1em 0 0.5em; text-align: right; border: none;\">\n                0.0004\n                \n                    &plusmn; 0.0000\n                \n            </td>\n            <td style=\"padding: 0 0.5em 0 0.5em; text-align: left; border: none;\">\n                currentcommand_narcbbs\n            </td>\n        </tr>\n    \n        <tr style=\"background-color: hsl(120, 100.00%, 95.77%); border: none;\">\n            <td style=\"padding: 0 1em 0 0.5em; text-align: right; border: none;\">\n                0.0004\n                \n                    &plusmn; 0.0000\n                \n            </td>\n            <td style=\"padding: 0 0.5em 0 0.5em; text-align: left; border: none;\">\n                contactreason_c/v at pct to file complaint of crime\n            </td>\n        </tr>\n    \n        <tr style=\"background-color: hsl(120, 100.00%, 95.77%); border: none;\">\n            <td style=\"padding: 0 1em 0 0.5em; text-align: right; border: none;\">\n                0.0004\n                \n                    &plusmn; 0.0000\n                \n            </td>\n            <td style=\"padding: 0 0.5em 0 0.5em; text-align: left; border: none;\">\n                incidentcommand_009 pct\n            </td>\n        </tr>\n    \n        <tr style=\"background-color: hsl(120, 100.00%, 95.77%); border: none;\">\n            <td style=\"padding: 0 1em 0 0.5em; text-align: right; border: none;\">\n                0.0004\n                \n                    &plusmn; 0.0000\n                \n            </td>\n            <td style=\"padding: 0 0.5em 0 0.5em; text-align: left; border: none;\">\n                incidentranklong_police officer\n            </td>\n        </tr>\n    \n    \n        \n            <tr style=\"background-color: hsl(120, 100.00%, 95.77%); border: none;\">\n                <td colspan=\"2\" style=\"padding: 0 0.5em 0 0.5em; text-align: center; border: none; white-space: nowrap;\">\n                    <i>&hellip; 894 more &hellip;</i>\n                </td>\n            </tr>\n        \n    \n    </tbody>\n</table>\n    \n\n    \n\n\n    \n\n    \n\n    \n\n    \n\n    \n\n    \n\n\n\n"
     },
     "execution_count": 36,
     "metadata": {},
     "output_type": "execute_result"
    }
   ],
   "source": [
    "ccrb_5percent = ccrb.head(int(ccrb.shape[0] * 0.05))\n",
    "ccrb_5percent = pd.get_dummies(ccrb_5percent, columns = categoricalColumnsList)\n",
    "ccrb_5percent['impactedage'] = ccrb_5percent['impactedage'].fillna(0)\n",
    "\n",
    "# Split the data into training and testing sets\n",
    "X = ccrb_5percent.drop(columns = [\"ccrbdisposition\"])\n",
    "y = ccrb_5percent[\"ccrbdisposition\"]\n",
    "X_train, X_test, y_train, y_test = train_test_split(X, y, test_size = 0.2, shuffle = False)\n",
    "\n",
    "# Fit a logistic regression model to the training data\n",
    "model = LogisticRegression(max_iter = 10000)\n",
    "model.fit(X_train, y_train)\n",
    "\n",
    "# Use permutation importance to get feature importance scores\n",
    "perm = PermutationImportance(model, random_state = 1).fit(X_test, y_test)\n",
    "eli5.show_weights(perm, feature_names = X_test.columns.tolist())"
   ],
   "metadata": {
    "collapsed": false
   }
  },
  {
   "cell_type": "markdown",
   "source": [
    "As seen above, we created training and testing portions of the dataset, with 20% of the dataset being partitioned into testing, fit the model to the training data, and find the predicted outputs for the testing set. We then aimed to show which features were the most influential. We did this by printing the features that were given the most weight within the model. After ordering the features by order of their weight, we can determine the top five features that have the most weight in predicting whether the CCRB determines a complaint to be substantiated or unsubstantiated. We can see that the most influential feature, when considering if the complaint is substantiated or not, is dependent on the gender of the impacted person and the gender of the officer in question. Now, we simply take the same X_test, X_train datasets, extract the top five features that have the most weight according to the output above. Now, we perform the same training process, but we only use the five columns that have the most weight."
   ],
   "metadata": {
    "collapsed": false
   }
  },
  {
   "cell_type": "code",
   "execution_count": 37,
   "outputs": [],
   "source": [
    "# take \"impactedgender\", \"officergender\", \"officerrace\", \"contactoutcome\", and \"impactedrace\" features and redo logistic regression model\n",
    "ccrb_5percent = ccrb.head(int(ccrb.shape[0] * 0.05)).loc[:, [\"impactedgender\", \"officergender\", \"officerrace\", \"contactoutcome\", \"impactedrace\", \"ccrbdisposition\"]]\n",
    "ccrb_5percent = pd.get_dummies(ccrb_5percent, columns = [\"impactedgender\", \"officergender\", \"officerrace\", \"contactoutcome\", \"impactedrace\"])\n",
    "X = ccrb_5percent.drop(columns = [\"ccrbdisposition\"])\n",
    "y = ccrb_5percent[\"ccrbdisposition\"]\n",
    "X_train, X_test, y_train, y_test = train_test_split(X, y, test_size = 0.2, shuffle = False)\n",
    "\n",
    "model = LogisticRegression(max_iter = 10000)\n",
    "model.fit(X_train, y_train)\n",
    "y_pred = model.predict(X_test)"
   ],
   "metadata": {
    "collapsed": false
   }
  },
  {
   "cell_type": "markdown",
   "source": [
    "When looking at the precision value as shown below, we are testing the likelihood that a positive prediction is correct. Since our model has a precision of 91.2%, we can see that if the model predicts that a complaint has been substantiated, the actual result is also that the complaint is substantiated 91.2% of the time."
   ],
   "metadata": {
    "collapsed": false
   }
  },
  {
   "cell_type": "code",
   "execution_count": 38,
   "outputs": [
    {
     "name": "stderr",
     "output_type": "stream",
     "text": [
      "/var/folders/l2/xv51rkfn63jbsv89xfpxyyw40000gn/T/ipykernel_44966/2822393716.py:3: RuntimeWarning: invalid value encountered in long_scalars\n",
      "  precision = tp/(tp + fp)\n"
     ]
    },
    {
     "data": {
      "text/plain": "nan"
     },
     "execution_count": 38,
     "metadata": {},
     "output_type": "execute_result"
    }
   ],
   "source": [
    "# calculate precision value for logistic regression after calculating the confusion matrix\n",
    "tn, fp, fn, tp = confusion_matrix(y_test, y_pred).ravel()\n",
    "precision = tp/(tp + fp)\n",
    "precision"
   ],
   "metadata": {
    "collapsed": false
   }
  },
  {
   "cell_type": "markdown",
   "source": [
    "When looking at the recall value as shown below, we are testing the likelihood that a true positive is predicted positive. Since our model has a recall of 100%, we can see that 100% of the time that the complaint is substantiated, the model correctly predicts that the complaint is substantiated."
   ],
   "metadata": {
    "collapsed": false
   }
  },
  {
   "cell_type": "code",
   "execution_count": 39,
   "outputs": [
    {
     "data": {
      "text/plain": "0.0"
     },
     "execution_count": 39,
     "metadata": {},
     "output_type": "execute_result"
    }
   ],
   "source": [
    "# calculate recall value for logistic regression\n",
    "recall = tp/(tp + fn)\n",
    "recall"
   ],
   "metadata": {
    "collapsed": false
   }
  },
  {
   "cell_type": "markdown",
   "source": [
    "When considering the F-1 score of the data displayed below, we are calculating the harmonic mean between the precision and the recall. That is, when considering both the importance of a prediction being positive when the actual result is positive and the prediction being positive without having false negatives, we can see a combined score of 95.4%."
   ],
   "metadata": {
    "collapsed": false
   }
  },
  {
   "cell_type": "code",
   "execution_count": 40,
   "outputs": [
    {
     "data": {
      "text/plain": "nan"
     },
     "execution_count": 40,
     "metadata": {},
     "output_type": "execute_result"
    }
   ],
   "source": [
    "# calcualte f1 score based on precision and recall for logistic regression\n",
    "f1 = (2 * precision * recall) / (precision + recall)\n",
    "f1"
   ],
   "metadata": {
    "collapsed": false
   }
  },
  {
   "cell_type": "markdown",
   "source": [
    "### K-Nearest Neighbors"
   ],
   "metadata": {
    "collapsed": false
   }
  },
  {
   "cell_type": "markdown",
   "source": [
    "We can now move on to developing our second machine learning model: K-Nearest Neighbors (k-NN). Instead of choosing a 5% subset of our data and one-hot encoding our categorical variables like in logistic regression, kNN enables us to transform the categorical variables of 100% of our data while ensuring quicker processing by using label encoding. Label encoding is generally preferred over one-hot encoding in k-NN because k-NN is a distance-based algorithm, and one-hot encoding can create a large number of binary features, which can lead to the curse of dimensionality. The distance metric can become less meaningful as the number of dimensions increases, making it harder for the algorithm to find meaningful patterns in the data. Label encoding, on the other hand, assigns a unique integer value to each category, which is used in the distance calculation. This reduces the number of dimensions in the dataset and helps to avoid the curse, while also leading to much quicker processing times than other algorithms.\n",
    "\n",
    "After encoding, we need to standardize the numerical variables to ensure that the distance metric is not dominated by variables with larger magnitudes. Standardization ensures that each variable is on the same scale by subtracting the mean and dividing by the standard deviation. This process allows the kNN algorithm to give equal weight to all variables, regardless of their original scales. Once scaled, we proceed to split the data into training and test sets, fit the model, and evaluate the results with the known metrics of accuracy, precision, recall, and F1-score."
   ],
   "metadata": {
    "collapsed": false
   }
  },
  {
   "cell_type": "code",
   "execution_count": 42,
   "outputs": [
    {
     "name": "stdout",
     "output_type": "stream",
     "text": [
      "Accuracy: 0.9232063181503662\n",
      "Confusion matrix:\n",
      " [[77152   725]\n",
      " [ 5712   233]]\n",
      "Precision: [0.93106777 0.24321503]\n",
      "Recall: [0.99069045 0.0391926 ]\n",
      "F1 Score: [0.95995421 0.06750688]\n"
     ]
    },
    {
     "data": {
      "text/plain": "<IPython.core.display.HTML object>",
      "text/html": "\n    <style>\n    table.eli5-weights tr:hover {\n        filter: brightness(85%);\n    }\n</style>\n\n\n\n    \n\n    \n\n    \n\n    \n\n    \n\n    \n\n\n    \n\n    \n\n    \n\n    \n\n    \n\n    \n\n\n    \n\n    \n\n    \n\n    \n\n    \n        <table class=\"eli5-weights eli5-feature-importances\" style=\"border-collapse: collapse; border: none; margin-top: 0em; table-layout: auto;\">\n    <thead>\n    <tr style=\"border: none;\">\n        <th style=\"padding: 0 1em 0 0.5em; text-align: right; border: none;\">Weight</th>\n        <th style=\"padding: 0 0.5em 0 0.5em; text-align: left; border: none;\">Feature</th>\n    </tr>\n    </thead>\n    <tbody>\n    \n        <tr style=\"background-color: hsl(120, 100.00%, 80.00%); border: none;\">\n            <td style=\"padding: 0 1em 0 0.5em; text-align: right; border: none;\">\n                0.0036\n                \n                    &plusmn; 0.0008\n                \n            </td>\n            <td style=\"padding: 0 0.5em 0 0.5em; text-align: left; border: none;\">\n                incidentcommand\n            </td>\n        </tr>\n    \n        <tr style=\"background-color: hsl(120, 100.00%, 86.62%); border: none;\">\n            <td style=\"padding: 0 1em 0 0.5em; text-align: right; border: none;\">\n                0.0020\n                \n                    &plusmn; 0.0007\n                \n            </td>\n            <td style=\"padding: 0 0.5em 0 0.5em; text-align: left; border: none;\">\n                incidentprecinct\n            </td>\n        </tr>\n    \n        <tr style=\"background-color: hsl(120, 100.00%, 90.22%); border: none;\">\n            <td style=\"padding: 0 1em 0 0.5em; text-align: right; border: none;\">\n                0.0013\n                \n                    &plusmn; 0.0003\n                \n            </td>\n            <td style=\"padding: 0 0.5em 0 0.5em; text-align: left; border: none;\">\n                currentcommand\n            </td>\n        </tr>\n    \n        <tr style=\"background-color: hsl(120, 100.00%, 92.08%); border: none;\">\n            <td style=\"padding: 0 1em 0 0.5em; text-align: right; border: none;\">\n                0.0010\n                \n                    &plusmn; 0.0007\n                \n            </td>\n            <td style=\"padding: 0 0.5em 0 0.5em; text-align: left; border: none;\">\n                contactoutcome\n            </td>\n        </tr>\n    \n        <tr style=\"background-color: hsl(120, 100.00%, 92.73%); border: none;\">\n            <td style=\"padding: 0 1em 0 0.5em; text-align: right; border: none;\">\n                0.0008\n                \n                    &plusmn; 0.0004\n                \n            </td>\n            <td style=\"padding: 0 0.5em 0 0.5em; text-align: left; border: none;\">\n                contactreason\n            </td>\n        </tr>\n    \n        <tr style=\"background-color: hsl(120, 100.00%, 93.44%); border: none;\">\n            <td style=\"padding: 0 1em 0 0.5em; text-align: right; border: none;\">\n                0.0007\n                \n                    &plusmn; 0.0006\n                \n            </td>\n            <td style=\"padding: 0 0.5em 0 0.5em; text-align: left; border: none;\">\n                allegation\n            </td>\n        </tr>\n    \n        <tr style=\"background-color: hsl(120, 100.00%, 97.32%); border: none;\">\n            <td style=\"padding: 0 1em 0 0.5em; text-align: right; border: none;\">\n                0.0002\n                \n                    &plusmn; 0.0002\n                \n            </td>\n            <td style=\"padding: 0 0.5em 0 0.5em; text-align: left; border: none;\">\n                currentranklong\n            </td>\n        </tr>\n    \n        <tr style=\"background-color: hsl(120, 100.00%, 98.68%); border: none;\">\n            <td style=\"padding: 0 1em 0 0.5em; text-align: right; border: none;\">\n                0.0001\n                \n                    &plusmn; 0.0002\n                \n            </td>\n            <td style=\"padding: 0 0.5em 0 0.5em; text-align: left; border: none;\">\n                impactedage\n            </td>\n        </tr>\n    \n        <tr style=\"background-color: hsl(120, 100.00%, 98.83%); border: none;\">\n            <td style=\"padding: 0 1em 0 0.5em; text-align: right; border: none;\">\n                0.0001\n                \n                    &plusmn; 0.0002\n                \n            </td>\n            <td style=\"padding: 0 0.5em 0 0.5em; text-align: left; border: none;\">\n                impactedgender\n            </td>\n        </tr>\n    \n        <tr style=\"background-color: hsl(0, 100.00%, 99.28%); border: none;\">\n            <td style=\"padding: 0 1em 0 0.5em; text-align: right; border: none;\">\n                -0.0000\n                \n                    &plusmn; 0.0002\n                \n            </td>\n            <td style=\"padding: 0 0.5em 0 0.5em; text-align: left; border: none;\">\n                incidentranklong\n            </td>\n        </tr>\n    \n        <tr style=\"background-color: hsl(0, 100.00%, 98.96%); border: none;\">\n            <td style=\"padding: 0 1em 0 0.5em; text-align: right; border: none;\">\n                -0.0001\n                \n                    &plusmn; 0.0001\n                \n            </td>\n            <td style=\"padding: 0 0.5em 0 0.5em; text-align: left; border: none;\">\n                officerrace\n            </td>\n        </tr>\n    \n        <tr style=\"background-color: hsl(0, 100.00%, 98.86%); border: none;\">\n            <td style=\"padding: 0 1em 0 0.5em; text-align: right; border: none;\">\n                -0.0001\n                \n                    &plusmn; 0.0001\n                \n            </td>\n            <td style=\"padding: 0 0.5em 0 0.5em; text-align: left; border: none;\">\n                fadotype\n            </td>\n        </tr>\n    \n        <tr style=\"background-color: hsl(0, 100.00%, 98.65%); border: none;\">\n            <td style=\"padding: 0 1em 0 0.5em; text-align: right; border: none;\">\n                -0.0001\n                \n                    &plusmn; 0.0001\n                \n            </td>\n            <td style=\"padding: 0 0.5em 0 0.5em; text-align: left; border: none;\">\n                officergender\n            </td>\n        </tr>\n    \n        <tr style=\"background-color: hsl(0, 100.00%, 98.62%); border: none;\">\n            <td style=\"padding: 0 1em 0 0.5em; text-align: right; border: none;\">\n                -0.0001\n                \n                    &plusmn; 0.0002\n                \n            </td>\n            <td style=\"padding: 0 0.5em 0 0.5em; text-align: left; border: none;\">\n                daysonforce\n            </td>\n        </tr>\n    \n        <tr style=\"background-color: hsl(0, 100.00%, 98.10%); border: none;\">\n            <td style=\"padding: 0 1em 0 0.5em; text-align: right; border: none;\">\n                -0.0001\n                \n                    &plusmn; 0.0001\n                \n            </td>\n            <td style=\"padding: 0 0.5em 0 0.5em; text-align: left; border: none;\">\n                status\n            </td>\n        </tr>\n    \n        <tr style=\"background-color: hsl(0, 100.00%, 96.60%); border: none;\">\n            <td style=\"padding: 0 1em 0 0.5em; text-align: right; border: none;\">\n                -0.0003\n                \n                    &plusmn; 0.0003\n                \n            </td>\n            <td style=\"padding: 0 0.5em 0 0.5em; text-align: left; border: none;\">\n                impactedrace\n            </td>\n        </tr>\n    \n    \n    </tbody>\n</table>\n    \n\n    \n\n\n    \n\n    \n\n    \n\n    \n\n    \n\n    \n\n\n\n"
     },
     "execution_count": 42,
     "metadata": {},
     "output_type": "execute_result"
    }
   ],
   "source": [
    "import pandas as pd\n",
    "import numpy as np\n",
    "from sklearn.preprocessing import LabelEncoder, StandardScaler\n",
    "from sklearn.model_selection import train_test_split\n",
    "from sklearn.neighbors import KNeighborsClassifier\n",
    "from sklearn.metrics import accuracy_score, confusion_matrix, precision_recall_fscore_support\n",
    "\n",
    "\n",
    "# Encode categorical variables\n",
    "le = LabelEncoder()\n",
    "ccrb_knn['officerrace'] = le.fit_transform(ccrb_knn['officerrace'])\n",
    "ccrb_knn['officergender'] = le.fit_transform(ccrb_knn['officergender'])\n",
    "ccrb_knn['currentranklong'] = le.fit_transform(ccrb_knn['currentranklong'])\n",
    "ccrb_knn['currentcommand'] = le.fit_transform(ccrb_knn['currentcommand'])\n",
    "ccrb_knn['incidentranklong'] = le.fit_transform(ccrb_knn['incidentranklong'])\n",
    "ccrb_knn['incidentcommand'] = le.fit_transform(ccrb_knn['incidentcommand'])\n",
    "ccrb_knn['status'] = le.fit_transform(ccrb_knn['status'])\n",
    "ccrb_knn['fadotype'] = le.fit_transform(ccrb_knn['fadotype'])\n",
    "ccrb_knn['allegation'] = le.fit_transform(ccrb_knn['allegation'])\n",
    "ccrb_knn['contactreason'] = le.fit_transform(ccrb_knn['contactreason'])\n",
    "ccrb_knn['contactoutcome'] = le.fit_transform(ccrb_knn['contactoutcome'])\n",
    "ccrb_knn['incidentprecinct'] = le.fit_transform(ccrb_knn['incidentprecinct'])\n",
    "ccrb_knn['impactedrace'] = le.fit_transform(ccrb_knn['impactedrace'])\n",
    "ccrb_knn['impactedgender'] = le.fit_transform(ccrb_knn['impactedgender'])\n",
    "\n",
    "ccrb_knn = ccrb_knn.fillna(0)\n",
    "\n",
    "# Scale numerical variables\n",
    "scaler = StandardScaler()\n",
    "ccrb_knn[['daysonforce', 'impactedage']] = scaler.fit_transform(ccrb_knn[['daysonforce', 'impactedage']])\n",
    "\n",
    "# Split the dataset into training and testing sets\n",
    "X = ccrb_knn.drop('ccrbdisposition', axis=1)\n",
    "y = ccrb_knn['ccrbdisposition']\n",
    "X_train, X_test, y_train, y_test = train_test_split(X, y, test_size=0.2, random_state=42)\n",
    "\n",
    "# Build the k-NN model\n",
    "knn = KNeighborsClassifier(n_neighbors=5)\n",
    "knn.fit(X_train, y_train)\n",
    "\n",
    "# Make predictions on the testing set\n",
    "y_pred = knn.predict(X_test)\n",
    "\n",
    "# Evaluate the model's performance\n",
    "accuracy = accuracy_score(y_test, y_pred)\n",
    "confusion_mat = confusion_matrix(y_test, y_pred)\n",
    "precision, recall, f1_score, support = precision_recall_fscore_support(y_test, y_pred)\n",
    "\n",
    "print('Accuracy:', accuracy)\n",
    "print('Confusion matrix:\\n', confusion_mat)\n",
    "print('Precision:', precision[0])\n",
    "print('Recall:', recall[0])\n",
    "print('F1 Score:', f1_score[0])\n",
    "\n",
    "# Get feature importance scores with permutation importance\n",
    "perm = PermutationImportance(knn, random_state=42).fit(X_test, y_test)\n",
    "eli5.show_weights(perm, feature_names=X_test.columns.tolist())"
   ],
   "metadata": {
    "collapsed": false
   }
  },
  {
   "cell_type": "markdown",
   "source": [
    "Our k-NN model scored around a 92.3% accuracy, 93.1% precision, 99% recall, and a 96% F1-score. We chose to value the first precision, recall, and F1-score metric shown in the three vectors above, as the second recorded value corresponds to unsubstantiated instances. Since our project focuses on predicting whether a civilian complaint is substantiated, the unsubstantiated metric scores are not of importance to us. This model also tell us that our most valuable features are `incidentcommand`, `incidentprecinct`, `currentcommand` `contactoutcome`, `contactreason`, and `allegation`. These are the features we will use in our next k-NN model below, while keeping the value of k the same (for now)."
   ],
   "metadata": {
    "collapsed": false
   }
  },
  {
   "cell_type": "code",
   "execution_count": 46,
   "outputs": [],
   "source": [
    "ccrb_knn_new = ccrb.copy()\n",
    "ccrb_knn_new = ccrb_knn_new.loc[:, ['incidentcommand', 'incidentprecinct', 'currentcommand', 'contactoutcome', 'contactreason', 'allegation', 'ccrbdisposition']]"
   ],
   "metadata": {
    "collapsed": false
   }
  },
  {
   "cell_type": "code",
   "execution_count": 48,
   "outputs": [
    {
     "name": "stdout",
     "output_type": "stream",
     "text": [
      "Accuracy: 0.9236238696284985\n",
      "Confusion matrix:\n",
      " [[77193   684]\n",
      " [ 5718   227]]\n",
      "Precision: 0.9310344827586207\n",
      "Recall: 0.9912169189876343\n",
      "F1 Score: 0.9601835957907305\n"
     ]
    }
   ],
   "source": [
    "# Encode categorical variables\n",
    "le = LabelEncoder()\n",
    "ccrb_knn_new['currentcommand'] = le.fit_transform(ccrb_knn['currentcommand'])\n",
    "ccrb_knn_new['incidentcommand'] = le.fit_transform(ccrb_knn['incidentcommand'])\n",
    "ccrb_knn_new['allegation'] = le.fit_transform(ccrb_knn['allegation'])\n",
    "ccrb_knn_new['contactreason'] = le.fit_transform(ccrb_knn['contactreason'])\n",
    "ccrb_knn_new['contactoutcome'] = le.fit_transform(ccrb_knn['contactoutcome'])\n",
    "ccrb_knn_new['incidentprecinct'] = le.fit_transform(ccrb_knn['incidentprecinct'])\n",
    "\n",
    "ccrb_knn_new = ccrb_knn_new.fillna(0)\n",
    "\n",
    "# Split the dataset into training and testing sets\n",
    "X = ccrb_knn_new.drop('ccrbdisposition', axis=1)\n",
    "y = ccrb_knn_new['ccrbdisposition']\n",
    "X_train, X_test, y_train, y_test = train_test_split(X, y, test_size=0.2, random_state=42)\n",
    "\n",
    "# Build the k-NN model\n",
    "knn = KNeighborsClassifier(n_neighbors=5)\n",
    "knn.fit(X_train, y_train)\n",
    "\n",
    "# Make predictions on the testing set\n",
    "y_pred = knn.predict(X_test)\n",
    "\n",
    "# Evaluate the model's performance\n",
    "accuracy = accuracy_score(y_test, y_pred)\n",
    "confusion_mat = confusion_matrix(y_test, y_pred)\n",
    "precision, recall, f1_score, support = precision_recall_fscore_support(y_test, y_pred)\n",
    "\n",
    "print('Accuracy:', accuracy)\n",
    "print('Confusion matrix:\\n', confusion_mat)\n",
    "print('Precision:', precision[0])\n",
    "print('Recall:', recall[0])\n",
    "print('F1 Score:', f1_score[0])"
   ],
   "metadata": {
    "collapsed": false
   }
  },
  {
   "cell_type": "markdown",
   "source": [
    "Our model with the most valuable features achieved a 92.4% accuracy score, 93.1% precision, 99.1% recall, and 96% F1-score. We also chose to silence the second value in our evaluation metrics that previously corresponded with unsubstantiated predictions for the ease of understanding.\n",
    "\n",
    "Once again, both versions of the model used 5 nearest neighbors, a hyperparameter that can be tuned to best-fit our data. We chose to initially use a k-value of 5 just to get a general idea of how the k-NN algorithm works on our dataset and gather some results regarding overall performance and feature permutation, all while using a smaller, computationally-friendly value of k. However, we know that there is always room for improvement, which is why we conduct the GridSearch below.\n",
    "\n",
    "The `GridSearchCV` library enables us to search over multiple k-NN models, each with a differing value of nearest neighbors, and pick out the highest performing hyperparameter to use on our k-NN model. After the best k-value is chosen, we can run our Nearest Neighbors algorithm once more and gather the accuracy scores using the newly defined k."
   ],
   "metadata": {
    "collapsed": false
   }
  },
  {
   "cell_type": "code",
   "execution_count": 41,
   "outputs": [
    {
     "name": "stdout",
     "output_type": "stream",
     "text": [
      "Best hyperparameters: {'n_neighbors': 11}\n",
      "Accuracy: 0.9285390470282264\n",
      "Confusion matrix:\n",
      " [[77773   104]\n",
      " [ 5886    59]]\n",
      "Precision: 0.9296429553305682\n",
      "Recall: 0.9986645607817456\n",
      "F1 Score: 0.9629184825673535\n"
     ]
    }
   ],
   "source": [
    "from sklearn.model_selection import GridSearchCV\n",
    "\n",
    "# Define the parameter grid to search over\n",
    "param_grid = {'n_neighbors': [3, 5, 7, 9, 11]}\n",
    "\n",
    "# Create the GridSearchCV object\n",
    "knn_cv = GridSearchCV(KNeighborsClassifier(), param_grid, cv=5)\n",
    "\n",
    "# Fit the model to the training data\n",
    "knn_cv.fit(X_train, y_train)\n",
    "\n",
    "# Print the best hyperparameters found by GridSearchCV\n",
    "print(\"Best hyperparameters:\", knn_cv.best_params_)\n",
    "\n",
    "# Make predictions on the testing set using the best model\n",
    "y_pred = knn_cv.predict(X_test)\n",
    "\n",
    "# Evaluate the model's performance\n",
    "accuracy = accuracy_score(y_test, y_pred)\n",
    "confusion_mat = confusion_matrix(y_test, y_pred)\n",
    "precision, recall, f1_score, support = precision_recall_fscore_support(y_test, y_pred)\n",
    "\n",
    "print('Accuracy:', accuracy)\n",
    "print('Confusion matrix:\\n', confusion_mat)\n",
    "print('Precision:', precision[0])\n",
    "print('Recall:', recall[0])\n",
    "print('F1 Score:', f1_score[0])"
   ],
   "metadata": {
    "collapsed": false
   }
  },
  {
   "cell_type": "markdown",
   "source": [
    "Our GridSearch revealed that the best-tuned value of k when working with our dataset is 11. After running the algorithm once again, we achieved 92.9% accuracy, 93% precision, almost 99.9% recall, and an F1-score of 96.3% when k = 11. Below, is our final version of the k-NN algorithm for our project, which uses our optimized k-value of 11 and the most valuable features calculated with `eli5`."
   ],
   "metadata": {
    "collapsed": false
   }
  },
  {
   "cell_type": "code",
   "execution_count": 97,
   "outputs": [
    {
     "name": "stdout",
     "output_type": "stream",
     "text": [
      "Accuracy: 0.9285266906461946\n",
      "Confusion matrix:\n",
      " [[51843    84]\n",
      " [ 3910    44]]\n",
      "Precision: 0.9298692447043209\n",
      "Recall: 0.9983823444450863\n",
      "F1 Score: 0.962908618127786\n"
     ]
    }
   ],
   "source": [
    "# Split the dataset into training and testing sets\n",
    "X = ccrb_knn_new.drop('ccrbdisposition', axis=1)\n",
    "y = ccrb_knn_new['ccrbdisposition']\n",
    "X_train, X_test, y_train, y_test = train_test_split(X, y, test_size=0.2, random_state=42)\n",
    "\n",
    "# Build the k-NN model\n",
    "knn = KNeighborsClassifier(n_neighbors=11)\n",
    "knn.fit(X_train, y_train)\n",
    "\n",
    "# Make predictions on the testing set\n",
    "y_pred = knn.predict(X_test)\n",
    "\n",
    "# Evaluate the model's performance\n",
    "accuracy = accuracy_score(y_test, y_pred)\n",
    "confusion_mat = confusion_matrix(y_test, y_pred)\n",
    "precision, recall, f1_score, support = precision_recall_fscore_support(y_test, y_pred)\n",
    "\n",
    "print('Accuracy:', accuracy)\n",
    "print('Confusion matrix:\\n', confusion_mat)\n",
    "print('Precision:', precision[0])\n",
    "print('Recall:', recall[0])\n",
    "print('F1 Score:', f1_score[0])"
   ],
   "metadata": {
    "collapsed": false
   }
  },
  {
   "cell_type": "markdown",
   "source": [
    "This model achieved a 92.9% accuracy, 93% precision, 99.8% recall, and 96.3% F1-score."
   ],
   "metadata": {
    "collapsed": false
   }
  },
  {
   "cell_type": "markdown",
   "source": [
    "### Random Forest Classifier"
   ],
   "metadata": {
    "collapsed": false
   }
  },
  {
   "cell_type": "markdown",
   "source": [
    "We can move on to our next model, which is a Random Forest Classifier. We start development by one-hot encoding our categorical variables since random forest requires numerical values for computation, following a very similar approach to that of our logistic regression model. Since we have several categorical variables with more than two instances, one-hot is the preferred encoding method over label encoding. After this step, we select our target variable of `ccrbdisposition`, split the model into training and testing sets, fit the model, and evaluate it with the metrics used previously. One thing to note is setting `n_estimators` to 100. This is a hyperparameter that determines the number of decision trees in the random forest model. Increasing the number of trees can improve the model's accuracy, but it also increases the computation time. A value of 100 is a good starting point, but the optimal value may vary depending on the dataset and the problem at hand. Therefore, our results below can potentially be improved if we spend more time tuning `n_estimators`."
   ],
   "metadata": {
    "collapsed": false
   }
  },
  {
   "cell_type": "code",
   "execution_count": 25,
   "outputs": [
    {
     "name": "stdout",
     "output_type": "stream",
     "text": [
      "Accuracy: 0.9316046599022924\n",
      "Confusion Matrix:\n",
      " [[51719   208]\n",
      " [ 3614   340]]\n",
      "Precision: 0.6204379562043796\n",
      "Recall: 0.08598887202832575\n",
      "F1-Score: 0.15104398045313197\n"
     ]
    }
   ],
   "source": [
    "from sklearn.ensemble import RandomForestClassifier\n",
    "from sklearn.model_selection import train_test_split\n",
    "from sklearn.metrics import accuracy_score, confusion_matrix, precision_score, recall_score, f1_score\n",
    "\n",
    "# create a copy of the dataframe\n",
    "ccrb_rf = ccrb.copy()\n",
    "\n",
    "# convert categorical features to dummy variables\n",
    "ccrb_rf = pd.get_dummies(ccrb_rf, columns=['officerrace', 'officergender', 'currentranklong', 'currentcommand',\n",
    "       'incidentranklong', 'incidentcommand', 'status',\n",
    "       'fadotype', 'allegation', 'contactreason',\n",
    "       'contactoutcome', 'incidentprecinct', 'impactedrace', 'impactedgender',])\n",
    "\n",
    "# fill in missing values with 0\n",
    "ccrb_rf = ccrb_rf.fillna(0)\n",
    "\n",
    "# select the features and target variable\n",
    "features = [col for col in ccrb_rf.columns if col != 'ccrbdisposition']\n",
    "target = 'ccrbdisposition'\n",
    "\n",
    "# split the data into training and testing sets\n",
    "train, test = train_test_split(ccrb_rf, test_size=0.2, random_state=42)\n",
    "\n",
    "# create the random forest model\n",
    "rf = RandomForestClassifier(n_estimators=100, random_state=42)\n",
    "\n",
    "# fit the model to the training data\n",
    "rf.fit(train[features], train[target])\n",
    "\n",
    "# make predictions on the testing data\n",
    "preds = rf.predict(test[features])\n",
    "\n",
    "# evaluate the accuracy of the model\n",
    "accuracy = accuracy_score(test[target], preds)\n",
    "print(\"Accuracy:\", accuracy)\n",
    "\n",
    "# print the confusion matrix\n",
    "cm = confusion_matrix(test[target], preds)\n",
    "print(\"Confusion Matrix:\\n\", cm)\n",
    "\n",
    "# print precision, recall, and f1-score\n",
    "precision = precision_score(test[target], preds)\n",
    "recall = recall_score(test[target], preds)\n",
    "f1 = f1_score(test[target], preds)\n",
    "print(\"Precision:\", precision)\n",
    "print(\"Recall:\", recall)\n",
    "print(\"F1-Score:\", f1)"
   ],
   "metadata": {
    "collapsed": false
   }
  },
  {
   "cell_type": "markdown",
   "source": [
    "Our Random Forest model (with 100 decision trees) achieved an accuracy of 93.2%, precision of 62%, recall of 8.6%, and F1-score of 15.1%. Since Random Forest models have built-in feature importance, we do not have to use the `Eli5` library to determine our most valuable features."
   ],
   "metadata": {
    "collapsed": false
   }
  },
  {
   "cell_type": "code",
   "execution_count": 26,
   "outputs": [
    {
     "name": "stdout",
     "output_type": "stream",
     "text": [
      "Top 10 feature importances:\n",
      "daysonforce: 0.07960240775954988\n",
      "impactedage: 0.041837625775933196\n",
      "officerrace_white: 0.01561408244231953\n",
      "officerrace_hispanic: 0.01313246378093254\n",
      "currentranklong_police officer: 0.010870153232582936\n",
      "currentranklong_sergeant: 0.010690423539045655\n",
      "contactoutcome_no arrest made or summons issued: 0.0099993017325874\n",
      "officerrace_black: 0.009994396397344845\n",
      "currentranklong_detective: 0.00955066028311275\n",
      "impactedrace_black: 0.008570541990271739\n"
     ]
    }
   ],
   "source": [
    "importances = rf.feature_importances_\n",
    "sorted_importances = sorted(zip(features, importances), key=lambda x: x[1], reverse=True)[:10]\n",
    "print(\"Top 10 feature importances:\")\n",
    "for feature, importance in sorted_importances:\n",
    "    print(\"{}: {}\".format(feature, importance))"
   ],
   "metadata": {
    "collapsed": false
   }
  },
  {
   "cell_type": "markdown",
   "source": [
    "Above are the top 10 features that our Random Forest model calculated. While we understand that hyperparameter tuning can be beneficial to creating a stronger Forest model, we tried three different instances of `GridSearch` in an effort to find the best hyperparameters for our task. However, all three instances, no matter how small we made the search, ended up crashing our notebook kernel due to the expensive computation that comes with Random Forests and `GridSearch` in general. Therefore, while more work can definitely be done with Random Forests in the future, we decided that running another Forest model with our most important features would suffice for our task at hand."
   ],
   "metadata": {
    "collapsed": false
   }
  },
  {
   "cell_type": "code",
   "execution_count": 44,
   "outputs": [
    {
     "ename": "KeyError",
     "evalue": "\"['officerrace_white', 'officerrace_hispanic', 'currentranklong_police officer', 'currentranklong_sergeant', 'contactoutcome_no arrest made or summons issued', 'officerrace_black', 'currentranklong_detective', 'impactedrace_black'] not in index\"",
     "output_type": "error",
     "traceback": [
      "\u001B[0;31m---------------------------------------------------------------------------\u001B[0m",
      "\u001B[0;31mKeyError\u001B[0m                                  Traceback (most recent call last)",
      "Input \u001B[0;32mIn [44]\u001B[0m, in \u001B[0;36m<cell line: 15>\u001B[0;34m()\u001B[0m\n\u001B[1;32m      9\u001B[0m top_features \u001B[38;5;241m=\u001B[39m [\u001B[38;5;124m'\u001B[39m\u001B[38;5;124mdaysonforce\u001B[39m\u001B[38;5;124m'\u001B[39m, \u001B[38;5;124m'\u001B[39m\u001B[38;5;124mimpactedage\u001B[39m\u001B[38;5;124m'\u001B[39m, \u001B[38;5;124m'\u001B[39m\u001B[38;5;124mofficerrace_white\u001B[39m\u001B[38;5;124m'\u001B[39m, \u001B[38;5;124m'\u001B[39m\u001B[38;5;124mofficerrace_hispanic\u001B[39m\u001B[38;5;124m'\u001B[39m,\n\u001B[1;32m     10\u001B[0m                 \u001B[38;5;124m'\u001B[39m\u001B[38;5;124mcurrentranklong_police officer\u001B[39m\u001B[38;5;124m'\u001B[39m, \u001B[38;5;124m'\u001B[39m\u001B[38;5;124mcurrentranklong_sergeant\u001B[39m\u001B[38;5;124m'\u001B[39m,\n\u001B[1;32m     11\u001B[0m                 \u001B[38;5;124m'\u001B[39m\u001B[38;5;124mcontactoutcome_no arrest made or summons issued\u001B[39m\u001B[38;5;124m'\u001B[39m, \u001B[38;5;124m'\u001B[39m\u001B[38;5;124mofficerrace_black\u001B[39m\u001B[38;5;124m'\u001B[39m,\n\u001B[1;32m     12\u001B[0m                 \u001B[38;5;124m'\u001B[39m\u001B[38;5;124mcurrentranklong_detective\u001B[39m\u001B[38;5;124m'\u001B[39m, \u001B[38;5;124m'\u001B[39m\u001B[38;5;124mimpactedrace_black\u001B[39m\u001B[38;5;124m'\u001B[39m]\n\u001B[1;32m     14\u001B[0m \u001B[38;5;66;03m# subset the dataset to include only the top features and target variable\u001B[39;00m\n\u001B[0;32m---> 15\u001B[0m ccrb_rf_2 \u001B[38;5;241m=\u001B[39m \u001B[43mccrb_rf_2\u001B[49m\u001B[43m[\u001B[49m\u001B[43mtop_features\u001B[49m\u001B[43m \u001B[49m\u001B[38;5;241;43m+\u001B[39;49m\u001B[43m \u001B[49m\u001B[43m[\u001B[49m\u001B[38;5;124;43m'\u001B[39;49m\u001B[38;5;124;43mccrbdisposition\u001B[39;49m\u001B[38;5;124;43m'\u001B[39;49m\u001B[43m]\u001B[49m\u001B[43m]\u001B[49m\n\u001B[1;32m     17\u001B[0m \u001B[38;5;66;03m# convert categorical features to dummy variables\u001B[39;00m\n\u001B[1;32m     18\u001B[0m ccrb_rf_2 \u001B[38;5;241m=\u001B[39m pd\u001B[38;5;241m.\u001B[39mget_dummies(ccrb_rf_2, columns\u001B[38;5;241m=\u001B[39m[\u001B[38;5;124m'\u001B[39m\u001B[38;5;124mofficerrace_black\u001B[39m\u001B[38;5;124m'\u001B[39m, \u001B[38;5;124m'\u001B[39m\u001B[38;5;124mofficerrace_hispanic\u001B[39m\u001B[38;5;124m'\u001B[39m, \u001B[38;5;124m'\u001B[39m\u001B[38;5;124mofficerrace_white\u001B[39m\u001B[38;5;124m'\u001B[39m,\n\u001B[1;32m     19\u001B[0m                                            \u001B[38;5;124m'\u001B[39m\u001B[38;5;124mcurrentranklong_detective\u001B[39m\u001B[38;5;124m'\u001B[39m, \u001B[38;5;124m'\u001B[39m\u001B[38;5;124mcurrentranklong_police officer\u001B[39m\u001B[38;5;124m'\u001B[39m,\n\u001B[1;32m     20\u001B[0m                                            \u001B[38;5;124m'\u001B[39m\u001B[38;5;124mcurrentranklong_sergeant\u001B[39m\u001B[38;5;124m'\u001B[39m, \u001B[38;5;124m'\u001B[39m\u001B[38;5;124mcontactoutcome_no arrest made or summons issued\u001B[39m\u001B[38;5;124m'\u001B[39m,\n\u001B[1;32m     21\u001B[0m                                            \u001B[38;5;124m'\u001B[39m\u001B[38;5;124mimpactedrace_black\u001B[39m\u001B[38;5;124m'\u001B[39m])\n",
      "File \u001B[0;32m~/opt/anaconda3/lib/python3.9/site-packages/pandas/core/frame.py:3511\u001B[0m, in \u001B[0;36mDataFrame.__getitem__\u001B[0;34m(self, key)\u001B[0m\n\u001B[1;32m   3509\u001B[0m     \u001B[38;5;28;01mif\u001B[39;00m is_iterator(key):\n\u001B[1;32m   3510\u001B[0m         key \u001B[38;5;241m=\u001B[39m \u001B[38;5;28mlist\u001B[39m(key)\n\u001B[0;32m-> 3511\u001B[0m     indexer \u001B[38;5;241m=\u001B[39m \u001B[38;5;28;43mself\u001B[39;49m\u001B[38;5;241;43m.\u001B[39;49m\u001B[43mcolumns\u001B[49m\u001B[38;5;241;43m.\u001B[39;49m\u001B[43m_get_indexer_strict\u001B[49m\u001B[43m(\u001B[49m\u001B[43mkey\u001B[49m\u001B[43m,\u001B[49m\u001B[43m \u001B[49m\u001B[38;5;124;43m\"\u001B[39;49m\u001B[38;5;124;43mcolumns\u001B[39;49m\u001B[38;5;124;43m\"\u001B[39;49m\u001B[43m)\u001B[49m[\u001B[38;5;241m1\u001B[39m]\n\u001B[1;32m   3513\u001B[0m \u001B[38;5;66;03m# take() does not accept boolean indexers\u001B[39;00m\n\u001B[1;32m   3514\u001B[0m \u001B[38;5;28;01mif\u001B[39;00m \u001B[38;5;28mgetattr\u001B[39m(indexer, \u001B[38;5;124m\"\u001B[39m\u001B[38;5;124mdtype\u001B[39m\u001B[38;5;124m\"\u001B[39m, \u001B[38;5;28;01mNone\u001B[39;00m) \u001B[38;5;241m==\u001B[39m \u001B[38;5;28mbool\u001B[39m:\n",
      "File \u001B[0;32m~/opt/anaconda3/lib/python3.9/site-packages/pandas/core/indexes/base.py:5782\u001B[0m, in \u001B[0;36mIndex._get_indexer_strict\u001B[0;34m(self, key, axis_name)\u001B[0m\n\u001B[1;32m   5779\u001B[0m \u001B[38;5;28;01melse\u001B[39;00m:\n\u001B[1;32m   5780\u001B[0m     keyarr, indexer, new_indexer \u001B[38;5;241m=\u001B[39m \u001B[38;5;28mself\u001B[39m\u001B[38;5;241m.\u001B[39m_reindex_non_unique(keyarr)\n\u001B[0;32m-> 5782\u001B[0m \u001B[38;5;28;43mself\u001B[39;49m\u001B[38;5;241;43m.\u001B[39;49m\u001B[43m_raise_if_missing\u001B[49m\u001B[43m(\u001B[49m\u001B[43mkeyarr\u001B[49m\u001B[43m,\u001B[49m\u001B[43m \u001B[49m\u001B[43mindexer\u001B[49m\u001B[43m,\u001B[49m\u001B[43m \u001B[49m\u001B[43maxis_name\u001B[49m\u001B[43m)\u001B[49m\n\u001B[1;32m   5784\u001B[0m keyarr \u001B[38;5;241m=\u001B[39m \u001B[38;5;28mself\u001B[39m\u001B[38;5;241m.\u001B[39mtake(indexer)\n\u001B[1;32m   5785\u001B[0m \u001B[38;5;28;01mif\u001B[39;00m \u001B[38;5;28misinstance\u001B[39m(key, Index):\n\u001B[1;32m   5786\u001B[0m     \u001B[38;5;66;03m# GH 42790 - Preserve name from an Index\u001B[39;00m\n",
      "File \u001B[0;32m~/opt/anaconda3/lib/python3.9/site-packages/pandas/core/indexes/base.py:5845\u001B[0m, in \u001B[0;36mIndex._raise_if_missing\u001B[0;34m(self, key, indexer, axis_name)\u001B[0m\n\u001B[1;32m   5842\u001B[0m     \u001B[38;5;28;01mraise\u001B[39;00m \u001B[38;5;167;01mKeyError\u001B[39;00m(\u001B[38;5;124mf\u001B[39m\u001B[38;5;124m\"\u001B[39m\u001B[38;5;124mNone of [\u001B[39m\u001B[38;5;132;01m{\u001B[39;00mkey\u001B[38;5;132;01m}\u001B[39;00m\u001B[38;5;124m] are in the [\u001B[39m\u001B[38;5;132;01m{\u001B[39;00maxis_name\u001B[38;5;132;01m}\u001B[39;00m\u001B[38;5;124m]\u001B[39m\u001B[38;5;124m\"\u001B[39m)\n\u001B[1;32m   5844\u001B[0m not_found \u001B[38;5;241m=\u001B[39m \u001B[38;5;28mlist\u001B[39m(ensure_index(key)[missing_mask\u001B[38;5;241m.\u001B[39mnonzero()[\u001B[38;5;241m0\u001B[39m]]\u001B[38;5;241m.\u001B[39munique())\n\u001B[0;32m-> 5845\u001B[0m \u001B[38;5;28;01mraise\u001B[39;00m \u001B[38;5;167;01mKeyError\u001B[39;00m(\u001B[38;5;124mf\u001B[39m\u001B[38;5;124m\"\u001B[39m\u001B[38;5;132;01m{\u001B[39;00mnot_found\u001B[38;5;132;01m}\u001B[39;00m\u001B[38;5;124m not in index\u001B[39m\u001B[38;5;124m\"\u001B[39m)\n",
      "\u001B[0;31mKeyError\u001B[0m: \"['officerrace_white', 'officerrace_hispanic', 'currentranklong_police officer', 'currentranklong_sergeant', 'contactoutcome_no arrest made or summons issued', 'officerrace_black', 'currentranklong_detective', 'impactedrace_black'] not in index\""
     ]
    }
   ],
   "source": [
    "from sklearn.ensemble import RandomForestClassifier\n",
    "from sklearn.model_selection import train_test_split\n",
    "from sklearn.metrics import accuracy_score, confusion_matrix, precision_score, recall_score, f1_score\n",
    "\n",
    "# create a copy of the dataframe\n",
    "ccrb_rf_2 = ccrb.copy()\n",
    "\n",
    "# select the top features\n",
    "top_features = ['daysonforce', 'impactedage', 'officerrace_white', 'officerrace_hispanic',\n",
    "                'currentranklong_police officer', 'currentranklong_sergeant',\n",
    "                'contactoutcome_no arrest made or summons issued', 'officerrace_black',\n",
    "                'currentranklong_detective', 'impactedrace_black']\n",
    "\n",
    "# subset the dataset to include only the top features and target variable\n",
    "ccrb_rf_2 = ccrb_rf_2[top_features + ['ccrbdisposition']]\n",
    "\n",
    "# convert categorical features to dummy variables\n",
    "ccrb_rf_2 = pd.get_dummies(ccrb_rf_2, columns=['officerrace_black', 'officerrace_hispanic', 'officerrace_white',\n",
    "                                           'currentranklong_detective', 'currentranklong_police officer',\n",
    "                                           'currentranklong_sergeant', 'contactoutcome_no arrest made or summons issued',\n",
    "                                           'impactedrace_black'])\n",
    "\n",
    "# fill in missing values with 0\n",
    "ccrb_rf_2 = ccrb_rf_2.fillna(0)\n",
    "\n",
    "# split the data into training and testing sets\n",
    "train, test = train_test_split(ccrb_rf_2, test_size=0.2, random_state=42)\n",
    "\n",
    "# create the random forest model\n",
    "rf_2 = RandomForestClassifier(n_estimators=100, random_state=42)\n",
    "\n",
    "# fit the model to the training data\n",
    "rf_2.fit(train[top_features], train['ccrbdisposition'])\n",
    "\n",
    "# make predictions on the testing data\n",
    "preds = rf_2.predict(test[top_features])\n",
    "\n",
    "# evaluate the accuracy of the model\n",
    "accuracy = accuracy_score(test['ccrbdisposition'], preds)\n",
    "print(\"Accuracy:\", accuracy)\n",
    "\n",
    "# print the confusion matrix\n",
    "cm = confusion_matrix(test['ccrbdisposition'], preds)\n",
    "print(\"Confusion Matrix:\\n\", cm)\n",
    "\n",
    "# print precision, recall, and f1-score\n",
    "precision = precision_score(test['ccrbdisposition'], preds)\n",
    "recall = recall_score(test['ccrbdisposition'], preds)\n",
    "f1 = f1_score(test['ccrbdisposition'], preds)\n",
    "print(\"Precision:\", precision)\n",
    "print(\"Recall:\", recall)\n",
    "print(\"F1-Score:\", f1)\n"
   ],
   "metadata": {
    "collapsed": false
   }
  },
  {
   "cell_type": "markdown",
   "source": [
    "Our Random Forest model, with the same 100 decision trees and using our top 10 features, achieved an accuracy of 93.2%, precision of 62%, recall of 8.6%, and F1-score of 15.1%."
   ],
   "metadata": {
    "collapsed": false
   }
  },
  {
   "cell_type": "markdown",
   "source": [
    "We can now move on to our fourth and final model of Gradient Boosting.\n",
    "\n",
    "First, we can separate the data into the respective X and y sets. Due to the imbalanced nature of the dataset, we chose to drop samples containing NA values. We find that most of these samples were unsubstantiated complaints, by removing these samples from the data we create a more even balance between unsubstantiated complaints and substantiated. After removing these rows, we can see that there are 144,635 unsubstantiated samples and 11,778 substantiated samples."
   ],
   "metadata": {
    "collapsed": false
   }
  },
  {
   "cell_type": "code",
   "execution_count": 31,
   "outputs": [
    {
     "name": "stdout",
     "output_type": "stream",
     "text": [
      "(156413, 1725)\n",
      "(156413,)\n"
     ]
    }
   ],
   "source": [
    "X = pd.get_dummies(ccrb, columns = categoricalColumnsList)\n",
    "X = X.dropna()\n",
    "y = X['ccrbdisposition']\n",
    "X = X.drop(columns = ['ccrbdisposition'])\n",
    "print(X.shape)\n",
    "print(y.shape)"
   ],
   "metadata": {
    "collapsed": false
   }
  },
  {
   "cell_type": "code",
   "execution_count": 32,
   "outputs": [
    {
     "data": {
      "text/plain": "0    144635\n1     11778\nName: ccrbdisposition, dtype: int64"
     },
     "execution_count": 32,
     "metadata": {},
     "output_type": "execute_result"
    }
   ],
   "source": [
    "y.value_counts()"
   ],
   "metadata": {
    "collapsed": false
   }
  },
  {
   "cell_type": "markdown",
   "source": [
    "We then break the data into the necessary training and testing sets and create the gradient boosting model. We see the mean accuracy for the model performance on the testing dataset is 91%. That is, 91% of the time the model correctly predicts the outcome of a complaint.\n"
   ],
   "metadata": {
    "collapsed": false
   }
  },
  {
   "cell_type": "code",
   "execution_count": 33,
   "outputs": [],
   "source": [
    "X_train, X_test, y_train, y_test = train_test_split(X, y, test_size = 0.2, shuffle = False)"
   ],
   "metadata": {
    "collapsed": false
   }
  },
  {
   "cell_type": "code",
   "execution_count": 35,
   "outputs": [
    {
     "name": "stdout",
     "output_type": "stream",
     "text": [
      "0.9113895726113225\n"
     ]
    }
   ],
   "source": [
    "from sklearn.ensemble import GradientBoostingClassifier\n",
    "grad = GradientBoostingClassifier(n_estimators=500, learning_rate=1.0,max_depth=1, random_state=0).fit(X_train, y_train)\n",
    "print(grad.score(X_test, y_test))"
   ],
   "metadata": {
    "collapsed": false
   }
  },
  {
   "cell_type": "markdown",
   "source": [
    "For clarity purposes, we can confirm that the model does predict samples to be both substantiated and unsubstantiated. Therefore, we can officially create our gradient boosting model.\n"
   ],
   "metadata": {
    "collapsed": false
   }
  },
  {
   "cell_type": "code",
   "execution_count": 36,
   "outputs": [
    {
     "name": "stdout",
     "output_type": "stream",
     "text": [
      "[0 1]\n"
     ]
    }
   ],
   "source": [
    "y_pred = grad.predict(X_test)\n",
    "tn, fp, fn, tp = confusion_matrix(y_test, y_pred).ravel()\n",
    "print(np.unique(y_pred))"
   ],
   "metadata": {
    "collapsed": false
   }
  },
  {
   "cell_type": "markdown",
   "source": [
    "The first iteration of the gradient boosting model performs quite well, with a high accuracy and an even higher recall score. This implies that the model will almost always predict the true positives within the data."
   ],
   "metadata": {
    "collapsed": false
   }
  },
  {
   "cell_type": "code",
   "execution_count": 37,
   "outputs": [
    {
     "name": "stdout",
     "output_type": "stream",
     "text": [
      "Accuracy: 0.9113895726113225\n",
      "Confusion matrix:\n",
      " [[28505    51]\n",
      " [ 2721     6]]\n",
      "Precision: 0.9128610773073721\n",
      "Recall: 0.9982140355792127\n",
      "F1 Score: 0.9536315278846476\n"
     ]
    }
   ],
   "source": [
    "from sklearn.metrics import accuracy_score, confusion_matrix, precision_recall_fscore_support\n",
    "# Make predictions on the testing set using the best model\n",
    "y_pred = grad.predict(X_test)\n",
    "# Evaluate the model's performance\n",
    "accuracy = accuracy_score(y_test, y_pred)\n",
    "confusion_mat = confusion_matrix(y_test, y_pred)\n",
    "precision, recall, f1_score, support = precision_recall_fscore_support(y_test, y_pred)\n",
    "print('Accuracy:', accuracy)\n",
    "print('Confusion matrix:\\n', confusion_mat)\n",
    "print('Precision:', precision[0])\n",
    "print('Recall:', recall[0])\n",
    "print('F1 Score:', f1_score[0])"
   ],
   "metadata": {
    "collapsed": false
   }
  },
  {
   "cell_type": "markdown",
   "source": [
    "With this model, we can see that the two most important features with regards to predicting the outcome were if the complaint (out of the possible FADO types of use of force, abuse of authority, discourtesy, and offensive language) contained discourtesy, and if the result of the contact did not lead to an arrest.\n"
   ],
   "metadata": {
    "collapsed": false
   }
  },
  {
   "cell_type": "code",
   "execution_count": 39,
   "outputs": [
    {
     "data": {
      "text/plain": "<IPython.core.display.HTML object>",
      "text/html": "\n    <style>\n    table.eli5-weights tr:hover {\n        filter: brightness(85%);\n    }\n</style>\n\n\n\n    \n\n    \n\n    \n\n    \n\n    \n\n    \n\n\n    \n\n    \n\n    \n\n    \n\n    \n\n    \n\n\n    \n\n    \n\n    \n\n    \n\n    \n        <table class=\"eli5-weights eli5-feature-importances\" style=\"border-collapse: collapse; border: none; margin-top: 0em; table-layout: auto;\">\n    <thead>\n    <tr style=\"border: none;\">\n        <th style=\"padding: 0 1em 0 0.5em; text-align: right; border: none;\">Weight</th>\n        <th style=\"padding: 0 0.5em 0 0.5em; text-align: left; border: none;\">Feature</th>\n    </tr>\n    </thead>\n    <tbody>\n    \n        <tr style=\"background-color: hsl(120, 100.00%, 80.00%); border: none;\">\n            <td style=\"padding: 0 1em 0 0.5em; text-align: right; border: none;\">\n                0.0035\n                \n                    &plusmn; 0.0010\n                \n            </td>\n            <td style=\"padding: 0 0.5em 0 0.5em; text-align: left; border: none;\">\n                fadotype_discourtesy\n            </td>\n        </tr>\n    \n        <tr style=\"background-color: hsl(120, 100.00%, 84.26%); border: none;\">\n            <td style=\"padding: 0 1em 0 0.5em; text-align: right; border: none;\">\n                0.0025\n                \n                    &plusmn; 0.0006\n                \n            </td>\n            <td style=\"padding: 0 0.5em 0 0.5em; text-align: left; border: none;\">\n                contactoutcome_no arrest made or summons issued\n            </td>\n        </tr>\n    \n        <tr style=\"background-color: hsl(120, 100.00%, 91.98%); border: none;\">\n            <td style=\"padding: 0 1em 0 0.5em; text-align: right; border: none;\">\n                0.0009\n                \n                    &plusmn; 0.0004\n                \n            </td>\n            <td style=\"padding: 0 0.5em 0 0.5em; text-align: left; border: none;\">\n                allegation_retaliatory arrest\n            </td>\n        </tr>\n    \n        <tr style=\"background-color: hsl(120, 100.00%, 93.28%); border: none;\">\n            <td style=\"padding: 0 1em 0 0.5em; text-align: right; border: none;\">\n                0.0007\n                \n                    &plusmn; 0.0001\n                \n            </td>\n            <td style=\"padding: 0 0.5em 0 0.5em; text-align: left; border: none;\">\n                allegation_retaliatory summons\n            </td>\n        </tr>\n    \n        <tr style=\"background-color: hsl(120, 100.00%, 94.99%); border: none;\">\n            <td style=\"padding: 0 1em 0 0.5em; text-align: right; border: none;\">\n                0.0005\n                \n                    &plusmn; 0.0003\n                \n            </td>\n            <td style=\"padding: 0 0.5em 0 0.5em; text-align: left; border: none;\">\n                allegation_other\n            </td>\n        </tr>\n    \n        <tr style=\"background-color: hsl(120, 100.00%, 96.66%); border: none;\">\n            <td style=\"padding: 0 1em 0 0.5em; text-align: right; border: none;\">\n                0.0003\n                \n                    &plusmn; 0.0002\n                \n            </td>\n            <td style=\"padding: 0 0.5em 0 0.5em; text-align: left; border: none;\">\n                allegation_vehicle search\n            </td>\n        </tr>\n    \n        <tr style=\"background-color: hsl(120, 100.00%, 98.45%); border: none;\">\n            <td style=\"padding: 0 1em 0 0.5em; text-align: right; border: none;\">\n                0.0001\n                \n                    &plusmn; 0.0001\n                \n            </td>\n            <td style=\"padding: 0 0.5em 0 0.5em; text-align: left; border: none;\">\n                allegation_refusal to process civilian complaint\n            </td>\n        </tr>\n    \n        <tr style=\"background-color: hsl(120, 100.00%, 99.60%); border: none;\">\n            <td style=\"padding: 0 1em 0 0.5em; text-align: right; border: none;\">\n                0.0000\n                \n                    &plusmn; 0.0000\n                \n            </td>\n            <td style=\"padding: 0 0.5em 0 0.5em; text-align: left; border: none;\">\n                allegation_search (of person)\n            </td>\n        </tr>\n    \n        <tr style=\"background-color: hsl(120, 100.00%, 99.60%); border: none;\">\n            <td style=\"padding: 0 1em 0 0.5em; text-align: right; border: none;\">\n                0.0000\n                \n                    &plusmn; 0.0003\n                \n            </td>\n            <td style=\"padding: 0 0.5em 0 0.5em; text-align: left; border: none;\">\n                impactedgender_female\n            </td>\n        </tr>\n    \n        <tr style=\"background-color: hsl(0, 100.00%, 100.00%); border: none;\">\n            <td style=\"padding: 0 1em 0 0.5em; text-align: right; border: none;\">\n                0\n                \n                    &plusmn; 0.0000\n                \n            </td>\n            <td style=\"padding: 0 0.5em 0 0.5em; text-align: left; border: none;\">\n                currentcommand_pen sec\n            </td>\n        </tr>\n    \n        <tr style=\"background-color: hsl(0, 100.00%, 100.00%); border: none;\">\n            <td style=\"padding: 0 1em 0 0.5em; text-align: right; border: none;\">\n                0\n                \n                    &plusmn; 0.0000\n                \n            </td>\n            <td style=\"padding: 0 0.5em 0 0.5em; text-align: left; border: none;\">\n                currentcommand_per bur\n            </td>\n        </tr>\n    \n        <tr style=\"background-color: hsl(0, 100.00%, 100.00%); border: none;\">\n            <td style=\"padding: 0 1em 0 0.5em; text-align: right; border: none;\">\n                0\n                \n                    &plusmn; 0.0000\n                \n            </td>\n            <td style=\"padding: 0 0.5em 0 0.5em; text-align: left; border: none;\">\n                currentcommand_photo-u\n            </td>\n        </tr>\n    \n        <tr style=\"background-color: hsl(0, 100.00%, 100.00%); border: none;\">\n            <td style=\"padding: 0 1em 0 0.5em; text-align: right; border: none;\">\n                0\n                \n                    &plusmn; 0.0000\n                \n            </td>\n            <td style=\"padding: 0 0.5em 0 0.5em; text-align: left; border: none;\">\n                currentcommand_prints\n            </td>\n        </tr>\n    \n        <tr style=\"background-color: hsl(0, 100.00%, 100.00%); border: none;\">\n            <td style=\"padding: 0 1em 0 0.5em; text-align: right; border: none;\">\n                0\n                \n                    &plusmn; 0.0000\n                \n            </td>\n            <td style=\"padding: 0 0.5em 0 0.5em; text-align: left; border: none;\">\n                currentcommand_pco rtc\n            </td>\n        </tr>\n    \n        <tr style=\"background-color: hsl(0, 100.00%, 100.00%); border: none;\">\n            <td style=\"padding: 0 1em 0 0.5em; text-align: right; border: none;\">\n                0\n                \n                    &plusmn; 0.0000\n                \n            </td>\n            <td style=\"padding: 0 0.5em 0 0.5em; text-align: left; border: none;\">\n                currentcommand_pol acd\n            </td>\n        </tr>\n    \n        <tr style=\"background-color: hsl(0, 100.00%, 100.00%); border: none;\">\n            <td style=\"padding: 0 1em 0 0.5em; text-align: right; border: none;\">\n                0\n                \n                    &plusmn; 0.0000\n                \n            </td>\n            <td style=\"padding: 0 0.5em 0 0.5em; text-align: left; border: none;\">\n                currentcommand_pol lab\n            </td>\n        </tr>\n    \n        <tr style=\"background-color: hsl(0, 100.00%, 100.00%); border: none;\">\n            <td style=\"padding: 0 1em 0 0.5em; text-align: right; border: none;\">\n                0\n                \n                    &plusmn; 0.0000\n                \n            </td>\n            <td style=\"padding: 0 0.5em 0 0.5em; text-align: left; border: none;\">\n                currentcommand_pol pen\n            </td>\n        </tr>\n    \n        <tr style=\"background-color: hsl(0, 100.00%, 100.00%); border: none;\">\n            <td style=\"padding: 0 1em 0 0.5em; text-align: right; border: none;\">\n                0\n                \n                    &plusmn; 0.0000\n                \n            </td>\n            <td style=\"padding: 0 0.5em 0 0.5em; text-align: left; border: none;\">\n                currentcommand_pco l u\n            </td>\n        </tr>\n    \n        <tr style=\"background-color: hsl(0, 100.00%, 100.00%); border: none;\">\n            <td style=\"padding: 0 1em 0 0.5em; text-align: right; border: none;\">\n                0\n                \n                    &plusmn; 0.0000\n                \n            </td>\n            <td style=\"padding: 0 0.5em 0 0.5em; text-align: left; border: none;\">\n                currentcommand_pi&amp;req\n            </td>\n        </tr>\n    \n        <tr style=\"background-color: hsl(0, 100.00%, 100.00%); border: none;\">\n            <td style=\"padding: 0 1em 0 0.5em; text-align: right; border: none;\">\n                0\n                \n                    &plusmn; 0.0000\n                \n            </td>\n            <td style=\"padding: 0 0.5em 0 0.5em; text-align: left; border: none;\">\n                currentcommand_plt mgt\n            </td>\n        </tr>\n    \n    \n        \n            <tr style=\"background-color: hsl(0, 100.00%, 100.00%); border: none;\">\n                <td colspan=\"2\" style=\"padding: 0 0.5em 0 0.5em; text-align: center; border: none; white-space: nowrap;\">\n                    <i>&hellip; 1705 more &hellip;</i>\n                </td>\n            </tr>\n        \n    \n    </tbody>\n</table>\n    \n\n    \n\n\n    \n\n    \n\n    \n\n    \n\n    \n\n    \n\n\n\n"
     },
     "execution_count": 39,
     "metadata": {},
     "output_type": "execute_result"
    }
   ],
   "source": [
    "import eli5\n",
    "from eli5.sklearn import PermutationImportance\n",
    "perm = PermutationImportance(grad, random_state = 1).fit(X_test, y_test)\n",
    "eli5.show_weights(perm, feature_names = X_test.columns.tolist())"
   ],
   "metadata": {
    "collapsed": false
   }
  },
  {
   "cell_type": "markdown",
   "source": [
    "Here we create a grid search to find the optimal hyperparameters for the model. One of the most important hyperparameters to test here includes the loss function which can be either deviance: the multinomial deviance which is best with probabilistic outputs or exponential: which mirrors that of the AdaBoost algorithm.\n"
   ],
   "metadata": {
    "collapsed": false
   }
  },
  {
   "cell_type": "code",
   "execution_count": 40,
   "outputs": [
    {
     "name": "stdout",
     "output_type": "stream",
     "text": [
      "Fitting 2 folds for each of 18 candidates, totalling 36 fits\n"
     ]
    },
    {
     "data": {
      "text/plain": "GridSearchCV(cv=2, estimator=GradientBoostingClassifier(), n_jobs=2,\n             param_grid={'loss': ('deviance', 'exponential'),\n                         'max_depth': [1, 3, 5],\n                         'n_estimators': [100, 250, 500]},\n             verbose=3)"
     },
     "execution_count": 40,
     "metadata": {},
     "output_type": "execute_result"
    }
   ],
   "source": [
    "from sklearn.model_selection import GridSearchCV\n",
    "# Define the parameter grid to search over\n",
    "param_grid = {'loss': ('deviance','exponential'), 'n_estimators': [100, 250, 500], 'max_depth': [1, 3, 5]}\n",
    "# Create the GridSearchCV object\n",
    "GradBoost_cv = GridSearchCV(GradientBoostingClassifier(), param_grid, cv = 2, n_jobs = 2, verbose = 3)\n",
    "# Fit the model to the training data\n",
    "GradBoost_cv.fit(X_train, y_train)"
   ],
   "metadata": {
    "collapsed": false
   }
  },
  {
   "cell_type": "code",
   "execution_count": 42,
   "outputs": [
    {
     "name": "stdout",
     "output_type": "stream",
     "text": [
      "Best hyperparameters: {'loss': 'exponential', 'max_depth': 1, 'n_estimators': 100}\n"
     ]
    }
   ],
   "source": [
    "# Print the best hyperparameters found by GridSearchCV\n",
    "print(\"Best hyperparameters:\", GradBoost_cv.best_params_)"
   ],
   "metadata": {
    "collapsed": false
   }
  },
  {
   "cell_type": "code",
   "execution_count": 43,
   "outputs": [
    {
     "name": "stdout",
     "output_type": "stream",
     "text": [
      "Accuracy: 0.9128280535754244\n",
      "Confusion matrix:\n",
      " [[28556     0]\n",
      " [ 2727     0]]\n",
      "Precision: 0.9128280535754244\n",
      "Recall: 1.0\n",
      "F1 Score: 0.9544277143668846\n"
     ]
    },
    {
     "name": "stderr",
     "output_type": "stream",
     "text": [
      "/Users/sebastian_a/opt/anaconda3/lib/python3.9/site-packages/sklearn/metrics/_classification.py:1318: UndefinedMetricWarning: Precision and F-score are ill-defined and being set to 0.0 in labels with no predicted samples. Use `zero_division` parameter to control this behavior.\n",
      "  _warn_prf(average, modifier, msg_start, len(result))\n"
     ]
    }
   ],
   "source": [
    "# Make predictions on the testing set using the best model\n",
    "y_pred = GradBoost_cv.predict(X_test)\n",
    "# Evaluate the model's performance\n",
    "accuracy = accuracy_score(y_test, y_pred)\n",
    "confusion_mat = confusion_matrix(y_test, y_pred)\n",
    "precision, recall, f1_score, support = precision_recall_fscore_support(y_test, y_pred)\n",
    "print('Accuracy:', accuracy)\n",
    "print('Confusion matrix:\\n', confusion_mat)\n",
    "print('Precision:', precision[0])\n",
    "print('Recall:', recall[0])\n",
    "print('F1 Score:', f1_score[0])"
   ],
   "metadata": {
    "collapsed": false
   }
  },
  {
   "cell_type": "markdown",
   "source": [
    "Our final gradient boosting model achieved a 91.3% accuracy, 91.3% precision, 100% recall, and 95.4% F1 score."
   ],
   "metadata": {
    "collapsed": false
   }
  },
  {
   "cell_type": "markdown",
   "metadata": {},
   "source": [
    "# Discussion\n",
    "\n",
    "### Interpreting the result\n",
    "\n",
    "OK, you've given us quite a bit of tech informaiton above, now its time to tell us what to pay attention to in all that.  Think clearly about your results, decide on one main point and 2-4 secondary points you want us to understand. Highlight HOW your results support those points.  You probably want 2-5 sentences per point.\n",
    "\n",
    "### Limitations\n",
    "\n",
    "One of the most important limitations within the project was the imbalance within the dataset used. After binarizing the `ccrbdisposition` feature, where we allowed complaints that were substantiated in any form to be 1 and complaints that were unsubstantiated to be 0, we saw that there were 259,635 samples that were unsubstantiated whereas there were only 19,769 samples that were substantiated. In turn, when we executed the models on the entire dataset, we found that during testing the model would only predict the complaint to be unsubstantiated.\n",
    "\n",
    "One possible remedy for this issue included randomly sampling 19,769 complaints that were unsubstantiated to evenly balance the ratio of substantiated and unsubstantiated inputs. However, due to time constraints with re-executing the models and  analysis, we were unable to implement these ideas and in turn would be interested in exploring this more given more time.\n",
    "\n",
    "It follows that more data may provide more insight into what guides a complaint to its conclusion; most importantly, it would be a great benefit to have more samples which contained substantiated complaints. However, the data suggests that it is more often the case that a complaint is unsubstantiated than otherwise.\n",
    "\n",
    "As a consequence of this, we were unable to create a model implementing Logistic Regression which would predict a complaint to be substantiated. This led to the evaluation metrics for logistic regression to be problematic.\n",
    "\n",
    "\n",
    "### Ethics & Privacy\n",
    "\n",
    "The first ethical concern that may be realized is with regards to the exposure of the officer’s identity. If the project were to be put to use, the names and identifiable features of the officers would be easily accessed and in turn this leads to a violation of privacy for the officers. When conducting the analysis, factors such as the name of the officer or the officer ID is not expected to greatly impact the task at hand for the model; in order to protect the privacy of the officers we can exclude these features from the analysis.\n",
    "\n",
    "Furthermore, the dataset is generated by complaints made against police officers; in order for a complaint to be filed there must have been some interaction between an officer and a civilian. However,  it can be seen that there are cases where specific, notably marginalized, communities see far greater police interaction than others which can lead to a greater amount of complaints made within certain communities and from marginalized backgrounds. As a result, there may be an implicit bias within the dataset. Despite these concerns, we are confident that the data is still reliable to use for the project. Firstly, we can use the data to uncover discrimination throughout the process. In order to do this, we must analyze the data from the source and identify key features. Furthermore, we are confident that the data comes from a reliable source, ensuring that the information has not been tampered with or altered.\n",
    "\n",
    "Lastly, we understand that there may be possible unethical byproducts that can arise from the use of the project. For example, it may be the case that the model, as a result of implicit bias in the data, finds a complaint to be substantiated due to features such as age or race. In the event the model were to be put to use, there is a concern for similar ethical violations to that of Predictive Policing.\n",
    "We can use this model to reveal a possible bias by highlighting which variables are most influential in deciding the outcome; the model can reveal that certain, hypothetically less important features in this decision process, are more impactful than others. Examples of these variables include race, age, gender, and more. If these variables are shown to be influential, it can suggest that the outcome is determined with a bias towards or against these discriminatory beliefs.\n",
    "\n",
    "### Conclusion\n",
    "\n",
    "Reiterate your main point and in just a few sentences tell us how your results support it. Mention how this work would fit in the background/context of other work in this field if you can. Suggest directions for future work if you want to."
   ]
  },
  {
   "cell_type": "markdown",
   "metadata": {},
   "source": [
    "# Footnotes\n",
    "<a name=\"lorenznote\"><sup>1</sup></a> Neal, E. (2022, April 29). A history of police violence in America. Stacker. https://stacker.com/history/history-police-violence-america\n",
    "\n",
    "<a name=\"admonishnote\"><sup>2</sup></a> Arkady. (2020, July 13). NYC police brutality & excessive force: Statistics & real cases. Frekhtman & Associates | New York Injury and Accident Attorneys. https://866attylaw.com/nyc-police-brutality-excessive-force-statistics-real-cases/\n",
    "\n",
    "<a name=\"ccpcnote\"><sup>3</sup></a> Gonen, Y. (2022, July 11). Bad cops not getting punishment they deserve, says Corruption Commission. The City. https://www.thecity.nyc/2022/7/10/23201012/bad-cops-not-getting-punishment-ccpc\n",
    "\n",
    "<a name=\"fatalnote\"><sup>4</sup></a> Fatal police violence by race and state in the USA, 1980–2019: A network meta-regression. (2021). The Lancet, 398(10307), 1239–1255. https://doi.org/10.1016/s0140-6736(21)01609-3\n",
    "\n",
    "<a name=\"ccrbnote\"><sup>5</sup></a> About the CCRB. About - CCRB. (n.d.). https://www.nyc.gov/site/ccrb/about/about.page\n",
    "\n",
    "<a name=\"levinnote\"><sup>6</sup></a> Levin, N. (2022, December 30). 5 largest police departments in the world. Largest.org. https://largest.org/structures/largest-police-departments-in-world/\n"
   ]
  }
 ],
 "metadata": {
  "kernelspec": {
   "display_name": "Python 3",
   "language": "python",
   "name": "python3"
  },
  "language_info": {
   "codemirror_mode": {
    "name": "ipython",
    "version": 3
   },
   "file_extension": ".py",
   "mimetype": "text/x-python",
   "name": "python",
   "nbconvert_exporter": "python",
   "pygments_lexer": "ipython3",
   "version": "3.8.8"
  }
 },
 "nbformat": 4,
 "nbformat_minor": 2
}
