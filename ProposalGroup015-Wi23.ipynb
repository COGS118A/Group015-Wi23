{
 "cells": [
  {
   "cell_type": "markdown",
   "metadata": {},
   "source": [
    "# COGS 118A - Project Checkpoint"
   ]
  },
  {
   "attachments": {},
   "cell_type": "markdown",
   "metadata": {},
   "source": [
    "# Names\n",
    "\n",
    "- Christian Kim\n",
    "- Ian Pearson\n",
    "- Laurensius Junaidy\n",
    "- Sebastian Algharaballi"
   ]
  },
  {
   "attachments": {},
   "cell_type": "markdown",
   "metadata": {},
   "source": [
    "# Abstract \n",
    "The issue of police brutality and abuse of power by law enforcement is an ongoing problem in the United States, leading to public distrust and turmoil. The goal of this project is to gain insight into complaints made by civilians against police officers. We aim to develop a mathematically-driven system that highlights the significance of organizations like The New York City Civilian Complaint Review Board (CCRB) to ensure police officers are held accountable for their actions. Using data from the CCRB, we will analyze the nature of public complaints and the outcomes of disciplinary actions by wrangling our data, obtaining our most important features, and fitting the best prediction model possible. These steps will be made all in effort to generate correlational patterns within our data that shows us the variety of complaints against law enforcement that leads to occupational punishments. The success of our model will ultimately be measured by its effectiveness in identifying cases of police malpractice that should be punishable. We will also utilize an F1-score to compute the model’s performance, leading us towards our vision of generalizing these results to combat the rising tension between the general public and law enforcement."
   ]
  },
  {
   "attachments": {},
   "cell_type": "markdown",
   "metadata": {},
   "source": [
    "# Background\n",
    "\n",
    "Police brutality has been a contentious political topic in the United States for decades. While this issue has seemingly gained more public attention over the evolution of the social media era, abuse of power by law enforcement has actually been a source of turmoil ever since the beginning of the 20th century. In the 1920s, urban police departments, especially in the large cities of Chicago and New York, performed extralegal tactics against Italian-immigrant communities in order to “crackdown” on organized crime [<sup>1</sup>](#lorenznote). The Los Angeles Police Department took part in attacks on Mexican Americans during the Zoot Suit Riots of 1943. Harassment of homosexual and transgender people by police was found as a “regularity” in 1969 New York, which culminated in the 1969 Stonewall Riots. And, most recently, this issue has shifted towards a race war between officers that abuse their power and the African–American community, with the likes of Rodney King, Michael Brown, Freddie Gray, Tamir Rice, Trayvon Martin, George Floyd, Breonna Taylor, and so many more falling victim to unjust treatment from law enforcement. Over a 5 year period beginning in 2015, more than 11,000 claims or lawsuits were filed against the New York Police Department, alleging some form of police misconduct and several threats to public safety [<sup>2</sup>](#admonishnote). Of those complaints, more than half of them were solved by some form of a lawsuit. While that sounds good on paper, about 530 of those were paid out as `$5000` or less, with most claimants in this group often receiving less than `$500`. In addition, according to the Commission to Combat Police Corruption’s 20th annual report, just over 11% of New York police officers that should have faced disciplinary action for occupational malpractice walked away with no punishment whatsoever and were able to continue their duties as if nothing had happened [<sup>3</sup>](#ccpcnote). The point is, New York police officers are not receiving the punishments they deserve in response to valid complaints from the general public. The impact of police misconduct is much more complex than affecting the individuals that have first-hand experience with violence by law enforcement. These ongoing issues are a constant reminder, especially to minorities, that there is little hope for justice. Police brutality is, unsurprisingly, linked to poor health outcomes for those most affected. One research study found that intersecting pathways between police brutality and life-changing health outcomes include (1) fatal injuries that increase population-specific mortality rates; (2) adverse physiological responses that increase morbidity; (3) racist public reactions that cause stress; (4) arrests, incarcerations, and legal, medical, and funeral bills that cause financial strain; and (5) integrated oppressive structures that cause systematic disempowerment [<sup>4</sup>](#healthnote). The above issues raise even more significance to our problem, as one inadequate police punishment has a ripple effect that extends far beyond the immediate victim at that particular time. Police brutality has lifelong implications. If one abusive encounter with a police officer can detrimentally affect one’s life to the point of fatality, why should the public trust a system that fails to serve justice for these victims through a lifelong punishment for the officer that fueled the outcome of the encounter? America desperately needs a new system to rightfully condemn law enforcement that fails to protect the public. Public trust in law enforcement is at an all-time low. Something NEEDS to be done.\n",
    "\n",
    "With that in mind, our goal is to gain more insight into the complaints given by civilians against police officers. While developing the scope of our project, we were inspired by a 2019 study conducted by the GBD Police Violence US Subnational Collaborators, a research paper that details unreported police killings across the United States from 1980-2019 [<sup>5</sup>](#fatalnote). This group found that across all races and states in the USA, 17,100 of the 30,800 deaths from police violence between 1980 and 2018 were unreported by the NVSS (USA National Vital Statistics System). Over this time period, the age-standardized mortality rate due to police violence was highest in non-Hispanic Black people (0.69 [95% CI 0.67–0.71] per 100,000), followed by Hispanic people of any race (0.35 [0.34–0.36]), non-Hispanic White people (0.20 [0.19–0.20]), and non-Hispanic people of other races (0.15 [0.14–0.16]). Besides the eye-opening statistics to further prove the importance of our issue, we aim to achieve this level of transparency and preciseness in our findings regarding applicable police punishment. Moreover, while our project will not directly detail the subject of unreported police killings by race, prior research like this gives us more inspiration to extend upon the information that is already out there, develop a mathematical-driven system that can further prove police officers deserve viable punishment for everyday malpractice, and highlight the significance of organizations like The New York City Civilian Complaint Review Board (CCRB) in an effort to go against the notion of unreported police malpractice. On that note, the CCRB is an independent organization that investigates and recommends viable punishment against New York City police officers accused of abusing their authority through the likes of offensive language, discourtesy, and unnecessary force [<sup>6</sup>](#ccrbnote). Why New York City? Besides being one of the largest cities in America with an immense history of police brutality, New York City is also home to the largest police force on the globe, with over 50,000 active personnel [<sup>7</sup>](#levinnote). Therefore, this city’s police department acts as an important role model for other departments, which is why it is of great importance for the NYPD to lead by example and be held accountable when a citizen raises a complaint against one of their officers. Due to this role, the city of New York and the CCRB maintains ongoing, publicly available data regarding official complaints raised to the CCRB that keeps track of poor encounters with police officers in the city. The data includes, but is not limited to, the subject of the complaint, the victim's age and gender, and, most importantly, the overall punishment the CCRB gave the accused officer. We will utilize a classification algorithm to find overall patterns and trends between the instances of day-by-day police misconduct detailed in our datasets in an effort to generalize our results and precisely predict whether the CCRB declared a complaint to be substantiated or unsubstantiated. More specifically, we want to be able to obtain a clear understanding of the characteristics of each complaint to determine several baseline criteria that ultimately decide the occupational fate of an officer subject to one of these grievances. We believe that our model will enable us to effectively determine whether or not the CCRB is recommending enough punishment to the “bad apples” of the NYPD while giving us the opportunity to discover any specific trends or examples of misconduct that tend to lead to more severe punishment for the police officer at hand."
   ]
  },
  {
   "cell_type": "markdown",
   "metadata": {},
   "source": [
    "# Problem Statement\n",
    "\n",
    "Considering that predicting whether a complaint is substantiated or unsubstantiated is a binary task, we want to utilize a classification model that can predict whether the CCRB declared a complaint as substantiated or unsubstantiated, which is described as the recommendation made by the CCRB based on the characteristics of the given complaint. In other words, we intend to understand exactly how the CCRB punishment categorization is obtained through the likes of our other key variables. In order to achieve our goal of determining whether the CCRB is recommending appropriate punishment for NYPD officers accused of abusing their authority, we must fit the best prediction model (with the most appropriate features) to our data at hand, measure the model’s performance through an F1-score, and generalize our results to the ongoing police brutality issues in America. At the end of the day, we wish to discover an ultimate baseline for public actions that are currently constituting poor behavior in police officers, and the consequences agencies like the CCRB can continue to enforce (and improve on) when condemning police that go against their oath to protect the public."
   ]
  },
  {
   "cell_type": "markdown",
   "metadata": {},
   "source": [
    "# Data\n",
    "\n",
    "[NYCLU Misconduct Database](https://www.nyclu.org/en/campaigns/nypd-misconduct-database) \n",
    "We will be using a dataset given by the NYCLU, the New York Civil Liberties Union, which is known as the NYPD Misconduct Complaint Database. \n",
    "The dataset has 279,645 unique complaints that we will be able to work with and has 35 relevant features for each complaint. \n",
    "A single observation includes a complaint made against an officer; this can include any of the following features: \n",
    "- The date of the event \n",
    "- The ID of the allegation \n",
    "- The last name of the officer \n",
    "- The first name of the officer \n",
    "- The race of the officer \n",
    "- The gender of the officer \n",
    "- The id of the officer \n",
    "- The current (abbreviated) rank of the officer \n",
    "- The current (full) rank of the officer \n",
    "- The current station of the officer \n",
    "- The (abbreviated) rank of the officer at the time of the incident \n",
    "- The (full) rank of the officer at the time of the incident \n",
    "- The station of the officer at the time of the incident \n",
    "- The badge number of the officer \n",
    "- The number of days the officer had been on duty \n",
    "- The current status of the officer (active duty or retired) \n",
    "- The most recent date that the officer was on duty \n",
    "- The ID of the complaint paperwork \n",
    "- The date of the incident \n",
    "- What type of complaint is being filed; E.g. Discourtesy, Offensive Language, Abuse of Authority, etc. \n",
    "- What the specific allegation was against the officer \n",
    "- CCRB’s final evaluation of the complaint \n",
    "- Simplified version of CCRB Disposition field \n",
    "- Description of CCRB charge recommendation \n",
    "- NYPD final disposition of the complaint \n",
    "- NYPD penalty given to the officer named in the complaint \n",
    "- Type of location where the incident took place \n",
    "- Reason for police-civilian contact \n",
    "- Outcome of police-civilian contact \n",
    "- NYPD precinct where the incident took place \n",
    "- Self-reported race/ethnicity of the person impacted in the incident \n",
    "- Self-reported gender of the person impacted in the incident \n",
    "- Self-reported age of the person impacted in the incident \n",
    "- Date on which the CCRB received the complaint\n",
    "- Date on which the CCRB closed/completed the complaint \n",
    "Some of the most critical variables include the complaint category and allegation; these factors are the first step in highlighting how serious a complaint can be and to what extent a penalty may be enforced. Another piece of information that may be key is the rank of the officer and determining if that has a large impact on what the penalty may result in. As it is very difficult to assume correct inputs for missing values, we plan on removing all complaints that are not full rank; this results in 147,239 unique complaints in the dataset. Furthermore, we will not be using the names of the officer due to privacy concerns, nor the employment status of the officer as this may improperly lead to poor training. Lastly, we must binarize the predicted variable, CCRB Disposition, from 25 possible values into a more simple categorization of Substantiated or Unsubstantiated."
   ]
  },
  {
   "cell_type": "markdown",
   "metadata": {},
   "source": [
    "# Proposed Solution\n",
    "\n",
    "As a reminder, our dataset is the “CCRB Complaint Database Raw 04.20.2021.csv“ dataset, which was taken from NYCLU’s GitHub under its NYPD Misconduct Complaint Database repository. An important point to note is that there are 35 columns in the dataset and that more than half of them contain string categorical variables; this fact is important in our decision to not use one-hot encoding and to, instead, use a classification algorithm that is friendly to mixed data types.\n",
    "\n",
    "We decided to utilize the random forest classifier algorithm using features from the dataset to predict whether a complaint against a police officer was substantiated or unsubstantiated; in essence, while the “CCRBDisposition” column contains 25 different actions that the CCRB can take to respond to a complaint, these 25 actions can be boiled down to a binary variable of whether a complaint was “Substantiated” (action was taken against the officer) or “Not Substantiated” (no action was taken against the officer), and this binary variable is what we want to predict. Even though a different classification algorithm could’ve been utilized if one-hot encoding were employed on the categorical variables, one-hot encoding will not be utilized because many of the columns have too many categories, for which one-hot encoding can become problematic. For instance, the “LocationType” column has 16 categories from which to choose, and the “ContactReason” column has 54 categories from which to choose; due to many of the columns having so many different categories, one-hot encoding can greatly increase the dimensionality of the dataset and lead to the curse of dimensionality, which will then make it difficult to train the model. Thus, the random forest classifier algorithm was chosen, since it is flexible enough to work with both categorical and numerical features without having to employ one-hot encoding.\n",
    "\n",
    "Our baseline model will be the random forest classifier algorithm with “ContactOutcome” only being taken into account. We decided to use this model as the baseline because theoretically the way a police officer interacts with a civilian during a dispute and the results of those interactions could play significant roles in deciding how the CCRB decides to take action in addressing a complaint by a civilian who believes that they have been wronged. However, our goal will be to utilize the random forest classifier algorithm as a feature selection technique and identify the feature(s) that produce(s) the highest metric rate of our choosing, which we discuss in greater detail in the Evaluation Metrics section.\n",
    "\n",
    "In terms of the libraries that would be most relevant to our project, scikit-learn has a module called ensemble, which contains the random forest classifier algorithm. Furthermore, we will also be using the train_test_split package under scikit-learn to split the training data and test data from each other.\n"
   ]
  },
  {
   "cell_type": "markdown",
   "metadata": {},
   "source": [
    "# Evaluation Metrics\n",
    "\n",
    "We will be using the F1-score due to how it is a balance of the precision and recall scores. Both precision and recall are especially important to the context and one should not be chosen over the other; attempting to maintain a high precision rate will let us know that we are able to more accurately predict complaints that are actually substantiated, and a high recall rate will let us know that we are able to accurately predict complaints that are not substantiated.\n",
    "\n",
    "The detriments of having either a low precision or low recall score also illustrates why both are equally important. Having low precision rate means that we are unnecessarily taking actions against police officers for a complaint that is actually unsubstantiated. On the other hand, having a low recall rate means that we are overlooking a complaint that can be utilized to discipline an officer who abused their authority. Thus, since both precision and recall are equally important to the context of this question, the F1-score, which is a harmonic mean of both metrics, will be utilized."
   ]
  },
  {
   "cell_type": "markdown",
   "metadata": {},
   "source": [
    "# Ethics & Privacy"
   ]
  },
  {
   "cell_type": "markdown",
   "metadata": {},
   "source": [
    "The first ethical concern that may be realized is with regards to the exposure of the officer’s identity. If the project were to be put to use, the names and identifiable features of the officers would be easily accessed and in turn this leads to a violation of privacy for the officers. When conducting the analysis, factors such as the name of the officer or the officer ID is not expected to greatly impact the task at hand for the model; in order to protect the privacy of the officers we can exclude these features from the analysis.\n",
    "\n",
    "Furthermore, the dataset is generated by complaints made against police officers; in order for a complaint to be filed there must have been some interaction between an officer and a civilian. However,  it can be seen that there are cases where specific, notably marginalized, communities see far greater police interaction than others which can lead to a greater amount of complaints made within certain communities and from marginalized backgrounds. As a result, there may be an implicit bias within the dataset. However, we acknowledge this possibility and will be conscious of possible effects as we continue the analysis. \n",
    "\n",
    "Lastly, we understand that there may be possible unethical byproducts that can arise from the use of the project. For example, it may be the case that the model, as a result of implicit bias in the data, finds a complaint to be substantiated due to features such as age or race. In the event the model were to be put to use, there is a concern for similar ethical violations to that of Predictive Policing."
   ]
  },
  {
   "cell_type": "markdown",
   "metadata": {},
   "source": [
    "# Team Expectations "
   ]
  },
  {
   "cell_type": "markdown",
   "metadata": {},
   "source": [
    "\n",
    "* We will perform any types of communication through Discord such as announcements, questions, and general information for the project.\n",
    "* We are set to have a 24 hour policy on communication, which means that group members need to read and respond (if the message is directed to them) to that message within the 24-hour period.\n",
    "* While we will try to make sure that we only meet up to two times per week, we do have an expectation that team members need to be prepared to jump on a Discord in the event that a time-sensitive matter comes up.\n",
    "* While we will try to make sure that we only meet up to two times per week, we do have an expectation that team members need to be prepared to jump on a Discord in the event that a time-sensitive matter comes up.\n",
    "* Each member is expected to finish up their task two hours prior to the start of the next progress meeting to save time and allow others to read and analyze their work to provide feedback during the meeting.\n",
    "* We will respect each other's opinions and give constructive feedback on each other's works and make decisions that are approved and supported by each group member.\n",
    "* We will try our best to divide the task evenly among group members and make sure that nobody is feeling overwhelmed, but there is an expectation to finish the assigned tasks two hours prior to the start of the next meeting.\n",
    "* If a team member is not able to complete their tasks on time, they can reach out to other team members and discuss how to approach finishing their portion.\n"
   ]
  },
  {
   "cell_type": "markdown",
   "metadata": {},
   "source": [
    "# Project Timeline Proposal"
   ]
  },
  {
   "attachments": {},
   "cell_type": "markdown",
   "metadata": {},
   "source": [
    "Important Dates:\n",
    "* 2/22: Proposal due.\n",
    "* 3/1: Peer review of proposals.\n",
    "* 3/8: Project checkpoint.\n",
    "* 3/22: Final project, team evaluation survey.\n",
    "\n",
    "\n",
    "| Meeting Date  | Meeting Time| Completed Before Meeting  | Discuss at Meeting |\n",
    "|---|---|---|---|\n",
    "| 2/13  |  12 PM |  N/A  | Introductions of each members, discuss team expectations, and assign task for each members to propose project idea | \n",
    "| 2/19  |  12 AM |  Project ideas | Compare and analyze each member’s project idea; Discuss how to create better project ideas and assign each member to come up with improved ideas based on the important factors. | \n",
    "| 2/20 | 10 AM  | Improved project ideas  | Analyze the new project ideas and choose which one we want to work on; Assign each member to work on specific parts of the proposal   |\n",
    "| 2/22  | 1 PM  | Finish the assigned proposal task | Analyze each assigned task and fix any error or add what is missing from each section of the proposal; Finish the proposal by combining it together; discuss how to approach the data.   |\n",
    "| 2/25  | 1 PM  | Finish importing and cleaning up the data | Come up with another useful dataset (if needed); Discuss which model we want to use and how to approach it; Assign each member to different tasks. |\n",
    "| 3/1  | 1 PM  | Peer Reviews | Discuss the peer reviews and discuss  the coding for our project; assign each member to the coding part of the project. Discuss how the random forest tree classifier will be executed and which members will be responsible for testing which features. |\n",
    "| 3/6  | 1 PM  | Finish the assigned task for the project | Further discuss the coding part and finishing any unfinished part that we set for the checkpoint; Discuss the findings from the random forest tree classifier metrics and compare accuracy results  |\n",
    "| 3/18  |  1 PM |  Coding part of the project  | Review and check the coding part; Discuss the unfinished part of the project and work on it. | \n",
    "| 3/22  |  1 PM |  Complete the project  | Review the whole project and finally turn in the final project. |"
   ]
  },
  {
   "attachments": {},
   "cell_type": "markdown",
   "metadata": {},
   "source": [
    "# Footnotes\n",
    "<a name=\"lorenznote\"><sup>1</sup></a> Neal, E. (2022, April 29). A history of police violence in America. Stacker. https://stacker.com/history/history-police-violence-america\n",
    "\n",
    "<a name=\"admonishnote\"><sup>2</sup></a> Arkady. (2020, July 13). NYC police brutality & excessive force: Statistics & real cases. Frekhtman & Associates | New York Injury and Accident Attorneys. https://866attylaw.com/nyc-police-brutality-excessive-force-statistics-real-cases/ \n",
    "\n",
    "<a name=\"ccpcnote\"><sup>3</sup></a> Gonen, Y. (2022, July 11). Bad cops not getting punishment they deserve, says Corruption Commission. The City. https://www.thecity.nyc/2022/7/10/23201012/bad-cops-not-getting-punishment-ccpc\n",
    "\n",
    "<a name=\"healthnote\"><sup>4</sup></a> Along, S., McAlpine, D., McCreedy, E., & Hardeman, R. (2017). Police Brutality and Black Health: Setting the Agenda for Public Health Scholars. Am J Public Health, 107(5), 662–665. https://doi.org/https://doi.org/10.2105%2FAJPH.2017.303691\n",
    "\n",
    "<a name=\"fatalnote\"><sup>5</sup></a> Fatal police violence by race and state in the USA, 1980–2019: A network meta-regression. (2021). The Lancet, 398(10307), 1239–1255. https://doi.org/10.1016/s0140-6736(21)01609-3\n",
    "\n",
    "<a name=\"ccrbnote\"><sup>6</sup></a> About the CCRB. About - CCRB. (n.d.). https://www.nyc.gov/site/ccrb/about/about.page\n",
    "\n",
    "<a name=\"levinnote\"><sup>7</sup></a> Levin, N. (2022, December 30). 5 largest police departments in the world. Largest.org. https://largest.org/structures/largest-police-departments-in-world/\n"
   ]
  },
  {
   "cell_type": "code",
   "execution_count": null,
   "metadata": {},
   "outputs": [],
   "source": []
  }
 ],
 "metadata": {
  "kernelspec": {
   "display_name": "Python 3 (ipykernel)",
   "language": "python",
   "name": "python3"
  },
  "language_info": {
   "codemirror_mode": {
    "name": "ipython",
    "version": 3
   },
   "file_extension": ".py",
   "mimetype": "text/x-python",
   "name": "python",
   "nbconvert_exporter": "python",
   "pygments_lexer": "ipython3",
   "version": "3.9.7"
  }
 },
 "nbformat": 4,
 "nbformat_minor": 2
}
