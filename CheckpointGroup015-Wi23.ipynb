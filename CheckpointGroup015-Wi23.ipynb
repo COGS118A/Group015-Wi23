{
 "cells": [
  {
   "cell_type": "markdown",
   "metadata": {},
   "source": [
    "# COGS 118A - Project Checkpoint"
   ]
  },
  {
   "cell_type": "markdown",
   "metadata": {},
   "source": [
    "# Names\n",
    "\n",
    "- Christian Kim\n",
    "- Ian Pearson\n",
    "- Laurensius Junaidy\n",
    "- Sebastian Algharaballi"
   ]
  },
  {
   "cell_type": "markdown",
   "metadata": {},
   "source": [
    "# Abstract \n",
    "Police brutality and abuse of power by law enforcement is a societal issue that has been ongoing in the United States, and has resulted in public distrust and social unrest. The goal of this project is to gain insight into complaints made by civilians living in New York City against police officers. We aim to develop a mathematically-driven system that highlights the significance of organizations like The New York City Civilian Complaint Review Board (CCRB) to ensure police officers are held accountable for their actions. Using data from the CCRB, we will analyze the nature of public complaints and the outcomes of disciplinary actions by wrangling our data, obtaining our most important features, and fitting the best prediction model possible. These steps will be made all in effort to generate correlational patterns within our data that shows us what kinds of complaints are unsubstantiated (the officer in question is not remediated) and substantiaed (the officer is remediated as a result of the investigation). The success of our model will ultimately be measured by its effectiveness in successfully identifying complaints that are substantiated. We will also utilize an F1-score to compute the model’s performance, leading us towards our vision of generalizing these results to combat the rising tension between the general public and law enforcement."
   ]
  },
  {
   "cell_type": "markdown",
   "metadata": {},
   "source": [
    "# Background\n",
    "\n",
    "Police officers being accused of abusing their authority has been a contentious topic in the United States for decades. While this issue has seemingly gained more public attention over the evolution of the social media era, abuse of power by law enforcement has actually been a source of turmoil ever since the beginning of the 20th century. Over a five year period beginning in 2015, more than 11,000 claims or lawsuits were filed against the New York Police Department, alleging some form of police misconduct and several threats to public safety [<sup>1</sup>](#lorenznote). Of those complaints, more than half of them were solved by some form of a lawsuit. About 530 of those lawsuits were paid out in the amount of up to `$5000`, but most claimants in this group often received less than `$500`. In addition, according to the Commission to Combat Police Corruption’s 20th annual report, just over 11% of New York police officers who should have faced disciplinary action for occupational malpractice walked away with no punishment whatsoever and were able to continue their work in the police force [<sup>2</sup>](#admonishnote). One research study found that intersecting pathways between police brutality and life-changing health outcomes include 1) fatal injuries that increase population-specific mortality rates, 2) adverse physiological responses that increase morbidity, 3) racist public reactions that cause stress, 4) arrests, incarcerations, and legal, medical, and funeral bills that cause financial strain, and 5) integrated oppressive structures that cause systematic disempowerment [<sup>3</sup>](#ccpcnote). The above issues raise even more importance to our problem, as police brutality on an individual level can have lifelong implications.\n",
    "\n",
    "Our goal is to gain more insight into the complaints given by civilians against police officers. While developing the scope of our project, we partially took inspiration from a 2019 study conducted by the GBD Police Violence US Subnational Collaborators, a research paper that details unreported police killings across the United States from 1980-2019 [<sup>4</sup>](#healthnote). This group found that across all races and states in the USA, 17,100 of the 30,800 deaths from police violence between 1980 and 2018 were unreported by the NVSS (USA National Vital Statistics System). Over this time period, the age-standardized mortality rate due to police violence was highest in non-Hispanic Black people (0.69 [95% CI 0.67–0.71] per 100,000), followed by Hispanic people of any race (0.35 [0.34–0.36]), non-Hispanic White people (0.20 [0.19–0.20]), and non-Hispanic people of other races (0.15 [0.14–0.16]). Besides the eye-opening statistics to further prove the importance of our issue, we aim to achieve this level of transparency and preciseness in our findings regarding applicable police punishment. Moreover, while our project will not directly detail the subject of unreported police killings by race, prior research such as this one gives us more inspiration to extend upon the information that is publicly available, develop a mathematical-driven system that can identify cases where police officers should be remediated for their actions against a civilian, and highlight the significance of organizations like The New York City Civilian Complaint Review Board (CCRB) in an effort to go against the notion of unreported police malpractice. On that note, the CCRB is an independent organization that investigates and recommends viable punishment against New York City police officers accused of abusing their authority through the likes of offensive language, discourtesy, and unnecessary force. Why New York City? Besides being one of the largest cities in America with an immense history of police brutality, New York City is also home to the largest police force on the globe, with over 50,000 active personnel. Therefore, this city’s police department acts as an important role model for other departments, which is why it is of great importance for the NYPD to lead by example and be held accountable when a citizen raises a complaint against one of their officers. Due to this role, the city of New York and the CCRB maintains ongoing, publicly available data regarding official complaints raised to the CCRB that keeps track of poor encounters with police officers in the city. The data includes, but is not limited to, the subject of the complaint, victim age and gender, and, most importantly, the overall punishment the CCRB gave the accused officer. \n",
    "\n",
    "We will utilize several classification algorithms to find overall patterns and trends between the instances of day-by-day police misconduct detailed in our datasets in an effort to generalize our results and precisely predict whether the CCRB declared a complaint to be substantiated or unsubstantiated. More specifically, we want to be able to obtain a clear understanding between the characteristics of each complaint to determine several baseline criteria that ultimately decides the occupational fate of an officer subject to one of these grievances. We believe that our model will enable us to effectively determine whether or not the CCRB is recommending enough punishment to the “bad apples” of the NYPD, while giving us the opportunity to discover any specific trends or examples of misconduct that tend to lead to more severe punishment for the police officer at hand.\n"
   ]
  },
  {
   "cell_type": "markdown",
   "metadata": {},
   "source": [
    "# Problem Statement\n",
    "\n",
    "To understand whether the Civilian Complaint Review Board (CCRB) recommends appropriate action for NYPD officers accused of abusing their authority, we will first perform an exploratory data analysis to identify underlying patterns and trends in the data. EDA is going to be an essential step for our project, as it helps us to make informed decisions about which features to include in our model. Our EDA will include the following steps:\n",
    "\n",
    "1. Data Cleaning/Preprocessing: We will first inspect the dataset for inconsistent values and perform any necessary cleaning and preprocessing tasks to ensure the data is ready for analysis. We will focus on utilizing one-hot encoding for any missing values we may find.\n",
    "2. Descriptive Statistics: We will use summary statistics and visualizations such as histograms, scatter plots, and box plots to gain an overall understanding of the distribution and relationships between our variables.\n",
    "3. Correlation Analysis: We will conduct a correlation analysis to determine the strength and direction of the relationships between the variables. This will allow us to identify any multicollinearity issues that may arise from including highly correlated variables in our model.\n",
    "4. Feature Selection: Based on the insights gained from the previous steps, we will select a subset of features that are most relevant to predicting whether a complaint is substantiated or unsubstantiated. This will help us to build a more accurate and interpretable model.\n",
    "5. Model Selection: After precisely choosing the features that are best suited for our problem, we will undergo a model selection task in an effort to determine the best model for our project. The models in consideration will be:\n",
    "> * K-Nearest Neighbors\n",
    "> * Logistic Regression\n",
    "> * Gradient Boosting\n",
    "> * Random Forest Classifier Algorithm\n",
    "\n",
    "6. Outlier Detection: We will detect any outliers in the dataset that could potentially impact our model performance and decide on how to handle them.\n",
    "7. Hypothesis Testing: We may conduct hypothesis testing to validate any insights or assumptions made during the EDA process.\n",
    "\n",
    "After conducting this process, we will have clean, well-understood data, and will be ready to begin the development of a classification model that can predict whether the CCRB declared a complaint as substantiated or unsubstantiated, which is described as the recommendation made by the CCRB based on the characteristics of the given complaint. We can compare the predictions made by our model to the actual CCRB recommendations and analyze the discrepancies to determine if there are any consistent patterns or trends in the data that may suggest bias. Furthermore, we can determine which features are found to be the most impactful from the dataset; if these features are discriminatory by nature, it may suggest discrimination within the process. \n",
    "\n",
    "For example, if our model predicts that a complaint is likely to be substantiated, but the CCRB recommends that it is unsubstantiated, we can investigate the reasons for this discrepancy. We may find that certain factors, such as race or gender, are disproportionately affecting the CCRB's recommendations, which would indicate a potential bias or injustice. We intend to understand exactly how the CCRB punishment categorization is obtained through the likes of our key variables in order to develop an ultimate baseline for police officers to abide by when interacting with the public. These can be seen as guidelines regarding what public actions condemn a reasonable amount of force, what situations call for the need to respect privacy, and when communication between the officer and public offender is the most crucial in order to mitigate the abuse of power. By defining these regulations, we can identify areas where police officers are deviating from their expected behavior, leading to injustices. Through our analysis, we aim to identify the key factors that contribute to inappropriate police behavior, such as excessive use of force, racial profiling, and bias. Our comprehensive set of standards can improve the consequences enforced by agencies like the CCRB when condemning police officers who violate these guidelines, thus promoting better accountability and responsible policing. \n",
    "\n",
    "Another important step in our analysis is to address the issue of systematic bias in the data. One way to counter this is by implementing techniques such as oversampling or undersampling to ensure that each category (substantiated or unsubstantiated) has an equal representation in the dataset. However, this can also introduce biases, and so it is important to carefully consider which techniques to use and to evaluate their impact on the model performance. Additionally, we can use methods such as sensitivity analysis to determine the robustness of our results to different sources of bias. By being mindful of the potential sources of bias in our data and taking steps to address them, we can ensure that our analysis accurately reflects the underlying patterns and trends in the data and provides actionable insights for improving police accountability and responsible policing.\n",
    "\n",
    "The process above will ultimately guide us towards achieving our goal of determining whether the CCRB is recommending appropriate punishment for NYPD officers accused of abusing their authority. It will also help in the development of a new, system-wide protocol that clearly defines viable actions police officers can perform in a public setting without overstepping the power they possess as law enforcement. Of course, none of this is possible without fitting the best prediction model (with the most appropriate features) to our data at hand and measuring the model’s performance through an F1-score. Only a well-performing model can accurately identify potential biases or injustices in the CCRB's recommendations and use this information to develop a new way of countering police misconduct.\n"
   ]
  },
  {
   "cell_type": "markdown",
   "metadata": {},
   "source": [
    "# Data\n",
    "\n",
    "[NYCLU Misconduct Database](https://www.nyclu.org/en/campaigns/nypd-misconduct-database)\n",
    "\n",
    "We will be using a dataset given by the NYCLU, the New York Civil Liberties Union, which is known as the NYPD Misconduct Complaint Database. \n",
    "The dataset has 279,645 unique complaints that we will be able to work with and has 35 relevant features for each complaint. \n",
    "A single observation includes a complaint made against an officer; this can include any of the following features:\n",
    "\n",
    "- `AsOfDate`: The last time the complaint was updated in the database\n",
    "- `AllegationID`: The ID of the recorded allegation \n",
    "- `LastName`: The last name of the officer \n",
    "- `FirstName`: The first name of the officer \n",
    "- `OfficerRace`: The race of the officer \n",
    "- `OfficerGender`: The gender of the officer \n",
    "- `OfficerID`: The id of the officer \n",
    "- `CurrentRank`: The current (abbreviated) rank of the officer \n",
    "- `CurrentRankLong`: The current (full) rank of the officer \n",
    "- `CurrentCommand`: The current station of the officer \n",
    "- `IncidentRank`: The (abbreviated) rank of the officer at the time of the incident \n",
    "- `IncidentRankLong`: The (full) rank of the officer at the time of the incident \n",
    "- `IncidentCommand`: The station of the officer at the time of the incident \n",
    "- `ShieldNo`: The badge number of the officer \n",
    "- `DaysOnForce`: The number of days the officer had been on duty \n",
    "- `Status`: The current status of the officer (active duty or retired) \n",
    "- `LastActive`: The most recent date that the officer was on duty \n",
    "- `ComplaintID`: The ID of the recorded complaint \n",
    "- `IncidentDate`: The date of the incident \n",
    "- `FADOType`: What type of complaint is being filed; E.g. Discourtesy, Offensive Language, Abuse of Authority, etc. \n",
    "- `Allegation`: What the specific allegation was against the officer \n",
    "- `CCRBDiposition`: CCRB’s final evaluation of the complaint \n",
    "- `BoardCat`: Simplified version of CCRB Disposition field \n",
    "- `PenaltyRec`: Description of CCRB charge recommendation \n",
    "- `NYPDDisposition`: NYPD final disposition of the complaint \n",
    "- `PenaltyDesc`: NYPD penalty given to the officer named in the complaint \n",
    "- `LocationType`: Type of location where the incident took place \n",
    "- `ContactReason`: Reason why police was contacted \n",
    "- `ContactOutcome`: Outcome of police-civilian contact \n",
    "- `IncidentPrecinct`: NYPD precinct where the incident took place \n",
    "- `ImpactedRace`: Self-reported race/ethnicity of the person impacted in the incident \n",
    "- `ImpactedGender`: Self-reported gender of the person impacted in the incident \n",
    "- `ImpactedAge`: Self-reported age of the person impacted in the incident \n",
    "- `ReceivedDate`: Date on which the CCRB received the complaint\n",
    "- `CloseDate`: Date on which the CCRB closed/completed the complaint \n",
    "\n",
    "\n",
    "For our prediction task, we are predicting the `CCRBDisposition` variable; there are 25 different actions that the CCRB can recommend in response to a complaint against an officer. However, the decisions can be boiled down to two different categories: 1) whether a claim was substantiated enough to remediate an officer (i.e. dismissal, legal action) or 2) whether a case could not be made to take action against an officer. Thus, we will binarize our variable by either indicating whether a complaint was substantiated (action was taken against an officer) or unsubstantiated (no action was taken against an officer). This makes the prediction task far simpler for the model. \n",
    "\n",
    "We believe that the most critical variables include ContactOutcome, Allegation, and CurrentRank. These features highlight the circumstances of the incident in the most influential terms. The actual allegation against the officer and the contact outcome can determine what had specifically occurred during the scenario. The current rank of the officer can influence how much power that officer holds in the precinct, and in turn may imply a safety net.\n",
    "\n",
    "Regarding missing values, we cannot confirm that our data retains a normal distribution and due to the nature of the data normalization complicates the approach. As a result, when handling missing values within the data, we will be adding a unique input to represent absent information. For numerical variables, we will replace a missing value with NaN. For categorical variables, since we will be implementing one-hot encoding, we will add another index to represent missing values. For example, a categorical variable with 3 possible responses, would have 4 possible indices, where the fourth index represents missing."
   ]
  },
  {
   "cell_type": "code",
   "execution_count": 24,
   "metadata": {},
   "outputs": [],
   "source": [
    "# import packages for data cleaning\n",
    "import pandas as pd\n",
    "import numpy as np"
   ]
  },
  {
   "cell_type": "code",
   "execution_count": 25,
   "metadata": {},
   "outputs": [
    {
     "name": "stderr",
     "output_type": "stream",
     "text": [
      "/opt/anaconda3/lib/python3.9/site-packages/IPython/core/interactiveshell.py:3444: DtypeWarning: Columns (10,11,12,18,23,24,25,26,27,28,29,30,31) have mixed types.Specify dtype option on import or set low_memory=False.\n",
      "  exec(code_obj, self.user_global_ns, self.user_ns)\n"
     ]
    },
    {
     "data": {
      "text/html": [
       "<div>\n",
       "<style scoped>\n",
       "    .dataframe tbody tr th:only-of-type {\n",
       "        vertical-align: middle;\n",
       "    }\n",
       "\n",
       "    .dataframe tbody tr th {\n",
       "        vertical-align: top;\n",
       "    }\n",
       "\n",
       "    .dataframe thead th {\n",
       "        text-align: right;\n",
       "    }\n",
       "</style>\n",
       "<table border=\"1\" class=\"dataframe\">\n",
       "  <thead>\n",
       "    <tr style=\"text-align: right;\">\n",
       "      <th></th>\n",
       "      <th>AsOfDate</th>\n",
       "      <th>AllegationID</th>\n",
       "      <th>LastName</th>\n",
       "      <th>FirstName</th>\n",
       "      <th>OfficerRace</th>\n",
       "      <th>OfficerGender</th>\n",
       "      <th>OfficerID</th>\n",
       "      <th>CurrentRank</th>\n",
       "      <th>CurrentRankLong</th>\n",
       "      <th>CurrentCommand</th>\n",
       "      <th>...</th>\n",
       "      <th>PenaltyDesc</th>\n",
       "      <th>LocationType</th>\n",
       "      <th>ContactReason</th>\n",
       "      <th>ContactOutcome</th>\n",
       "      <th>IncidentPrecinct</th>\n",
       "      <th>ImpactedRace</th>\n",
       "      <th>ImpactedGender</th>\n",
       "      <th>ImpactedAge</th>\n",
       "      <th>ReceivedDate</th>\n",
       "      <th>CloseDate</th>\n",
       "    </tr>\n",
       "  </thead>\n",
       "  <tbody>\n",
       "    <tr>\n",
       "      <th>0</th>\n",
       "      <td>4/20/2021</td>\n",
       "      <td>1119144</td>\n",
       "      <td>Ruscillo</td>\n",
       "      <td>Taylor</td>\n",
       "      <td>White</td>\n",
       "      <td>Female</td>\n",
       "      <td>54191</td>\n",
       "      <td>POF</td>\n",
       "      <td>Police Officer</td>\n",
       "      <td>MTN PCT</td>\n",
       "      <td>...</td>\n",
       "      <td>NaN</td>\n",
       "      <td>Apartment/house</td>\n",
       "      <td>Report-domestic dispute</td>\n",
       "      <td>No arrest made or summons issued</td>\n",
       "      <td>PCT 018</td>\n",
       "      <td>Hispanic</td>\n",
       "      <td>Male</td>\n",
       "      <td>29.0</td>\n",
       "      <td>2/15/2021</td>\n",
       "      <td>4/9/2021</td>\n",
       "    </tr>\n",
       "    <tr>\n",
       "      <th>1</th>\n",
       "      <td>4/20/2021</td>\n",
       "      <td>1116090</td>\n",
       "      <td>Medina</td>\n",
       "      <td>Nelson</td>\n",
       "      <td>Hispanic</td>\n",
       "      <td>Male</td>\n",
       "      <td>76926</td>\n",
       "      <td>POM</td>\n",
       "      <td>Police Officer</td>\n",
       "      <td>TB DT02</td>\n",
       "      <td>...</td>\n",
       "      <td>NaN</td>\n",
       "      <td>Subway station/train</td>\n",
       "      <td>C/V intervened on behalf of/observed encounter...</td>\n",
       "      <td>Arrest - other violation/crime</td>\n",
       "      <td>PCT 014</td>\n",
       "      <td>Black</td>\n",
       "      <td>Male</td>\n",
       "      <td>43.0</td>\n",
       "      <td>1/13/2021</td>\n",
       "      <td>3/9/2021</td>\n",
       "    </tr>\n",
       "    <tr>\n",
       "      <th>2</th>\n",
       "      <td>4/20/2021</td>\n",
       "      <td>1116091</td>\n",
       "      <td>Pierre</td>\n",
       "      <td>Bebeto</td>\n",
       "      <td>Black</td>\n",
       "      <td>Male</td>\n",
       "      <td>76976</td>\n",
       "      <td>POM</td>\n",
       "      <td>Police Officer</td>\n",
       "      <td>TB DT02</td>\n",
       "      <td>...</td>\n",
       "      <td>NaN</td>\n",
       "      <td>Subway station/train</td>\n",
       "      <td>C/V intervened on behalf of/observed encounter...</td>\n",
       "      <td>Arrest - other violation/crime</td>\n",
       "      <td>PCT 014</td>\n",
       "      <td>Black</td>\n",
       "      <td>Male</td>\n",
       "      <td>43.0</td>\n",
       "      <td>1/13/2021</td>\n",
       "      <td>3/9/2021</td>\n",
       "    </tr>\n",
       "    <tr>\n",
       "      <th>3</th>\n",
       "      <td>4/20/2021</td>\n",
       "      <td>1115473</td>\n",
       "      <td>Chapman</td>\n",
       "      <td>John</td>\n",
       "      <td>White</td>\n",
       "      <td>Male</td>\n",
       "      <td>18497</td>\n",
       "      <td>POM</td>\n",
       "      <td>Police Officer</td>\n",
       "      <td>075 PCT</td>\n",
       "      <td>...</td>\n",
       "      <td>NaN</td>\n",
       "      <td>Apartment/house</td>\n",
       "      <td>Report-domestic dispute</td>\n",
       "      <td>No arrest made or summons issued</td>\n",
       "      <td>PCT 075</td>\n",
       "      <td>NaN</td>\n",
       "      <td>Male</td>\n",
       "      <td>57.0</td>\n",
       "      <td>1/11/2021</td>\n",
       "      <td>3/10/2021</td>\n",
       "    </tr>\n",
       "    <tr>\n",
       "      <th>4</th>\n",
       "      <td>4/20/2021</td>\n",
       "      <td>1115475</td>\n",
       "      <td>Tafuro</td>\n",
       "      <td>Justin</td>\n",
       "      <td>White</td>\n",
       "      <td>Male</td>\n",
       "      <td>19003</td>\n",
       "      <td>POM</td>\n",
       "      <td>Police Officer</td>\n",
       "      <td>075 PCT</td>\n",
       "      <td>...</td>\n",
       "      <td>NaN</td>\n",
       "      <td>Apartment/house</td>\n",
       "      <td>Report-domestic dispute</td>\n",
       "      <td>No arrest made or summons issued</td>\n",
       "      <td>PCT 075</td>\n",
       "      <td>NaN</td>\n",
       "      <td>Male</td>\n",
       "      <td>57.0</td>\n",
       "      <td>1/11/2021</td>\n",
       "      <td>3/10/2021</td>\n",
       "    </tr>\n",
       "  </tbody>\n",
       "</table>\n",
       "<p>5 rows × 35 columns</p>\n",
       "</div>"
      ],
      "text/plain": [
       "    AsOfDate  AllegationID  LastName FirstName OfficerRace OfficerGender  \\\n",
       "0  4/20/2021       1119144  Ruscillo    Taylor       White        Female   \n",
       "1  4/20/2021       1116090    Medina    Nelson    Hispanic          Male   \n",
       "2  4/20/2021       1116091    Pierre    Bebeto       Black          Male   \n",
       "3  4/20/2021       1115473   Chapman      John       White          Male   \n",
       "4  4/20/2021       1115475    Tafuro    Justin       White          Male   \n",
       "\n",
       "   OfficerID CurrentRank CurrentRankLong CurrentCommand  ... PenaltyDesc  \\\n",
       "0      54191         POF  Police Officer        MTN PCT  ...         NaN   \n",
       "1      76926         POM  Police Officer        TB DT02  ...         NaN   \n",
       "2      76976         POM  Police Officer        TB DT02  ...         NaN   \n",
       "3      18497         POM  Police Officer        075 PCT  ...         NaN   \n",
       "4      19003         POM  Police Officer        075 PCT  ...         NaN   \n",
       "\n",
       "           LocationType                                      ContactReason  \\\n",
       "0       Apartment/house                            Report-domestic dispute   \n",
       "1  Subway station/train  C/V intervened on behalf of/observed encounter...   \n",
       "2  Subway station/train  C/V intervened on behalf of/observed encounter...   \n",
       "3       Apartment/house                            Report-domestic dispute   \n",
       "4       Apartment/house                            Report-domestic dispute   \n",
       "\n",
       "                     ContactOutcome  IncidentPrecinct ImpactedRace  \\\n",
       "0  No arrest made or summons issued           PCT 018     Hispanic   \n",
       "1    Arrest - other violation/crime           PCT 014        Black   \n",
       "2    Arrest - other violation/crime           PCT 014        Black   \n",
       "3  No arrest made or summons issued           PCT 075          NaN   \n",
       "4  No arrest made or summons issued           PCT 075          NaN   \n",
       "\n",
       "  ImpactedGender  ImpactedAge ReceivedDate  CloseDate  \n",
       "0           Male         29.0    2/15/2021   4/9/2021  \n",
       "1           Male         43.0    1/13/2021   3/9/2021  \n",
       "2           Male         43.0    1/13/2021   3/9/2021  \n",
       "3           Male         57.0    1/11/2021  3/10/2021  \n",
       "4           Male         57.0    1/11/2021  3/10/2021  \n",
       "\n",
       "[5 rows x 35 columns]"
      ]
     },
     "execution_count": 25,
     "metadata": {},
     "output_type": "execute_result"
    }
   ],
   "source": [
    "# load dataset\n",
    "ccrb = pd.read_csv(\"CCRB Complaint Database Raw 04.20.2021.csv\")\n",
    "ccrb.head()"
   ]
  },
  {
   "cell_type": "code",
   "execution_count": 26,
   "metadata": {
    "scrolled": false
   },
   "outputs": [
    {
     "data": {
      "text/plain": [
       "Index(['AsOfDate', 'AllegationID', 'LastName', 'FirstName', 'OfficerRace',\n",
       "       'OfficerGender', 'OfficerID', 'CurrentRank', 'CurrentRankLong',\n",
       "       'CurrentCommand', 'IncidentRank', 'IncidentRankLong', 'IncidentCommand',\n",
       "       'ShieldNo', 'DaysOnForce', 'Status', 'LastActive', 'ComplaintID',\n",
       "       'IncidentDate', 'FADOType', 'Allegation', 'CCRBDisposition', 'BoardCat',\n",
       "       'PenaltyRec', 'NYPDDisposition', 'PenaltyDesc', 'LocationType',\n",
       "       'ContactReason', 'ContactOutcome', 'IncidentPrecinct', 'ImpactedRace',\n",
       "       'ImpactedGender', 'ImpactedAge', 'ReceivedDate', 'CloseDate'],\n",
       "      dtype='object')"
      ]
     },
     "execution_count": 26,
     "metadata": {},
     "output_type": "execute_result"
    }
   ],
   "source": [
    "# examine all columns in ccrb dataset\n",
    "ccrb.columns"
   ]
  },
  {
   "cell_type": "markdown",
   "metadata": {},
   "source": [
    "Within this portion of the data cleaning process, we we choose to delete certain columns from the dataset; These columns include `AsOfDate`, `AllegationID`, `LastName`, `FirstName`, `ShieldNo`, `ComplaintID`, `PenaltyRec`, `NYPDDisposition`, `PenaltyDesc`, `LocationType`, `ReceivedDate`, `CloseDate`, `IncidentRank`, `CurrentRank`, `BoardCat`, and `OfficerID`. We chose to remove the names and shield number to ensure the protection of privacy for those involved. We also chose to remove the `EmploymentStatus`, `PenaltyRec`, `NYPDdisposition`, `PenaltyDesc`, `CurrentRank`, and `BoardCat` features because this may lead to an overfitting towards this variable; that is, the feature may suggest the outcome very simply (an unemployed officer is more likely to have had a negative outcome such as termination in comparison to an officer currently employed). Other features in this portion, such as `BoardCat`, are a shortened version of the information contained within the `CCRBDisposition` feature; if we were to leave the features in the dataset, the model could fit to this information with the greatest weight and in turn determine the `CCRBDisposition` from a column that provides the same information.\n",
    "Some variables have multiple columns with different interpretations (CurrentRank vs CurrentRankLong). To minimize repeated information, we remove the duplicate columns and focus on the features that provide the best understanding\n",
    " In order to lead the model towards a thorough analysis, we remove these variables. Lastly, we removed the dates, ID, and Location variables as they do not provide necessary information regarding the analysis"
   ]
  },
  {
   "cell_type": "code",
   "execution_count": 27,
   "metadata": {},
   "outputs": [
    {
     "data": {
      "text/html": [
       "<div>\n",
       "<style scoped>\n",
       "    .dataframe tbody tr th:only-of-type {\n",
       "        vertical-align: middle;\n",
       "    }\n",
       "\n",
       "    .dataframe tbody tr th {\n",
       "        vertical-align: top;\n",
       "    }\n",
       "\n",
       "    .dataframe thead th {\n",
       "        text-align: right;\n",
       "    }\n",
       "</style>\n",
       "<table border=\"1\" class=\"dataframe\">\n",
       "  <thead>\n",
       "    <tr style=\"text-align: right;\">\n",
       "      <th></th>\n",
       "      <th>officerrace</th>\n",
       "      <th>officergender</th>\n",
       "      <th>currentranklong</th>\n",
       "      <th>currentcommand</th>\n",
       "      <th>incidentranklong</th>\n",
       "      <th>incidentcommand</th>\n",
       "      <th>daysonforce</th>\n",
       "      <th>status</th>\n",
       "      <th>lastactive</th>\n",
       "      <th>incidentdate</th>\n",
       "      <th>fadotype</th>\n",
       "      <th>allegation</th>\n",
       "      <th>ccrbdisposition</th>\n",
       "      <th>contactreason</th>\n",
       "      <th>contactoutcome</th>\n",
       "      <th>incidentprecinct</th>\n",
       "      <th>impactedrace</th>\n",
       "      <th>impactedgender</th>\n",
       "      <th>impactedage</th>\n",
       "    </tr>\n",
       "  </thead>\n",
       "  <tbody>\n",
       "    <tr>\n",
       "      <th>0</th>\n",
       "      <td>white</td>\n",
       "      <td>female</td>\n",
       "      <td>police officer</td>\n",
       "      <td>mtn pct</td>\n",
       "      <td>police officer</td>\n",
       "      <td>mtn pct</td>\n",
       "      <td>672</td>\n",
       "      <td>active</td>\n",
       "      <td>4/1/2021</td>\n",
       "      <td>2/15/2021</td>\n",
       "      <td>abuse of authority</td>\n",
       "      <td>threat of arrest</td>\n",
       "      <td>complainant unavailable</td>\n",
       "      <td>report-domestic dispute</td>\n",
       "      <td>no arrest made or summons issued</td>\n",
       "      <td>pct 018</td>\n",
       "      <td>hispanic</td>\n",
       "      <td>male</td>\n",
       "      <td>29.0</td>\n",
       "    </tr>\n",
       "    <tr>\n",
       "      <th>1</th>\n",
       "      <td>hispanic</td>\n",
       "      <td>male</td>\n",
       "      <td>police officer</td>\n",
       "      <td>tb dt02</td>\n",
       "      <td>police officer</td>\n",
       "      <td>tb dt02</td>\n",
       "      <td>4753</td>\n",
       "      <td>active</td>\n",
       "      <td>4/1/2021</td>\n",
       "      <td>1/11/2021</td>\n",
       "      <td>force</td>\n",
       "      <td>physical force</td>\n",
       "      <td>closed - pending litigation</td>\n",
       "      <td>c/v intervened on behalf of/observed encounter...</td>\n",
       "      <td>arrest - other violation/crime</td>\n",
       "      <td>pct 014</td>\n",
       "      <td>black</td>\n",
       "      <td>male</td>\n",
       "      <td>43.0</td>\n",
       "    </tr>\n",
       "    <tr>\n",
       "      <th>2</th>\n",
       "      <td>black</td>\n",
       "      <td>male</td>\n",
       "      <td>police officer</td>\n",
       "      <td>tb dt02</td>\n",
       "      <td>police officer</td>\n",
       "      <td>tb dt02</td>\n",
       "      <td>924</td>\n",
       "      <td>active</td>\n",
       "      <td>4/1/2021</td>\n",
       "      <td>1/11/2021</td>\n",
       "      <td>force</td>\n",
       "      <td>physical force</td>\n",
       "      <td>closed - pending litigation</td>\n",
       "      <td>c/v intervened on behalf of/observed encounter...</td>\n",
       "      <td>arrest - other violation/crime</td>\n",
       "      <td>pct 014</td>\n",
       "      <td>black</td>\n",
       "      <td>male</td>\n",
       "      <td>43.0</td>\n",
       "    </tr>\n",
       "    <tr>\n",
       "      <th>3</th>\n",
       "      <td>white</td>\n",
       "      <td>male</td>\n",
       "      <td>police officer</td>\n",
       "      <td>075 pct</td>\n",
       "      <td>police officer</td>\n",
       "      <td>075 pct</td>\n",
       "      <td>361</td>\n",
       "      <td>active</td>\n",
       "      <td>4/1/2021</td>\n",
       "      <td>1/1/2021</td>\n",
       "      <td>discourtesy</td>\n",
       "      <td>word</td>\n",
       "      <td>complaint withdrawn</td>\n",
       "      <td>report-domestic dispute</td>\n",
       "      <td>no arrest made or summons issued</td>\n",
       "      <td>pct 075</td>\n",
       "      <td>NaN</td>\n",
       "      <td>male</td>\n",
       "      <td>57.0</td>\n",
       "    </tr>\n",
       "    <tr>\n",
       "      <th>4</th>\n",
       "      <td>white</td>\n",
       "      <td>male</td>\n",
       "      <td>police officer</td>\n",
       "      <td>075 pct</td>\n",
       "      <td>police officer</td>\n",
       "      <td>075 pct</td>\n",
       "      <td>2733</td>\n",
       "      <td>active</td>\n",
       "      <td>4/1/2021</td>\n",
       "      <td>1/1/2021</td>\n",
       "      <td>discourtesy</td>\n",
       "      <td>word</td>\n",
       "      <td>complaint withdrawn</td>\n",
       "      <td>report-domestic dispute</td>\n",
       "      <td>no arrest made or summons issued</td>\n",
       "      <td>pct 075</td>\n",
       "      <td>NaN</td>\n",
       "      <td>male</td>\n",
       "      <td>57.0</td>\n",
       "    </tr>\n",
       "  </tbody>\n",
       "</table>\n",
       "</div>"
      ],
      "text/plain": [
       "  officerrace officergender currentranklong currentcommand incidentranklong  \\\n",
       "0       white        female  police officer        mtn pct   police officer   \n",
       "1    hispanic          male  police officer        tb dt02   police officer   \n",
       "2       black          male  police officer        tb dt02   police officer   \n",
       "3       white          male  police officer        075 pct   police officer   \n",
       "4       white          male  police officer        075 pct   police officer   \n",
       "\n",
       "  incidentcommand  daysonforce  status lastactive incidentdate  \\\n",
       "0         mtn pct          672  active   4/1/2021    2/15/2021   \n",
       "1         tb dt02         4753  active   4/1/2021    1/11/2021   \n",
       "2         tb dt02          924  active   4/1/2021    1/11/2021   \n",
       "3         075 pct          361  active   4/1/2021     1/1/2021   \n",
       "4         075 pct         2733  active   4/1/2021     1/1/2021   \n",
       "\n",
       "             fadotype        allegation              ccrbdisposition  \\\n",
       "0  abuse of authority  threat of arrest      complainant unavailable   \n",
       "1               force    physical force  closed - pending litigation   \n",
       "2               force    physical force  closed - pending litigation   \n",
       "3         discourtesy              word          complaint withdrawn   \n",
       "4         discourtesy              word          complaint withdrawn   \n",
       "\n",
       "                                       contactreason  \\\n",
       "0                            report-domestic dispute   \n",
       "1  c/v intervened on behalf of/observed encounter...   \n",
       "2  c/v intervened on behalf of/observed encounter...   \n",
       "3                            report-domestic dispute   \n",
       "4                            report-domestic dispute   \n",
       "\n",
       "                     contactoutcome incidentprecinct impactedrace  \\\n",
       "0  no arrest made or summons issued          pct 018     hispanic   \n",
       "1    arrest - other violation/crime          pct 014        black   \n",
       "2    arrest - other violation/crime          pct 014        black   \n",
       "3  no arrest made or summons issued          pct 075          NaN   \n",
       "4  no arrest made or summons issued          pct 075          NaN   \n",
       "\n",
       "  impactedgender  impactedage  \n",
       "0           male         29.0  \n",
       "1           male         43.0  \n",
       "2           male         43.0  \n",
       "3           male         57.0  \n",
       "4           male         57.0  "
      ]
     },
     "execution_count": 27,
     "metadata": {},
     "output_type": "execute_result"
    }
   ],
   "source": [
    "# get rid of AsOfDate, AllegationID, LastName, FirstName, ComplaintID, PenaltyRec, NYPDDisposition, PenaltyDesc,\n",
    "# LocationType, ReceivedDate, CloseDate\n",
    "ccrb = ccrb.drop(columns = [\"AsOfDate\", \"AllegationID\", \"LastName\", \"FirstName\", \"ShieldNo\", \"ComplaintID\", \n",
    "                            \"PenaltyRec\", \"NYPDDisposition\", \"PenaltyDesc\", \"LocationType\", \"ReceivedDate\",\n",
    "                            \"CloseDate\", \"IncidentRank\", \"CurrentRank\", \"BoardCat\", \"OfficerID\"])\n",
    "\n",
    "# lowercase all column names and strings in column names\n",
    "ccrb.columns= ccrb.columns.str.lower()\n",
    "for column in list(ccrb.columns):\n",
    "    if type(ccrb[column][0]) == str:\n",
    "        ccrb[column] = ccrb[column].str.lower()\n",
    "\n",
    "ccrb.head()"
   ]
  },
  {
   "cell_type": "markdown",
   "metadata": {},
   "source": [
    "Now, we want to binarize the values in the `ccrbdisposition` column. As mentioned earlier, are 25 different actions that the CCRB can recommend in response to a complaint against an officer. However, the decisions can be boiled down to two different categories: 1) whether a claim was substantiated enough to remediate an officer (i.e. dismissal, legal action) or 2) whether a case could not be made to take action against an officer. Thus, we will binarize our variable by either indicating whether a complaint was substantiated (action was taken against an officer) or unsubstantiated (no action was taken against an officer). Thus, the binarization process is shown below."
   ]
  },
  {
   "cell_type": "code",
   "execution_count": 28,
   "metadata": {},
   "outputs": [
    {
     "data": {
      "text/html": [
       "<div>\n",
       "<style scoped>\n",
       "    .dataframe tbody tr th:only-of-type {\n",
       "        vertical-align: middle;\n",
       "    }\n",
       "\n",
       "    .dataframe tbody tr th {\n",
       "        vertical-align: top;\n",
       "    }\n",
       "\n",
       "    .dataframe thead th {\n",
       "        text-align: right;\n",
       "    }\n",
       "</style>\n",
       "<table border=\"1\" class=\"dataframe\">\n",
       "  <thead>\n",
       "    <tr style=\"text-align: right;\">\n",
       "      <th></th>\n",
       "      <th>officerrace</th>\n",
       "      <th>officergender</th>\n",
       "      <th>currentranklong</th>\n",
       "      <th>currentcommand</th>\n",
       "      <th>incidentranklong</th>\n",
       "      <th>incidentcommand</th>\n",
       "      <th>daysonforce</th>\n",
       "      <th>status</th>\n",
       "      <th>lastactive</th>\n",
       "      <th>incidentdate</th>\n",
       "      <th>fadotype</th>\n",
       "      <th>allegation</th>\n",
       "      <th>ccrbdisposition</th>\n",
       "      <th>contactreason</th>\n",
       "      <th>contactoutcome</th>\n",
       "      <th>incidentprecinct</th>\n",
       "      <th>impactedrace</th>\n",
       "      <th>impactedgender</th>\n",
       "      <th>impactedage</th>\n",
       "    </tr>\n",
       "  </thead>\n",
       "  <tbody>\n",
       "    <tr>\n",
       "      <th>0</th>\n",
       "      <td>white</td>\n",
       "      <td>female</td>\n",
       "      <td>police officer</td>\n",
       "      <td>mtn pct</td>\n",
       "      <td>police officer</td>\n",
       "      <td>mtn pct</td>\n",
       "      <td>672</td>\n",
       "      <td>active</td>\n",
       "      <td>4/1/2021</td>\n",
       "      <td>2/15/2021</td>\n",
       "      <td>abuse of authority</td>\n",
       "      <td>threat of arrest</td>\n",
       "      <td>unsubstantiated</td>\n",
       "      <td>report-domestic dispute</td>\n",
       "      <td>no arrest made or summons issued</td>\n",
       "      <td>pct 018</td>\n",
       "      <td>hispanic</td>\n",
       "      <td>male</td>\n",
       "      <td>29.0</td>\n",
       "    </tr>\n",
       "    <tr>\n",
       "      <th>1</th>\n",
       "      <td>hispanic</td>\n",
       "      <td>male</td>\n",
       "      <td>police officer</td>\n",
       "      <td>tb dt02</td>\n",
       "      <td>police officer</td>\n",
       "      <td>tb dt02</td>\n",
       "      <td>4753</td>\n",
       "      <td>active</td>\n",
       "      <td>4/1/2021</td>\n",
       "      <td>1/11/2021</td>\n",
       "      <td>force</td>\n",
       "      <td>physical force</td>\n",
       "      <td>unsubstantiated</td>\n",
       "      <td>c/v intervened on behalf of/observed encounter...</td>\n",
       "      <td>arrest - other violation/crime</td>\n",
       "      <td>pct 014</td>\n",
       "      <td>black</td>\n",
       "      <td>male</td>\n",
       "      <td>43.0</td>\n",
       "    </tr>\n",
       "    <tr>\n",
       "      <th>2</th>\n",
       "      <td>black</td>\n",
       "      <td>male</td>\n",
       "      <td>police officer</td>\n",
       "      <td>tb dt02</td>\n",
       "      <td>police officer</td>\n",
       "      <td>tb dt02</td>\n",
       "      <td>924</td>\n",
       "      <td>active</td>\n",
       "      <td>4/1/2021</td>\n",
       "      <td>1/11/2021</td>\n",
       "      <td>force</td>\n",
       "      <td>physical force</td>\n",
       "      <td>unsubstantiated</td>\n",
       "      <td>c/v intervened on behalf of/observed encounter...</td>\n",
       "      <td>arrest - other violation/crime</td>\n",
       "      <td>pct 014</td>\n",
       "      <td>black</td>\n",
       "      <td>male</td>\n",
       "      <td>43.0</td>\n",
       "    </tr>\n",
       "    <tr>\n",
       "      <th>3</th>\n",
       "      <td>white</td>\n",
       "      <td>male</td>\n",
       "      <td>police officer</td>\n",
       "      <td>075 pct</td>\n",
       "      <td>police officer</td>\n",
       "      <td>075 pct</td>\n",
       "      <td>361</td>\n",
       "      <td>active</td>\n",
       "      <td>4/1/2021</td>\n",
       "      <td>1/1/2021</td>\n",
       "      <td>discourtesy</td>\n",
       "      <td>word</td>\n",
       "      <td>unsubstantiated</td>\n",
       "      <td>report-domestic dispute</td>\n",
       "      <td>no arrest made or summons issued</td>\n",
       "      <td>pct 075</td>\n",
       "      <td>NaN</td>\n",
       "      <td>male</td>\n",
       "      <td>57.0</td>\n",
       "    </tr>\n",
       "    <tr>\n",
       "      <th>4</th>\n",
       "      <td>white</td>\n",
       "      <td>male</td>\n",
       "      <td>police officer</td>\n",
       "      <td>075 pct</td>\n",
       "      <td>police officer</td>\n",
       "      <td>075 pct</td>\n",
       "      <td>2733</td>\n",
       "      <td>active</td>\n",
       "      <td>4/1/2021</td>\n",
       "      <td>1/1/2021</td>\n",
       "      <td>discourtesy</td>\n",
       "      <td>word</td>\n",
       "      <td>unsubstantiated</td>\n",
       "      <td>report-domestic dispute</td>\n",
       "      <td>no arrest made or summons issued</td>\n",
       "      <td>pct 075</td>\n",
       "      <td>NaN</td>\n",
       "      <td>male</td>\n",
       "      <td>57.0</td>\n",
       "    </tr>\n",
       "  </tbody>\n",
       "</table>\n",
       "</div>"
      ],
      "text/plain": [
       "  officerrace officergender currentranklong currentcommand incidentranklong  \\\n",
       "0       white        female  police officer        mtn pct   police officer   \n",
       "1    hispanic          male  police officer        tb dt02   police officer   \n",
       "2       black          male  police officer        tb dt02   police officer   \n",
       "3       white          male  police officer        075 pct   police officer   \n",
       "4       white          male  police officer        075 pct   police officer   \n",
       "\n",
       "  incidentcommand  daysonforce  status lastactive incidentdate  \\\n",
       "0         mtn pct          672  active   4/1/2021    2/15/2021   \n",
       "1         tb dt02         4753  active   4/1/2021    1/11/2021   \n",
       "2         tb dt02          924  active   4/1/2021    1/11/2021   \n",
       "3         075 pct          361  active   4/1/2021     1/1/2021   \n",
       "4         075 pct         2733  active   4/1/2021     1/1/2021   \n",
       "\n",
       "             fadotype        allegation  ccrbdisposition  \\\n",
       "0  abuse of authority  threat of arrest  unsubstantiated   \n",
       "1               force    physical force  unsubstantiated   \n",
       "2               force    physical force  unsubstantiated   \n",
       "3         discourtesy              word  unsubstantiated   \n",
       "4         discourtesy              word  unsubstantiated   \n",
       "\n",
       "                                       contactreason  \\\n",
       "0                            report-domestic dispute   \n",
       "1  c/v intervened on behalf of/observed encounter...   \n",
       "2  c/v intervened on behalf of/observed encounter...   \n",
       "3                            report-domestic dispute   \n",
       "4                            report-domestic dispute   \n",
       "\n",
       "                     contactoutcome incidentprecinct impactedrace  \\\n",
       "0  no arrest made or summons issued          pct 018     hispanic   \n",
       "1    arrest - other violation/crime          pct 014        black   \n",
       "2    arrest - other violation/crime          pct 014        black   \n",
       "3  no arrest made or summons issued          pct 075          NaN   \n",
       "4  no arrest made or summons issued          pct 075          NaN   \n",
       "\n",
       "  impactedgender  impactedage  \n",
       "0           male         29.0  \n",
       "1           male         43.0  \n",
       "2           male         43.0  \n",
       "3           male         57.0  \n",
       "4           male         57.0  "
      ]
     },
     "execution_count": 28,
     "metadata": {},
     "output_type": "execute_result"
    }
   ],
   "source": [
    "# binarize the CCRBDisposition column between (0) unsubstantiated and (1) substantiated\n",
    "# if substantiated, switch to substantiated; if anything else, then unsubstantiated\n",
    "ccrbDispositionList = list(ccrb[\"ccrbdisposition\"])\n",
    "for i in range(len(ccrbDispositionList)):\n",
    "    if \"substantiated\" in ccrbDispositionList[i] and \"unsubstantiated\" not in ccrbDispositionList[i]:\n",
    "        ccrbDispositionList[i] = \"substantiated\"\n",
    "    else:\n",
    "        ccrbDispositionList[i] = \"unsubstantiated\"\n",
    "\n",
    "ccrb[\"ccrbdisposition\"] = ccrbDispositionList\n",
    "ccrb.head()"
   ]
  },
  {
   "cell_type": "code",
   "execution_count": null,
   "metadata": {},
   "outputs": [],
   "source": []
  },
  {
   "cell_type": "markdown",
   "metadata": {},
   "source": [
    "# Proposed Solution\n",
    "\n",
    "As a reminder, our dataset is the `CCRB Complaint Database Raw 04.20.2021.csv` dataset, which was taken from NYCLU’s GitHub under its NYPD Misconduct Complaint Database repository. An important point to note is that there are 35 columns in the dataset and that more than half of them contain string categorical variables. Also, while the “CCRBDisposition” column contains 25 different actions that the CCRB can take to respond to a complaint, these 25 actions can be boiled down to a binary variable of whether a complaint was “Substantiated” (officer was remediated in some sort of way) or “Not Substantiated” (the officer was not remediated), and this binary variable is what we want to predict. \n",
    "\n",
    "We are not able to reference a benchmark model because there isn't any model that tries to make the predictions that we are striving to make. Since referencing a benchmark model is not appropriate in our case, pivoting to the usage of a baseline mode and using other classifiers would make sense. Given that picking a naive baseline model would result in one of our non-trivial classifierclassifer beating the baseline model's F1-score by default, we, we figured that it would be far more interesting to simply compare the performance of four different classification models. Specifically, for each model, we will select the features that have the most weight in predicting whether a complaint is substantiated or unsubstantiated by using the Eli5 Python library. Then, we will compare each optimized model and examine which one has the highest F1-score.\n",
    "\n",
    "Our first classification algorithm will be K-Nearest Neighbors. In our case, we can use the relevant features mentioned in the dataset (such as the type of complaint, impacted gender, etc.) as input variables and the binary outcome of whether the complaint was substantiated or not as the target variable. Then, we can apply the KNN algorithm to find the K most similar complaints to a new complaint and predict its outcome based on the labels of those K neighbors. One advantage of using KNN is that it is a non-parametric algorithm, meaning that it does not make any assumptions about the underlying distribution of the data. This makes it suitable for our complex dataset, where the relationships between the input variables and the target variable may not be straightforward or easy to model using parametric methods such as logistic regression. Another strength of KNN is its interpretability. Unlike some other machine learning models, such as neural networks or decision trees, KNN outputs a clear and intuitive decision based on the similarity of the input variables to the training data. This makes it easier to explain the reasoning behind our predictions which is especially important in sensitive domains such as policing. It will be important to carefully tune the value of K and the distance metric used to measure similarity to achieve optimal performance of this model.\n",
    "\n",
    "Our second classification algorithm will be logistic regression using the relevant features mentioned above to predict whether a complaint against a police officer was substantiated or unsubstantiated. Logistic regression is a suitable algorithm for predicting binary outcomes like ours, and can be used to estimate the probability of a substantiated or unsubstantiated outcome based on our many predictor variables. More specifically, we can use logistic regression to analyze the relationship between our most relevant features and the likelihood of a complaint being substantiated or not. By modeling our outcomes through the use of the Eli5 Python package, we can determine the most influential variables in predicting our overall outcome, and potentially use that information to generalize to policymakers when it comes to substantiated complaints about the police. Additionally, logistic regression models have the advantage of being relatively easy to interpret, so once feature selection is completed, it should not be very difficult to extract our most important features and focus on those when eventually running our models.and, more importantly, can be used as a stepping stone to perform \n",
    "\n",
    "Our third classification algorithm will be gradient boosting using the relevant features mentioned above to predict whether a complaint against a police officer was substantiated or unsubstantiated. Gradient boosting is another suitable outcome for oubinary problems, especially since the relationship between our predictor and outcome variables are complex and non-linear. It can arguably handle high-dimensional data in a more efficient way than logistic regression, which will be crucial when it comes to the processing time of our large data set. Similar to logistic regression, we will be able to use this algorithm to process our most important features and analyze the relationship between them and our outcome variable (and, compare these results to what was found using KNN and logistic regression). We can also use gradient boosting to balance the number of instances belonging to each class. For example, there could be a high number of complaints that are substantiated compared to those that are not, leading to an imbalanced and biased model that is more accurate in predicting the majority class as opposed to the minority class. Gradient boosting can handle this by assigning higher weights to the misclassified instances, leading to a much more accurate and fair model that will better generalize to unseen data. utomatically select the most important features when predicting our final outcome\n",
    "\n",
    "Our fourth classification algorithm will be the random forest classifier algorithm using the relevant features mentioned above to predict whether a complaint against a police officer was substantiated or unsubstantiated. In terms of the libraries that would be most relevant to our project, scikit-learn has a module called ensemble, which contains the random forest classifier algorithm. Furthermore, we will also be using the train_test_split package under scikit-learn to split the training data and test data from each other. In terms of what makes a random forest classifier a good choice for our problem, it handles class imbalance and missing values in a different way than our other algorithms. We can utilize balanced subsampling to counter the effects of class imbalance that were described previously, and has the ability to process missing values in our dataset while in the act of training, saving us a lot of time (unlike logistic regression and gradient boosting, where we have to impute or one-hot encode our variables during the preprocessing stage). Random forest classifiers also have fewer hyperparameters for us to tune while still providing interpretable importance scores in regards to our selected features, adding to its efficiency and usefulness when considering how complex our data is."
   ]
  },
  {
   "cell_type": "markdown",
   "metadata": {},
   "source": [
    "# Evaluation Metrics\n",
    "\n",
    "We will be using the F1-score due to how it is a balance of the precision and recall scores. Both precision and recall are especially important to the context and one should not be chosen over the other; attempting to maintain a high precision rate will let us know that we are able to more accurately predict complaints that are actually substantiated. A high recall rate will let us know that we are able to accurately predict complaints that are not substantiated, which means that . To calculate the Precision and Recall scores, we have the following formulas…\n",
    "\n",
    "$$\\text{Precision} = \\frac{\\text{True Positive}}{\\text{True Positive + False Positive}}$$\n",
    "\n",
    "$$\\text{Recall} = \\frac{\\text{True Positive}}{\\text{True Positive + False Negative}}$$\n",
    "\n",
    "\n",
    "Finally, The F1-score formula can be found below…\n",
    "\n",
    "$$\\text{F1-score} = \\frac{2 \\times \\text{Precision} \\times \\text{Recall}}{\\text{Precision} + \\text{Recall}}$$\n",
    "\n",
    "The detriments of having either a low precision or low recall score also illustrates why both are equally important. Having low precision rate means that we are unnecessarily taking actions against police officers for a complaint that is actually unsubstantiated. On the other hand, having a low recall rate means that we are overlooking a complaint that can be utilized to discipline an officer who abused their authority. Thus, since both precision and recall are equally important to the context of this question, the F1-score, which is a harmonic mean of both metrics, will be utilized.\n"
   ]
  },
  {
   "cell_type": "markdown",
   "metadata": {},
   "source": [
    "# Preliminary results"
   ]
  },
  {
   "cell_type": "markdown",
   "metadata": {},
   "source": [
    "We will start off by performing some basic exploratory data analysis for our data. In order to do so, we first the seaborn and matplotlib packages, both of which will be utilized to help visualize our data."
   ]
  },
  {
   "cell_type": "code",
   "execution_count": 29,
   "metadata": {},
   "outputs": [],
   "source": [
    "# import libraries\n",
    "import seaborn as sns\n",
    "import matplotlib.pyplot as plt\n"
   ]
  },
  {
   "cell_type": "markdown",
   "metadata": {},
   "source": [
    "First, we take note of the size of the `ccrb` dataframe as shown below. As we can see, there are 279,644 rows and 19 columns after doing some initial data cleaning from the previous section."
   ]
  },
  {
   "cell_type": "code",
   "execution_count": 30,
   "metadata": {},
   "outputs": [
    {
     "data": {
      "text/plain": [
       "(279644, 19)"
      ]
     },
     "execution_count": 30,
     "metadata": {},
     "output_type": "execute_result"
    }
   ],
   "source": [
    "# check number of rows and columns in ccrb dataset\n",
    "ccrb.shape"
   ]
  },
  {
   "cell_type": "markdown",
   "metadata": {},
   "source": [
    "Next, we are curious to examine the different data types that make up the `ccrb`dataframe. Below, we notice that two of the columns, `daysonforce` and `impactedage`, are numeric and the rest are categorical. "
   ]
  },
  {
   "cell_type": "code",
   "execution_count": 31,
   "metadata": {
    "scrolled": true
   },
   "outputs": [
    {
     "data": {
      "text/plain": [
       "officerrace          object\n",
       "officergender        object\n",
       "currentranklong      object\n",
       "currentcommand       object\n",
       "incidentranklong     object\n",
       "incidentcommand      object\n",
       "daysonforce           int64\n",
       "status               object\n",
       "lastactive           object\n",
       "incidentdate         object\n",
       "fadotype             object\n",
       "allegation           object\n",
       "ccrbdisposition      object\n",
       "contactreason        object\n",
       "contactoutcome       object\n",
       "incidentprecinct     object\n",
       "impactedrace         object\n",
       "impactedgender       object\n",
       "impactedage         float64\n",
       "dtype: object"
      ]
     },
     "execution_count": 31,
     "metadata": {},
     "output_type": "execute_result"
    }
   ],
   "source": [
    "# examine the different datatypes of each column\n",
    "ccrb.dtypes"
   ]
  },
  {
   "cell_type": "markdown",
   "metadata": {},
   "source": [
    "We use the `describe` function in Python to examine summary statistics of the numeric columns that make up the `ccrb` dataset. Considering that the `desribe` function only examines summary statistics for numeric columns, the output shown below for the `daysonforce` and `impactedage` columns is quite straightforward. However, we notice that the `impactedage` column, which represents the column of each complainant's age, has a value over 200. We may need to take a close eye into this situation and find a way to handle this excessive case, since the oldest person in the world is currently 116 years old."
   ]
  },
  {
   "cell_type": "code",
   "execution_count": 32,
   "metadata": {},
   "outputs": [
    {
     "data": {
      "text/html": [
       "<div>\n",
       "<style scoped>\n",
       "    .dataframe tbody tr th:only-of-type {\n",
       "        vertical-align: middle;\n",
       "    }\n",
       "\n",
       "    .dataframe tbody tr th {\n",
       "        vertical-align: top;\n",
       "    }\n",
       "\n",
       "    .dataframe thead th {\n",
       "        text-align: right;\n",
       "    }\n",
       "</style>\n",
       "<table border=\"1\" class=\"dataframe\">\n",
       "  <thead>\n",
       "    <tr style=\"text-align: right;\">\n",
       "      <th></th>\n",
       "      <th>daysonforce</th>\n",
       "      <th>impactedage</th>\n",
       "    </tr>\n",
       "  </thead>\n",
       "  <tbody>\n",
       "    <tr>\n",
       "      <th>count</th>\n",
       "      <td>279644.000000</td>\n",
       "      <td>156588.000000</td>\n",
       "    </tr>\n",
       "    <tr>\n",
       "      <th>mean</th>\n",
       "      <td>2627.786500</td>\n",
       "      <td>30.919132</td>\n",
       "    </tr>\n",
       "    <tr>\n",
       "      <th>std</th>\n",
       "      <td>2254.099378</td>\n",
       "      <td>96.703392</td>\n",
       "    </tr>\n",
       "    <tr>\n",
       "      <th>min</th>\n",
       "      <td>-43281.000000</td>\n",
       "      <td>-7091.000000</td>\n",
       "    </tr>\n",
       "    <tr>\n",
       "      <th>25%</th>\n",
       "      <td>1043.000000</td>\n",
       "      <td>23.000000</td>\n",
       "    </tr>\n",
       "    <tr>\n",
       "      <th>50%</th>\n",
       "      <td>2140.000000</td>\n",
       "      <td>30.000000</td>\n",
       "    </tr>\n",
       "    <tr>\n",
       "      <th>75%</th>\n",
       "      <td>3931.000000</td>\n",
       "      <td>41.000000</td>\n",
       "    </tr>\n",
       "    <tr>\n",
       "      <th>max</th>\n",
       "      <td>14658.000000</td>\n",
       "      <td>222.000000</td>\n",
       "    </tr>\n",
       "  </tbody>\n",
       "</table>\n",
       "</div>"
      ],
      "text/plain": [
       "         daysonforce    impactedage\n",
       "count  279644.000000  156588.000000\n",
       "mean     2627.786500      30.919132\n",
       "std      2254.099378      96.703392\n",
       "min    -43281.000000   -7091.000000\n",
       "25%      1043.000000      23.000000\n",
       "50%      2140.000000      30.000000\n",
       "75%      3931.000000      41.000000\n",
       "max     14658.000000     222.000000"
      ]
     },
     "execution_count": 32,
     "metadata": {},
     "output_type": "execute_result"
    }
   ],
   "source": [
    "# ccrb EDA again to check changes in values\n",
    "ccrb.describe()"
   ]
  },
  {
   "cell_type": "markdown",
   "metadata": {},
   "source": [
    "Since the `daysonforce` column is numeric, we are curious to examine the distribution of the values that represent the range of values that make up the number of days that officers who have complaints against them have been in the police force. Below, we use a seaborn histplot to examine the distribution a little further."
   ]
  },
  {
   "cell_type": "code",
   "execution_count": 33,
   "metadata": {},
   "outputs": [
    {
     "data": {
      "text/plain": [
       "[Text(0.5, 0, 'Days on Police Force')]"
      ]
     },
     "execution_count": 33,
     "metadata": {},
     "output_type": "execute_result"
    },
    {
     "data": {
      "image/png": "[encoded data removed]",
      "text/plain": [
       "<Figure size 432x288 with 1 Axes>"
      ]
     },
     "metadata": {
      "needs_background": "light"
     },
     "output_type": "display_data"
    }
   ],
   "source": [
    "sns.histplot(data = ccrb, x = \"daysonforce\").set(xlabel = \"Days on Police Force\")"
   ]
  },
  {
   "cell_type": "markdown",
   "metadata": {},
   "source": [
    "\n",
    "We notice immediately that the plot also take into account negative values, which means that there are negative values in our `daysonforce` column. Having a negative value represent the number of days that a police officer has been on the police force is odd, so we want to consider options as to how we will address this issue. Firstly, we want to see how many of the rows have negative values in the `daysonforce` column, which can be shown below."
   ]
  },
  {
   "cell_type": "code",
   "execution_count": 34,
   "metadata": {},
   "outputs": [
    {
     "data": {
      "text/plain": [
       "147"
      ]
     },
     "execution_count": 34,
     "metadata": {},
     "output_type": "execute_result"
    }
   ],
   "source": [
    "# number of rows that have values < 0 for daysonforce column\n",
    "ccrb[ccrb[\"daysonforce\"] < 0].shape[0]"
   ]
  },
  {
   "cell_type": "markdown",
   "metadata": {},
   "source": [
    "Since there are hundreds of thousands of rows, dropping less than 200 rows will have a menial effect on the performance of the model. While some sort of an imputation method was considered, imputation was ultimately thrown out because of how we couldn't assume that the `daysonforce` column is normally distributed, since imputation on numeric data through mean or mode will influence the performance of the classifiation models. Thus, we chose to drop all rows with `daysonforce` values less than 0."
   ]
  },
  {
   "cell_type": "code",
   "execution_count": 35,
   "metadata": {},
   "outputs": [
    {
     "data": {
      "text/plain": [
       "[Text(0.5, 0, 'Days on Police Force')]"
      ]
     },
     "execution_count": 35,
     "metadata": {},
     "output_type": "execute_result"
    },
    {
     "data": {
      "image/png": "[encoded data removed]",
      "text/plain": [
       "<Figure size 432x288 with 1 Axes>"
      ]
     },
     "metadata": {
      "needs_background": "light"
     },
     "output_type": "display_data"
    }
   ],
   "source": [
    "# get rid of rows with daysonforce values less than 0\n",
    "# display seaborn histplot of distribution of daysonforce column\n",
    "ccrb = ccrb.drop(ccrb[ccrb[\"daysonforce\"] < 0].index)\n",
    "sns.histplot(data = ccrb, x = \"daysonforce\", kde = \"True\").set(xlabel = \"Days on Police Force\")"
   ]
  },
  {
   "cell_type": "markdown",
   "metadata": {},
   "source": [
    "On a similar note, since the `impactedage` column is numeric, we are curious to examine the distribution of the values that represent the range of values that make up the ages of the complainants. Below, we use a seaborn histplot to examine the distribution a little further."
   ]
  },
  {
   "cell_type": "code",
   "execution_count": 36,
   "metadata": {},
   "outputs": [
    {
     "data": {
      "text/plain": [
       "[Text(0.5, 0, 'Age of the Impacted Complainant')]"
      ]
     },
     "execution_count": 36,
     "metadata": {},
     "output_type": "execute_result"
    },
    {
     "data": {
      "image/png": "[encoded data removed]",
      "text/plain": [
       "<Figure size 432x288 with 1 Axes>"
      ]
     },
     "metadata": {
      "needs_background": "light"
     },
     "output_type": "display_data"
    }
   ],
   "source": [
    "# seaborn histplot of distribution of impactedage column\n",
    "sns.histplot(data = ccrb, x = \"impactedage\").set(xlabel = \"Age of the Impacted Complainant\")"
   ]
  },
  {
   "cell_type": "markdown",
   "metadata": {},
   "source": [
    "Similar to the `daysonforce` column, we immediately notice that there appear to be negative values present when representing values in the `impactedage` column, which illustrates the number of days that the officer to whom the complaint is targetted has been on the Police Force. According to the NYCLU, negative values in this case can account for a variety of reasons, including data entry errors, ambiguous or missing date of birth, and alleged misconduct occurring before the complainant's birth. The problem on our end is that we can't assume what reason each individual has regarding why they have a negative value for the number of days that they have been on the police force. In order to make a decision regarding how we deal with negative values, we take note of the fact that less than 200 rows in the `ccrb` dataset have negative values for the `impactedage` column. However, we also know that there are extrememley high values that were utilized to represent the ages of people. We notice that there are only two rows that have age values greater than 116. So, we decided to drop the two rows, since dropping two rows out of hundreds of thousands of remaining rows will have almost no effect on the model."
   ]
  },
  {
   "cell_type": "code",
   "execution_count": 37,
   "metadata": {},
   "outputs": [
    {
     "data": {
      "text/plain": [
       "2"
      ]
     },
     "execution_count": 37,
     "metadata": {},
     "output_type": "execute_result"
    }
   ],
   "source": [
    "# examine number of rows with impactedage values > 116\n",
    "ccrb[ccrb[\"impactedage\"] > 116].shape[0]"
   ]
  },
  {
   "cell_type": "code",
   "execution_count": 38,
   "metadata": {},
   "outputs": [
    {
     "data": {
      "text/plain": [
       "91"
      ]
     },
     "execution_count": 38,
     "metadata": {},
     "output_type": "execute_result"
    }
   ],
   "source": [
    "# examine number of rows with impactedage values < 0\n",
    "ccrb[ccrb[\"impactedage\"] < 0].shape[0]"
   ]
  },
  {
   "cell_type": "markdown",
   "metadata": {},
   "source": [
    "Thus, we removed the rows with values in the `impactedage` column that are greater than 116 or less than 0. This change was conducted with the code below."
   ]
  },
  {
   "cell_type": "code",
   "execution_count": 39,
   "metadata": {},
   "outputs": [
    {
     "data": {
      "text/plain": [
       "[Text(0.5, 0, 'Age of the Impacted Complainant')]"
      ]
     },
     "execution_count": 39,
     "metadata": {},
     "output_type": "execute_result"
    },
    {
     "data": {
      "image/png": "[encoded data removed]",
      "text/plain": [
       "<Figure size 432x288 with 1 Axes>"
      ]
     },
     "metadata": {
      "needs_background": "light"
     },
     "output_type": "display_data"
    }
   ],
   "source": [
    "# drop rows with impactedage values < 0 or > 116 and display histogram distribution\n",
    "ccrb = ccrb.drop(ccrb[ccrb[\"impactedage\"] < 0].index)\n",
    "ccrb = ccrb.drop(ccrb[ccrb[\"impactedage\"] > 116].index)\n",
    "sns.histplot(data = ccrb, x = \"impactedage\", kde = True).set(xlabel = \"Age of the Impacted Complainant\")"
   ]
  },
  {
   "cell_type": "markdown",
   "metadata": {},
   "source": [
    "Therefore, our EDA process illustrates that the data cleaning process still occurs at the exploratory stage when peculiar instances of data must be addressed. We provided the summary statistics once again for the two numeric columns to showcase the slight difference that occurred as a result of dropping rows based on the reasons outlined above."
   ]
  },
  {
   "cell_type": "code",
   "execution_count": 40,
   "metadata": {},
   "outputs": [
    {
     "data": {
      "text/html": [
       "<div>\n",
       "<style scoped>\n",
       "    .dataframe tbody tr th:only-of-type {\n",
       "        vertical-align: middle;\n",
       "    }\n",
       "\n",
       "    .dataframe tbody tr th {\n",
       "        vertical-align: top;\n",
       "    }\n",
       "\n",
       "    .dataframe thead th {\n",
       "        text-align: right;\n",
       "    }\n",
       "</style>\n",
       "<table border=\"1\" class=\"dataframe\">\n",
       "  <thead>\n",
       "    <tr style=\"text-align: right;\">\n",
       "      <th></th>\n",
       "      <th>daysonforce</th>\n",
       "      <th>impactedage</th>\n",
       "    </tr>\n",
       "  </thead>\n",
       "  <tbody>\n",
       "    <tr>\n",
       "      <th>count</th>\n",
       "      <td>279404.000000</td>\n",
       "      <td>156413.000000</td>\n",
       "    </tr>\n",
       "    <tr>\n",
       "      <th>mean</th>\n",
       "      <td>2647.787902</td>\n",
       "      <td>32.693286</td>\n",
       "    </tr>\n",
       "    <tr>\n",
       "      <th>std</th>\n",
       "      <td>2060.123449</td>\n",
       "      <td>12.360201</td>\n",
       "    </tr>\n",
       "    <tr>\n",
       "      <th>min</th>\n",
       "      <td>0.000000</td>\n",
       "      <td>0.000000</td>\n",
       "    </tr>\n",
       "    <tr>\n",
       "      <th>25%</th>\n",
       "      <td>1044.000000</td>\n",
       "      <td>23.000000</td>\n",
       "    </tr>\n",
       "    <tr>\n",
       "      <th>50%</th>\n",
       "      <td>2141.000000</td>\n",
       "      <td>30.000000</td>\n",
       "    </tr>\n",
       "    <tr>\n",
       "      <th>75%</th>\n",
       "      <td>3932.000000</td>\n",
       "      <td>41.000000</td>\n",
       "    </tr>\n",
       "    <tr>\n",
       "      <th>max</th>\n",
       "      <td>14658.000000</td>\n",
       "      <td>115.000000</td>\n",
       "    </tr>\n",
       "  </tbody>\n",
       "</table>\n",
       "</div>"
      ],
      "text/plain": [
       "         daysonforce    impactedage\n",
       "count  279404.000000  156413.000000\n",
       "mean     2647.787902      32.693286\n",
       "std      2060.123449      12.360201\n",
       "min         0.000000       0.000000\n",
       "25%      1044.000000      23.000000\n",
       "50%      2141.000000      30.000000\n",
       "75%      3932.000000      41.000000\n",
       "max     14658.000000     115.000000"
      ]
     },
     "execution_count": 40,
     "metadata": {},
     "output_type": "execute_result"
    }
   ],
   "source": [
    "# summary statistics for numeric columns in ccrb dataset\n",
    "ccrb.describe()"
   ]
  },
  {
   "cell_type": "markdown",
   "metadata": {},
   "source": [
    "Next, we separated the categorical columns from the numeric columns by keepin column names into two different lists. However, the `ccrbdisposition` column was not counted as a categorical column because we only wanted to include features into these two lists; as a reminder, we are predicting a binarized version of the `ccrbdisposition` column. We created a Cross-Tabulation Table that will show a list of unique values for each feature coupled with a list of the number of occurrences of that value. This allows us to get a better understanding of what values may arise within the dataset, and if there is a skew within the variables. For example, when looking at the values for IncidentRankLong, we can see that 192,825 of the values in this feature are for police officers. This suggests that most of the complaints within the dataset are filed against a lower ranking officer."
   ]
  },
  {
   "cell_type": "code",
   "execution_count": 41,
   "metadata": {},
   "outputs": [
    {
     "name": "stdout",
     "output_type": "stream",
     "text": [
      "\n",
      "---Cross-Tabulation Table for officerrace---\n",
      "col_0             count\n",
      "officerrace            \n",
      "american indian     254\n",
      "asian              8148\n",
      "black             38688\n",
      "hispanic          62808\n",
      "white            169506\n",
      "\n",
      "---Cross-Tabulation Table for officergender---\n",
      "col_0           count\n",
      "officergender        \n",
      "female          21872\n",
      "male           257532\n",
      "\n",
      "---Cross-Tabulation Table for currentranklong---\n",
      "col_0                    count\n",
      "currentranklong               \n",
      "captain                   4112\n",
      "chiefs and other ranks    1700\n",
      "deputy inspector          2075\n",
      "detective                78482\n",
      "inactive ranks               2\n",
      "inspector                 1537\n",
      "lieutenant               25469\n",
      "police officer          110466\n",
      "sergeant                 55561\n",
      "\n",
      "---Cross-Tabulation Table for currentcommand---\n",
      "col_0           count\n",
      "currentcommand       \n",
      "001 det           265\n",
      "001 pct           933\n",
      "005 det           211\n",
      "005 pct           699\n",
      "006 det           164\n",
      "...               ...\n",
      "warrsec          6837\n",
      "wtc cmd           380\n",
      "yth div            14\n",
      "yth sd            178\n",
      "yth ss             85\n",
      "\n",
      "[699 rows x 1 columns]\n",
      "\n",
      "---Cross-Tabulation Table for incidentranklong---\n",
      "col_0                    count\n",
      "incidentranklong              \n",
      "captain                   1035\n",
      "chiefs and other ranks     165\n",
      "deputy inspector           287\n",
      "detective                25576\n",
      "inactive ranks              21\n",
      "inspector                   99\n",
      "lieutenant                7461\n",
      "police officer          192825\n",
      "sergeant                 31722\n",
      "\n",
      "---Cross-Tabulation Table for incidentcommand---\n",
      "col_0            count\n",
      "incidentcommand       \n",
      "001 det             55\n",
      "001 pct            673\n",
      "005 det             37\n",
      "005 pct            706\n",
      "006 det             32\n",
      "...                ...\n",
      "wtc cmd             24\n",
      "youth division       1\n",
      "yth div              2\n",
      "yth sd               4\n",
      "yth ss              14\n",
      "\n",
      "[702 rows x 1 columns]\n",
      "\n",
      "---Cross-Tabulation Table for status---\n",
      "col_0     count\n",
      "status         \n",
      "active   106859\n",
      "retired  172545\n",
      "\n",
      "---Cross-Tabulation Table for lastactive---\n",
      "col_0       count\n",
      "lastactive       \n",
      "1/10/2006    1203\n",
      "1/12/2015     342\n",
      "1/13/2009     231\n",
      "1/16/2001    1659\n",
      "1/16/2008     908\n",
      "...           ...\n",
      "9/20/2006     370\n",
      "9/27/2010    1161\n",
      "9/4/2007      116\n",
      "9/4/2012      514\n",
      "9/4/2018      522\n",
      "\n",
      "[203 rows x 1 columns]\n",
      "\n",
      "---Cross-Tabulation Table for incidentdate---\n",
      "col_0         count\n",
      "incidentdate       \n",
      "1/1/1985          4\n",
      "1/1/1986         20\n",
      "1/1/1987          9\n",
      "1/1/1988         15\n",
      "1/1/1989         33\n",
      "...             ...\n",
      "9/9/2016         23\n",
      "9/9/2017         25\n",
      "9/9/2018         19\n",
      "9/9/2019         19\n",
      "9/9/2020          4\n",
      "\n",
      "[12857 rows x 1 columns]\n",
      "\n",
      "---Cross-Tabulation Table for fadotype---\n",
      "col_0                  count\n",
      "fadotype                    \n",
      "abuse of authority    119447\n",
      "discourtesy            52132\n",
      "force                  97882\n",
      "offensive language      9940\n",
      "untruthful statement       3\n",
      "\n",
      "---Cross-Tabulation Table for allegation---\n",
      "col_0               count\n",
      "allegation               \n",
      "abuse of authority   5568\n",
      "action               2171\n",
      "animal                 29\n",
      "arrest/d. a. t.       439\n",
      "arrest/onlooker       171\n",
      "...                   ...\n",
      "vehicle search       4765\n",
      "vehicle searched      805\n",
      "vehicle stop         4584\n",
      "white                 156\n",
      "word                27665\n",
      "\n",
      "[118 rows x 1 columns]\n",
      "\n",
      "---Cross-Tabulation Table for ccrbdisposition---\n",
      "col_0             count\n",
      "ccrbdisposition        \n",
      "substantiated     19769\n",
      "unsubstantiated  259635\n",
      "\n",
      "---Cross-Tabulation Table for contactreason---\n",
      "col_0                                               count\n",
      "contactreason                                            \n",
      "aided case                                           1307\n",
      "aided cases                                           561\n",
      "arrest/complainant                                   4947\n",
      "arrest/not complainant                               3669\n",
      "assist acs or other agency                            332\n",
      "c/v at pct to file complaint of crime                1187\n",
      "c/v at pct to obtain information                     1406\n",
      "c/v at pct to retrieve property                       321\n",
      "c/v intervened on behalf of/observed encounter ...   3285\n",
      "c/v requested info from officer                       828\n",
      "c/v requested investigation of crime                 2853\n",
      "c/v telephoned pct                                   1718\n",
      "complainant at pct. to make a cmpl/info               949\n",
      "complainant witnessing incident                       933\n",
      "cv already in custody                                 920\n",
      "demonstration/protest                                 447\n",
      "demonstrations                                        381\n",
      "dispute                                              6999\n",
      "edp aided case                                       2379\n",
      "edp aided cases                                       567\n",
      "execution of arrest/bench warrant                    3504\n",
      "execution of search warrant                          4176\n",
      "moving violation                                    10327\n",
      "no contact                                             60\n",
      "other                                               32122\n",
      "other violation of vtl                               5391\n",
      "others                                               7953\n",
      "parade/special event                                  221\n",
      "parking violation                                    4659\n",
      "patrol encounter                                    15891\n",
      "pd auto checkpoint                                    327\n",
      "pd suspected c/v of violation/crime - auto          11558\n",
      "pd suspected c/v of violation/crime - bldg          12644\n",
      "pd suspected c/v of violation/crime - street        45094\n",
      "pd suspected c/v of violation/crime - subway         3682\n",
      "pd telephones cv                                      108\n",
      "regulatory inspection                                 163\n",
      "report of crime past/present                         7445\n",
      "report of disturbance/noise complaint                1728\n",
      "report of other crime                                7083\n",
      "report-dispute                                       9064\n",
      "report-domestic dispute                              5192\n",
      "report-gun possession/shots fired                    2571\n",
      "report-noise/disturbance                             2201\n",
      "report-possession/sale of narcotics                  2247\n",
      "stop/question/frisk                                  4576\n",
      "summons/complainant                                  1727\n",
      "telephone call to precinct/command                    624\n",
      "traffic accident                                     1851\n",
      "traffic incidents/accident/prk violation            11062\n",
      "transit checkpoint                                     94\n",
      "vehicle stop and check                               2567\n",
      "victim subject of sex crime                            25\n",
      "\n",
      "---Cross-Tabulation Table for contactoutcome---\n",
      "col_0                                  count\n",
      "contactoutcome                              \n",
      "arrest - assault (against a po)         6016\n",
      "arrest - disorderly conduct             6147\n",
      "arrest - harrassment (against a po)      142\n",
      "arrest - oga                            3213\n",
      "arrest - other violation/crime         58852\n",
      "arrest - resisting arrest               8576\n",
      "arrest on other charge                  4144\n",
      "assault/arrested                        2079\n",
      "disorderly-conduct/arr/summons          5265\n",
      "harrassment/arrested/summons             341\n",
      "juvenile report                          363\n",
      "moving violation summons issued         5739\n",
      "no arrest made or summons issued      122519\n",
      "obstruct-govt-admin/arrested             554\n",
      "other summons claimed or issued         1421\n",
      "other vtl violation summons issued      3245\n",
      "parking summons issued                  2641\n",
      "resisting arrest/arrested               1721\n",
      "summons - disorderly conduct           10382\n",
      "summons - harrassment (against a po)      28\n",
      "summons - oga                             37\n",
      "summons - other violation/crime        11108\n",
      "traffic summons claimed or issued       4399\n",
      "\n",
      "---Cross-Tabulation Table for incidentprecinct---\n",
      "col_0             count\n",
      "incidentprecinct       \n",
      "pct 000            1417\n",
      "pct 001            2173\n",
      "pct 005            1944\n",
      "pct 006            2659\n",
      "pct 007            2111\n",
      "...                 ...\n",
      "pct 122            2625\n",
      "pct 123            1112\n",
      "pct 125               1\n",
      "pct 4010455           1\n",
      "pct 999               3\n",
      "\n",
      "[82 rows x 1 columns]\n",
      "\n",
      "---Cross-Tabulation Table for impactedrace---\n",
      "col_0            count\n",
      "impactedrace          \n",
      "american indian    411\n",
      "asian             3482\n",
      "black            83810\n",
      "hispanic         36116\n",
      "other race        4190\n",
      "refused           1654\n",
      "unknown          13391\n",
      "white            20051\n",
      "\n",
      "---Cross-Tabulation Table for impactedgender---\n",
      "col_0                   count\n",
      "impactedgender               \n",
      "female                  38655\n",
      "gender non-conforming      15\n",
      "male                   129189\n",
      "not described             554\n",
      "transman (ftm)             14\n",
      "transwoman (mtf)           55\n"
     ]
    }
   ],
   "source": [
    "# put categorical columns in categoricalColumnsList and numeric columns in numericColumnsList\n",
    "categoricalColumnsList, numericColumnsList = [], []\n",
    "for column in ccrb.columns:\n",
    "    if ccrb[column].dtype == \"object\":\n",
    "        categoricalColumnsList += [column]\n",
    "    else:\n",
    "        numericColumnsList += [column]\n",
    "\n",
    "# create cross tabulation table for all categorical columns\n",
    "for column in categoricalColumnsList:\n",
    "    print(f\"\\n---Cross-Tabulation Table for {column}---\")\n",
    "    print(pd.crosstab(index = ccrb[column], columns = 'count'))"
   ]
  },
  {
   "cell_type": "markdown",
   "metadata": {},
   "source": [
    "Now, we want to perform some correlation analysis among our variables. First, we want to examine the correlation of the two numeric variables in our `ccrb` dataset, `daysonforce` and `impactedage`.  Below, we have a pairplot from the `seaborn` package that outlines the plots to showcase the correlation between the two variables. "
   ]
  },
  {
   "cell_type": "code",
   "execution_count": 42,
   "metadata": {},
   "outputs": [
    {
     "data": {
      "text/plain": [
       "<seaborn.axisgrid.PairGrid at 0x128a04a00>"
      ]
     },
     "execution_count": 42,
     "metadata": {},
     "output_type": "execute_result"
    },
    {
     "data": {
      "image/png": "[encoded data removed]",
      "text/plain": [
       "<Figure size 360x360 with 6 Axes>"
      ]
     },
     "metadata": {
      "needs_background": "light"
     },
     "output_type": "display_data"
    }
   ],
   "source": [
    "# pairplot for daysonforce and impactedage variables\n",
    "sns.pairplot(ccrb, diag_kind = \"hist\")"
   ]
  },
  {
   "cell_type": "markdown",
   "metadata": {},
   "source": [
    "Above, the scatterplots are quite messy and don't reveal anything at facevalue. Furthermore, the histograms are the exact ones that we have seen early on. So, we want to instead further examine the correlation coefficient values between `daysonforce` and `impactedage` using a heatmap. Below, we have the the correlation heatmap that showcases the correlation values."
   ]
  },
  {
   "cell_type": "code",
   "execution_count": 43,
   "metadata": {},
   "outputs": [
    {
     "data": {
      "text/plain": [
       "<AxesSubplot:>"
      ]
     },
     "execution_count": 43,
     "metadata": {},
     "output_type": "execute_result"
    },
    {
     "data": {
      "image/png": "[encoded data removed]",
      "text/plain": [
       "<Figure size 432x288 with 2 Axes>"
      ]
     },
     "metadata": {
      "needs_background": "light"
     },
     "output_type": "display_data"
    }
   ],
   "source": [
    "# correlation heatmap for daysonforce and impactedage variables\n",
    "sns.heatmap(ccrb.corr(), cmap = \"coolwarm\", annot = True)"
   ]
  },
  {
   "cell_type": "markdown",
   "metadata": {},
   "source": [
    "We see that the correlation coefficient value for `daysonforce` and `impactedage` is 0.058. This idea implies that while we do see a positive correlation between the two variables, they aren't necessarily causal. Now, we want to be able to examine the correlation between the categorical columns. This task is quite tricky because we need to be able to utilize the string values in the categorical columns to showcase correlation among each other. So, we convert the column names into numeric codes and then use a Pearson correlation to examine the correlation among the different categorical columns. Thus, the correlation coefficient values can be seen below."
   ]
  },
  {
   "cell_type": "code",
   "execution_count": 44,
   "metadata": {},
   "outputs": [
    {
     "name": "stdout",
     "output_type": "stream",
     "text": [
      "                  officerrace  officergender  currentranklong  currentcommand  \\\n",
      "officerrace          1.000000      -0.111181        -0.106869       -0.082748   \n",
      "officergender       -0.111181       1.000000         0.070205        0.018573   \n",
      "currentranklong     -0.106869       0.070205         1.000000        0.159333   \n",
      "currentcommand      -0.082748       0.018573         0.159333        1.000000   \n",
      "incidentranklong    -0.031409       0.047646         0.474886        0.011255   \n",
      "incidentcommand      0.042034       0.015945        -0.008046        0.128701   \n",
      "daysonforce         -0.002858       0.030363         0.120381       -0.043703   \n",
      "status              -0.157836       0.026813        -0.010969        0.194347   \n",
      "lastactive          -0.174937       0.025061        -0.043117        0.221396   \n",
      "incidentdate        -0.130064       0.023752         0.055189        0.170024   \n",
      "fadotype            -0.037576      -0.003257        -0.037398        0.030576   \n",
      "allegation          -0.141107       0.017553         0.108145        0.197528   \n",
      "ccrbdisposition      0.000732       0.006575         0.010135        0.000252   \n",
      "contactreason       -0.102670       0.017352         0.018216        0.109992   \n",
      "contactoutcome      -0.027759       0.006914        -0.012829        0.026116   \n",
      "incidentprecinct     0.030399      -0.008184        -0.037545       -0.014932   \n",
      "impactedrace         0.098669      -0.031079        -0.092661       -0.150950   \n",
      "impactedgender       0.125256      -0.098621        -0.085414       -0.158525   \n",
      "impactedage         -0.002011      -0.039605        -0.027502       -0.035483   \n",
      "\n",
      "                  incidentranklong  incidentcommand  daysonforce    status  \\\n",
      "officerrace              -0.031409         0.042034    -0.002858 -0.157836   \n",
      "officergender             0.047646         0.015945     0.030363  0.026813   \n",
      "currentranklong           0.474886        -0.008046     0.120381 -0.010969   \n",
      "currentcommand            0.011255         0.128701    -0.043703  0.194347   \n",
      "incidentranklong          1.000000         0.212055     0.612856 -0.041275   \n",
      "incidentcommand           0.212055         1.000000     0.246657 -0.031449   \n",
      "daysonforce               0.612856         0.246657     1.000000  0.094728   \n",
      "status                   -0.041275        -0.031449     0.094728  1.000000   \n",
      "lastactive               -0.143291        -0.114928    -0.031256  0.716365   \n",
      "incidentdate              0.066789        -0.058738    -0.022897  0.476227   \n",
      "fadotype                 -0.106910        -0.069873    -0.068911  0.122107   \n",
      "allegation               -0.222043        -0.242854    -0.257161  0.437140   \n",
      "ccrbdisposition           0.029397         0.015370     0.022202 -0.013363   \n",
      "contactreason             0.038375        -0.173425    -0.025888  0.307111   \n",
      "contactoutcome            0.000594        -0.066177    -0.047464  0.084083   \n",
      "incidentprecinct          0.157049         0.145528     0.145886 -0.063950   \n",
      "impactedrace              0.147866         0.197481     0.206239 -0.339404   \n",
      "impactedgender            0.163446         0.191980     0.214910 -0.324015   \n",
      "impactedage               0.011639        -0.038807     0.057510 -0.019851   \n",
      "\n",
      "                  lastactive  incidentdate  fadotype  allegation  \\\n",
      "officerrace        -0.174937     -0.130064 -0.037576   -0.141107   \n",
      "officergender       0.025061      0.023752 -0.003257    0.017553   \n",
      "currentranklong    -0.043117      0.055189 -0.037398    0.108145   \n",
      "currentcommand      0.221396      0.170024  0.030576    0.197528   \n",
      "incidentranklong   -0.143291      0.066789 -0.106910   -0.222043   \n",
      "incidentcommand    -0.114928     -0.058738 -0.069873   -0.242854   \n",
      "daysonforce        -0.031256     -0.022897 -0.068911   -0.257161   \n",
      "status              0.716365      0.476227  0.122107    0.437140   \n",
      "lastactive          1.000000      0.474388  0.139492    0.547517   \n",
      "incidentdate        0.474388      1.000000  0.149106    0.373377   \n",
      "fadotype            0.139492      0.149106  1.000000    0.052526   \n",
      "allegation          0.547517      0.373377  0.052526    1.000000   \n",
      "ccrbdisposition    -0.015369     -0.017794 -0.067258    0.026074   \n",
      "contactreason       0.354663      0.764104  0.135545    0.434934   \n",
      "contactoutcome      0.103715      0.324833  0.099084    0.101925   \n",
      "incidentprecinct   -0.103418      0.182622 -0.009533   -0.132691   \n",
      "impactedrace       -0.430468     -0.353077 -0.064814   -0.557130   \n",
      "impactedgender     -0.420097     -0.336320 -0.031446   -0.562904   \n",
      "impactedage        -0.025475     -0.096053 -0.021584    0.003787   \n",
      "\n",
      "                  ccrbdisposition  contactreason  contactoutcome  \\\n",
      "officerrace              0.000732      -0.102670       -0.027759   \n",
      "officergender            0.006575       0.017352        0.006914   \n",
      "currentranklong          0.010135       0.018216       -0.012829   \n",
      "currentcommand           0.000252       0.109992        0.026116   \n",
      "incidentranklong         0.029397       0.038375        0.000594   \n",
      "incidentcommand          0.015370      -0.173425       -0.066177   \n",
      "daysonforce              0.022202      -0.025888       -0.047464   \n",
      "status                  -0.013363       0.307111        0.084083   \n",
      "lastactive              -0.015369       0.354663        0.103715   \n",
      "incidentdate            -0.017794       0.764104        0.324833   \n",
      "fadotype                -0.067258       0.135545        0.099084   \n",
      "allegation               0.026074       0.434934        0.101925   \n",
      "ccrbdisposition          1.000000       0.000105       -0.020611   \n",
      "contactreason            0.000105       1.000000        0.305156   \n",
      "contactoutcome          -0.020611       0.305156        1.000000   \n",
      "incidentprecinct         0.005443       0.168672        0.086824   \n",
      "impactedrace             0.003059      -0.396797       -0.096175   \n",
      "impactedgender          -0.018905      -0.399023       -0.100722   \n",
      "impactedage             -0.005905       0.023160       -0.103919   \n",
      "\n",
      "                  incidentprecinct  impactedrace  impactedgender  impactedage  \n",
      "officerrace               0.030399      0.098669        0.125256    -0.002011  \n",
      "officergender            -0.008184     -0.031079       -0.098621    -0.039605  \n",
      "currentranklong          -0.037545     -0.092661       -0.085414    -0.027502  \n",
      "currentcommand           -0.014932     -0.150950       -0.158525    -0.035483  \n",
      "incidentranklong          0.157049      0.147866        0.163446     0.011639  \n",
      "incidentcommand           0.145528      0.197481        0.191980    -0.038807  \n",
      "daysonforce               0.145886      0.206239        0.214910     0.057510  \n",
      "status                   -0.063950     -0.339404       -0.324015    -0.019851  \n",
      "lastactive               -0.103418     -0.430468       -0.420097    -0.025475  \n",
      "incidentdate              0.182622     -0.353077       -0.336320    -0.096053  \n",
      "fadotype                 -0.009533     -0.064814       -0.031446    -0.021584  \n",
      "allegation               -0.132691     -0.557130       -0.562904     0.003787  \n",
      "ccrbdisposition           0.005443      0.003059       -0.018905    -0.005905  \n",
      "contactreason             0.168672     -0.396797       -0.399023     0.023160  \n",
      "contactoutcome            0.086824     -0.096175       -0.100722    -0.103919  \n",
      "incidentprecinct          1.000000      0.079508        0.078621    -0.003446  \n",
      "impactedrace              0.079508      1.000000        0.549953     0.119249  \n",
      "impactedgender            0.078621      0.549953        1.000000     0.112584  \n",
      "impactedage              -0.003446      0.119249        0.112584     1.000000  \n"
     ]
    }
   ],
   "source": [
    "# numeric codes for each categorical variable name\n",
    "ccrbCopy = ccrb.copy(deep = True)\n",
    "for column in categoricalColumnsList:\n",
    "    ccrbCopy[column], _ = pd.factorize(ccrb[column])\n",
    "\n",
    "# create the correlation matrix\n",
    "corrMatrix = ccrbCopy.corr(method = \"pearson\")\n",
    "print(corrMatrix)"
   ]
  },
  {
   "cell_type": "markdown",
   "metadata": {},
   "source": [
    "Since we converted the categorical variables into numeric codes, we are able to utilize a method that is normally reserved for continuous variables. The correlation coefficient values from above range from -1 to +1, where -1 indicates a perfect negative correlation and +1 indicates a negative correlation. For instance, we can see that `contactoutcome`, which we predicted to be a critical variable, and `ccrbdisposition` have a correlation coefficient value of -0.025694, which implies a negative relationship. One important note to keep in mind is that because we are attempting to use a Pearson correlation on categorical variables, the interpretation of correlation coefficients in this case is merely limited to linear relationships. While categorical variables can have other types of relationships, like nonlinear, the correlation coefficients above won't be able to catch those relationships."
   ]
  },
  {
   "cell_type": "markdown",
   "metadata": {},
   "source": [
    "Now, we move onto our first model, which is the logistic regression. Below, we import the necessary packages for the logistic regression and for splitting data between training and testing.\n"
   ]
  },
  {
   "cell_type": "code",
   "execution_count": 45,
   "metadata": {},
   "outputs": [],
   "source": [
    "# PRELIMINARY RESULTS: import packages and split testing from train, 5%\n",
    "from sklearn.model_selection import train_test_split\n",
    "from sklearn.metrics import confusion_matrix\n",
    "from sklearn.linear_model import LogisticRegression\n",
    "from sklearn.ensemble import GradientBoostingClassifier\n",
    "from sklearn.ensemble import RandomForestClassifier\n",
    "import eli5\n",
    "from eli5.sklearn import PermutationImportance"
   ]
  },
  {
   "cell_type": "markdown",
   "metadata": {},
   "source": [
    "In the above cell we create the first model for the project. First, we create a subset of the data that contains 5% of the entries. We chose to do this due to time constraints, cost of computations, and because the Jupyter Notebook kernel keeps dying every time we use the entire dataset (we will most likely use Google Colab to remediate this issue). In this first iteration, on the small subset, we are able to work on the feature selection process and determine some of the most influential features. \n",
    "We then select the portions of the dataset that we will be using for the model; the X variable is all features that the model is considering when making the decision; the y variable is the binarized CCRBDisposition, the variable that the model will be predicting."
   ]
  },
  {
   "cell_type": "code",
   "execution_count": 46,
   "metadata": {},
   "outputs": [
    {
     "data": {
      "text/html": [
       "\n",
       "    <style>\n",
       "    table.eli5-weights tr:hover {\n",
       "        filter: brightness(85%);\n",
       "    }\n",
       "</style>\n",
       "\n",
       "\n",
       "\n",
       "    \n",
       "\n",
       "    \n",
       "\n",
       "    \n",
       "\n",
       "    \n",
       "\n",
       "    \n",
       "\n",
       "    \n",
       "\n",
       "\n",
       "    \n",
       "\n",
       "    \n",
       "\n",
       "    \n",
       "\n",
       "    \n",
       "\n",
       "    \n",
       "\n",
       "    \n",
       "\n",
       "\n",
       "    \n",
       "\n",
       "    \n",
       "\n",
       "    \n",
       "\n",
       "    \n",
       "\n",
       "    \n",
       "        <table class=\"eli5-weights eli5-feature-importances\" style=\"border-collapse: collapse; border: none; margin-top: 0em; table-layout: auto;\">\n",
       "    <thead>\n",
       "    <tr style=\"border: none;\">\n",
       "        <th style=\"padding: 0 1em 0 0.5em; text-align: right; border: none;\">Weight</th>\n",
       "        <th style=\"padding: 0 0.5em 0 0.5em; text-align: left; border: none;\">Feature</th>\n",
       "    </tr>\n",
       "    </thead>\n",
       "    <tbody>\n",
       "    \n",
       "        <tr style=\"background-color: hsl(120, 100.00%, 80.00%); border: none;\">\n",
       "            <td style=\"padding: 0 1em 0 0.5em; text-align: right; border: none;\">\n",
       "                0.0027\n",
       "                \n",
       "                    &plusmn; 0.0010\n",
       "                \n",
       "            </td>\n",
       "            <td style=\"padding: 0 0.5em 0 0.5em; text-align: left; border: none;\">\n",
       "                impactedgender_male\n",
       "            </td>\n",
       "        </tr>\n",
       "    \n",
       "        <tr style=\"background-color: hsl(120, 100.00%, 80.37%); border: none;\">\n",
       "            <td style=\"padding: 0 1em 0 0.5em; text-align: right; border: none;\">\n",
       "                0.0026\n",
       "                \n",
       "                    &plusmn; 0.0007\n",
       "                \n",
       "            </td>\n",
       "            <td style=\"padding: 0 0.5em 0 0.5em; text-align: left; border: none;\">\n",
       "                officergender_female\n",
       "            </td>\n",
       "        </tr>\n",
       "    \n",
       "        <tr style=\"background-color: hsl(120, 100.00%, 85.93%); border: none;\">\n",
       "            <td style=\"padding: 0 1em 0 0.5em; text-align: right; border: none;\">\n",
       "                0.0016\n",
       "                \n",
       "                    &plusmn; 0.0010\n",
       "                \n",
       "            </td>\n",
       "            <td style=\"padding: 0 0.5em 0 0.5em; text-align: left; border: none;\">\n",
       "                officerrace_hispanic\n",
       "            </td>\n",
       "        </tr>\n",
       "    \n",
       "        <tr style=\"background-color: hsl(120, 100.00%, 87.69%); border: none;\">\n",
       "            <td style=\"padding: 0 1em 0 0.5em; text-align: right; border: none;\">\n",
       "                0.0014\n",
       "                \n",
       "                    &plusmn; 0.0003\n",
       "                \n",
       "            </td>\n",
       "            <td style=\"padding: 0 0.5em 0 0.5em; text-align: left; border: none;\">\n",
       "                contactoutcome_arrest - assault (against a po)\n",
       "            </td>\n",
       "        </tr>\n",
       "    \n",
       "        <tr style=\"background-color: hsl(120, 100.00%, 88.15%); border: none;\">\n",
       "            <td style=\"padding: 0 1em 0 0.5em; text-align: right; border: none;\">\n",
       "                0.0013\n",
       "                \n",
       "                    &plusmn; 0.0006\n",
       "                \n",
       "            </td>\n",
       "            <td style=\"padding: 0 0.5em 0 0.5em; text-align: left; border: none;\">\n",
       "                impactedrace_asian\n",
       "            </td>\n",
       "        </tr>\n",
       "    \n",
       "        <tr style=\"background-color: hsl(120, 100.00%, 88.15%); border: none;\">\n",
       "            <td style=\"padding: 0 1em 0 0.5em; text-align: right; border: none;\">\n",
       "                0.0013\n",
       "                \n",
       "                    &plusmn; 0.0033\n",
       "                \n",
       "            </td>\n",
       "            <td style=\"padding: 0 0.5em 0 0.5em; text-align: left; border: none;\">\n",
       "                impactedrace_black\n",
       "            </td>\n",
       "        </tr>\n",
       "    \n",
       "        <tr style=\"background-color: hsl(120, 100.00%, 89.08%); border: none;\">\n",
       "            <td style=\"padding: 0 1em 0 0.5em; text-align: right; border: none;\">\n",
       "                0.0011\n",
       "                \n",
       "                    &plusmn; 0.0019\n",
       "                \n",
       "            </td>\n",
       "            <td style=\"padding: 0 0.5em 0 0.5em; text-align: left; border: none;\">\n",
       "                impactedrace_hispanic\n",
       "            </td>\n",
       "        </tr>\n",
       "    \n",
       "        <tr style=\"background-color: hsl(120, 100.00%, 89.57%); border: none;\">\n",
       "            <td style=\"padding: 0 1em 0 0.5em; text-align: right; border: none;\">\n",
       "                0.0011\n",
       "                \n",
       "                    &plusmn; 0.0008\n",
       "                \n",
       "            </td>\n",
       "            <td style=\"padding: 0 0.5em 0 0.5em; text-align: left; border: none;\">\n",
       "                daysonforce\n",
       "            </td>\n",
       "        </tr>\n",
       "    \n",
       "        <tr style=\"background-color: hsl(120, 100.00%, 90.06%); border: none;\">\n",
       "            <td style=\"padding: 0 1em 0 0.5em; text-align: right; border: none;\">\n",
       "                0.0010\n",
       "                \n",
       "                    &plusmn; 0.0011\n",
       "                \n",
       "            </td>\n",
       "            <td style=\"padding: 0 0.5em 0 0.5em; text-align: left; border: none;\">\n",
       "                status_retired\n",
       "            </td>\n",
       "        </tr>\n",
       "    \n",
       "        <tr style=\"background-color: hsl(120, 100.00%, 92.70%); border: none;\">\n",
       "            <td style=\"padding: 0 1em 0 0.5em; text-align: right; border: none;\">\n",
       "                0.0006\n",
       "                \n",
       "                    &plusmn; 0.0012\n",
       "                \n",
       "            </td>\n",
       "            <td style=\"padding: 0 0.5em 0 0.5em; text-align: left; border: none;\">\n",
       "                fadotype_abuse of authority\n",
       "            </td>\n",
       "        </tr>\n",
       "    \n",
       "        <tr style=\"background-color: hsl(120, 100.00%, 92.70%); border: none;\">\n",
       "            <td style=\"padding: 0 1em 0 0.5em; text-align: right; border: none;\">\n",
       "                0.0006\n",
       "                \n",
       "                    &plusmn; 0.0003\n",
       "                \n",
       "            </td>\n",
       "            <td style=\"padding: 0 0.5em 0 0.5em; text-align: left; border: none;\">\n",
       "                incidentcommand_042 pct\n",
       "            </td>\n",
       "        </tr>\n",
       "    \n",
       "        <tr style=\"background-color: hsl(120, 100.00%, 92.70%); border: none;\">\n",
       "            <td style=\"padding: 0 1em 0 0.5em; text-align: right; border: none;\">\n",
       "                0.0006\n",
       "                \n",
       "                    &plusmn; 0.0011\n",
       "                \n",
       "            </td>\n",
       "            <td style=\"padding: 0 0.5em 0 0.5em; text-align: left; border: none;\">\n",
       "                allegation_threat of arrest\n",
       "            </td>\n",
       "        </tr>\n",
       "    \n",
       "        <tr style=\"background-color: hsl(120, 100.00%, 93.28%); border: none;\">\n",
       "            <td style=\"padding: 0 1em 0 0.5em; text-align: right; border: none;\">\n",
       "                0.0006\n",
       "                \n",
       "                    &plusmn; 0.0022\n",
       "                \n",
       "            </td>\n",
       "            <td style=\"padding: 0 0.5em 0 0.5em; text-align: left; border: none;\">\n",
       "                allegation_refusal to process civilian complaint\n",
       "            </td>\n",
       "        </tr>\n",
       "    \n",
       "        <tr style=\"background-color: hsl(120, 100.00%, 93.28%); border: none;\">\n",
       "            <td style=\"padding: 0 1em 0 0.5em; text-align: right; border: none;\">\n",
       "                0.0006\n",
       "                \n",
       "                    &plusmn; 0.0006\n",
       "                \n",
       "            </td>\n",
       "            <td style=\"padding: 0 0.5em 0 0.5em; text-align: left; border: none;\">\n",
       "                contactreason_c/v at pct to file complaint of crime\n",
       "            </td>\n",
       "        </tr>\n",
       "    \n",
       "        <tr style=\"background-color: hsl(120, 100.00%, 93.28%); border: none;\">\n",
       "            <td style=\"padding: 0 1em 0 0.5em; text-align: right; border: none;\">\n",
       "                0.0006\n",
       "                \n",
       "                    &plusmn; 0.0010\n",
       "                \n",
       "            </td>\n",
       "            <td style=\"padding: 0 0.5em 0 0.5em; text-align: left; border: none;\">\n",
       "                incidentranklong_detective\n",
       "            </td>\n",
       "        </tr>\n",
       "    \n",
       "        <tr style=\"background-color: hsl(120, 100.00%, 93.88%); border: none;\">\n",
       "            <td style=\"padding: 0 1em 0 0.5em; text-align: right; border: none;\">\n",
       "                0.0005\n",
       "                \n",
       "                    &plusmn; 0.0004\n",
       "                \n",
       "            </td>\n",
       "            <td style=\"padding: 0 0.5em 0 0.5em; text-align: left; border: none;\">\n",
       "                incidentcommand_123 pct\n",
       "            </td>\n",
       "        </tr>\n",
       "    \n",
       "        <tr style=\"background-color: hsl(120, 100.00%, 93.88%); border: none;\">\n",
       "            <td style=\"padding: 0 1em 0 0.5em; text-align: right; border: none;\">\n",
       "                0.0005\n",
       "                \n",
       "                    &plusmn; 0.0006\n",
       "                \n",
       "            </td>\n",
       "            <td style=\"padding: 0 0.5em 0 0.5em; text-align: left; border: none;\">\n",
       "                currentranklong_police officer\n",
       "            </td>\n",
       "        </tr>\n",
       "    \n",
       "        <tr style=\"background-color: hsl(120, 100.00%, 93.88%); border: none;\">\n",
       "            <td style=\"padding: 0 1em 0 0.5em; text-align: right; border: none;\">\n",
       "                0.0005\n",
       "                \n",
       "                    &plusmn; 0.0006\n",
       "                \n",
       "            </td>\n",
       "            <td style=\"padding: 0 0.5em 0 0.5em; text-align: left; border: none;\">\n",
       "                impactedrace_white\n",
       "            </td>\n",
       "        </tr>\n",
       "    \n",
       "        <tr style=\"background-color: hsl(120, 100.00%, 93.88%); border: none;\">\n",
       "            <td style=\"padding: 0 1em 0 0.5em; text-align: right; border: none;\">\n",
       "                0.0005\n",
       "                \n",
       "                    &plusmn; 0.0007\n",
       "                \n",
       "            </td>\n",
       "            <td style=\"padding: 0 0.5em 0 0.5em; text-align: left; border: none;\">\n",
       "                allegation_entry of premises\n",
       "            </td>\n",
       "        </tr>\n",
       "    \n",
       "        <tr style=\"background-color: hsl(120, 100.00%, 94.51%); border: none;\">\n",
       "            <td style=\"padding: 0 1em 0 0.5em; text-align: right; border: none;\">\n",
       "                0.0004\n",
       "                \n",
       "                    &plusmn; 0.0011\n",
       "                \n",
       "            </td>\n",
       "            <td style=\"padding: 0 0.5em 0 0.5em; text-align: left; border: none;\">\n",
       "                contactreason_pd suspected c/v of violation/crime - bldg\n",
       "            </td>\n",
       "        </tr>\n",
       "    \n",
       "    \n",
       "        \n",
       "            <tr style=\"background-color: hsl(120, 100.00%, 94.51%); border: none;\">\n",
       "                <td colspan=\"2\" style=\"padding: 0 0.5em 0 0.5em; text-align: center; border: none; white-space: nowrap;\">\n",
       "                    <i>&hellip; 1678 more &hellip;</i>\n",
       "                </td>\n",
       "            </tr>\n",
       "        \n",
       "    \n",
       "    </tbody>\n",
       "</table>\n",
       "    \n",
       "\n",
       "    \n",
       "\n",
       "\n",
       "    \n",
       "\n",
       "    \n",
       "\n",
       "    \n",
       "\n",
       "    \n",
       "\n",
       "    \n",
       "\n",
       "    \n",
       "\n",
       "\n",
       "\n"
      ],
      "text/plain": [
       "<IPython.core.display.HTML object>"
      ]
     },
     "execution_count": 46,
     "metadata": {},
     "output_type": "execute_result"
    }
   ],
   "source": [
    "categoricalColumnsList.remove(\"ccrbdisposition\")\n",
    "ccrb_5percent = ccrb.head(int(ccrb.shape[0] * 0.05))\n",
    "ccrb_5percent = pd.get_dummies(ccrb_5percent, columns = categoricalColumnsList)\n",
    "ccrb_5percent['impactedage'] = ccrb_5percent['impactedage'].fillna(0)\n",
    "\n",
    "# Split the data into training and testing sets\n",
    "X = ccrb_5percent.drop(columns = [\"ccrbdisposition\"])\n",
    "y = ccrb_5percent[\"ccrbdisposition\"]\n",
    "X_train, X_test, y_train, y_test = train_test_split(X, y, test_size = 0.2, shuffle = False)\n",
    "\n",
    "# Fit a logistic regression model to the training data\n",
    "model = LogisticRegression(max_iter = 10000)\n",
    "model.fit(X_train, y_train)\n",
    "\n",
    "# Use permutation importance to get feature importance scores\n",
    "perm = PermutationImportance(model, random_state = 1).fit(X_test, y_test)\n",
    "eli5.show_weights(perm, feature_names = X_test.columns.tolist())"
   ]
  },
  {
   "cell_type": "markdown",
   "metadata": {},
   "source": [
    "As seen above, we created training and testing portions of the dataset, with 20% of the dataset being partitioned into testing, fit the model to the training data, and find the predicted outputs for the testing set. We then aimed to show which features were the most influential. We did this by printing the features that were given the most weight within the model. After ordering the features by order of their weight, we can determine the top five features that have the most weight in predicting whether the CCRB determines a complaint to be substantiated or unsubstantiated. We can see that the most influential feature, when considering if the complaint is substantiated or not, is dependent on the gender of the impacted person and the gender of the officer in question. Now, we simply take the same X_test, X_train datasets, extract the top five features that have the most weight according to the output above. Now, we perform the same training process, but we only use the five columns that have the most weight."
   ]
  },
  {
   "cell_type": "code",
   "execution_count": 52,
   "metadata": {},
   "outputs": [],
   "source": [
    "# take \"impactedgender\", \"officergender\", \"officerrace\", \"contactoutcome\", and \"impactedrace\" features and redo logistic regression model\n",
    "ccrb_5percent = ccrb.head(int(ccrb.shape[0] * 0.05)).loc[:, [\"impactedgender\", \"officergender\", \"officerrace\", \"contactoutcome\", \"impactedrace\", \"ccrbdisposition\"]]\n",
    "ccrb_5percent = pd.get_dummies(ccrb_5percent, columns = [\"impactedgender\", \"officergender\", \"officerrace\", \"contactoutcome\", \"impactedrace\"])\n",
    "X = ccrb_5percent.drop(columns = [\"ccrbdisposition\"])\n",
    "y = ccrb_5percent[\"ccrbdisposition\"]\n",
    "X_train, X_test, y_train, y_test = train_test_split(X, y, test_size = 0.2, shuffle = False)\n",
    "\n",
    "model = LogisticRegression(max_iter = 10000)\n",
    "model.fit(X_train, y_train)\n",
    "y_pred = model.predict(X_test)"
   ]
  },
  {
   "cell_type": "markdown",
   "metadata": {},
   "source": [
    "When looking at the precision value as shown below, we are testing the likelihood that a positive prediction is correct. Since our model has a precision of 91.2%, we can see that if the model predicts that a complaint has been substantiated, the actual result is also that the complaint is substantiated 91.2% of the time"
   ]
  },
  {
   "cell_type": "code",
   "execution_count": 53,
   "metadata": {},
   "outputs": [
    {
     "data": {
      "text/plain": [
       "0.9037222619899785"
      ]
     },
     "execution_count": 53,
     "metadata": {},
     "output_type": "execute_result"
    }
   ],
   "source": [
    "# calculate precision value for logistic regression after calculating the confusion matrix\n",
    "tn, fp, fn, tp = confusion_matrix(y_test, y_pred).ravel()\n",
    "precision = tp/(tp + fp)\n",
    "precision"
   ]
  },
  {
   "cell_type": "markdown",
   "metadata": {},
   "source": [
    "When looking at the recall value as shown below, we are testing the likelihood that a true positive is predicted positive. Since our model has a recall of 100%, we can see that 100% of the time that the complaint is substantiated, the model correctly predicts that the complaint is substantiated."
   ]
  },
  {
   "cell_type": "code",
   "execution_count": 54,
   "metadata": {},
   "outputs": [
    {
     "data": {
      "text/plain": [
       "1.0"
      ]
     },
     "execution_count": 54,
     "metadata": {},
     "output_type": "execute_result"
    }
   ],
   "source": [
    "# calculate recall value for logistic regression\n",
    "recall = tp/(tp + fn)\n",
    "recall"
   ]
  },
  {
   "cell_type": "markdown",
   "metadata": {},
   "source": [
    "When considering the F-1 score of the data displayed below, we are calculating the harmonic mean between the precision and the recall. That is, when considering both the importance of a prediction being positive when the actual result is positive and the prediction being positive without having false negatives, we can see a combined score of 95.4%. "
   ]
  },
  {
   "cell_type": "code",
   "execution_count": 55,
   "metadata": {},
   "outputs": [
    {
     "data": {
      "text/plain": [
       "0.9494265839443504"
      ]
     },
     "execution_count": 55,
     "metadata": {},
     "output_type": "execute_result"
    }
   ],
   "source": [
    "# calcualte f1 score based on precision and recall for logistic regression\n",
    "f1 = (2 * precision * recall) / (precision + recall)\n",
    "f1"
   ]
  },
  {
   "cell_type": "markdown",
   "metadata": {},
   "source": [
    "# Ethics & Privacy"
   ]
  },
  {
   "cell_type": "markdown",
   "metadata": {},
   "source": [
    "The first ethical concern that may be realized is with regards to the exposure of the officer’s identity. If the project were to be put to use, the names and identifiable features of the officers would be easily accessed and in turn this leads to a violation of privacy for the officers. When conducting the analysis, factors such as the name of the officer or the officer ID is not expected to greatly impact the task at hand for the model; in order to protect the privacy of the officers we can exclude these features from the analysis.\n",
    "\n",
    "Furthermore, the dataset is generated by complaints made against police officers; in order for a complaint to be filed there must have been some interaction between an officer and a civilian. However,  it can be seen that there are cases where specific, notably marginalized, communities see far greater police interaction than others which can lead to a greater amount of complaints made within certain communities and from marginalized backgrounds. As a result, there may be an implicit bias within the dataset. Despite these concerns, we are confident that the data is still reliable to use for the project. Firstly, we can use the data to uncover discrimination throughout the process. In order to do this, we must analyze the data from the source and identify key features. Furthermore, we are confident that the data comes from a reliable source, ensuring that the information has not been tampered with or altered.\n",
    "\n",
    "Lastly, we understand that there may be possible unethical byproducts that can arise from the use of the project. For example, it may be the case that the model, as a result of implicit bias in the data, finds a complaint to be substantiated due to features such as age or race. In the event the model were to be put to use, there is a concern for similar ethical violations to that of Predictive Policing.\n",
    "We can use this model to reveal a possible bias by highlighting which variables are most influential in deciding the outcome; the model can reveal that certain, hypothetically less important features in this decision process, are more impactful than others. Examples of these variables include race, age, gender, and more. If these variables are shown to be influential, it can suggest that the outcome is determined with a bias towards or against these discriminatory beliefs. "
   ]
  },
  {
   "cell_type": "markdown",
   "metadata": {},
   "source": [
    "# Team Expectations "
   ]
  },
  {
   "cell_type": "markdown",
   "metadata": {},
   "source": [
    "* We will perform any types of communication through Discord such as announcements, questions, and general information for the project.\n",
    "* We are set to have a 24 hour policy on communication, which means that group members need to read and respond (if the message is directed to them) to that message within 24 hours of that message being sent.\n",
    "* While we will try to make sure that we only meet up to two times per week, we do have an expectation that team members need to be prepared to jump on a Discord in the event that a time-sensitive matter comes up.\n",
    "* While we will try to make sure that we only meet up to two times per week, we do have an expectation that team members need to be prepared to jump on a Discord in the event that a time-sensitive matter comes up.\n",
    "* Each member is expected to finish up their task two hours prior to the start of the next progress meeting to  allow others to read and analyze their work to provide feedback during the meeting.\n",
    "* We will respect each other's opinions and give constructive feedback on each other's works and make decisions that are approved and supported by each group member.\n",
    "* We will try our best to divide the task evenly among group members and make sure that nobody is feeling overwhelmed, but there is an expectation to finish the assigned tasks two hours prior to the start of the next meeting.\n",
    "* If a team member is not able to complete their tasks on time, they can reach out to other team members and discuss how to approach finishing their portion.\n"
   ]
  },
  {
   "cell_type": "markdown",
   "metadata": {},
   "source": [
    "# Project Timeline Proposal"
   ]
  },
  {
   "cell_type": "markdown",
   "metadata": {},
   "source": [
    "Important Dates:\n",
    "* 2/22: Proposal due.\n",
    "* 3/1: Peer review of proposals.\n",
    "* 3/8: Project checkpoint.\n",
    "* 3/22: Final project, team evaluation survey.\n",
    "\n",
    "\n",
    "| Meeting Date  | Meeting Time| Completed Before Meeting  | Discuss at Meeting |\n",
    "|---|---|---|---|\n",
    "| 2/13  |  12 PM |  N/A  | Introductions of each member, discuss team expectations, and assign task for each members to propose project idea | \n",
    "| 2/19  |  12 AM |  Project ideas | Compare and analyze each member’s project idea; Discuss how to create better project ideas and assign each member to come up with improved ideas based on the important factors. | \n",
    "| 2/20 | 10 AM  | Improved project ideas  | Analyze the new project ideas and choose which one we want to work on; Assign each member to work on specific parts of the proposal   |\n",
    "| 2/22  | 1 PM  | Finish the assigned proposal task | Analyze each assigned task and fix any error or add what is missing from each section of the proposal; Finish the proposal by combining it together; discuss how to approach the data.   |\n",
    "| 2/25  | 1 PM  | Finish importing and cleaning up the data | Come up with another useful dataset (if needed); Discuss which model we want to use and how to approach it; Assign each member to different tasks. |\n",
    "| 3/1  | 1 PM  | Peer Reviews | Discuss the peer reviews and discuss  the coding for our project; assign each member to the coding part of the project. Discuss how the random forest tree classifier will be executed and which members will be responsible for testing which features. |\n",
    "| 3/6  | 12 PM  | Finish the assigned task for the project | Further discuss the coding part and finishing any unfinished part that we set for the checkpoint; Discuss the findings from the random forest tree classifier metrics and compare accuracy results  |\n",
    "| 3/8  |  9:30 PM |  Implement the feedback from the project proposal  | Fix the remaining feedback from project proposal; Work on the project checkpoint, specifically, preliminary results; Assign each member to work on specific parts of the proposal | \n",
    "| 3/10  |  1 PM |  Finish the assigned proposal task | Discuss the coding for our project; Assign each member to the coding part of the project; Discuss how the random forest tree classifier will be executed and which members will be responsible for testing which features. | \n",
    "| 3/18  |  1 PM | Coding part of the project | Review and check the coding part; Discuss the unfinished part of the project and work on it | \n",
    "| 3/22  |  1 PM |  Complete the project  | Review the whole project and finally turn in the final project. |"
   ]
  },
  {
   "cell_type": "markdown",
   "metadata": {},
   "source": [
    "# Footnotes\n",
    "<a name=\"lorenznote\"><sup>1</sup></a> Neal, E. (2022, April 29). A history of police violence in America. Stacker. https://stacker.com/history/history-police-violence-america\n",
    "\n",
    "<a name=\"admonishnote\"><sup>2</sup></a> Arkady. (2020, July 13). NYC police brutality & excessive force: Statistics & real cases. Frekhtman & Associates | New York Injury and Accident Attorneys. https://866attylaw.com/nyc-police-brutality-excessive-force-statistics-real-cases/ \n",
    "\n",
    "<a name=\"ccpcnote\"><sup>3</sup></a> Gonen, Y. (2022, July 11). Bad cops not getting punishment they deserve, says Corruption Commission. The City. https://www.thecity.nyc/2022/7/10/23201012/bad-cops-not-getting-punishment-ccpc\n",
    "\n",
    "<a name=\"healthnote\"><sup>4</sup></a> Along, S., McAlpine, D., McCreedy, E., & Hardeman, R. (2017). Police Brutality and Black Health: Setting the Agenda for Public Health Scholars. Am J Public Health, 107(5), 662–665. https://doi.org/https://doi.org/10.2105%2FAJPH.2017.303691\n",
    "\n",
    "<a name=\"fatalnote\"><sup>5</sup></a> Fatal police violence by race and state in the USA, 1980–2019: A network meta-regression. (2021). The Lancet, 398(10307), 1239–1255. https://doi.org/10.1016/s0140-6736(21)01609-3\n",
    "\n",
    "<a name=\"ccrbnote\"><sup>6</sup></a> About the CCRB. About - CCRB. (n.d.). https://www.nyc.gov/site/ccrb/about/about.page\n",
    "\n",
    "<a name=\"levinnote\"><sup>7</sup></a> Levin, N. (2022, December 30). 5 largest police departments in the world. Largest.org. https://largest.org/structures/largest-police-departments-in-world/\n"
   ]
  },
  {
   "cell_type": "code",
   "execution_count": null,
   "metadata": {},
   "outputs": [],
   "source": []
  }
 ],
 "metadata": {
  "kernelspec": {
   "display_name": "Python 3 (ipykernel)",
   "language": "python",
   "name": "python3"
  },
  "language_info": {
   "codemirror_mode": {
    "name": "ipython",
    "version": 3
   },
   "file_extension": ".py",
   "mimetype": "text/x-python",
   "name": "python",
   "nbconvert_exporter": "python",
   "pygments_lexer": "ipython3",
   "version": "3.9.7"
  }
 },
 "nbformat": 4,
 "nbformat_minor": 2
}
