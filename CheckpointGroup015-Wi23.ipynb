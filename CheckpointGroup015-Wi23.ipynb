{
 "cells": [
  {
   "cell_type": "markdown",
   "metadata": {},
   "source": [
    "# COGS 118A - Project Checkpoint"
   ]
  },
  {
   "cell_type": "markdown",
   "metadata": {},
   "source": [
    "# Names\n",
    "\n",
    "- Christian Kim\n",
    "- Ian Pearson\n",
    "- Laurensius Junaidy\n",
    "- Sebastian Algharaballi"
   ]
  },
  {
   "cell_type": "markdown",
   "metadata": {},
   "source": [
    "# Abstract \n",
    "The issue of police brutality and abuse of power by law enforcement is an ongoing problem in the United States, leading to public distrust and turmoil. The goal of this project is to gain insight into complaints made by civilians against police officers. We aim to develop a mathematically-driven system that highlights the significance of organizations like The New York City Civilian Complaint Review Board (CCRB) to ensure police officers are held accountable for their actions. Using data from the CCRB, we will analyze the nature of public complaints and the outcomes of disciplinary actions by wrangling our data, obtaining our most important features, and fitting the best prediction model possible. These steps will be made all in effort to generate correlational patterns within our data that shows us the variety of complaints against law enforcement that leads to occupational punishments. The success of our model will ultimately be measured by its effectiveness in identifying cases of police malpractice that should be punishable. We will also utilize an F1-score to compute the model’s performance, leading us towards our vision of generalizing these results to combat the rising tension between the general public and law enforcement."
   ]
  },
  {
   "cell_type": "markdown",
   "metadata": {},
   "source": [
    "# Background\n",
    "\n",
    "Police officers being accused of abusing their authority has been a contentious political topic in the United States for decades. While this issue has seemingly gained more public attention over the evolution of the social media era, abuse of power by law enforcement has actually been a source of turmoil ever since the beginning of the 20th century. Over a 5 year period beginning in 2015, more than 11,000 claims or lawsuits were filed against the New York Police Department, alleging some form of police misconduct and several threats to public safety [<sup>1</sup>](#lorenznote). Of those complaints, more than half of them were solved by some form of a lawsuit. While that sounds good on paper, about 530 of those were paid out as `$5000` or less, with most claimants in this group often receiving less than `$500`. In addition, according to the Commission to Combat Police Corruption’s 20th annual report, just over 11% of New York police officers that should have faced disciplinary action for occupational malpractice walked away with no punishment whatsoever and were able to continue working as a police officer [<sup>2</sup>](#admonishnote). One research study found that intersecting pathways between police brutality and life-changing health outcomes include 1) fatal injuries that increase population-specific mortality rates, 2) adverse physiological responses that increase morbidity, 3) racist public reactions that cause stress, 4) arrests, incarcerations, and legal, medical, and funeral bills that cause financial strain, and 5) integrated oppressive structures that cause systematic disempowerment [<sup>3</sup>](#ccpcnote). The above issues raise even more importance to our problem, as police brutality can have lifelong implications.\n",
    "\n",
    "Our goal is to gain more insight into the complaints given by civilians against police officers. While developing the scope of our project, we were inspired by a 2019 study conducted by the GBD Police Violence US Subnational Collaborators, a research paper that details unreported police killings across the United States from 1980-2019 [<sup>4</sup>](#healthnote). This group found that across all races and states in the USA, 17,100 of the 30,800 deaths from police violence between 1980 and 2018 were unreported by the NVSS (USA National Vital Statistics System). Over this time period, the age-standardized mortality rate due to police violence was highest in non-Hispanic Black people (0.69 [95% CI 0.67–0.71] per 100,000), followed by Hispanic people of any race (0.35 [0.34–0.36]), non-Hispanic White people (0.20 [0.19–0.20]), and non-Hispanic people of other races (0.15 [0.14–0.16]). Besides the eye-opening statistics to further prove the importance of our issue, we aim to achieve this level of transparency and preciseness in our findings regarding applicable police punishment. Moreover, while our project will not directly detail the subject of unreported police killings by race, prior research like this gives us more inspiration to extend upon the information that is already out there, develop a mathematical-driven system that can further prove police officers deserving viable punishment for every-day malpractice, and highlight the significance of organizations like The New York City Civilian Complaint Review Board (CCRB) in an effort to go against the notion of unreported police malpractice. On that note, the CCRB is an independent organization that investigates and recommends viable punishment against New York City police officers accused of abusing their authority through the likes of offensive language, discourtesy, and unnecessary force. Why New York City? Besides being one of the largest cities in America with an immense history of police brutality, New York City is also home to the largest police force on the globe, with over 50,000 active personnel. Therefore, this city’s police department acts as an important role model for other departments, which is why it is of great importance for the NYPD to lead by example and be held accountable when a citizen raises a complaint against one of their officers. Due to this role, the city of New York and the CCRB maintains ongoing, publicly available data regarding official complaints raised to the CCRB that keeps track of poor encounters with police officers in the city. The data includes, but is not limited to, the subject of the complaint, victim age and gender, and, most importantly, the overall punishment the CCRB gave the accused officer. \n",
    "\n",
    "We will utilize several classification algorithms to find overall patterns and trends between the instances of day-by-day police misconduct detailed in our datasets in an effort to generalize our results and precisely predict whether the CCRB declared a complaint to be substantiated or unsubstantiated. More specifically, we want to be able to obtain a clear understanding between the characteristics of each complaint to determine several baseline criteria that ultimately decides the occupational fate of an officer subject to one of these grievances. We believe that our model will enable us to effectively determine whether or not the CCRB is recommending enough punishment to the “bad apples” of the NYPD, while giving us the opportunity to discover any specific trends or examples of misconduct that tend to lead to more severe punishment for the police officer at hand.\n"
   ]
  },
  {
   "cell_type": "markdown",
   "metadata": {},
   "source": [
    "# Problem Statement\n",
    "\n",
    "To understand whether the Civilian Complaint Review Board (CCRB) recommends appropriate action for NYPD officers accused of abusing their authority, we will first perform an exploratory data analysis to identify underlying patterns and trends in the data. EDA is going to be an essential step for our project, as it helps us to make informed decisions about which features to include in our model. Our EDA will include the following steps:\n",
    "\n",
    "1. Data Cleaning/Preprocessing: We will first inspect the dataset for inconsistent values and perform any necessary cleaning and preprocessing tasks to ensure the data is ready for analysis. We will focus on utilizing one-hot encoding for any missing values we may find.\n",
    "2. Descriptive Statistics: We will use summary statistics and visualizations such as histograms, scatter plots, and box plots to gain an overall understanding of the distribution and relationships between our variables.\n",
    "3. Correlation Analysis: We will conduct a correlation analysis to determine the strength and direction of the relationships between the variables. This will allow us to identify any multicollinearity issues that may arise from including highly correlated variables in our model.\n",
    "4. Feature Selection: Based on the insights gained from the previous steps, we will select a subset of features that are most relevant to predicting whether a complaint is substantiated or unsubstantiated. This will help us to build a more accurate and interpretable model.\n",
    "5. Model Selection: After precisely choosing the features that are best suited for our problem, we will undergo a model selection task in an effort to determine the best model for our project. The models in consideration will be:\n",
    "> * K-Nearest Neighbors\n",
    "> * Logistic Regression\n",
    "> * Gradient Boosting\n",
    "> * Random Forest Classifier Algorithm\n",
    "\n",
    "6. Outlier Detection: We will detect any outliers in the dataset that could potentially impact our model performance and decide on how to handle them.\n",
    "7. Hypothesis Testing: We may conduct hypothesis testing to validate any insights or assumptions made during the EDA process.\n",
    "\n",
    "After conducting this process, we will have clean, well-understood data, and will be ready to begin the development of a classification model that can predict whether the CCRB declared a complaint as substantiated or unsubstantiated, which is described as the recommendation made by the CCRB based on the characteristics of the given complaint. Once we train a classifier to predict a complaint as one of these two categories, we can use that prediction to identify potential biases or injustices in the CCRB's recommendations. We can compare the predictions made by our model to the actual CCRB recommendations and analyze the discrepancies to determine if there are any consistent patterns or trends in the data that may suggest bias.\n"
   ]
  },
  {
   "cell_type": "markdown",
   "metadata": {},
   "source": [
    "# Data\n",
    "\n",
    "UPDATED FROM PROPOSAL!\n",
    "\n",
    "You should have obtained and cleaned (if necessary) data you will use for this project.\n",
    "\n",
    "Please give the following infomration for each dataset you are using\n",
    "- link/reference to obtain it\n",
    "- description of the size of the dataset (# of variables, # of observations)\n",
    "- what an observation consists of\n",
    "- what some critical variables are, how they are represented\n",
    "- any special handling, transformations, cleaning, etc you have done should be demonstrated here!\n"
   ]
  },
  {
   "cell_type": "markdown",
   "metadata": {},
   "source": [
    "[NYCLU Misconduct Database](https://www.nyclu.org/en/campaigns/nypd-misconduct-database)\n",
    "\n",
    "We will be using a dataset given by the NYCLU, the New York Civil Liberties Union, which is known as the NYPD Misconduct Complaint Database. \n",
    "The dataset has 279,645 unique complaints that we will be able to work with and has 35 relevant features for each complaint. \n",
    "A single observation includes a complaint made against an officer; this can include any of the following features:\n",
    "\n",
    "- `AsOfDate`: The last time the complaint was updated in the database\n",
    "- `AllegationID`: The ID of the recorded allegation \n",
    "- `LastName`: The last name of the officer \n",
    "- `FirstName`: The first name of the officer \n",
    "- `OfficerRace`: The race of the officer \n",
    "- `OfficerGender`: The gender of the officer \n",
    "- `OfficerID`: The id of the officer \n",
    "- `CurrentRank`: The current (abbreviated) rank of the officer \n",
    "- `CurrentRankLong`: The current (full) rank of the officer \n",
    "- `CurrentCommand`: The current station of the officer \n",
    "- `IncidentRank`: The (abbreviated) rank of the officer at the time of the incident \n",
    "- `IncidentRankLong`: The (full) rank of the officer at the time of the incident \n",
    "- `IncidentCommand`: The station of the officer at the time of the incident \n",
    "- `ShieldNo`: The badge number of the officer \n",
    "- `DaysOnForce`: The number of days the officer had been on duty \n",
    "- `Status`: The current status of the officer (active duty or retired) \n",
    "- `LastActive`: The most recent date that the officer was on duty \n",
    "- `ComplaintID`: The ID of the recorded complaint \n",
    "- `IncidentDate`: The date of the incident \n",
    "- `FADOType`: What type of complaint is being filed; E.g. Discourtesy, Offensive Language, Abuse of Authority, etc. \n",
    "- `Allegation`: What the specific allegation was against the officer \n",
    "- `CCRBDiposition`: CCRB’s final evaluation of the complaint \n",
    "- `BoardCat`: Simplified version of CCRB Disposition field \n",
    "- `PenaltyRec`: Description of CCRB charge recommendation \n",
    "- `NYPDDisposition`: NYPD final disposition of the complaint \n",
    "- `PenaltyDesc`: NYPD penalty given to the officer named in the complaint \n",
    "- `LocationType`: Type of location where the incident took place \n",
    "- `ContactReason`: Reason why police was contacted \n",
    "- `ContactOutcome`: Outcome of police-civilian contact \n",
    "- `IncidentPrecinct`: NYPD precinct where the incident took place \n",
    "- `ImpactedRace`: Self-reported race/ethnicity of the person impacted in the incident \n",
    "- `ImpactedGender`: Self-reported gender of the person impacted in the incident \n",
    "- `ImpactedAge`: Self-reported age of the person impacted in the incident \n",
    "- `ReceivedDate`: Date on which the CCRB received the complaint\n",
    "- `CloseDate`: Date on which the CCRB closed/completed the complaint \n",
    "\n",
    "Firstly, we are going to be removing the `FirstName`, `LastName`, `EmploymentStatus`, `AllegationID`, `ShieldNo` ,`ComplaintID`, `PenaltyRec`, `NYPDDisposition`, `PenaltyDesc`, `LocationType`, `RecieveedDate`, and `CloseDate` columns. We choose to remove the names and shield number to ensure the protection of privacy for those involved. We choose to remove the EmploymentStatus, PenaltyRec,NYPDdisposition, and PenaltyDesc features because this may lead to an overfitting towards this variable; that is, the feature may suggest the outcome very simply (an unemployed officer is more likely to have had a negative outcome such as termination in comparison to an officer currently employed). In order to lead the model towards a thorough analysis, we remove these variables. Lastly, we removed the dates and ID variables as they do not provide necessary information regarding the analysis.\n",
    "We are predicting the CCRBDisposition variable; In order to simplify this process we will binarize this feature. That is, rather than having many possibilities of outcomes, we will reduce the possibilities to substantiated or unsubstantiated. This makes the prediction task far simpler for the model.\n",
    "We believe that the most critical variables include ContactOutcome, Allegation, and CurrentRank. These features highlight the circumstances of the incident in the most influential terms. The actual allegation against the officer and the contact outcome can determine what had specifically occurred during the scenario. The current rank of the officer can influence how much power that officer holds in the precinct, and in turn may imply a safety net.\n",
    "\n",
    "Regarding missing values, we cannot confirm that our data retains a normal distribution and due to the nature of the data normalization complicates the approach. As a result, when handling missing values within the data, we will be adding a unique input to represent absent information. For numerical variables, we will replace a missing value with NaN. For categorical variables, since we will be implementing one-hot encoding, we will add another index to represent missing values. For example, a categorical variable with 3 possible responses, would have 4 possible indices, where the fourth index represents missing.\n"
   ]
  },
  {
   "cell_type": "code",
   "execution_count": 58,
   "metadata": {},
   "outputs": [],
   "source": [
    "# DATA CLEANING: import packages\n",
    "import pandas as pd\n",
    "import numpy as np"
   ]
  },
  {
   "cell_type": "code",
   "execution_count": 59,
   "metadata": {},
   "outputs": [
    {
     "name": "stderr",
     "output_type": "stream",
     "text": [
      "/opt/anaconda3/lib/python3.9/site-packages/IPython/core/interactiveshell.py:3444: DtypeWarning: Columns (10,11,12,18,23,24,25,26,27,28,29,30,31) have mixed types.Specify dtype option on import or set low_memory=False.\n",
      "  exec(code_obj, self.user_global_ns, self.user_ns)\n"
     ]
    },
    {
     "data": {
      "text/html": "<div>\n<style scoped>\n    .dataframe tbody tr th:only-of-type {\n        vertical-align: middle;\n    }\n\n    .dataframe tbody tr th {\n        vertical-align: top;\n    }\n\n    .dataframe thead th {\n        text-align: right;\n    }\n</style>\n<table border=\"1\" class=\"dataframe\">\n  <thead>\n    <tr style=\"text-align: right;\">\n      <th></th>\n      <th>AsOfDate</th>\n      <th>AllegationID</th>\n      <th>LastName</th>\n      <th>FirstName</th>\n      <th>OfficerRace</th>\n      <th>OfficerGender</th>\n      <th>OfficerID</th>\n      <th>CurrentRank</th>\n      <th>CurrentRankLong</th>\n      <th>CurrentCommand</th>\n      <th>...</th>\n      <th>PenaltyDesc</th>\n      <th>LocationType</th>\n      <th>ContactReason</th>\n      <th>ContactOutcome</th>\n      <th>IncidentPrecinct</th>\n      <th>ImpactedRace</th>\n      <th>ImpactedGender</th>\n      <th>ImpactedAge</th>\n      <th>ReceivedDate</th>\n      <th>CloseDate</th>\n    </tr>\n  </thead>\n  <tbody>\n    <tr>\n      <th>0</th>\n      <td>4/20/2021</td>\n      <td>1119144</td>\n      <td>Ruscillo</td>\n      <td>Taylor</td>\n      <td>White</td>\n      <td>Female</td>\n      <td>54191</td>\n      <td>POF</td>\n      <td>Police Officer</td>\n      <td>MTN PCT</td>\n      <td>...</td>\n      <td>NaN</td>\n      <td>Apartment/house</td>\n      <td>Report-domestic dispute</td>\n      <td>No arrest made or summons issued</td>\n      <td>PCT 018</td>\n      <td>Hispanic</td>\n      <td>Male</td>\n      <td>29.0</td>\n      <td>2/15/2021</td>\n      <td>4/9/2021</td>\n    </tr>\n    <tr>\n      <th>1</th>\n      <td>4/20/2021</td>\n      <td>1116090</td>\n      <td>Medina</td>\n      <td>Nelson</td>\n      <td>Hispanic</td>\n      <td>Male</td>\n      <td>76926</td>\n      <td>POM</td>\n      <td>Police Officer</td>\n      <td>TB DT02</td>\n      <td>...</td>\n      <td>NaN</td>\n      <td>Subway station/train</td>\n      <td>C/V intervened on behalf of/observed encounter...</td>\n      <td>Arrest - other violation/crime</td>\n      <td>PCT 014</td>\n      <td>Black</td>\n      <td>Male</td>\n      <td>43.0</td>\n      <td>1/13/2021</td>\n      <td>3/9/2021</td>\n    </tr>\n    <tr>\n      <th>2</th>\n      <td>4/20/2021</td>\n      <td>1116091</td>\n      <td>Pierre</td>\n      <td>Bebeto</td>\n      <td>Black</td>\n      <td>Male</td>\n      <td>76976</td>\n      <td>POM</td>\n      <td>Police Officer</td>\n      <td>TB DT02</td>\n      <td>...</td>\n      <td>NaN</td>\n      <td>Subway station/train</td>\n      <td>C/V intervened on behalf of/observed encounter...</td>\n      <td>Arrest - other violation/crime</td>\n      <td>PCT 014</td>\n      <td>Black</td>\n      <td>Male</td>\n      <td>43.0</td>\n      <td>1/13/2021</td>\n      <td>3/9/2021</td>\n    </tr>\n    <tr>\n      <th>3</th>\n      <td>4/20/2021</td>\n      <td>1115473</td>\n      <td>Chapman</td>\n      <td>John</td>\n      <td>White</td>\n      <td>Male</td>\n      <td>18497</td>\n      <td>POM</td>\n      <td>Police Officer</td>\n      <td>075 PCT</td>\n      <td>...</td>\n      <td>NaN</td>\n      <td>Apartment/house</td>\n      <td>Report-domestic dispute</td>\n      <td>No arrest made or summons issued</td>\n      <td>PCT 075</td>\n      <td>NaN</td>\n      <td>Male</td>\n      <td>57.0</td>\n      <td>1/11/2021</td>\n      <td>3/10/2021</td>\n    </tr>\n    <tr>\n      <th>4</th>\n      <td>4/20/2021</td>\n      <td>1115475</td>\n      <td>Tafuro</td>\n      <td>Justin</td>\n      <td>White</td>\n      <td>Male</td>\n      <td>19003</td>\n      <td>POM</td>\n      <td>Police Officer</td>\n      <td>075 PCT</td>\n      <td>...</td>\n      <td>NaN</td>\n      <td>Apartment/house</td>\n      <td>Report-domestic dispute</td>\n      <td>No arrest made or summons issued</td>\n      <td>PCT 075</td>\n      <td>NaN</td>\n      <td>Male</td>\n      <td>57.0</td>\n      <td>1/11/2021</td>\n      <td>3/10/2021</td>\n    </tr>\n  </tbody>\n</table>\n<p>5 rows × 35 columns</p>\n</div>",
      "text/plain": "    AsOfDate  AllegationID  LastName FirstName OfficerRace OfficerGender  \\\n0  4/20/2021       1119144  Ruscillo    Taylor       White        Female   \n1  4/20/2021       1116090    Medina    Nelson    Hispanic          Male   \n2  4/20/2021       1116091    Pierre    Bebeto       Black          Male   \n3  4/20/2021       1115473   Chapman      John       White          Male   \n4  4/20/2021       1115475    Tafuro    Justin       White          Male   \n\n   OfficerID CurrentRank CurrentRankLong CurrentCommand  ... PenaltyDesc  \\\n0      54191         POF  Police Officer        MTN PCT  ...         NaN   \n1      76926         POM  Police Officer        TB DT02  ...         NaN   \n2      76976         POM  Police Officer        TB DT02  ...         NaN   \n3      18497         POM  Police Officer        075 PCT  ...         NaN   \n4      19003         POM  Police Officer        075 PCT  ...         NaN   \n\n           LocationType                                      ContactReason  \\\n0       Apartment/house                            Report-domestic dispute   \n1  Subway station/train  C/V intervened on behalf of/observed encounter...   \n2  Subway station/train  C/V intervened on behalf of/observed encounter...   \n3       Apartment/house                            Report-domestic dispute   \n4       Apartment/house                            Report-domestic dispute   \n\n                     ContactOutcome  IncidentPrecinct ImpactedRace  \\\n0  No arrest made or summons issued           PCT 018     Hispanic   \n1    Arrest - other violation/crime           PCT 014        Black   \n2    Arrest - other violation/crime           PCT 014        Black   \n3  No arrest made or summons issued           PCT 075          NaN   \n4  No arrest made or summons issued           PCT 075          NaN   \n\n  ImpactedGender  ImpactedAge ReceivedDate  CloseDate  \n0           Male         29.0    2/15/2021   4/9/2021  \n1           Male         43.0    1/13/2021   3/9/2021  \n2           Male         43.0    1/13/2021   3/9/2021  \n3           Male         57.0    1/11/2021  3/10/2021  \n4           Male         57.0    1/11/2021  3/10/2021  \n\n[5 rows x 35 columns]"
     },
     "execution_count": 59,
     "metadata": {},
     "output_type": "execute_result"
    }
   ],
   "source": [
    "# DATA CLEANING: load dataset\n",
    "ccrb = pd.read_csv(\"CCRB Complaint Database Raw 04.20.2021.csv\")\n",
    "ccrb.head()"
   ]
  },
  {
   "cell_type": "code",
   "execution_count": 60,
   "metadata": {
    "scrolled": false
   },
   "outputs": [
    {
     "data": {
      "text/plain": "Index(['AsOfDate', 'AllegationID', 'LastName', 'FirstName', 'OfficerRace',\n       'OfficerGender', 'OfficerID', 'CurrentRank', 'CurrentRankLong',\n       'CurrentCommand', 'IncidentRank', 'IncidentRankLong', 'IncidentCommand',\n       'ShieldNo', 'DaysOnForce', 'Status', 'LastActive', 'ComplaintID',\n       'IncidentDate', 'FADOType', 'Allegation', 'CCRBDisposition', 'BoardCat',\n       'PenaltyRec', 'NYPDDisposition', 'PenaltyDesc', 'LocationType',\n       'ContactReason', 'ContactOutcome', 'IncidentPrecinct', 'ImpactedRace',\n       'ImpactedGender', 'ImpactedAge', 'ReceivedDate', 'CloseDate'],\n      dtype='object')"
     },
     "execution_count": 60,
     "metadata": {},
     "output_type": "execute_result"
    }
   ],
   "source": [
    "# DATA CLEANING: examine columns\n",
    "ccrb.columns"
   ]
  },
  {
   "cell_type": "code",
   "execution_count": 61,
   "metadata": {},
   "outputs": [
    {
     "data": {
      "text/html": "<div>\n<style scoped>\n    .dataframe tbody tr th:only-of-type {\n        vertical-align: middle;\n    }\n\n    .dataframe tbody tr th {\n        vertical-align: top;\n    }\n\n    .dataframe thead th {\n        text-align: right;\n    }\n</style>\n<table border=\"1\" class=\"dataframe\">\n  <thead>\n    <tr style=\"text-align: right;\">\n      <th></th>\n      <th>officerrace</th>\n      <th>officergender</th>\n      <th>currentranklong</th>\n      <th>currentcommand</th>\n      <th>incidentranklong</th>\n      <th>incidentcommand</th>\n      <th>daysonforce</th>\n      <th>status</th>\n      <th>lastactive</th>\n      <th>incidentdate</th>\n      <th>fadotype</th>\n      <th>allegation</th>\n      <th>ccrbdisposition</th>\n      <th>contactreason</th>\n      <th>contactoutcome</th>\n      <th>incidentprecinct</th>\n      <th>impactedrace</th>\n      <th>impactedgender</th>\n      <th>impactedage</th>\n    </tr>\n  </thead>\n  <tbody>\n    <tr>\n      <th>0</th>\n      <td>white</td>\n      <td>female</td>\n      <td>police officer</td>\n      <td>mtn pct</td>\n      <td>police officer</td>\n      <td>mtn pct</td>\n      <td>672</td>\n      <td>active</td>\n      <td>4/1/2021</td>\n      <td>2/15/2021</td>\n      <td>abuse of authority</td>\n      <td>threat of arrest</td>\n      <td>complainant unavailable</td>\n      <td>report-domestic dispute</td>\n      <td>no arrest made or summons issued</td>\n      <td>pct 018</td>\n      <td>hispanic</td>\n      <td>male</td>\n      <td>29.0</td>\n    </tr>\n    <tr>\n      <th>1</th>\n      <td>hispanic</td>\n      <td>male</td>\n      <td>police officer</td>\n      <td>tb dt02</td>\n      <td>police officer</td>\n      <td>tb dt02</td>\n      <td>4753</td>\n      <td>active</td>\n      <td>4/1/2021</td>\n      <td>1/11/2021</td>\n      <td>force</td>\n      <td>physical force</td>\n      <td>closed - pending litigation</td>\n      <td>c/v intervened on behalf of/observed encounter...</td>\n      <td>arrest - other violation/crime</td>\n      <td>pct 014</td>\n      <td>black</td>\n      <td>male</td>\n      <td>43.0</td>\n    </tr>\n    <tr>\n      <th>2</th>\n      <td>black</td>\n      <td>male</td>\n      <td>police officer</td>\n      <td>tb dt02</td>\n      <td>police officer</td>\n      <td>tb dt02</td>\n      <td>924</td>\n      <td>active</td>\n      <td>4/1/2021</td>\n      <td>1/11/2021</td>\n      <td>force</td>\n      <td>physical force</td>\n      <td>closed - pending litigation</td>\n      <td>c/v intervened on behalf of/observed encounter...</td>\n      <td>arrest - other violation/crime</td>\n      <td>pct 014</td>\n      <td>black</td>\n      <td>male</td>\n      <td>43.0</td>\n    </tr>\n    <tr>\n      <th>3</th>\n      <td>white</td>\n      <td>male</td>\n      <td>police officer</td>\n      <td>075 pct</td>\n      <td>police officer</td>\n      <td>075 pct</td>\n      <td>361</td>\n      <td>active</td>\n      <td>4/1/2021</td>\n      <td>1/1/2021</td>\n      <td>discourtesy</td>\n      <td>word</td>\n      <td>complaint withdrawn</td>\n      <td>report-domestic dispute</td>\n      <td>no arrest made or summons issued</td>\n      <td>pct 075</td>\n      <td>NaN</td>\n      <td>male</td>\n      <td>57.0</td>\n    </tr>\n    <tr>\n      <th>4</th>\n      <td>white</td>\n      <td>male</td>\n      <td>police officer</td>\n      <td>075 pct</td>\n      <td>police officer</td>\n      <td>075 pct</td>\n      <td>2733</td>\n      <td>active</td>\n      <td>4/1/2021</td>\n      <td>1/1/2021</td>\n      <td>discourtesy</td>\n      <td>word</td>\n      <td>complaint withdrawn</td>\n      <td>report-domestic dispute</td>\n      <td>no arrest made or summons issued</td>\n      <td>pct 075</td>\n      <td>NaN</td>\n      <td>male</td>\n      <td>57.0</td>\n    </tr>\n  </tbody>\n</table>\n</div>",
      "text/plain": "  officerrace officergender currentranklong currentcommand incidentranklong  \\\n0       white        female  police officer        mtn pct   police officer   \n1    hispanic          male  police officer        tb dt02   police officer   \n2       black          male  police officer        tb dt02   police officer   \n3       white          male  police officer        075 pct   police officer   \n4       white          male  police officer        075 pct   police officer   \n\n  incidentcommand  daysonforce  status lastactive incidentdate  \\\n0         mtn pct          672  active   4/1/2021    2/15/2021   \n1         tb dt02         4753  active   4/1/2021    1/11/2021   \n2         tb dt02          924  active   4/1/2021    1/11/2021   \n3         075 pct          361  active   4/1/2021     1/1/2021   \n4         075 pct         2733  active   4/1/2021     1/1/2021   \n\n             fadotype        allegation              ccrbdisposition  \\\n0  abuse of authority  threat of arrest      complainant unavailable   \n1               force    physical force  closed - pending litigation   \n2               force    physical force  closed - pending litigation   \n3         discourtesy              word          complaint withdrawn   \n4         discourtesy              word          complaint withdrawn   \n\n                                       contactreason  \\\n0                            report-domestic dispute   \n1  c/v intervened on behalf of/observed encounter...   \n2  c/v intervened on behalf of/observed encounter...   \n3                            report-domestic dispute   \n4                            report-domestic dispute   \n\n                     contactoutcome incidentprecinct impactedrace  \\\n0  no arrest made or summons issued          pct 018     hispanic   \n1    arrest - other violation/crime          pct 014        black   \n2    arrest - other violation/crime          pct 014        black   \n3  no arrest made or summons issued          pct 075          NaN   \n4  no arrest made or summons issued          pct 075          NaN   \n\n  impactedgender  impactedage  \n0           male         29.0  \n1           male         43.0  \n2           male         43.0  \n3           male         57.0  \n4           male         57.0  "
     },
     "execution_count": 61,
     "metadata": {},
     "output_type": "execute_result"
    }
   ],
   "source": [
    "# DATA CLEANING\n",
    "# get rid of AsOfDate, AllegationID, LastName, FirstName, ComplaintID, PenaltyRec, NYPDDisposition, PenaltyDesc,\n",
    "# LocationType, ReceivedDate, CloseDate\n",
    "ccrb = ccrb.drop(columns = [\"AsOfDate\", \"AllegationID\", \"LastName\", \"FirstName\", \"ShieldNo\", \"ComplaintID\", \n",
    "                            \"PenaltyRec\", \"NYPDDisposition\", \"PenaltyDesc\", \"LocationType\", \"ReceivedDate\",\n",
    "                            \"CloseDate\", \"IncidentRank\", \"CurrentRank\", \"BoardCat\", \"OfficerID\"])\n",
    "\n",
    "# lowercase all column names and strings in column names\n",
    "ccrb.columns= ccrb.columns.str.lower()\n",
    "for column in list(ccrb.columns):\n",
    "    if type(ccrb[column][0]) == str:\n",
    "        ccrb[column] = ccrb[column].str.lower()\n",
    "\n",
    "ccrb.head()"
   ]
  },
  {
   "cell_type": "code",
   "execution_count": 62,
   "metadata": {},
   "outputs": [
    {
     "data": {
      "text/html": "<div>\n<style scoped>\n    .dataframe tbody tr th:only-of-type {\n        vertical-align: middle;\n    }\n\n    .dataframe tbody tr th {\n        vertical-align: top;\n    }\n\n    .dataframe thead th {\n        text-align: right;\n    }\n</style>\n<table border=\"1\" class=\"dataframe\">\n  <thead>\n    <tr style=\"text-align: right;\">\n      <th></th>\n      <th>officerrace</th>\n      <th>officergender</th>\n      <th>currentranklong</th>\n      <th>currentcommand</th>\n      <th>incidentranklong</th>\n      <th>incidentcommand</th>\n      <th>daysonforce</th>\n      <th>status</th>\n      <th>lastactive</th>\n      <th>incidentdate</th>\n      <th>fadotype</th>\n      <th>allegation</th>\n      <th>ccrbdisposition</th>\n      <th>contactreason</th>\n      <th>contactoutcome</th>\n      <th>incidentprecinct</th>\n      <th>impactedrace</th>\n      <th>impactedgender</th>\n      <th>impactedage</th>\n    </tr>\n  </thead>\n  <tbody>\n    <tr>\n      <th>0</th>\n      <td>white</td>\n      <td>female</td>\n      <td>police officer</td>\n      <td>mtn pct</td>\n      <td>police officer</td>\n      <td>mtn pct</td>\n      <td>672</td>\n      <td>active</td>\n      <td>4/1/2021</td>\n      <td>2/15/2021</td>\n      <td>abuse of authority</td>\n      <td>threat of arrest</td>\n      <td>unsubstantiated</td>\n      <td>report-domestic dispute</td>\n      <td>no arrest made or summons issued</td>\n      <td>pct 018</td>\n      <td>hispanic</td>\n      <td>male</td>\n      <td>29.0</td>\n    </tr>\n    <tr>\n      <th>1</th>\n      <td>hispanic</td>\n      <td>male</td>\n      <td>police officer</td>\n      <td>tb dt02</td>\n      <td>police officer</td>\n      <td>tb dt02</td>\n      <td>4753</td>\n      <td>active</td>\n      <td>4/1/2021</td>\n      <td>1/11/2021</td>\n      <td>force</td>\n      <td>physical force</td>\n      <td>unsubstantiated</td>\n      <td>c/v intervened on behalf of/observed encounter...</td>\n      <td>arrest - other violation/crime</td>\n      <td>pct 014</td>\n      <td>black</td>\n      <td>male</td>\n      <td>43.0</td>\n    </tr>\n    <tr>\n      <th>2</th>\n      <td>black</td>\n      <td>male</td>\n      <td>police officer</td>\n      <td>tb dt02</td>\n      <td>police officer</td>\n      <td>tb dt02</td>\n      <td>924</td>\n      <td>active</td>\n      <td>4/1/2021</td>\n      <td>1/11/2021</td>\n      <td>force</td>\n      <td>physical force</td>\n      <td>unsubstantiated</td>\n      <td>c/v intervened on behalf of/observed encounter...</td>\n      <td>arrest - other violation/crime</td>\n      <td>pct 014</td>\n      <td>black</td>\n      <td>male</td>\n      <td>43.0</td>\n    </tr>\n    <tr>\n      <th>3</th>\n      <td>white</td>\n      <td>male</td>\n      <td>police officer</td>\n      <td>075 pct</td>\n      <td>police officer</td>\n      <td>075 pct</td>\n      <td>361</td>\n      <td>active</td>\n      <td>4/1/2021</td>\n      <td>1/1/2021</td>\n      <td>discourtesy</td>\n      <td>word</td>\n      <td>unsubstantiated</td>\n      <td>report-domestic dispute</td>\n      <td>no arrest made or summons issued</td>\n      <td>pct 075</td>\n      <td>NaN</td>\n      <td>male</td>\n      <td>57.0</td>\n    </tr>\n    <tr>\n      <th>4</th>\n      <td>white</td>\n      <td>male</td>\n      <td>police officer</td>\n      <td>075 pct</td>\n      <td>police officer</td>\n      <td>075 pct</td>\n      <td>2733</td>\n      <td>active</td>\n      <td>4/1/2021</td>\n      <td>1/1/2021</td>\n      <td>discourtesy</td>\n      <td>word</td>\n      <td>unsubstantiated</td>\n      <td>report-domestic dispute</td>\n      <td>no arrest made or summons issued</td>\n      <td>pct 075</td>\n      <td>NaN</td>\n      <td>male</td>\n      <td>57.0</td>\n    </tr>\n  </tbody>\n</table>\n</div>",
      "text/plain": "  officerrace officergender currentranklong currentcommand incidentranklong  \\\n0       white        female  police officer        mtn pct   police officer   \n1    hispanic          male  police officer        tb dt02   police officer   \n2       black          male  police officer        tb dt02   police officer   \n3       white          male  police officer        075 pct   police officer   \n4       white          male  police officer        075 pct   police officer   \n\n  incidentcommand  daysonforce  status lastactive incidentdate  \\\n0         mtn pct          672  active   4/1/2021    2/15/2021   \n1         tb dt02         4753  active   4/1/2021    1/11/2021   \n2         tb dt02          924  active   4/1/2021    1/11/2021   \n3         075 pct          361  active   4/1/2021     1/1/2021   \n4         075 pct         2733  active   4/1/2021     1/1/2021   \n\n             fadotype        allegation  ccrbdisposition  \\\n0  abuse of authority  threat of arrest  unsubstantiated   \n1               force    physical force  unsubstantiated   \n2               force    physical force  unsubstantiated   \n3         discourtesy              word  unsubstantiated   \n4         discourtesy              word  unsubstantiated   \n\n                                       contactreason  \\\n0                            report-domestic dispute   \n1  c/v intervened on behalf of/observed encounter...   \n2  c/v intervened on behalf of/observed encounter...   \n3                            report-domestic dispute   \n4                            report-domestic dispute   \n\n                     contactoutcome incidentprecinct impactedrace  \\\n0  no arrest made or summons issued          pct 018     hispanic   \n1    arrest - other violation/crime          pct 014        black   \n2    arrest - other violation/crime          pct 014        black   \n3  no arrest made or summons issued          pct 075          NaN   \n4  no arrest made or summons issued          pct 075          NaN   \n\n  impactedgender  impactedage  \n0           male         29.0  \n1           male         43.0  \n2           male         43.0  \n3           male         57.0  \n4           male         57.0  "
     },
     "execution_count": 62,
     "metadata": {},
     "output_type": "execute_result"
    }
   ],
   "source": [
    "# GENERAL FEATURE ENGINEERING\n",
    "# binarize the CCRBDisposition column between (0) unsubstantiated and (1) substantiated\n",
    "# if substantiated, switch to substantiated; if anything else, then unsubstantiated\n",
    "ccrbDispositionList = list(ccrb[\"ccrbdisposition\"])\n",
    "for i in range(len(ccrbDispositionList)):\n",
    "    if \"substantiated\" in ccrbDispositionList[i] and \"unsubstantiated\" not in ccrbDispositionList[i]:\n",
    "        ccrbDispositionList[i] = \"substantiated\"\n",
    "    else:\n",
    "        ccrbDispositionList[i] = \"unsubstantiated\"\n",
    "\n",
    "ccrb[\"ccrbdisposition\"] = ccrbDispositionList\n",
    "ccrb.head()"
   ]
  },
  {
   "cell_type": "code",
   "execution_count": null,
   "metadata": {},
   "outputs": [],
   "source": []
  },
  {
   "cell_type": "markdown",
   "metadata": {},
   "source": [
    "# Proposed Solution\n",
    "\n",
    "As a reminder, our dataset is the “CCRB Complaint Database Raw 04.20.2021.csv“ dataset, which was taken from NYCLU’s GitHub under its NYPD Misconduct Complaint Database repository. An important point to note is that there are 35 columns in the dataset and that more than half of them contain string categorical variables. Also, while the “CCRBDisposition” column contains 25 different actions that the CCRB can take to respond to a complaint, these 25 actions can be boiled down to a binary variable of whether a complaint was “Substantiated” (officer was remediated in some sort of way) or “Not Substantiated” (the officer was not remediated), and this binary variable is what we want to predict. \n",
    "\n",
    "We are not able to reference a benchmark model because there isn't any model that tries to make the predictions that we are striving to make. Since referencing a benchmark model is not appropriate in our case, pivoting to the usage of a baseline mode and using other classifiers would make sense. However, picking a naive baseline model would obviously result in a non-trivial classifer beating the baseline model's accuracy by default, we figured that it would be far more interesting to simply compare the performance of four different classification models. Specifically, for each model, we will select the features that result in the highest accuracy using a grid search. Then, we will compare each optimized model and examine which one has the highest accuracy value.\n",
    "\n",
    "Our first classification algorithm will be K-Nearest Neighbors using the relevant features mentioned above to predict whether a complaint against a police officer was substantiated or unsubstantiated.\n",
    "\n",
    "Our second classification algorithm will be logistic regression using the relevant features mentioned above to predict whether a complaint against a police officer was substantiated or unsubstantiated.\n",
    "\n",
    "Our third classification algorithm will be gradient boosting using the relevant features mentioned above to predict whether a complaint against a police officer was substantiated or unsubstantiated.\n",
    "\n",
    "Our fourth classification algorithm will be the random forest classifier algorithm using the relevant features mentioned above to predict whether a complaint against a police officer was substantiated or unsubstantiated. In terms of the libraries that would be most relevant to our project, scikit-learn has a module called ensemble, which contains the random forest classifier algorithm. Furthermore, we will also be using the train_test_split package under scikit-learn to split the training data and test data from each other.\n"
   ]
  },
  {
   "cell_type": "markdown",
   "metadata": {},
   "source": [
    "# Evaluation Metrics\n",
    "\n",
    "We will be using the F1-score due to how it is a balance of the precision and recall scores. Both precision and recall are especially important to the context and one should not be chosen over the other; attempting to maintain a high precision rate will let us know that we are able to more accurately predict complaints that are actually substantiated. A high recall rate will let us know that we are able to accurately predict complaints that are not substantiated, which means that . To calculate the Precision and Recall scores, we have the following formulas…\n",
    "\n",
    "$$\\text{Precision} = \\frac{\\text{True Positive}}{\\text{True Positive + False Positive}}$$\n",
    "\n",
    "$$\\text{Recall} = \\frac{\\text{True Positive}}{\\text{True Positive + False Negative}}$$\n",
    "\n",
    "\n",
    "Finally, The F1-score formula can be found below…\n",
    "\n",
    "$$\\text{F1-score} = \\frac{2 \\times \\text{Precision} \\times \\text{Recall}{\\text{Precision} + \\text{Recall}}}$$\n",
    "\n",
    "The detriments of having either a low precision or low recall score also illustrates why both are equally important. Having low precision rate means that we are unnecessarily taking actions against police officers for a complaint that is actually unsubstantiated. On the other hand, having a low recall rate means that we are overlooking a complaint that can be utilized to discipline an officer who abused their authority. Thus, since both precision and recall are equally important to the context of this question, the F1-score, which is a harmonic mean of both metrics, will be utilized.\n"
   ]
  },
  {
   "cell_type": "markdown",
   "metadata": {},
   "source": [
    "# Preliminary results\n",
    "\n",
    "NEW SECTION!\n",
    "\n",
    "Please show any preliminary results you have managed to obtain.\n",
    "\n",
    "Examples would include:\n",
    "- Analyzing the suitability of a dataset or alogrithm for prediction/solving your problem \n",
    "- Performing feature selection or hand-designing features from the raw data. Describe the features available/created and/or show the code for selection/creation\n",
    "- Showing the performance of a base model/hyper-parameter setting.  Solve the task with one \"default\" algorithm and characterize the performance level of that base model.\n",
    "- Learning curves or validation curves for a particular model\n",
    "- Tables/graphs showing the performance of different models/hyper-parameters\n",
    "\n"
   ]
  },
  {
   "cell_type": "code",
   "execution_count": 63,
   "metadata": {},
   "outputs": [],
   "source": [
    "# EDA: import libraries\n",
    "import seaborn as sns\n",
    "import matplotlib.pyplot as plt"
   ]
  },
  {
   "cell_type": "code",
   "execution_count": 64,
   "metadata": {},
   "outputs": [
    {
     "data": {
      "text/plain": "(279644, 19)"
     },
     "execution_count": 64,
     "metadata": {},
     "output_type": "execute_result"
    }
   ],
   "source": [
    "# EDA: check shape\n",
    "ccrb.shape"
   ]
  },
  {
   "cell_type": "code",
   "execution_count": 65,
   "metadata": {
    "scrolled": true
   },
   "outputs": [
    {
     "data": {
      "text/plain": "officerrace          object\nofficergender        object\ncurrentranklong      object\ncurrentcommand       object\nincidentranklong     object\nincidentcommand      object\ndaysonforce           int64\nstatus               object\nlastactive           object\nincidentdate         object\nfadotype             object\nallegation           object\nccrbdisposition      object\ncontactreason        object\ncontactoutcome       object\nincidentprecinct     object\nimpactedrace         object\nimpactedgender       object\nimpactedage         float64\ndtype: object"
     },
     "execution_count": 65,
     "metadata": {},
     "output_type": "execute_result"
    }
   ],
   "source": [
    "# EDA: examine the different datatypes of each column\n",
    "ccrb.dtypes"
   ]
  },
  {
   "cell_type": "code",
   "execution_count": 66,
   "metadata": {},
   "outputs": [],
   "source": [
    "# EDA: put all categorical columns in categoricalColumnsList and rest in numericColumnsList\n",
    "#categoricalColumnsList, numericColumnsList = [], []\n",
    "#for column in ccrb.columns:\n",
    "#    if ccrb[column].dtype == \"object\":\n",
    "#        categoricalColumnsList += [column]\n",
    "#    else:\n",
    "#        numericColumnsList += [column]\n",
    "#\n",
    "#oneHotEncodedCCRB = pd.get_dummies(ccrb, columns = categoricalColumnsList)\n",
    "#ccrbCorrMatrix = oneHotEncodedCCRB.corr()\n",
    "#print(ccrbCorrMatrix)\n"
   ]
  },
  {
   "cell_type": "code",
   "execution_count": 89,
   "metadata": {},
   "outputs": [
    {
     "data": {
      "text/plain": "<AxesSubplot:xlabel='daysonforce', ylabel='Count'>"
     },
     "execution_count": 89,
     "metadata": {},
     "output_type": "execute_result"
    },
    {
     "data": {
      "image/png": "[encoded data removed]",
      "text/plain": "<Figure size 432x288 with 1 Axes>"
     },
     "metadata": {
      "needs_background": "light"
     },
     "output_type": "display_data"
    }
   ],
   "source": [
    "sns.histplot(data = ccrb, x = \"daysonforce\")"
   ]
  },
  {
   "cell_type": "code",
   "execution_count": 90,
   "metadata": {},
   "outputs": [
    {
     "data": {
      "text/html": "<div>\n<style scoped>\n    .dataframe tbody tr th:only-of-type {\n        vertical-align: middle;\n    }\n\n    .dataframe tbody tr th {\n        vertical-align: top;\n    }\n\n    .dataframe thead th {\n        text-align: right;\n    }\n</style>\n<table border=\"1\" class=\"dataframe\">\n  <thead>\n    <tr style=\"text-align: right;\">\n      <th></th>\n      <th>officerrace</th>\n      <th>officergender</th>\n      <th>currentranklong</th>\n      <th>currentcommand</th>\n      <th>incidentranklong</th>\n      <th>incidentcommand</th>\n      <th>daysonforce</th>\n      <th>status</th>\n      <th>lastactive</th>\n      <th>incidentdate</th>\n      <th>fadotype</th>\n      <th>allegation</th>\n      <th>ccrbdisposition</th>\n      <th>contactreason</th>\n      <th>contactoutcome</th>\n      <th>incidentprecinct</th>\n      <th>impactedrace</th>\n      <th>impactedgender</th>\n      <th>impactedage</th>\n    </tr>\n  </thead>\n  <tbody>\n    <tr>\n      <th>0</th>\n      <td>white</td>\n      <td>female</td>\n      <td>police officer</td>\n      <td>mtn pct</td>\n      <td>police officer</td>\n      <td>mtn pct</td>\n      <td>672</td>\n      <td>active</td>\n      <td>4/1/2021</td>\n      <td>2/15/2021</td>\n      <td>abuse of authority</td>\n      <td>threat of arrest</td>\n      <td>unsubstantiated</td>\n      <td>report-domestic dispute</td>\n      <td>no arrest made or summons issued</td>\n      <td>pct 018</td>\n      <td>hispanic</td>\n      <td>male</td>\n      <td>29.0</td>\n    </tr>\n    <tr>\n      <th>1</th>\n      <td>hispanic</td>\n      <td>male</td>\n      <td>police officer</td>\n      <td>tb dt02</td>\n      <td>police officer</td>\n      <td>tb dt02</td>\n      <td>4753</td>\n      <td>active</td>\n      <td>4/1/2021</td>\n      <td>1/11/2021</td>\n      <td>force</td>\n      <td>physical force</td>\n      <td>unsubstantiated</td>\n      <td>c/v intervened on behalf of/observed encounter...</td>\n      <td>arrest - other violation/crime</td>\n      <td>pct 014</td>\n      <td>black</td>\n      <td>male</td>\n      <td>43.0</td>\n    </tr>\n    <tr>\n      <th>2</th>\n      <td>black</td>\n      <td>male</td>\n      <td>police officer</td>\n      <td>tb dt02</td>\n      <td>police officer</td>\n      <td>tb dt02</td>\n      <td>924</td>\n      <td>active</td>\n      <td>4/1/2021</td>\n      <td>1/11/2021</td>\n      <td>force</td>\n      <td>physical force</td>\n      <td>unsubstantiated</td>\n      <td>c/v intervened on behalf of/observed encounter...</td>\n      <td>arrest - other violation/crime</td>\n      <td>pct 014</td>\n      <td>black</td>\n      <td>male</td>\n      <td>43.0</td>\n    </tr>\n    <tr>\n      <th>3</th>\n      <td>white</td>\n      <td>male</td>\n      <td>police officer</td>\n      <td>075 pct</td>\n      <td>police officer</td>\n      <td>075 pct</td>\n      <td>361</td>\n      <td>active</td>\n      <td>4/1/2021</td>\n      <td>1/1/2021</td>\n      <td>discourtesy</td>\n      <td>word</td>\n      <td>unsubstantiated</td>\n      <td>report-domestic dispute</td>\n      <td>no arrest made or summons issued</td>\n      <td>pct 075</td>\n      <td>NaN</td>\n      <td>male</td>\n      <td>57.0</td>\n    </tr>\n    <tr>\n      <th>4</th>\n      <td>white</td>\n      <td>male</td>\n      <td>police officer</td>\n      <td>075 pct</td>\n      <td>police officer</td>\n      <td>075 pct</td>\n      <td>2733</td>\n      <td>active</td>\n      <td>4/1/2021</td>\n      <td>1/1/2021</td>\n      <td>discourtesy</td>\n      <td>word</td>\n      <td>unsubstantiated</td>\n      <td>report-domestic dispute</td>\n      <td>no arrest made or summons issued</td>\n      <td>pct 075</td>\n      <td>NaN</td>\n      <td>male</td>\n      <td>57.0</td>\n    </tr>\n  </tbody>\n</table>\n</div>",
      "text/plain": "  officerrace officergender currentranklong currentcommand incidentranklong  \\\n0       white        female  police officer        mtn pct   police officer   \n1    hispanic          male  police officer        tb dt02   police officer   \n2       black          male  police officer        tb dt02   police officer   \n3       white          male  police officer        075 pct   police officer   \n4       white          male  police officer        075 pct   police officer   \n\n  incidentcommand  daysonforce  status lastactive incidentdate  \\\n0         mtn pct          672  active   4/1/2021    2/15/2021   \n1         tb dt02         4753  active   4/1/2021    1/11/2021   \n2         tb dt02          924  active   4/1/2021    1/11/2021   \n3         075 pct          361  active   4/1/2021     1/1/2021   \n4         075 pct         2733  active   4/1/2021     1/1/2021   \n\n             fadotype        allegation  ccrbdisposition  \\\n0  abuse of authority  threat of arrest  unsubstantiated   \n1               force    physical force  unsubstantiated   \n2               force    physical force  unsubstantiated   \n3         discourtesy              word  unsubstantiated   \n4         discourtesy              word  unsubstantiated   \n\n                                       contactreason  \\\n0                            report-domestic dispute   \n1  c/v intervened on behalf of/observed encounter...   \n2  c/v intervened on behalf of/observed encounter...   \n3                            report-domestic dispute   \n4                            report-domestic dispute   \n\n                     contactoutcome incidentprecinct impactedrace  \\\n0  no arrest made or summons issued          pct 018     hispanic   \n1    arrest - other violation/crime          pct 014        black   \n2    arrest - other violation/crime          pct 014        black   \n3  no arrest made or summons issued          pct 075          NaN   \n4  no arrest made or summons issued          pct 075          NaN   \n\n  impactedgender  impactedage  \n0           male         29.0  \n1           male         43.0  \n2           male         43.0  \n3           male         57.0  \n4           male         57.0  "
     },
     "execution_count": 90,
     "metadata": {},
     "output_type": "execute_result"
    }
   ],
   "source": [
    "ccrb = ccrb.drop(ccrb[ccrb[\"daysonforce\"] < 0].index)\n",
    "ccrb.head()"
   ]
  },
  {
   "cell_type": "code",
   "execution_count": 91,
   "metadata": {},
   "outputs": [
    {
     "data": {
      "text/plain": "<AxesSubplot:xlabel='impactedage', ylabel='Count'>"
     },
     "execution_count": 91,
     "metadata": {},
     "output_type": "execute_result"
    },
    {
     "data": {
      "image/png": "[encoded data removed]",
      "text/plain": "<Figure size 432x288 with 1 Axes>"
     },
     "metadata": {
      "needs_background": "light"
     },
     "output_type": "display_data"
    }
   ],
   "source": [
    "sns.histplot(data = ccrb, x = \"impactedage\")"
   ]
  },
  {
   "cell_type": "code",
   "execution_count": 94,
   "metadata": {},
   "outputs": [
    {
     "data": {
      "text/html": "<div>\n<style scoped>\n    .dataframe tbody tr th:only-of-type {\n        vertical-align: middle;\n    }\n\n    .dataframe tbody tr th {\n        vertical-align: top;\n    }\n\n    .dataframe thead th {\n        text-align: right;\n    }\n</style>\n<table border=\"1\" class=\"dataframe\">\n  <thead>\n    <tr style=\"text-align: right;\">\n      <th></th>\n      <th>officerrace</th>\n      <th>officergender</th>\n      <th>currentranklong</th>\n      <th>currentcommand</th>\n      <th>incidentranklong</th>\n      <th>incidentcommand</th>\n      <th>daysonforce</th>\n      <th>status</th>\n      <th>lastactive</th>\n      <th>incidentdate</th>\n      <th>fadotype</th>\n      <th>allegation</th>\n      <th>ccrbdisposition</th>\n      <th>contactreason</th>\n      <th>contactoutcome</th>\n      <th>incidentprecinct</th>\n      <th>impactedrace</th>\n      <th>impactedgender</th>\n      <th>impactedage</th>\n    </tr>\n  </thead>\n  <tbody>\n    <tr>\n      <th>0</th>\n      <td>white</td>\n      <td>female</td>\n      <td>police officer</td>\n      <td>mtn pct</td>\n      <td>police officer</td>\n      <td>mtn pct</td>\n      <td>672</td>\n      <td>active</td>\n      <td>4/1/2021</td>\n      <td>2/15/2021</td>\n      <td>abuse of authority</td>\n      <td>threat of arrest</td>\n      <td>unsubstantiated</td>\n      <td>report-domestic dispute</td>\n      <td>no arrest made or summons issued</td>\n      <td>pct 018</td>\n      <td>hispanic</td>\n      <td>male</td>\n      <td>29.0</td>\n    </tr>\n    <tr>\n      <th>1</th>\n      <td>hispanic</td>\n      <td>male</td>\n      <td>police officer</td>\n      <td>tb dt02</td>\n      <td>police officer</td>\n      <td>tb dt02</td>\n      <td>4753</td>\n      <td>active</td>\n      <td>4/1/2021</td>\n      <td>1/11/2021</td>\n      <td>force</td>\n      <td>physical force</td>\n      <td>unsubstantiated</td>\n      <td>c/v intervened on behalf of/observed encounter...</td>\n      <td>arrest - other violation/crime</td>\n      <td>pct 014</td>\n      <td>black</td>\n      <td>male</td>\n      <td>43.0</td>\n    </tr>\n    <tr>\n      <th>2</th>\n      <td>black</td>\n      <td>male</td>\n      <td>police officer</td>\n      <td>tb dt02</td>\n      <td>police officer</td>\n      <td>tb dt02</td>\n      <td>924</td>\n      <td>active</td>\n      <td>4/1/2021</td>\n      <td>1/11/2021</td>\n      <td>force</td>\n      <td>physical force</td>\n      <td>unsubstantiated</td>\n      <td>c/v intervened on behalf of/observed encounter...</td>\n      <td>arrest - other violation/crime</td>\n      <td>pct 014</td>\n      <td>black</td>\n      <td>male</td>\n      <td>43.0</td>\n    </tr>\n    <tr>\n      <th>3</th>\n      <td>white</td>\n      <td>male</td>\n      <td>police officer</td>\n      <td>075 pct</td>\n      <td>police officer</td>\n      <td>075 pct</td>\n      <td>361</td>\n      <td>active</td>\n      <td>4/1/2021</td>\n      <td>1/1/2021</td>\n      <td>discourtesy</td>\n      <td>word</td>\n      <td>unsubstantiated</td>\n      <td>report-domestic dispute</td>\n      <td>no arrest made or summons issued</td>\n      <td>pct 075</td>\n      <td>NaN</td>\n      <td>male</td>\n      <td>57.0</td>\n    </tr>\n    <tr>\n      <th>4</th>\n      <td>white</td>\n      <td>male</td>\n      <td>police officer</td>\n      <td>075 pct</td>\n      <td>police officer</td>\n      <td>075 pct</td>\n      <td>2733</td>\n      <td>active</td>\n      <td>4/1/2021</td>\n      <td>1/1/2021</td>\n      <td>discourtesy</td>\n      <td>word</td>\n      <td>unsubstantiated</td>\n      <td>report-domestic dispute</td>\n      <td>no arrest made or summons issued</td>\n      <td>pct 075</td>\n      <td>NaN</td>\n      <td>male</td>\n      <td>57.0</td>\n    </tr>\n  </tbody>\n</table>\n</div>",
      "text/plain": "  officerrace officergender currentranklong currentcommand incidentranklong  \\\n0       white        female  police officer        mtn pct   police officer   \n1    hispanic          male  police officer        tb dt02   police officer   \n2       black          male  police officer        tb dt02   police officer   \n3       white          male  police officer        075 pct   police officer   \n4       white          male  police officer        075 pct   police officer   \n\n  incidentcommand  daysonforce  status lastactive incidentdate  \\\n0         mtn pct          672  active   4/1/2021    2/15/2021   \n1         tb dt02         4753  active   4/1/2021    1/11/2021   \n2         tb dt02          924  active   4/1/2021    1/11/2021   \n3         075 pct          361  active   4/1/2021     1/1/2021   \n4         075 pct         2733  active   4/1/2021     1/1/2021   \n\n             fadotype        allegation  ccrbdisposition  \\\n0  abuse of authority  threat of arrest  unsubstantiated   \n1               force    physical force  unsubstantiated   \n2               force    physical force  unsubstantiated   \n3         discourtesy              word  unsubstantiated   \n4         discourtesy              word  unsubstantiated   \n\n                                       contactreason  \\\n0                            report-domestic dispute   \n1  c/v intervened on behalf of/observed encounter...   \n2  c/v intervened on behalf of/observed encounter...   \n3                            report-domestic dispute   \n4                            report-domestic dispute   \n\n                     contactoutcome incidentprecinct impactedrace  \\\n0  no arrest made or summons issued          pct 018     hispanic   \n1    arrest - other violation/crime          pct 014        black   \n2    arrest - other violation/crime          pct 014        black   \n3  no arrest made or summons issued          pct 075          NaN   \n4  no arrest made or summons issued          pct 075          NaN   \n\n  impactedgender  impactedage  \n0           male         29.0  \n1           male         43.0  \n2           male         43.0  \n3           male         57.0  \n4           male         57.0  "
     },
     "execution_count": 94,
     "metadata": {},
     "output_type": "execute_result"
    }
   ],
   "source": [
    "ccrb = ccrb.drop(ccrb[ccrb[\"impactedage\"] < 0].index)\n",
    "ccrb = ccrb.drop(ccrb[ccrb[\"impactedage\"] > 116].index)\n",
    "ccrb.head()"
   ]
  },
  {
   "cell_type": "code",
   "execution_count": 95,
   "metadata": {},
   "outputs": [
    {
     "data": {
      "text/plain": "<AxesSubplot:xlabel='impactedage', ylabel='Count'>"
     },
     "execution_count": 95,
     "metadata": {},
     "output_type": "execute_result"
    },
    {
     "data": {
      "image/png": "[encoded data removed]",
      "text/plain": "<Figure size 432x288 with 1 Axes>"
     },
     "metadata": {
      "needs_background": "light"
     },
     "output_type": "display_data"
    }
   ],
   "source": [
    "sns.histplot(data = ccrb, x = \"impactedage\")"
   ]
  },
  {
   "cell_type": "code",
   "execution_count": 71,
   "metadata": {},
   "outputs": [
    {
     "ename": "KeyError",
     "evalue": "\"['boardcat'] not in index\"",
     "output_type": "error",
     "traceback": [
      "\u001b[0;31m---------------------------------------------------------------------------\u001b[0m",
      "\u001b[0;31mKeyError\u001b[0m                                  Traceback (most recent call last)",
      "\u001b[0;32m/var/folders/cy/17hwgm3x3b19qnsz98c3n6480000gn/T/ipykernel_22162/2658283516.py\u001b[0m in \u001b[0;36m<module>\u001b[0;34m\u001b[0m\n\u001b[1;32m     13\u001b[0m                        'impactedrace', 'impactedgender']\n\u001b[1;32m     14\u001b[0m \u001b[0;34m\u001b[0m\u001b[0m\n\u001b[0;32m---> 15\u001b[0;31m \u001b[0mccrb\u001b[0m \u001b[0;34m=\u001b[0m \u001b[0mpd\u001b[0m\u001b[0;34m.\u001b[0m\u001b[0mget_dummies\u001b[0m\u001b[0;34m(\u001b[0m\u001b[0mccrb\u001b[0m\u001b[0;34m,\u001b[0m \u001b[0mcolumns\u001b[0m \u001b[0;34m=\u001b[0m \u001b[0mcategorical_columns\u001b[0m\u001b[0;34m)\u001b[0m\u001b[0;34m\u001b[0m\u001b[0;34m\u001b[0m\u001b[0m\n\u001b[0m\u001b[1;32m     16\u001b[0m \u001b[0mccrb\u001b[0m\u001b[0;34m[\u001b[0m\u001b[0;34m'impactedage'\u001b[0m\u001b[0;34m]\u001b[0m \u001b[0;34m=\u001b[0m \u001b[0mccrb\u001b[0m\u001b[0;34m[\u001b[0m\u001b[0;34m'impactedage'\u001b[0m\u001b[0;34m]\u001b[0m\u001b[0;34m.\u001b[0m\u001b[0mfillna\u001b[0m\u001b[0;34m(\u001b[0m\u001b[0;36m0\u001b[0m\u001b[0;34m)\u001b[0m\u001b[0;34m\u001b[0m\u001b[0;34m\u001b[0m\u001b[0m\n\u001b[1;32m     17\u001b[0m \u001b[0;34m\u001b[0m\u001b[0m\n",
      "\u001b[0;32m/opt/anaconda3/lib/python3.9/site-packages/pandas/core/reshape/reshape.py\u001b[0m in \u001b[0;36mget_dummies\u001b[0;34m(data, prefix, prefix_sep, dummy_na, columns, sparse, drop_first, dtype)\u001b[0m\n\u001b[1;32m    888\u001b[0m             \u001b[0;32mraise\u001b[0m \u001b[0mTypeError\u001b[0m\u001b[0;34m(\u001b[0m\u001b[0;34m\"Input must be a list-like for parameter `columns`\"\u001b[0m\u001b[0;34m)\u001b[0m\u001b[0;34m\u001b[0m\u001b[0;34m\u001b[0m\u001b[0m\n\u001b[1;32m    889\u001b[0m         \u001b[0;32melse\u001b[0m\u001b[0;34m:\u001b[0m\u001b[0;34m\u001b[0m\u001b[0;34m\u001b[0m\u001b[0m\n\u001b[0;32m--> 890\u001b[0;31m             \u001b[0mdata_to_encode\u001b[0m \u001b[0;34m=\u001b[0m \u001b[0mdata\u001b[0m\u001b[0;34m[\u001b[0m\u001b[0mcolumns\u001b[0m\u001b[0;34m]\u001b[0m\u001b[0;34m\u001b[0m\u001b[0;34m\u001b[0m\u001b[0m\n\u001b[0m\u001b[1;32m    891\u001b[0m \u001b[0;34m\u001b[0m\u001b[0m\n\u001b[1;32m    892\u001b[0m         \u001b[0;31m# validate prefixes and separator to avoid silently dropping cols\u001b[0m\u001b[0;34m\u001b[0m\u001b[0;34m\u001b[0m\u001b[0m\n",
      "\u001b[0;32m/opt/anaconda3/lib/python3.9/site-packages/pandas/core/frame.py\u001b[0m in \u001b[0;36m__getitem__\u001b[0;34m(self, key)\u001b[0m\n\u001b[1;32m   3462\u001b[0m             \u001b[0;32mif\u001b[0m \u001b[0mis_iterator\u001b[0m\u001b[0;34m(\u001b[0m\u001b[0mkey\u001b[0m\u001b[0;34m)\u001b[0m\u001b[0;34m:\u001b[0m\u001b[0;34m\u001b[0m\u001b[0;34m\u001b[0m\u001b[0m\n\u001b[1;32m   3463\u001b[0m                 \u001b[0mkey\u001b[0m \u001b[0;34m=\u001b[0m \u001b[0mlist\u001b[0m\u001b[0;34m(\u001b[0m\u001b[0mkey\u001b[0m\u001b[0;34m)\u001b[0m\u001b[0;34m\u001b[0m\u001b[0;34m\u001b[0m\u001b[0m\n\u001b[0;32m-> 3464\u001b[0;31m             \u001b[0mindexer\u001b[0m \u001b[0;34m=\u001b[0m \u001b[0mself\u001b[0m\u001b[0;34m.\u001b[0m\u001b[0mloc\u001b[0m\u001b[0;34m.\u001b[0m\u001b[0m_get_listlike_indexer\u001b[0m\u001b[0;34m(\u001b[0m\u001b[0mkey\u001b[0m\u001b[0;34m,\u001b[0m \u001b[0maxis\u001b[0m\u001b[0;34m=\u001b[0m\u001b[0;36m1\u001b[0m\u001b[0;34m)\u001b[0m\u001b[0;34m[\u001b[0m\u001b[0;36m1\u001b[0m\u001b[0;34m]\u001b[0m\u001b[0;34m\u001b[0m\u001b[0;34m\u001b[0m\u001b[0m\n\u001b[0m\u001b[1;32m   3465\u001b[0m \u001b[0;34m\u001b[0m\u001b[0m\n\u001b[1;32m   3466\u001b[0m         \u001b[0;31m# take() does not accept boolean indexers\u001b[0m\u001b[0;34m\u001b[0m\u001b[0;34m\u001b[0m\u001b[0m\n",
      "\u001b[0;32m/opt/anaconda3/lib/python3.9/site-packages/pandas/core/indexing.py\u001b[0m in \u001b[0;36m_get_listlike_indexer\u001b[0;34m(self, key, axis)\u001b[0m\n\u001b[1;32m   1312\u001b[0m             \u001b[0mkeyarr\u001b[0m\u001b[0;34m,\u001b[0m \u001b[0mindexer\u001b[0m\u001b[0;34m,\u001b[0m \u001b[0mnew_indexer\u001b[0m \u001b[0;34m=\u001b[0m \u001b[0max\u001b[0m\u001b[0;34m.\u001b[0m\u001b[0m_reindex_non_unique\u001b[0m\u001b[0;34m(\u001b[0m\u001b[0mkeyarr\u001b[0m\u001b[0;34m)\u001b[0m\u001b[0;34m\u001b[0m\u001b[0;34m\u001b[0m\u001b[0m\n\u001b[1;32m   1313\u001b[0m \u001b[0;34m\u001b[0m\u001b[0m\n\u001b[0;32m-> 1314\u001b[0;31m         \u001b[0mself\u001b[0m\u001b[0;34m.\u001b[0m\u001b[0m_validate_read_indexer\u001b[0m\u001b[0;34m(\u001b[0m\u001b[0mkeyarr\u001b[0m\u001b[0;34m,\u001b[0m \u001b[0mindexer\u001b[0m\u001b[0;34m,\u001b[0m \u001b[0maxis\u001b[0m\u001b[0;34m)\u001b[0m\u001b[0;34m\u001b[0m\u001b[0;34m\u001b[0m\u001b[0m\n\u001b[0m\u001b[1;32m   1315\u001b[0m \u001b[0;34m\u001b[0m\u001b[0m\n\u001b[1;32m   1316\u001b[0m         if needs_i8_conversion(ax.dtype) or isinstance(\n",
      "\u001b[0;32m/opt/anaconda3/lib/python3.9/site-packages/pandas/core/indexing.py\u001b[0m in \u001b[0;36m_validate_read_indexer\u001b[0;34m(self, key, indexer, axis)\u001b[0m\n\u001b[1;32m   1375\u001b[0m \u001b[0;34m\u001b[0m\u001b[0m\n\u001b[1;32m   1376\u001b[0m             \u001b[0mnot_found\u001b[0m \u001b[0;34m=\u001b[0m \u001b[0mlist\u001b[0m\u001b[0;34m(\u001b[0m\u001b[0mensure_index\u001b[0m\u001b[0;34m(\u001b[0m\u001b[0mkey\u001b[0m\u001b[0;34m)\u001b[0m\u001b[0;34m[\u001b[0m\u001b[0mmissing_mask\u001b[0m\u001b[0;34m.\u001b[0m\u001b[0mnonzero\u001b[0m\u001b[0;34m(\u001b[0m\u001b[0;34m)\u001b[0m\u001b[0;34m[\u001b[0m\u001b[0;36m0\u001b[0m\u001b[0;34m]\u001b[0m\u001b[0;34m]\u001b[0m\u001b[0;34m.\u001b[0m\u001b[0munique\u001b[0m\u001b[0;34m(\u001b[0m\u001b[0;34m)\u001b[0m\u001b[0;34m)\u001b[0m\u001b[0;34m\u001b[0m\u001b[0;34m\u001b[0m\u001b[0m\n\u001b[0;32m-> 1377\u001b[0;31m             \u001b[0;32mraise\u001b[0m \u001b[0mKeyError\u001b[0m\u001b[0;34m(\u001b[0m\u001b[0;34mf\"{not_found} not in index\"\u001b[0m\u001b[0;34m)\u001b[0m\u001b[0;34m\u001b[0m\u001b[0;34m\u001b[0m\u001b[0m\n\u001b[0m\u001b[1;32m   1378\u001b[0m \u001b[0;34m\u001b[0m\u001b[0m\n\u001b[1;32m   1379\u001b[0m \u001b[0;34m\u001b[0m\u001b[0m\n",
      "\u001b[0;31mKeyError\u001b[0m: \"['boardcat'] not in index\""
     ]
    }
   ],
   "source": [
    "# PRELIMINARY RESULTS: import packages and split testing from train\n",
    "from sklearn.model_selection import train_test_split\n",
    "from sklearn.linear_model import LogisticRegression\n",
    "from sklearn.ensemble import GradientBoostingClassifier\n",
    "from sklearn.ensemble import RandomForestClassifier\n",
    "import eli5\n",
    "from eli5.sklearn import PermutationImportance\n",
    "\n",
    "categorical_columns = ['officerrace', 'officergender', 'currentranklong', 'currentcommand',\n",
    "                       'incidentranklong', 'incidentcommand', 'status', 'lastactive',\n",
    "                       'incidentdate', 'fadotype', 'allegation',\n",
    "                        'boardcat', 'contactreason', 'contactoutcome', 'incidentprecinct',\n",
    "                       'impactedrace', 'impactedgender']\n",
    "\n",
    "ccrb = pd.get_dummies(ccrb, columns = categorical_columns)\n",
    "ccrb['impactedage'] = ccrb['impactedage'].fillna(0)\n",
    "\n",
    "# Split the data into training and testing sets\n",
    "X = ccrb.drop(columns = [\"ccrbdisposition\"])\n",
    "y = ccrb[\"ccrbdisposition\"]\n",
    "X_train, X_test, y_train, y_test = train_test_split(X, y, test_size = 0.2)\n",
    "\n",
    "# Fit a logistic regression model to the training data\n",
    "lr = LogisticRegression(max_iter = 1000)\n",
    "lr.fit(X_train, y_train)\n",
    "\n",
    "# Use permutation importance to get feature importance scores\n",
    "perm = PermutationImportance(lr, random_state = 1).fit(X_test, y_test)\n",
    "eli5.show_weights(perm, feature_names = X_test.columns.tolist())"
   ]
  },
  {
   "cell_type": "code",
   "execution_count": null,
   "metadata": {},
   "outputs": [],
   "source": []
  },
  {
   "cell_type": "markdown",
   "metadata": {},
   "source": [
    "# Ethics & Privacy"
   ]
  },
  {
   "cell_type": "markdown",
   "metadata": {},
   "source": [
    "The first ethical concern that may be realized is with regards to the exposure of the officer’s identity. If the project were to be put to use, the names and identifiable features of the officers would be easily accessed and in turn this leads to a violation of privacy for the officers. When conducting the analysis, factors such as the name of the officer or the officer ID is not expected to greatly impact the task at hand for the model; in order to protect the privacy of the officers we can exclude these features from the analysis.\n",
    "\n",
    "Furthermore, the dataset is generated by complaints made against police officers; in order for a complaint to be filed there must have been some interaction between an officer and a civilian. However,  it can be seen that there are cases where specific, notably marginalized, communities see far greater police interaction than others which can lead to a greater amount of complaints made within certain communities and from marginalized backgrounds. As a result, there may be an implicit bias within the dataset. Despite these concerns, we are confident that the data is still reliable to use for the project. Firstly, we can use the data to uncover discrimination throughout the process. In order to do this, we must analyze the data from the source and identify key features. Furthermore, we are confident that the data comes from a reliable source, ensuring that the information has not been tampered with or altered.\n",
    "\n",
    "Lastly, we understand that there may be possible unethical byproducts that can arise from the use of the project. For example, it may be the case that the model, as a result of implicit bias in the data, finds a complaint to be substantiated due to features such as age or race. In the event the model were to be put to use, there is a concern for similar ethical violations to that of Predictive Policing.\n",
    "We can use this model to reveal a possible bias by highlighting which variables are most influential in deciding the outcome; the model can reveal that certain, hypothetically less important features in this decision process, are more impactful than others. Examples of these variables include race, age, gender, and more. If these variables are shown to be influential, it can suggest that the outcome is determined with a bias towards or against these discriminatory beliefs. "
   ]
  },
  {
   "cell_type": "markdown",
   "metadata": {},
   "source": [
    "# Team Expectations "
   ]
  },
  {
   "cell_type": "markdown",
   "metadata": {},
   "source": [
    "* We will perform any types of communication through Discord such as announcements, questions, and general information for the project.\n",
    "* We are set to have a 24 hour policy on communication, which means that group members need to read and respond (if the message is directed to them) to that message within 24 hours of that message being sent.\n",
    "* While we will try to make sure that we only meet up to two times per week, we do have an expectation that team members need to be prepared to jump on a Discord in the event that a time-sensitive matter comes up.\n",
    "* While we will try to make sure that we only meet up to two times per week, we do have an expectation that team members need to be prepared to jump on a Discord in the event that a time-sensitive matter comes up.\n",
    "* Each member is expected to finish up their task two hours prior to the start of the next progress meeting to  allow others to read and analyze their work to provide feedback during the meeting.\n",
    "* We will respect each other's opinions and give constructive feedback on each other's works and make decisions that are approved and supported by each group member.\n",
    "* We will try our best to divide the task evenly among group members and make sure that nobody is feeling overwhelmed, but there is an expectation to finish the assigned tasks two hours prior to the start of the next meeting.\n",
    "* If a team member is not able to complete their tasks on time, they can reach out to other team members and discuss how to approach finishing their portion.\n"
   ]
  },
  {
   "cell_type": "markdown",
   "metadata": {},
   "source": [
    "# Project Timeline Proposal"
   ]
  },
  {
   "cell_type": "markdown",
   "metadata": {},
   "source": [
    "Important Dates:\n",
    "* 2/22: Proposal due.\n",
    "* 3/1: Peer review of proposals.\n",
    "* 3/8: Project checkpoint.\n",
    "* 3/22: Final project, team evaluation survey.\n",
    "\n",
    "\n",
    "| Meeting Date  | Meeting Time| Completed Before Meeting  | Discuss at Meeting |\n",
    "|---|---|---|---|\n",
    "| 2/13  |  12 PM |  N/A  | Introductions of each member, discuss team expectations, and assign task for each members to propose project idea | \n",
    "| 2/19  |  12 AM |  Project ideas | Compare and analyze each member’s project idea; Discuss how to create better project ideas and assign each member to come up with improved ideas based on the important factors. | \n",
    "| 2/20 | 10 AM  | Improved project ideas  | Analyze the new project ideas and choose which one we want to work on; Assign each member to work on specific parts of the proposal   |\n",
    "| 2/22  | 1 PM  | Finish the assigned proposal task | Analyze each assigned task and fix any error or add what is missing from each section of the proposal; Finish the proposal by combining it together; discuss how to approach the data.   |\n",
    "| 2/25  | 1 PM  | Finish importing and cleaning up the data | Come up with another useful dataset (if needed); Discuss which model we want to use and how to approach it; Assign each member to different tasks. |\n",
    "| 3/1  | 1 PM  | Peer Reviews | Discuss the peer reviews and discuss  the coding for our project; assign each member to the coding part of the project. Discuss how the random forest tree classifier will be executed and which members will be responsible for testing which features. |\n",
    "| 3/6  | 1 PM  | Finish the assigned task for the project | Further discuss the coding part and finishing any unfinished part that we set for the checkpoint; Discuss the findings from the random forest tree classifier metrics and compare accuracy results  |\n",
    "| 3/18  |  1 PM |  Coding part of the project  | Review and check the coding part; Discuss the unfinished part of the project and work on it. | \n",
    "| 3/22  |  1 PM |  Complete the project  | Review the whole project and finally turn in the final project. |"
   ]
  },
  {
   "cell_type": "markdown",
   "metadata": {},
   "source": [
    "# Footnotes\n",
    "<a name=\"lorenznote\"><sup>1</sup></a> Neal, E. (2022, April 29). A history of police violence in America. Stacker. https://stacker.com/history/history-police-violence-america\n",
    "\n",
    "<a name=\"admonishnote\"><sup>2</sup></a> Arkady. (2020, July 13). NYC police brutality & excessive force: Statistics & real cases. Frekhtman & Associates | New York Injury and Accident Attorneys. https://866attylaw.com/nyc-police-brutality-excessive-force-statistics-real-cases/ \n",
    "\n",
    "<a name=\"ccpcnote\"><sup>3</sup></a> Gonen, Y. (2022, July 11). Bad cops not getting punishment they deserve, says Corruption Commission. The City. https://www.thecity.nyc/2022/7/10/23201012/bad-cops-not-getting-punishment-ccpc\n",
    "\n",
    "<a name=\"healthnote\"><sup>4</sup></a> Along, S., McAlpine, D., McCreedy, E., & Hardeman, R. (2017). Police Brutality and Black Health: Setting the Agenda for Public Health Scholars. Am J Public Health, 107(5), 662–665. https://doi.org/https://doi.org/10.2105%2FAJPH.2017.303691\n",
    "\n",
    "<a name=\"fatalnote\"><sup>5</sup></a> Fatal police violence by race and state in the USA, 1980–2019: A network meta-regression. (2021). The Lancet, 398(10307), 1239–1255. https://doi.org/10.1016/s0140-6736(21)01609-3\n",
    "\n",
    "<a name=\"ccrbnote\"><sup>6</sup></a> About the CCRB. About - CCRB. (n.d.). https://www.nyc.gov/site/ccrb/about/about.page\n",
    "\n",
    "<a name=\"levinnote\"><sup>7</sup></a> Levin, N. (2022, December 30). 5 largest police departments in the world. Largest.org. https://largest.org/structures/largest-police-departments-in-world/\n"
   ]
  },
  {
   "cell_type": "code",
   "execution_count": null,
   "metadata": {},
   "outputs": [],
   "source": []
  }
 ],
 "metadata": {
  "kernelspec": {
   "display_name": "Python 3.9.7 64-bit ('base': conda)",
   "name": "python397jvsc74a57bd0dca0ade3e726a953b501b15e8e990130d2b7799f14cfd9f4271676035ebe5511"
  },
  "language_info": {
   "codemirror_mode": {
    "name": "ipython",
    "version": 3
   },
   "file_extension": ".py",
   "mimetype": "text/x-python",
   "name": "python",
   "nbconvert_exporter": "python",
   "pygments_lexer": "ipython3",
   "version": "3.9.7"
  },
  "orig_nbformat": 3
 },
 "nbformat": 4,
 "nbformat_minor": 2
}