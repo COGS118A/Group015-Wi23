{
 "cells": [
  {
   "cell_type": "markdown",
   "id": "356594e0",
   "metadata": {},
   "source": [
    "# Principal Component Analysis Exploration"
   ]
  },
  {
   "cell_type": "markdown",
   "id": "53f32f29",
   "metadata": {},
   "source": [
    "We begin PCA by importing the necessary libraries for PCA and one-hot encoding the categorical variables in our CCRB dataset. PCA is a mathematical technique that only operates on numerical data, so this is a crucial preprocessing step. Then, we needed to standardize our present data. This is another important step since PCA is sensitive to the scale of the variables. Without standardization, variables with larger variance will dominate the principal components, regardless of their true importance. Standardizing the data before running PCA ensures that all features are given equal importance, and the principal components are based on the actual variations in the data, rather than the scale of the features. Finally, we have to check for Nan and infinite values once the standardization is complete. `StandardScaler` performs a mathematical operation that scales the data by subtracting the mean of each feature and dividing by its standard deviation. If a feature has a standard deviation of zero, this will result in dividing by zero, which produces an infinite value."
   ]
  },
  {
   "cell_type": "code",
   "execution_count": 1,
   "id": "b8f54827",
   "metadata": {},
   "outputs": [
    {
     "name": "stderr",
     "output_type": "stream",
     "text": [
      "/var/folders/l2/xv51rkfn63jbsv89xfpxyyw40000gn/T/ipykernel_1499/1533389708.py:9: DtypeWarning: Columns (10,11,12,18,23,24,25,26,27,28,29,30,31) have mixed types. Specify dtype option on import or set low_memory=False.\n",
      "  ccrb = pd.read_csv(\"CCRB Complaint Database Raw 04.20.2021.csv\")\n"
     ]
    }
   ],
   "source": [
    "# import libraries for PCA\n",
    "from sklearn.decomposition import PCA\n",
    "from sklearn.preprocessing import StandardScaler, OneHotEncoder\n",
    "import pandas as pd\n",
    "import numpy as np\n",
    "import matplotlib.pyplot as plt\n",
    "\n",
    "# load dataset\n",
    "ccrb = pd.read_csv(\"CCRB Complaint Database Raw 04.20.2021.csv\")\n",
    "ccrb = ccrb.drop(columns = [\"AsOfDate\", \"AllegationID\", \"LastName\", \"FirstName\", \"ShieldNo\", \"ComplaintID\",\n",
    "                            \"PenaltyRec\", \"NYPDDisposition\", \"PenaltyDesc\", \"LocationType\", \"ReceivedDate\",\n",
    "                            \"CloseDate\", \"IncidentRank\", \"CurrentRank\", \"BoardCat\", \"OfficerID\", \"LastActive\"])\n",
    "\n",
    "# lowercase all column names and strings in column names\n",
    "ccrb.columns= ccrb.columns.str.lower()\n",
    "for column in list(ccrb.columns):\n",
    "    if type(ccrb[column][0]) == str:\n",
    "        ccrb[column] = ccrb[column].str.lower()\n",
    "    \n",
    "# binarize the CCRBDisposition column between (0) unsubstantiated and (1) substantiated\n",
    "# if substantiated, switch to substantiated; if anything else, then unsubstantiated\n",
    "ccrbDispositionList = list(ccrb[\"ccrbdisposition\"])\n",
    "for i in range(len(ccrbDispositionList)):\n",
    "    if \"substantiated\" in ccrbDispositionList[i] and \"unsubstantiated\" not in ccrbDispositionList[i]:\n",
    "        ccrbDispositionList[i] = 1\n",
    "    else:\n",
    "        ccrbDispositionList[i] = 0\n",
    "ccrb[\"ccrbdisposition\"] = ccrbDispositionList\n",
    "ccrb = ccrb.drop(columns = [\"incidentdate\"])\n",
    "ccrb = ccrb.drop(ccrb[ccrb[\"daysonforce\"] < 0].index)\n",
    "ccrb = ccrb.drop(ccrb[ccrb[\"impactedage\"] < 0].index)\n",
    "ccrb = ccrb.drop(ccrb[ccrb[\"impactedage\"] > 116].index)"
   ]
  },
  {
   "cell_type": "code",
   "execution_count": 2,
   "id": "1d738dd1",
   "metadata": {},
   "outputs": [
    {
     "name": "stdout",
     "output_type": "stream",
     "text": [
      "[[     6      1]\n",
      " [     7      1]\n",
      " [    38      1]\n",
      " ...\n",
      " [279401      1]\n",
      " [279402      1]\n",
      " [279403      1]]\n",
      "[]\n"
     ]
    }
   ],
   "source": [
    "# select the columns to one-hot encode\n",
    "categorical_cols = ['officerrace', 'officergender', 'currentranklong', 'currentcommand',\n",
    "                    'incidentranklong', 'incidentcommand', 'status', 'fadotype',\n",
    "                    'allegation', 'ccrbdisposition', 'contactreason', 'contactoutcome',\n",
    "                    'incidentprecinct', 'impactedrace', 'impactedgender']\n",
    "\n",
    "# create a new data frame with one-hot encoded categorical columns\n",
    "ccrb_onehot = pd.get_dummies(ccrb, columns=categorical_cols)\n",
    "\n",
    "# standardize data (important since PCA is sensitive to scale of variables)\n",
    "scaler = StandardScaler()\n",
    "ccrb_std = scaler.fit_transform(ccrb_onehot)\n",
    "\n",
    "# check for NaN and infinite values\n",
    "print(np.argwhere(np.isnan(ccrb_std)))\n",
    "print(np.argwhere(np.isinf(ccrb_std)))"
   ]
  },
  {
   "cell_type": "markdown",
   "id": "3dfbd15f",
   "metadata": {},
   "source": [
    "In order to PCA to run, we must drop all missing and infinite values from our standardized dataset."
   ]
  },
  {
   "cell_type": "code",
   "execution_count": 3,
   "id": "abc808f5",
   "metadata": {},
   "outputs": [],
   "source": [
    "# remove rows with missing values after data standardization\n",
    "ccrb_std = ccrb_std[~np.isnan(ccrb_std).any(axis=1)]"
   ]
  },
  {
   "cell_type": "markdown",
   "id": "5d163dc2",
   "metadata": {},
   "source": [
    "Before we run the PCA algorithm on our standardized dataset, we can see that the dataset currently as a shape of (156413, 1727). We can decrease this tremendously with PCA."
   ]
  },
  {
   "cell_type": "code",
   "execution_count": 4,
   "id": "d0f17929",
   "metadata": {},
   "outputs": [
    {
     "data": {
      "text/plain": "(156413, 1727)"
     },
     "execution_count": 4,
     "metadata": {},
     "output_type": "execute_result"
    }
   ],
   "source": [
    "# standardized data before dimentionality reduction\n",
    "ccrb_std.shape"
   ]
  },
  {
   "cell_type": "markdown",
   "id": "ca2216e7",
   "metadata": {},
   "source": [
    "Now, we can fit the PCA algorithm to our clean, standardized data and plot the cumulative expected variance ratio (CEVR) in order to determine the optimal number of principal components. This plot shows the proportion of the total variance in the data explained by each principal component. As shown below, the range of principal components from 1250 to 1500 is the optimal range we can use on our dataset without losing much of the original variance in our data."
   ]
  },
  {
   "cell_type": "code",
   "execution_count": 5,
   "id": "2a10ca89",
   "metadata": {},
   "outputs": [
    {
     "data": {
      "text/plain": "<Figure size 432x288 with 1 Axes>",
      "image/png": "[encoded data removed]"
     },
     "metadata": {},
     "output_type": "display_data"
    }
   ],
   "source": [
    "# create instance of PCA class and fit it to standardized data\n",
    "pca = PCA()\n",
    "pca.fit(ccrb_std)\n",
    "\n",
    "# plot the explained variance ratio to determine optimal number of principal components\n",
    "plt.plot(range(1, len(pca.explained_variance_ratio_) + 1), pca.explained_variance_ratio_.cumsum(), marker='o')\n",
    "plt.xlabel('Number of Principal Components')\n",
    "plt.ylabel('Cumulative Explained Variance Ratio')\n",
    "plt.show()"
   ]
  },
  {
   "cell_type": "markdown",
   "id": "3d90a1c0",
   "metadata": {},
   "source": [
    "We chose to incorporate the lower end of the \"elbow point\" in our plot. While 1500 principal components would represent our original data without losing any information, using all the principal components may not always be the best option, as it can lead to overfitting and poor generalization to new data. It's recommended to select a smaller number of principal components that explain most of the variance in the data, while still keeping the overall number of dimensions low. Therefore, we chose 1250 principal components as our optimal number."
   ]
  },
  {
   "cell_type": "code",
   "execution_count": 6,
   "id": "c228cb9c",
   "metadata": {},
   "outputs": [],
   "source": [
    "# select the optimal number of principal components based on the explained variance ratio\n",
    "n_components = 1250\n",
    "\n",
    "# create a new instance of PCA with the optimal number of components\n",
    "pca = PCA(n_components=n_components)\n",
    "\n",
    "# fit the PCA to the standardized data\n",
    "pca.fit(ccrb_std)\n",
    "\n",
    "# apply the PCA transformation to the original dataset\n",
    "ccrb_pca = pca.transform(ccrb_std)\n",
    "\n",
    "# convert the numpy array to a pandas dataframe\n",
    "ccrb_pca_df = pd.DataFrame(ccrb_pca, columns=['PC{}'.format(i) for i in range(1, n_components + 1)])"
   ]
  },
  {
   "cell_type": "markdown",
   "id": "13f4cac4",
   "metadata": {},
   "source": [
    "Our new dataframe is now (156413, 1250), which is an excellent improvement from our original shape of (156413, 1727)."
   ]
  },
  {
   "cell_type": "code",
   "execution_count": 7,
   "id": "68baedff",
   "metadata": {},
   "outputs": [
    {
     "data": {
      "text/plain": "(156413, 1250)"
     },
     "execution_count": 7,
     "metadata": {},
     "output_type": "execute_result"
    }
   ],
   "source": [
    "ccrb_pca_df.shape"
   ]
  },
  {
   "cell_type": "code",
   "execution_count": 8,
   "id": "c8a95313",
   "metadata": {},
   "outputs": [
    {
     "data": {
      "text/plain": "             PC1       PC2       PC3       PC4       PC5       PC6       PC7  \\\n0       3.432578  1.901380  0.806995 -0.627474 -0.460719 -0.054986 -0.194638   \n1       1.974037 -1.731652  3.098930  1.459270  1.710861 -0.304135  0.201441   \n2       2.288147 -1.906507  2.804625  1.886332  2.179817 -0.344474  0.161765   \n3       2.151354 -0.440804 -0.809708  1.580581  1.103921 -0.089014 -0.285871   \n4       1.931198 -0.264607 -0.674787  1.510230  1.141764 -0.088301 -0.292642   \n...          ...       ...       ...       ...       ...       ...       ...   \n156408 -0.008772 -1.216193 -0.403700  0.216191  1.030664 -0.002482 -0.021378   \n156409 -0.459564 -0.785143  0.452146  0.238683  0.641741  0.027676 -0.016482   \n156410 -1.059525  0.358593 -2.005754 -1.408777  0.407033  0.091342  0.198869   \n156411  0.154940  1.841185  0.291021 -1.100357  0.438152  0.047121 -0.102990   \n156412  1.478606  0.766127  0.818415  0.275724  1.109645  0.096001 -0.127038   \n\n             PC8       PC9      PC10  ...    PC1241    PC1242    PC1243  \\\n0      -0.310963 -0.213856  0.258294  ...  0.110507 -0.772121  0.461982   \n1      -0.119725  0.312730 -0.213211  ... -0.214800 -0.650855 -0.258251   \n2      -0.120861  0.299091 -0.204900  ... -0.193663 -0.663837 -0.161855   \n3      -0.051141 -0.204562  0.101992  ... -0.094019 -0.024444  0.059710   \n4      -0.058770 -0.199963  0.090368  ... -0.096882 -0.022312 -0.007695   \n...          ...       ...       ...  ...       ...       ...       ...   \n156408 -0.006415  0.030042 -0.019041  ... -0.387800  0.232375  0.182256   \n156409 -0.031548  0.036358 -0.022674  ...  0.134420  0.262283  0.123140   \n156410  0.053506 -0.069824  0.085933  ...  0.128527  0.316561  0.126817   \n156411  0.120073 -0.139580 -0.037268  ...  1.529442 -0.992422  1.473601   \n156412 -0.134045  0.065057 -0.042362  ...  0.290083  0.233133 -0.172978   \n\n          PC1244    PC1245    PC1246    PC1247    PC1248    PC1249    PC1250  \n0      -0.049147  0.302498  0.603389 -0.437954  0.277316 -0.132184 -0.303969  \n1      -0.483728 -0.272994 -0.468212 -0.160684  0.335170  0.091589 -0.267518  \n2      -0.473914 -0.330433 -0.544840 -0.043042  0.203647  0.046822 -0.312700  \n3      -0.090757 -0.050932 -0.123846  0.085653  0.049150  0.083185 -0.018335  \n4      -0.095664 -0.017443 -0.103552  0.031579  0.125927  0.097500 -0.013294  \n...          ...       ...       ...       ...       ...       ...       ...  \n156408  0.291902 -0.339813 -0.787532  0.015067 -0.325502 -0.184134 -0.045522  \n156409  0.653146  0.099076 -0.356695 -0.520696 -0.252355  0.216438  0.485481  \n156410  0.660284  0.114873 -0.406202 -0.573233 -0.283119  0.174175  0.508602  \n156411  0.606894  0.563340 -0.145436  0.439037 -0.843807 -0.188134  0.412223  \n156412  0.008775 -0.055611 -0.213437 -0.107699 -0.040469  0.183952 -0.138749  \n\n[156413 rows x 1250 columns]",
      "text/html": "<div>\n<style scoped>\n    .dataframe tbody tr th:only-of-type {\n        vertical-align: middle;\n    }\n\n    .dataframe tbody tr th {\n        vertical-align: top;\n    }\n\n    .dataframe thead th {\n        text-align: right;\n    }\n</style>\n<table border=\"1\" class=\"dataframe\">\n  <thead>\n    <tr style=\"text-align: right;\">\n      <th></th>\n      <th>PC1</th>\n      <th>PC2</th>\n      <th>PC3</th>\n      <th>PC4</th>\n      <th>PC5</th>\n      <th>PC6</th>\n      <th>PC7</th>\n      <th>PC8</th>\n      <th>PC9</th>\n      <th>PC10</th>\n      <th>...</th>\n      <th>PC1241</th>\n      <th>PC1242</th>\n      <th>PC1243</th>\n      <th>PC1244</th>\n      <th>PC1245</th>\n      <th>PC1246</th>\n      <th>PC1247</th>\n      <th>PC1248</th>\n      <th>PC1249</th>\n      <th>PC1250</th>\n    </tr>\n  </thead>\n  <tbody>\n    <tr>\n      <th>0</th>\n      <td>3.432578</td>\n      <td>1.901380</td>\n      <td>0.806995</td>\n      <td>-0.627474</td>\n      <td>-0.460719</td>\n      <td>-0.054986</td>\n      <td>-0.194638</td>\n      <td>-0.310963</td>\n      <td>-0.213856</td>\n      <td>0.258294</td>\n      <td>...</td>\n      <td>0.110507</td>\n      <td>-0.772121</td>\n      <td>0.461982</td>\n      <td>-0.049147</td>\n      <td>0.302498</td>\n      <td>0.603389</td>\n      <td>-0.437954</td>\n      <td>0.277316</td>\n      <td>-0.132184</td>\n      <td>-0.303969</td>\n    </tr>\n    <tr>\n      <th>1</th>\n      <td>1.974037</td>\n      <td>-1.731652</td>\n      <td>3.098930</td>\n      <td>1.459270</td>\n      <td>1.710861</td>\n      <td>-0.304135</td>\n      <td>0.201441</td>\n      <td>-0.119725</td>\n      <td>0.312730</td>\n      <td>-0.213211</td>\n      <td>...</td>\n      <td>-0.214800</td>\n      <td>-0.650855</td>\n      <td>-0.258251</td>\n      <td>-0.483728</td>\n      <td>-0.272994</td>\n      <td>-0.468212</td>\n      <td>-0.160684</td>\n      <td>0.335170</td>\n      <td>0.091589</td>\n      <td>-0.267518</td>\n    </tr>\n    <tr>\n      <th>2</th>\n      <td>2.288147</td>\n      <td>-1.906507</td>\n      <td>2.804625</td>\n      <td>1.886332</td>\n      <td>2.179817</td>\n      <td>-0.344474</td>\n      <td>0.161765</td>\n      <td>-0.120861</td>\n      <td>0.299091</td>\n      <td>-0.204900</td>\n      <td>...</td>\n      <td>-0.193663</td>\n      <td>-0.663837</td>\n      <td>-0.161855</td>\n      <td>-0.473914</td>\n      <td>-0.330433</td>\n      <td>-0.544840</td>\n      <td>-0.043042</td>\n      <td>0.203647</td>\n      <td>0.046822</td>\n      <td>-0.312700</td>\n    </tr>\n    <tr>\n      <th>3</th>\n      <td>2.151354</td>\n      <td>-0.440804</td>\n      <td>-0.809708</td>\n      <td>1.580581</td>\n      <td>1.103921</td>\n      <td>-0.089014</td>\n      <td>-0.285871</td>\n      <td>-0.051141</td>\n      <td>-0.204562</td>\n      <td>0.101992</td>\n      <td>...</td>\n      <td>-0.094019</td>\n      <td>-0.024444</td>\n      <td>0.059710</td>\n      <td>-0.090757</td>\n      <td>-0.050932</td>\n      <td>-0.123846</td>\n      <td>0.085653</td>\n      <td>0.049150</td>\n      <td>0.083185</td>\n      <td>-0.018335</td>\n    </tr>\n    <tr>\n      <th>4</th>\n      <td>1.931198</td>\n      <td>-0.264607</td>\n      <td>-0.674787</td>\n      <td>1.510230</td>\n      <td>1.141764</td>\n      <td>-0.088301</td>\n      <td>-0.292642</td>\n      <td>-0.058770</td>\n      <td>-0.199963</td>\n      <td>0.090368</td>\n      <td>...</td>\n      <td>-0.096882</td>\n      <td>-0.022312</td>\n      <td>-0.007695</td>\n      <td>-0.095664</td>\n      <td>-0.017443</td>\n      <td>-0.103552</td>\n      <td>0.031579</td>\n      <td>0.125927</td>\n      <td>0.097500</td>\n      <td>-0.013294</td>\n    </tr>\n    <tr>\n      <th>...</th>\n      <td>...</td>\n      <td>...</td>\n      <td>...</td>\n      <td>...</td>\n      <td>...</td>\n      <td>...</td>\n      <td>...</td>\n      <td>...</td>\n      <td>...</td>\n      <td>...</td>\n      <td>...</td>\n      <td>...</td>\n      <td>...</td>\n      <td>...</td>\n      <td>...</td>\n      <td>...</td>\n      <td>...</td>\n      <td>...</td>\n      <td>...</td>\n      <td>...</td>\n      <td>...</td>\n    </tr>\n    <tr>\n      <th>156408</th>\n      <td>-0.008772</td>\n      <td>-1.216193</td>\n      <td>-0.403700</td>\n      <td>0.216191</td>\n      <td>1.030664</td>\n      <td>-0.002482</td>\n      <td>-0.021378</td>\n      <td>-0.006415</td>\n      <td>0.030042</td>\n      <td>-0.019041</td>\n      <td>...</td>\n      <td>-0.387800</td>\n      <td>0.232375</td>\n      <td>0.182256</td>\n      <td>0.291902</td>\n      <td>-0.339813</td>\n      <td>-0.787532</td>\n      <td>0.015067</td>\n      <td>-0.325502</td>\n      <td>-0.184134</td>\n      <td>-0.045522</td>\n    </tr>\n    <tr>\n      <th>156409</th>\n      <td>-0.459564</td>\n      <td>-0.785143</td>\n      <td>0.452146</td>\n      <td>0.238683</td>\n      <td>0.641741</td>\n      <td>0.027676</td>\n      <td>-0.016482</td>\n      <td>-0.031548</td>\n      <td>0.036358</td>\n      <td>-0.022674</td>\n      <td>...</td>\n      <td>0.134420</td>\n      <td>0.262283</td>\n      <td>0.123140</td>\n      <td>0.653146</td>\n      <td>0.099076</td>\n      <td>-0.356695</td>\n      <td>-0.520696</td>\n      <td>-0.252355</td>\n      <td>0.216438</td>\n      <td>0.485481</td>\n    </tr>\n    <tr>\n      <th>156410</th>\n      <td>-1.059525</td>\n      <td>0.358593</td>\n      <td>-2.005754</td>\n      <td>-1.408777</td>\n      <td>0.407033</td>\n      <td>0.091342</td>\n      <td>0.198869</td>\n      <td>0.053506</td>\n      <td>-0.069824</td>\n      <td>0.085933</td>\n      <td>...</td>\n      <td>0.128527</td>\n      <td>0.316561</td>\n      <td>0.126817</td>\n      <td>0.660284</td>\n      <td>0.114873</td>\n      <td>-0.406202</td>\n      <td>-0.573233</td>\n      <td>-0.283119</td>\n      <td>0.174175</td>\n      <td>0.508602</td>\n    </tr>\n    <tr>\n      <th>156411</th>\n      <td>0.154940</td>\n      <td>1.841185</td>\n      <td>0.291021</td>\n      <td>-1.100357</td>\n      <td>0.438152</td>\n      <td>0.047121</td>\n      <td>-0.102990</td>\n      <td>0.120073</td>\n      <td>-0.139580</td>\n      <td>-0.037268</td>\n      <td>...</td>\n      <td>1.529442</td>\n      <td>-0.992422</td>\n      <td>1.473601</td>\n      <td>0.606894</td>\n      <td>0.563340</td>\n      <td>-0.145436</td>\n      <td>0.439037</td>\n      <td>-0.843807</td>\n      <td>-0.188134</td>\n      <td>0.412223</td>\n    </tr>\n    <tr>\n      <th>156412</th>\n      <td>1.478606</td>\n      <td>0.766127</td>\n      <td>0.818415</td>\n      <td>0.275724</td>\n      <td>1.109645</td>\n      <td>0.096001</td>\n      <td>-0.127038</td>\n      <td>-0.134045</td>\n      <td>0.065057</td>\n      <td>-0.042362</td>\n      <td>...</td>\n      <td>0.290083</td>\n      <td>0.233133</td>\n      <td>-0.172978</td>\n      <td>0.008775</td>\n      <td>-0.055611</td>\n      <td>-0.213437</td>\n      <td>-0.107699</td>\n      <td>-0.040469</td>\n      <td>0.183952</td>\n      <td>-0.138749</td>\n    </tr>\n  </tbody>\n</table>\n<p>156413 rows × 1250 columns</p>\n</div>"
     },
     "execution_count": 8,
     "metadata": {},
     "output_type": "execute_result"
    }
   ],
   "source": [
    "ccrb_pca_df"
   ]
  },
  {
   "cell_type": "markdown",
   "id": "5534f659",
   "metadata": {},
   "source": [
    "When using PCA, the new column names generated by the transformation will correspond to the principal components themselves (i.e., \"PC1\", \"PC2\", etc.). These new columns represent linear combinations of the original features that capture the most variance in the data.\n",
    "\n",
    "In general, it's not possible to directly interpret the principal components in terms of the original features, since they are not just simple combinations of the original features. However, it is possible to examine the loadings of each feature on each principal component to gain some insight into which original features are most strongly associated with each principal component. This process is done below. Each row in `loadings_df` corresponds to a principal component and each column corresponds to an original feature, with the values in the cells representing the weight of each feature on each principal component. We can use this data frame to interpret the relationship between the original features and the principal components."
   ]
  },
  {
   "cell_type": "code",
   "execution_count": 9,
   "id": "790cb096",
   "metadata": {},
   "outputs": [
    {
     "data": {
      "text/plain": "      daysonforce  impactedage  officerrace_american indian  \\\n0       -0.191209     0.033772                    -0.007371   \n1        0.153030     0.111578                     0.002864   \n2        0.117182    -0.000567                    -0.002890   \n3       -0.061101    -0.017018                     0.002884   \n4        0.032867     0.015862                     0.012843   \n...           ...          ...                          ...   \n1245     0.017626    -0.006613                     0.000668   \n1246    -0.046964     0.012878                    -0.001378   \n1247     0.066682     0.012191                    -0.006016   \n1248     0.012433    -0.004374                     0.001311   \n1249     0.004378     0.012538                     0.013319   \n\n      officerrace_asian  officerrace_black  officerrace_hispanic  \\\n0              0.053717           0.026509              0.049270   \n1             -0.009802          -0.052168             -0.108791   \n2             -0.016298          -0.017840              0.010375   \n3              0.011350          -0.000457             -0.131421   \n4              0.022567           0.082849             -0.121131   \n...                 ...                ...                   ...   \n1245          -0.007822          -0.010115              0.006087   \n1246          -0.012839           0.016422              0.007178   \n1247           0.012780          -0.004655             -0.002460   \n1248           0.000630          -0.008890             -0.001704   \n1249          -0.005500          -0.011394              0.001693   \n\n      officerrace_white  officergender_female  officergender_male  \\\n0             -0.078895              0.095129           -0.095129   \n1              0.133054              0.018318           -0.018318   \n2              0.009540              0.009425           -0.009425   \n3              0.108543             -0.045210            0.045210   \n4              0.036369             -0.000995            0.000995   \n...                 ...                   ...                 ...   \n1245           0.004602             -0.002413            0.002413   \n1246          -0.013238              0.002456           -0.002456   \n1247           0.001363              0.001637           -0.001637   \n1248           0.007444              0.000865           -0.000865   \n1249           0.007682             -0.001091            0.001091   \n\n      currentranklong_captain  ...  impactedrace_other race  \\\n0                   -0.013783  ...                 0.042522   \n1                    0.002527  ...                 0.057115   \n2                   -0.008233  ...                 0.013078   \n3                    0.002161  ...                -0.010640   \n4                    0.007977  ...                 0.009812   \n...                       ...  ...                      ...   \n1245                -0.026911  ...                 0.004723   \n1246                -0.010281  ...                -0.000548   \n1247                -0.017610  ...                -0.002381   \n1248                -0.035342  ...                -0.000948   \n1249                -0.020112  ...                 0.002785   \n\n      impactedrace_refused  impactedrace_unknown  impactedrace_white  \\\n0                 0.019892              0.036836            0.053319   \n1                 0.025299             -0.001069            0.299000   \n2                -0.016735              0.011783            0.116667   \n3                -0.001717              0.014423            0.069449   \n4                -0.014121             -0.013309           -0.011619   \n...                    ...                   ...                 ...   \n1245              0.000188             -0.005030            0.003842   \n1246             -0.000675              0.005853            0.002586   \n1247              0.005367              0.001644           -0.004758   \n1248             -0.002573             -0.003099           -0.014486   \n1249              0.000065              0.002547            0.001237   \n\n      impactedgender_female  impactedgender_gender non-conforming  \\\n0                  0.072855                              0.004350   \n1                  0.108934                              0.005163   \n2                  0.105167                              0.006059   \n3                 -0.010960                              0.006946   \n4                  0.030495                              0.007801   \n...                     ...                                   ...   \n1245               0.003025                              0.002164   \n1246               0.000209                             -0.001533   \n1247               0.000735                             -0.000966   \n1248               0.001652                             -0.000970   \n1249               0.000808                             -0.000463   \n\n      impactedgender_male  impactedgender_not described  \\\n0               -0.051506                      0.007575   \n1               -0.076521                      0.006319   \n2               -0.073131                     -0.000587   \n3                0.006519                      0.002290   \n4               -0.020135                     -0.004896   \n...                   ...                           ...   \n1245            -0.003952                      0.009373   \n1246            -0.000676                     -0.005311   \n1247             0.001600                     -0.006100   \n1248            -0.000432                     -0.007334   \n1249             0.000485                     -0.006601   \n\n      impactedgender_transman (ftm)  impactedgender_transwoman (mtf)  \n0                          0.005308                         0.007129  \n1                         -0.003220                         0.015677  \n2                          0.001596                        -0.009389  \n3                          0.005562                         0.022424  \n4                          0.002588                        -0.030218  \n...                             ...                              ...  \n1245                       0.000515                         0.000364  \n1246                       0.000762                         0.000615  \n1247                      -0.001018                         0.003203  \n1248                      -0.001701                         0.000512  \n1249                      -0.000194                         0.002165  \n\n[1250 rows x 1727 columns]",
      "text/html": "<div>\n<style scoped>\n    .dataframe tbody tr th:only-of-type {\n        vertical-align: middle;\n    }\n\n    .dataframe tbody tr th {\n        vertical-align: top;\n    }\n\n    .dataframe thead th {\n        text-align: right;\n    }\n</style>\n<table border=\"1\" class=\"dataframe\">\n  <thead>\n    <tr style=\"text-align: right;\">\n      <th></th>\n      <th>daysonforce</th>\n      <th>impactedage</th>\n      <th>officerrace_american indian</th>\n      <th>officerrace_asian</th>\n      <th>officerrace_black</th>\n      <th>officerrace_hispanic</th>\n      <th>officerrace_white</th>\n      <th>officergender_female</th>\n      <th>officergender_male</th>\n      <th>currentranklong_captain</th>\n      <th>...</th>\n      <th>impactedrace_other race</th>\n      <th>impactedrace_refused</th>\n      <th>impactedrace_unknown</th>\n      <th>impactedrace_white</th>\n      <th>impactedgender_female</th>\n      <th>impactedgender_gender non-conforming</th>\n      <th>impactedgender_male</th>\n      <th>impactedgender_not described</th>\n      <th>impactedgender_transman (ftm)</th>\n      <th>impactedgender_transwoman (mtf)</th>\n    </tr>\n  </thead>\n  <tbody>\n    <tr>\n      <th>0</th>\n      <td>-0.191209</td>\n      <td>0.033772</td>\n      <td>-0.007371</td>\n      <td>0.053717</td>\n      <td>0.026509</td>\n      <td>0.049270</td>\n      <td>-0.078895</td>\n      <td>0.095129</td>\n      <td>-0.095129</td>\n      <td>-0.013783</td>\n      <td>...</td>\n      <td>0.042522</td>\n      <td>0.019892</td>\n      <td>0.036836</td>\n      <td>0.053319</td>\n      <td>0.072855</td>\n      <td>0.004350</td>\n      <td>-0.051506</td>\n      <td>0.007575</td>\n      <td>0.005308</td>\n      <td>0.007129</td>\n    </tr>\n    <tr>\n      <th>1</th>\n      <td>0.153030</td>\n      <td>0.111578</td>\n      <td>0.002864</td>\n      <td>-0.009802</td>\n      <td>-0.052168</td>\n      <td>-0.108791</td>\n      <td>0.133054</td>\n      <td>0.018318</td>\n      <td>-0.018318</td>\n      <td>0.002527</td>\n      <td>...</td>\n      <td>0.057115</td>\n      <td>0.025299</td>\n      <td>-0.001069</td>\n      <td>0.299000</td>\n      <td>0.108934</td>\n      <td>0.005163</td>\n      <td>-0.076521</td>\n      <td>0.006319</td>\n      <td>-0.003220</td>\n      <td>0.015677</td>\n    </tr>\n    <tr>\n      <th>2</th>\n      <td>0.117182</td>\n      <td>-0.000567</td>\n      <td>-0.002890</td>\n      <td>-0.016298</td>\n      <td>-0.017840</td>\n      <td>0.010375</td>\n      <td>0.009540</td>\n      <td>0.009425</td>\n      <td>-0.009425</td>\n      <td>-0.008233</td>\n      <td>...</td>\n      <td>0.013078</td>\n      <td>-0.016735</td>\n      <td>0.011783</td>\n      <td>0.116667</td>\n      <td>0.105167</td>\n      <td>0.006059</td>\n      <td>-0.073131</td>\n      <td>-0.000587</td>\n      <td>0.001596</td>\n      <td>-0.009389</td>\n    </tr>\n    <tr>\n      <th>3</th>\n      <td>-0.061101</td>\n      <td>-0.017018</td>\n      <td>0.002884</td>\n      <td>0.011350</td>\n      <td>-0.000457</td>\n      <td>-0.131421</td>\n      <td>0.108543</td>\n      <td>-0.045210</td>\n      <td>0.045210</td>\n      <td>0.002161</td>\n      <td>...</td>\n      <td>-0.010640</td>\n      <td>-0.001717</td>\n      <td>0.014423</td>\n      <td>0.069449</td>\n      <td>-0.010960</td>\n      <td>0.006946</td>\n      <td>0.006519</td>\n      <td>0.002290</td>\n      <td>0.005562</td>\n      <td>0.022424</td>\n    </tr>\n    <tr>\n      <th>4</th>\n      <td>0.032867</td>\n      <td>0.015862</td>\n      <td>0.012843</td>\n      <td>0.022567</td>\n      <td>0.082849</td>\n      <td>-0.121131</td>\n      <td>0.036369</td>\n      <td>-0.000995</td>\n      <td>0.000995</td>\n      <td>0.007977</td>\n      <td>...</td>\n      <td>0.009812</td>\n      <td>-0.014121</td>\n      <td>-0.013309</td>\n      <td>-0.011619</td>\n      <td>0.030495</td>\n      <td>0.007801</td>\n      <td>-0.020135</td>\n      <td>-0.004896</td>\n      <td>0.002588</td>\n      <td>-0.030218</td>\n    </tr>\n    <tr>\n      <th>...</th>\n      <td>...</td>\n      <td>...</td>\n      <td>...</td>\n      <td>...</td>\n      <td>...</td>\n      <td>...</td>\n      <td>...</td>\n      <td>...</td>\n      <td>...</td>\n      <td>...</td>\n      <td>...</td>\n      <td>...</td>\n      <td>...</td>\n      <td>...</td>\n      <td>...</td>\n      <td>...</td>\n      <td>...</td>\n      <td>...</td>\n      <td>...</td>\n      <td>...</td>\n      <td>...</td>\n    </tr>\n    <tr>\n      <th>1245</th>\n      <td>0.017626</td>\n      <td>-0.006613</td>\n      <td>0.000668</td>\n      <td>-0.007822</td>\n      <td>-0.010115</td>\n      <td>0.006087</td>\n      <td>0.004602</td>\n      <td>-0.002413</td>\n      <td>0.002413</td>\n      <td>-0.026911</td>\n      <td>...</td>\n      <td>0.004723</td>\n      <td>0.000188</td>\n      <td>-0.005030</td>\n      <td>0.003842</td>\n      <td>0.003025</td>\n      <td>0.002164</td>\n      <td>-0.003952</td>\n      <td>0.009373</td>\n      <td>0.000515</td>\n      <td>0.000364</td>\n    </tr>\n    <tr>\n      <th>1246</th>\n      <td>-0.046964</td>\n      <td>0.012878</td>\n      <td>-0.001378</td>\n      <td>-0.012839</td>\n      <td>0.016422</td>\n      <td>0.007178</td>\n      <td>-0.013238</td>\n      <td>0.002456</td>\n      <td>-0.002456</td>\n      <td>-0.010281</td>\n      <td>...</td>\n      <td>-0.000548</td>\n      <td>-0.000675</td>\n      <td>0.005853</td>\n      <td>0.002586</td>\n      <td>0.000209</td>\n      <td>-0.001533</td>\n      <td>-0.000676</td>\n      <td>-0.005311</td>\n      <td>0.000762</td>\n      <td>0.000615</td>\n    </tr>\n    <tr>\n      <th>1247</th>\n      <td>0.066682</td>\n      <td>0.012191</td>\n      <td>-0.006016</td>\n      <td>0.012780</td>\n      <td>-0.004655</td>\n      <td>-0.002460</td>\n      <td>0.001363</td>\n      <td>0.001637</td>\n      <td>-0.001637</td>\n      <td>-0.017610</td>\n      <td>...</td>\n      <td>-0.002381</td>\n      <td>0.005367</td>\n      <td>0.001644</td>\n      <td>-0.004758</td>\n      <td>0.000735</td>\n      <td>-0.000966</td>\n      <td>0.001600</td>\n      <td>-0.006100</td>\n      <td>-0.001018</td>\n      <td>0.003203</td>\n    </tr>\n    <tr>\n      <th>1248</th>\n      <td>0.012433</td>\n      <td>-0.004374</td>\n      <td>0.001311</td>\n      <td>0.000630</td>\n      <td>-0.008890</td>\n      <td>-0.001704</td>\n      <td>0.007444</td>\n      <td>0.000865</td>\n      <td>-0.000865</td>\n      <td>-0.035342</td>\n      <td>...</td>\n      <td>-0.000948</td>\n      <td>-0.002573</td>\n      <td>-0.003099</td>\n      <td>-0.014486</td>\n      <td>0.001652</td>\n      <td>-0.000970</td>\n      <td>-0.000432</td>\n      <td>-0.007334</td>\n      <td>-0.001701</td>\n      <td>0.000512</td>\n    </tr>\n    <tr>\n      <th>1249</th>\n      <td>0.004378</td>\n      <td>0.012538</td>\n      <td>0.013319</td>\n      <td>-0.005500</td>\n      <td>-0.011394</td>\n      <td>0.001693</td>\n      <td>0.007682</td>\n      <td>-0.001091</td>\n      <td>0.001091</td>\n      <td>-0.020112</td>\n      <td>...</td>\n      <td>0.002785</td>\n      <td>0.000065</td>\n      <td>0.002547</td>\n      <td>0.001237</td>\n      <td>0.000808</td>\n      <td>-0.000463</td>\n      <td>0.000485</td>\n      <td>-0.006601</td>\n      <td>-0.000194</td>\n      <td>0.002165</td>\n    </tr>\n  </tbody>\n</table>\n<p>1250 rows × 1727 columns</p>\n</div>"
     },
     "execution_count": 9,
     "metadata": {},
     "output_type": "execute_result"
    }
   ],
   "source": [
    "# create a new data frame with the loadings of each feature on each principal component\n",
    "loadings_df = pd.DataFrame(pca.components_, columns=ccrb_onehot.columns)\n",
    "\n",
    "# display the loadings\n",
    "loadings_df"
   ]
  }
 ],
 "metadata": {
  "kernelspec": {
   "display_name": "Python 3 (ipykernel)",
   "language": "python",
   "name": "python3"
  },
  "language_info": {
   "codemirror_mode": {
    "name": "ipython",
    "version": 3
   },
   "file_extension": ".py",
   "mimetype": "text/x-python",
   "name": "python",
   "nbconvert_exporter": "python",
   "pygments_lexer": "ipython3",
   "version": "3.9.7"
  }
 },
 "nbformat": 4,
 "nbformat_minor": 5
}
